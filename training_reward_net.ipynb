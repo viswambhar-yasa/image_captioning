{
  "cells": [
    {
      "cell_type": "markdown",
      "metadata": {
        "id": "view-in-github",
        "colab_type": "text"
      },
      "source": [
        "<a href=\"https://colab.research.google.com/github/viswambhar-yasa/image_captioning/blob/master/training_reward_net.ipynb\" target=\"_parent\"><img src=\"https://colab.research.google.com/assets/colab-badge.svg\" alt=\"Open In Colab\"/></a>"
      ]
    },
    {
      "cell_type": "markdown",
      "source": [
        "## Image captioning using reinforcement learning\n",
        "### Policy to actor method on deep convolution and recurrent networks\n",
        "#### Project Seminar for artifical intelligence WS2021-22\n",
        "##### Authors : Viswambhar Yasa, Venkata Mukund \n"
      ],
      "metadata": {
        "id": "yzdQu_JiOVXq"
      }
    },
    {
      "cell_type": "markdown",
      "source": [
        "\n",
        "\n",
        "###### Cloning github repo\n",
        "\n"
      ],
      "metadata": {
        "id": "GigEtFeUPGSe"
      }
    },
    {
      "cell_type": "code",
      "execution_count": null,
      "metadata": {
        "colab": {
          "base_uri": "https://localhost:8080/"
        },
        "id": "SCaXLacBGeyg",
        "outputId": "e8ac79f8-1cc0-45c7-bd9e-94a5c5ecd6a0"
      },
      "outputs": [
        {
          "output_type": "stream",
          "name": "stdout",
          "text": [
            "Cloning into 'image_captioning'...\n",
            "remote: Enumerating objects: 46, done.\u001b[K\n",
            "remote: Counting objects: 100% (46/46), done.\u001b[K\n",
            "remote: Compressing objects: 100% (39/39), done.\u001b[K\n",
            "remote: Total 46 (delta 20), reused 19 (delta 6), pack-reused 0\u001b[K\n",
            "Unpacking objects: 100% (46/46), done.\n"
          ]
        }
      ],
      "source": [
        "!git clone https://github.com/viswambhar-yasa/image_captioning"
      ]
    },
    {
      "cell_type": "code",
      "source": [
        "cd /content/image_captioning"
      ],
      "metadata": {
        "colab": {
          "base_uri": "https://localhost:8080/"
        },
        "id": "AjS4cJv_PY1-",
        "outputId": "55745b2d-2483-47fb-b132-64d003c5f290"
      },
      "execution_count": null,
      "outputs": [
        {
          "output_type": "stream",
          "name": "stdout",
          "text": [
            "/content/image_captioning\n"
          ]
        }
      ]
    },
    {
      "cell_type": "markdown",
      "source": [
        "###### Importing flickr data from url "
      ],
      "metadata": {
        "id": "T6kwTrCjWTlF"
      }
    },
    {
      "cell_type": "code",
      "source": [
        "from data_extraction import downloading_extraction"
      ],
      "metadata": {
        "id": "6_BzAfPWPN_U"
      },
      "execution_count": null,
      "outputs": []
    },
    {
      "cell_type": "code",
      "execution_count": null,
      "metadata": {
        "id": "VsGCW4z_Gi35"
      },
      "outputs": [],
      "source": [
        "images_link = 'https://github.com/jbrownlee/Datasets/releases/download/Flickr8k/Flickr8k_Dataset.zip'\n",
        "downloading_extraction(images_link)\n",
        "text_link = \"https://github.com/jbrownlee/Datasets/releases/download/Flickr8k/Flickr8k_text.zip\"\n",
        "downloading_extraction(text_link)"
      ]
    },
    {
      "cell_type": "markdown",
      "source": [
        "##### importing deep convolution: encoder and decoder\n",
        "\n",
        "\n"
      ],
      "metadata": {
        "id": "GgvOmu3iWnU0"
      }
    },
    {
      "cell_type": "code",
      "source": [
        "from model_networks import Caption_model_gen"
      ],
      "metadata": {
        "id": "ctE57mAJQCw7"
      },
      "execution_count": null,
      "outputs": []
    },
    {
      "cell_type": "code",
      "execution_count": null,
      "metadata": {
        "id": "TDzRgO33R8Li"
      },
      "outputs": [],
      "source": [
        "import tensorflow as tf"
      ]
    },
    {
      "cell_type": "code",
      "source": [
        "from data_processing import data_processing"
      ],
      "metadata": {
        "id": "5mdUNqiSQVkR"
      },
      "execution_count": null,
      "outputs": []
    },
    {
      "cell_type": "markdown",
      "source": [
        "##### Extracting captions of the images and creating a dictionary with image id as key and captions as values"
      ],
      "metadata": {
        "id": "IqLMyLIAWdU0"
      }
    },
    {
      "cell_type": "code",
      "source": [
        "captions_path=r\"/content/image_captioning/Flickr8k.token.txt\""
      ],
      "metadata": {
        "id": "rNgQFPolQgVS"
      },
      "execution_count": null,
      "outputs": []
    },
    {
      "cell_type": "code",
      "execution_count": null,
      "metadata": {
        "colab": {
          "base_uri": "https://localhost:8080/"
        },
        "id": "zCxkk8Ty8mpW",
        "outputId": "0a33531d-edf1-49c4-ee68-e4aeb64366e5"
      },
      "outputs": [
        {
          "output_type": "stream",
          "name": "stdout",
          "text": [
            "max_length of captions 33\n"
          ]
        }
      ],
      "source": [
        "text = open(captions_path, 'r', encoding='utf-8').read()\n",
        "description_map=dict()\n",
        "# splitting list based on newline and tab\n",
        "for lines in text.split('\\n'):\n",
        "  line_split = lines.split('\\t')\n",
        "  if line_split == ['']:\n",
        "      continue\n",
        "  image_id = line_split[0][:-2]\n",
        "  image_des = line_split[1]\n",
        "  #if image_id in img_dic:\n",
        "  if image_id not in description_map:\n",
        "    description_map[image_id] = list()\n",
        "  description_map[image_id].append(image_des)\n",
        "caption_list = []\n",
        "\n",
        "#mapping captions as dictionary\n",
        "for img_id, des_list in description_map.items():\n",
        "    for i in range(len(des_list)):\n",
        "        caption = des_list[i]\n",
        "        caption = ''.join(caption)\n",
        "        caption = caption.split(' ')\n",
        "        caption = [word.lower() for word in caption if len(word) > 1 and word.isalpha()]\n",
        "        caption = ' '.join(caption)\n",
        "        des_list[i] = 'startseq ' + caption + ' endseq'\n",
        "        caption_list.append('startseq ' + caption + ' endseq')\n",
        "max_length = max(len(des.split()) for des in caption_list)\n",
        "print('max_length of captions', max_length)\n",
        "tokenizer = tf.keras.preprocessing.text.Tokenizer(num_words=8360,oov_token='<unknw>')\n",
        "tokenizer.fit_on_texts(caption_list)"
      ]
    },
    {
      "cell_type": "code",
      "source": [
        "images_path=r\"/content/image_captioning/Flicker8k_Dataset\""
      ],
      "metadata": {
        "id": "do8SMWVzQw0r"
      },
      "execution_count": null,
      "outputs": []
    },
    {
      "cell_type": "code",
      "execution_count": null,
      "metadata": {
        "id": "L4oae4hhl4yN"
      },
      "outputs": [],
      "source": [
        "import os\n",
        "files=os.listdir(path = images_path)"
      ]
    },
    {
      "cell_type": "code",
      "execution_count": null,
      "metadata": {
        "id": "E2ljDIH1l1vU"
      },
      "outputs": [],
      "source": [
        "description_map1=dict()\n",
        "for key,value in description_map.items():\n",
        "  if key in files:\n",
        "    description_map1[key]=value"
      ]
    },
    {
      "cell_type": "code",
      "execution_count": null,
      "metadata": {
        "id": "oCL4cB4c8vIn"
      },
      "outputs": [],
      "source": [
        "description_map['2258277193_586949ec62.jpg'] = description_map['2258277193_586949ec62.jpg.1']\n",
        "del description_map['2258277193_586949ec62.jpg.1']"
      ]
    },
    {
      "cell_type": "code",
      "execution_count": null,
      "metadata": {
        "id": "-U9rQRskAzn6"
      },
      "outputs": [],
      "source": [
        "del description_map['2258277193_586949ec62.jpg']"
      ]
    },
    {
      "cell_type": "markdown",
      "source": [
        "##### Performing tokenization : converting words to tokens\n",
        "\n"
      ],
      "metadata": {
        "id": "A_Rj0w6pWt2J"
      }
    },
    {
      "cell_type": "code",
      "execution_count": null,
      "metadata": {
        "id": "wRgYspUC9KLe",
        "colab": {
          "base_uri": "https://localhost:8080/"
        },
        "outputId": "884976f5-da30-49eb-d6d0-9baad00ac7d3"
      },
      "outputs": [
        {
          "output_type": "stream",
          "name": "stdout",
          "text": [
            "Vocab size 8359\n"
          ]
        }
      ],
      "source": [
        "token_cap_dic = dict()\n",
        "print('Vocab size',len(tokenizer.word_counts))\n",
        "for img_id, des_list in description_map1.items():\n",
        "    for i in range(len(des_list)):\n",
        "        caption = des_list[i]\n",
        "        cap_token = tokenizer.texts_to_sequences([str(caption)])\n",
        "        if img_id not in token_cap_dic:\n",
        "            token_cap_dic[img_id] = list()\n",
        "        token_cap_dic[img_id].append(cap_token)"
      ]
    },
    {
      "cell_type": "markdown",
      "source": [
        "###### importing manual loss function and cosine distance required for training reward net"
      ],
      "metadata": {
        "id": "ZzbWoDPTWwJO"
      }
    },
    {
      "cell_type": "code",
      "execution_count": null,
      "metadata": {
        "id": "98xuF71SBqSU"
      },
      "outputs": [],
      "source": [
        "from model_losses import reward_net_loss,loss,Rewards,cos"
      ]
    },
    {
      "cell_type": "code",
      "source": [
        "from data_generator import captions_generation_reward"
      ],
      "metadata": {
        "id": "z2CHV5gBRcZe"
      },
      "execution_count": null,
      "outputs": []
    },
    {
      "cell_type": "markdown",
      "source": [
        "##### Creating training, validation and test datasets"
      ],
      "metadata": {
        "id": "hm6FzUYbXA6Z"
      }
    },
    {
      "cell_type": "code",
      "execution_count": null,
      "metadata": {
        "colab": {
          "base_uri": "https://localhost:8080/"
        },
        "id": "GCnr1RqfG--K",
        "outputId": "952149f1-99bf-4973-efb0-6e750f411dc2"
      },
      "outputs": [
        {
          "output_type": "stream",
          "name": "stdout",
          "text": [
            "TensorFlow Version 2.8.0\n",
            "max_length of captions 33\n",
            "max_length of captions 31\n",
            "max_length of captions 30\n",
            "No of captions: Training-6000.0 Validation-1000.0 test-1000.0\n",
            "Vocab size 8360\n",
            "Vocab size 8360\n",
            "Vocab size 8360\n",
            "(32, 256, 256, 3) (32, 25)\n"
          ]
        }
      ],
      "source": [
        "import pickle\n",
        "\n",
        "print('TensorFlow Version', tf.__version__)\n",
        "vocab_size = 8360\n",
        "max_length = 25\n",
        "\n",
        "\n",
        "captions_text_path = r'/content/image_captioning/Flickr8k.token.txt'\n",
        "captions_extraction = data_processing(captions_text_path)\n",
        "trn_images_id_text = r'/content/image_captioning/Flickr_8k.trainImages.txt'\n",
        "train_cleaned_seq, train_cleaned_dic = captions_extraction.cleaning_sequencing_captions(trn_images_id_text)\n",
        "val_images_id_text = r'/content/image_captioning/Flickr_8k.devImages.txt'\n",
        "val_cleaned_seq, val_cleaned_dic = captions_extraction.cleaning_sequencing_captions(val_images_id_text)\n",
        "test_images_id_text = r'/content/image_captioning/Flickr_8k.testImages.txt'\n",
        "test_cleaned_seq, test_cleaned_dic = captions_extraction.cleaning_sequencing_captions(test_images_id_text)\n",
        "captions_extraction.tokenization(train_cleaned_seq, vocab_size)\n",
        "print(\"No of captions: Training-\" + str(len(train_cleaned_seq) / 5) + \" Validation-\" + str(\n",
        "    len(val_cleaned_seq) / 5) + \" test-\" + str(len(test_cleaned_seq) / 5))\n",
        "\n",
        "train_cap_tok = captions_extraction.sentence_tokenizing(train_cleaned_dic)\n",
        "val_cap_tok = captions_extraction.sentence_tokenizing(val_cleaned_dic)\n",
        "test_cap_tok = captions_extraction.sentence_tokenizing(test_cleaned_dic)\n",
        "\n",
        "image_pth_rt = r\"/content/image_captioning/Flicker8k_Dataset/\" #+ r\"\\\\\"\n",
        "trn_dataset = captions_generation_reward(train_cap_tok, vocab_size, image_pth_rt, 15,2,1)\n",
        "val_dataset = captions_generation_reward(val_cap_tok, vocab_size, image_pth_rt, 25,32,1)\n",
        "\n",
        "inputs = next(iter(val_dataset))\n",
        "print(inputs[0].shape, inputs[1].shape)  "
      ]
    },
    {
      "cell_type": "code",
      "execution_count": null,
      "metadata": {
        "id": "6x-SWJHw9Dq_"
      },
      "outputs": [],
      "source": [
        "trn_dataset_whole = captions_generation_reward(token_cap_dic, 8360, image_pth_rt, max_length=25,num_photos_per_batch=32,num_captions=1)"
      ]
    },
    {
      "cell_type": "markdown",
      "source": [
        "#### Building policy net and adding optimizer, loss function, evaluation metrics\n"
      ],
      "metadata": {
        "id": "YQQ3iT15XFrX"
      }
    },
    {
      "cell_type": "code",
      "execution_count": null,
      "metadata": {
        "id": "SuTlQdNrOZxO"
      },
      "outputs": [],
      "source": [
        "#actor_model.load_weights('/content/drive/MyDrive/Kaggle/policy_net_weights_xception.h5')"
      ]
    },
    {
      "cell_type": "code",
      "execution_count": null,
      "metadata": {
        "colab": {
          "base_uri": "https://localhost:8080/"
        },
        "id": "zqTIPCVxmrRb",
        "outputId": "7e131d17-cc6a-4371-c147-86c547823a09"
      },
      "outputs": [
        {
          "output_type": "stream",
          "name": "stdout",
          "text": [
            "Building CNN model\n",
            "CNN model {output shape}: (None, 2048)\n",
            "Building RNN model\n",
            "final_carry_state {rnn output shape}: (None, 512)\n",
            "Image feature vector shape: (None, 512)\n",
            "Text sequence vector shape: (None, 512)\n",
            "Reward Net built successfully \n",
            "\n"
          ]
        }
      ],
      "source": [
        "reward_model = Caption_model_gen(NET='reward', vocab_size=8360, Embed_Size=512, max_length=25,display=True)\n",
        "#actor_model.summary()\n",
        "#reward_model.compile(loss=reward_net_loss,optimizer=tf.keras.optimizers.Adam(learning_rate=0.001),metrics=['accuracy'])"
      ]
    },
    {
      "cell_type": "code",
      "execution_count": null,
      "metadata": {
        "id": "SW-qkILK0rSF"
      },
      "outputs": [],
      "source": [
        "visuals=tf.ones((1,512))\n",
        "semantics=tf.ones((1,512))"
      ]
    },
    {
      "cell_type": "code",
      "execution_count": null,
      "metadata": {
        "colab": {
          "base_uri": "https://localhost:8080/"
        },
        "id": "4H6E5eDzCrQl",
        "outputId": "393955ec-4351-4e5e-a23c-d92ebdfd7e39"
      },
      "outputs": [
        {
          "output_type": "execute_result",
          "data": {
            "text/plain": [
              "<tf.Tensor: shape=(), dtype=float32, numpy=0.0>"
            ]
          },
          "metadata": {},
          "execution_count": 24
        }
      ],
      "source": [
        "loss(visuals,semantics)"
      ]
    },
    {
      "cell_type": "code",
      "execution_count": null,
      "metadata": {
        "id": "PFjyFb8LU7D5"
      },
      "outputs": [],
      "source": [
        "#reward_model1=tf.keras.models.load_model('/content/drive/MyDrive/Kaggle/reward_net.h5')"
      ]
    },
    {
      "cell_type": "code",
      "execution_count": null,
      "metadata": {
        "id": "sx-b0YUBIf3D"
      },
      "outputs": [],
      "source": [
        "#reward_model.save('/content/drive/MyDrive/Kaggle/reward_net.h5')"
      ]
    },
    {
      "cell_type": "markdown",
      "source": [
        "#### Training model on training dataset"
      ],
      "metadata": {
        "id": "NalCnvtMXNFd"
      }
    },
    {
      "cell_type": "code",
      "execution_count": null,
      "metadata": {
        "colab": {
          "base_uri": "https://localhost:8080/"
        },
        "id": "IZuh0RCKlqYh",
        "outputId": "d62919a2-844e-45c7-9765-5a4d961b79a3"
      },
      "outputs": [
        {
          "output_type": "stream",
          "name": "stdout",
          "text": [
            " 1/10 [==>...........................] - ETA: 7s - loss: 34.2772 - val_loss: 12.4473\n",
            "epoch 1\n",
            "10/10 [==============================] - 1s 78ms/step - loss: 26.7345 - val_loss: 11.8350\n",
            "\n",
            "epoch 2\n",
            "10/10 [==============================] - 1s 77ms/step - loss: 19.1982 - val_loss: 11.9315\n",
            "\n",
            "epoch 3\n",
            "10/10 [==============================] - 1s 78ms/step - loss: 19.9993 - val_loss: 12.3894\n",
            "\n",
            "epoch 4\n",
            "10/10 [==============================] - 1s 77ms/step - loss: 16.0164 - val_loss: 11.6624\n",
            "\n",
            "epoch 5\n",
            "10/10 [==============================] - 1s 78ms/step - loss: 12.2609 - val_loss: 11.9714\n",
            "\n",
            "epoch 6\n",
            "10/10 [==============================] - 1s 77ms/step - loss: 14.5060 - val_loss: 10.4711\n",
            "\n",
            "epoch 7\n",
            "10/10 [==============================] - 1s 78ms/step - loss: 9.5881 - val_loss: 10.3005\n",
            "\n",
            "epoch 8\n",
            "10/10 [==============================] - 1s 78ms/step - loss: 12.1093 - val_loss: 9.9198\n",
            "\n",
            "epoch 9\n",
            "10/10 [==============================] - 1s 76ms/step - loss: 12.8508 - val_loss: 11.1361\n",
            "\n",
            "epoch 10\n",
            "10/10 [==============================] - 1s 78ms/step - loss: 10.7371 - val_loss: 10.8672\n",
            "\n",
            "epoch 11\n",
            "10/10 [==============================] - 1s 77ms/step - loss: 11.4005 - val_loss: 9.6765\n",
            "\n",
            "epoch 12\n",
            "10/10 [==============================] - 1s 78ms/step - loss: 10.7859 - val_loss: 10.5166\n",
            "\n",
            "epoch 13\n",
            "10/10 [==============================] - 1s 77ms/step - loss: 8.7473 - val_loss: 10.8985\n",
            "\n",
            "epoch 14\n",
            "10/10 [==============================] - 1s 78ms/step - loss: 10.4055 - val_loss: 8.9857\n",
            "\n",
            "epoch 15\n",
            "10/10 [==============================] - 1s 77ms/step - loss: 8.2358 - val_loss: 8.8905\n",
            "\n",
            "epoch 16\n",
            "10/10 [==============================] - 1s 77ms/step - loss: 6.8492 - val_loss: 8.5471\n",
            "\n",
            "epoch 17\n",
            "10/10 [==============================] - 1s 78ms/step - loss: 4.6156 - val_loss: 9.1495\n",
            "\n",
            "epoch 18\n",
            "10/10 [==============================] - 1s 78ms/step - loss: 4.3520 - val_loss: 9.4627\n",
            "\n",
            "epoch 19\n",
            "10/10 [==============================] - 1s 77ms/step - loss: 4.7640 - val_loss: 8.7948\n",
            "\n",
            "epoch 20\n",
            "10/10 [==============================] - 1s 78ms/step - loss: 5.8444 - val_loss: 7.3334\n",
            "\n",
            "epoch 21\n",
            "10/10 [==============================] - 1s 78ms/step - loss: 7.6366 - val_loss: 9.3631\n",
            "\n",
            "epoch 22\n",
            "10/10 [==============================] - 1s 79ms/step - loss: 7.9116 - val_loss: 9.0191\n",
            "\n",
            "epoch 23\n",
            "10/10 [==============================] - 1s 78ms/step - loss: 6.0705 - val_loss: 8.9473\n",
            "\n",
            "epoch 24\n",
            "10/10 [==============================] - 1s 78ms/step - loss: 4.6436 - val_loss: 9.3492\n",
            "\n",
            "epoch 25\n",
            "10/10 [==============================] - 1s 77ms/step - loss: 3.8008 - val_loss: 9.5060\n",
            "\n",
            "epoch 26\n",
            "10/10 [==============================] - 1s 77ms/step - loss: 2.8961 - val_loss: 8.8357\n",
            "\n",
            "epoch 27\n",
            "10/10 [==============================] - 1s 79ms/step - loss: 2.2263 - val_loss: 10.3361\n",
            "\n",
            "epoch 28\n",
            "10/10 [==============================] - 1s 79ms/step - loss: 2.0436 - val_loss: 8.4710\n",
            "\n",
            "epoch 29\n",
            "10/10 [==============================] - 1s 77ms/step - loss: 2.4682 - val_loss: 8.2605\n",
            "\n",
            "epoch 30\n",
            "10/10 [==============================] - 1s 78ms/step - loss: 1.8022 - val_loss: 8.3387\n",
            "\n",
            "epoch 31\n",
            "10/10 [==============================] - 1s 79ms/step - loss: 2.5525 - val_loss: 8.1269\n",
            "\n",
            "epoch 32\n",
            "10/10 [==============================] - 1s 79ms/step - loss: 2.0040 - val_loss: 7.1109\n",
            "\n",
            "epoch 33\n",
            "10/10 [==============================] - 1s 78ms/step - loss: 1.5328 - val_loss: 6.5719\n",
            "\n",
            "epoch 34\n",
            "10/10 [==============================] - 1s 78ms/step - loss: 2.2209 - val_loss: 8.6185\n",
            "\n",
            "epoch 35\n",
            "10/10 [==============================] - 1s 79ms/step - loss: 1.4801 - val_loss: 7.1700\n",
            "\n",
            "epoch 36\n",
            "10/10 [==============================] - 1s 79ms/step - loss: 1.4721 - val_loss: 10.4625\n",
            "\n",
            "epoch 37\n",
            "10/10 [==============================] - 1s 79ms/step - loss: 1.8633 - val_loss: 7.7416\n",
            "\n",
            "epoch 38\n",
            "10/10 [==============================] - 1s 79ms/step - loss: 1.4412 - val_loss: 7.2199\n",
            "\n",
            "epoch 39\n",
            "10/10 [==============================] - 1s 79ms/step - loss: 1.7284 - val_loss: 8.0296\n",
            "\n",
            "epoch 40\n",
            "10/10 [==============================] - 1s 78ms/step - loss: 3.2191 - val_loss: 9.1466\n",
            "\n",
            "epoch 41\n",
            "10/10 [==============================] - 1s 79ms/step - loss: 1.4791 - val_loss: 11.3219\n",
            "\n",
            "epoch 42\n",
            "10/10 [==============================] - 1s 79ms/step - loss: 1.6653 - val_loss: 9.9543\n",
            "\n",
            "epoch 43\n",
            "10/10 [==============================] - 1s 79ms/step - loss: 1.7795 - val_loss: 9.2187\n",
            "\n",
            "epoch 44\n",
            "10/10 [==============================] - 1s 78ms/step - loss: 1.3078 - val_loss: 8.3341\n",
            "\n",
            "epoch 45\n",
            "10/10 [==============================] - 1s 79ms/step - loss: 1.7851 - val_loss: 10.1949\n",
            "\n",
            "epoch 46\n",
            "10/10 [==============================] - 1s 77ms/step - loss: 2.1775 - val_loss: 6.6539\n",
            "\n",
            "epoch 47\n",
            "10/10 [==============================] - 1s 78ms/step - loss: 1.2546 - val_loss: 5.5585\n",
            "\n",
            "epoch 48\n",
            "10/10 [==============================] - 1s 77ms/step - loss: 2.4924 - val_loss: 5.5586\n",
            "\n",
            "epoch 49\n",
            "10/10 [==============================] - 1s 78ms/step - loss: 1.6944 - val_loss: 8.8984\n",
            "\n",
            "epoch 50\n",
            "10/10 [==============================] - 1s 79ms/step - loss: 1.0900 - val_loss: 9.9047\n",
            "\n",
            "epoch 51\n",
            "10/10 [==============================] - 1s 79ms/step - loss: 0.7077 - val_loss: 6.9412\n",
            "\n",
            "epoch 52\n",
            "10/10 [==============================] - 1s 77ms/step - loss: 0.8708 - val_loss: 7.4006\n",
            "\n",
            "epoch 53\n",
            "10/10 [==============================] - 1s 79ms/step - loss: 0.8175 - val_loss: 9.3295\n",
            "\n",
            "epoch 54\n",
            "10/10 [==============================] - 1s 78ms/step - loss: 0.6958 - val_loss: 10.5199\n",
            "\n",
            "epoch 55\n",
            "10/10 [==============================] - 1s 79ms/step - loss: 0.9309 - val_loss: 10.6931\n",
            "\n",
            "epoch 56\n",
            "10/10 [==============================] - 1s 78ms/step - loss: 1.2589 - val_loss: 11.1877\n",
            "\n",
            "epoch 57\n",
            "10/10 [==============================] - 1s 78ms/step - loss: 0.5512 - val_loss: 7.5195\n",
            "\n",
            "epoch 58\n",
            "10/10 [==============================] - 1s 79ms/step - loss: 0.4923 - val_loss: 11.1217\n",
            "\n",
            "epoch 59\n",
            "10/10 [==============================] - 1s 80ms/step - loss: 0.9407 - val_loss: 8.2130\n",
            "\n",
            "epoch 60\n",
            "10/10 [==============================] - 1s 79ms/step - loss: 0.4353 - val_loss: 8.3340\n",
            "\n",
            "epoch 61\n",
            "10/10 [==============================] - 1s 78ms/step - loss: 0.6291 - val_loss: 8.6651\n",
            "\n",
            "epoch 62\n",
            "10/10 [==============================] - 1s 78ms/step - loss: 0.4164 - val_loss: 9.5351\n",
            "\n",
            "epoch 63\n",
            "10/10 [==============================] - 1s 79ms/step - loss: 0.4849 - val_loss: 6.9488\n",
            "\n",
            "epoch 64\n",
            "10/10 [==============================] - 1s 78ms/step - loss: 0.5690 - val_loss: 9.4110\n",
            "\n",
            "epoch 65\n",
            "10/10 [==============================] - 1s 78ms/step - loss: 0.4312 - val_loss: 8.9383\n",
            "\n",
            "epoch 66\n",
            "10/10 [==============================] - 1s 79ms/step - loss: 0.4102 - val_loss: 8.0140\n",
            "\n",
            "epoch 67\n",
            "10/10 [==============================] - 1s 80ms/step - loss: 0.8976 - val_loss: 11.0250\n",
            "\n",
            "epoch 68\n",
            "10/10 [==============================] - 1s 79ms/step - loss: 0.4770 - val_loss: 8.9546\n",
            "\n",
            "epoch 69\n",
            "10/10 [==============================] - 1s 79ms/step - loss: 0.6785 - val_loss: 9.2170\n",
            "\n",
            "epoch 70\n",
            "10/10 [==============================] - 1s 79ms/step - loss: 0.3775 - val_loss: 9.5128\n",
            "\n",
            "epoch 71\n",
            "10/10 [==============================] - 1s 78ms/step - loss: 0.6485 - val_loss: 11.4416\n",
            "\n",
            "epoch 72\n",
            "10/10 [==============================] - 1s 78ms/step - loss: 0.3959 - val_loss: 9.4973\n",
            "\n",
            "epoch 73\n",
            "10/10 [==============================] - 1s 79ms/step - loss: 0.6127 - val_loss: 12.1690\n",
            "\n",
            "epoch 74\n",
            "10/10 [==============================] - 1s 78ms/step - loss: 0.5809 - val_loss: 13.0723\n",
            "\n",
            "epoch 75\n",
            "10/10 [==============================] - 1s 79ms/step - loss: 0.8767 - val_loss: 8.8877\n",
            "\n",
            "epoch 76\n",
            "10/10 [==============================] - 1s 79ms/step - loss: 0.1790 - val_loss: 9.9773\n",
            "\n",
            "epoch 77\n",
            "10/10 [==============================] - 1s 78ms/step - loss: 0.2610 - val_loss: 9.0904\n",
            "\n",
            "epoch 78\n",
            "10/10 [==============================] - 1s 78ms/step - loss: 0.2796 - val_loss: 6.4002\n",
            "\n",
            "epoch 79\n",
            "10/10 [==============================] - 1s 78ms/step - loss: 0.3386 - val_loss: 7.3335\n",
            "\n",
            "epoch 80\n",
            "10/10 [==============================] - 1s 78ms/step - loss: 0.2634 - val_loss: 11.8262\n",
            "\n",
            "epoch 81\n",
            "10/10 [==============================] - 1s 79ms/step - loss: 0.2860 - val_loss: 12.5958\n",
            "\n",
            "epoch 82\n",
            "10/10 [==============================] - 1s 78ms/step - loss: 0.4299 - val_loss: 7.1612\n",
            "\n",
            "epoch 83\n",
            "10/10 [==============================] - 1s 78ms/step - loss: 0.3840 - val_loss: 8.1358\n",
            "\n",
            "epoch 84\n",
            "10/10 [==============================] - 1s 79ms/step - loss: 0.2881 - val_loss: 8.9182\n",
            "\n",
            "epoch 85\n",
            "10/10 [==============================] - 1s 79ms/step - loss: 0.1617 - val_loss: 10.8818\n",
            "\n",
            "epoch 86\n",
            "10/10 [==============================] - 1s 78ms/step - loss: 0.3707 - val_loss: 15.3797\n",
            "\n",
            "epoch 87\n",
            "10/10 [==============================] - 1s 78ms/step - loss: 0.5765 - val_loss: 12.6546\n",
            "\n",
            "epoch 88\n",
            "10/10 [==============================] - 1s 79ms/step - loss: 0.2785 - val_loss: 9.0169\n",
            "\n",
            "epoch 89\n",
            "10/10 [==============================] - 1s 79ms/step - loss: 0.2270 - val_loss: 10.2268\n",
            "\n",
            "epoch 90\n",
            "10/10 [==============================] - 1s 79ms/step - loss: 0.2366 - val_loss: 11.3121\n",
            "\n",
            "epoch 91\n",
            "10/10 [==============================] - 1s 79ms/step - loss: 0.3886 - val_loss: 9.6599\n",
            "\n",
            "epoch 92\n",
            "10/10 [==============================] - 1s 78ms/step - loss: 0.1852 - val_loss: 9.5571\n",
            "\n",
            "epoch 93\n",
            "10/10 [==============================] - 1s 79ms/step - loss: 0.4729 - val_loss: 11.7604\n",
            "\n",
            "epoch 94\n",
            "10/10 [==============================] - 1s 79ms/step - loss: 0.3137 - val_loss: 7.9403\n",
            "\n",
            "epoch 95\n",
            "10/10 [==============================] - 1s 78ms/step - loss: 0.2501 - val_loss: 10.4172\n",
            "\n",
            "epoch 96\n",
            "10/10 [==============================] - 1s 79ms/step - loss: 0.2459 - val_loss: 7.3807\n",
            "\n",
            "epoch 97\n",
            "10/10 [==============================] - 1s 79ms/step - loss: 0.3211 - val_loss: 9.5743\n",
            "\n",
            "epoch 98\n",
            "10/10 [==============================] - 1s 101ms/step - loss: 0.5302 - val_loss: 10.9420\n",
            "\n",
            "epoch 99\n",
            "10/10 [==============================] - 1s 80ms/step - loss: 0.4587 - val_loss: 10.7580\n",
            "\n",
            "epoch 100\n",
            "10/10 [==============================] - 1s 78ms/step - loss: 0.3630 - val_loss: 8.8631\n",
            "\n",
            "epoch 101\n",
            "10/10 [==============================] - 1s 78ms/step - loss: 0.2558 - val_loss: 10.9219\n",
            "\n",
            "epoch 102\n",
            "10/10 [==============================] - 1s 78ms/step - loss: 0.3530 - val_loss: 12.1346\n",
            "\n",
            "epoch 103\n",
            "10/10 [==============================] - 1s 78ms/step - loss: 0.1078 - val_loss: 10.4421\n",
            "\n",
            "epoch 104\n",
            "10/10 [==============================] - 1s 78ms/step - loss: 0.2022 - val_loss: 11.2921\n",
            "\n",
            "epoch 105\n",
            "10/10 [==============================] - 1s 79ms/step - loss: 0.1790 - val_loss: 14.6717\n",
            "\n",
            "epoch 106\n",
            "10/10 [==============================] - 1s 78ms/step - loss: 0.0708 - val_loss: 12.2492\n",
            "\n",
            "epoch 107\n",
            "10/10 [==============================] - 1s 78ms/step - loss: 0.1960 - val_loss: 10.2833\n",
            "\n",
            "epoch 108\n",
            "10/10 [==============================] - 1s 79ms/step - loss: 0.2336 - val_loss: 9.1812\n",
            "\n",
            "epoch 109\n",
            "10/10 [==============================] - 1s 78ms/step - loss: 0.0673 - val_loss: 10.4141\n",
            "\n",
            "epoch 110\n",
            "10/10 [==============================] - 1s 77ms/step - loss: 0.1101 - val_loss: 5.7961\n",
            "\n",
            "epoch 111\n",
            "10/10 [==============================] - 1s 77ms/step - loss: 0.2870 - val_loss: 12.8913\n",
            "\n",
            "epoch 112\n",
            "10/10 [==============================] - 1s 79ms/step - loss: 0.2354 - val_loss: 14.3024\n",
            "\n",
            "epoch 113\n",
            "10/10 [==============================] - 1s 78ms/step - loss: 0.0815 - val_loss: 9.6025\n",
            "\n",
            "epoch 114\n",
            "10/10 [==============================] - 1s 78ms/step - loss: 0.2148 - val_loss: 9.1955\n",
            "\n",
            "epoch 115\n",
            "10/10 [==============================] - 1s 79ms/step - loss: 0.2010 - val_loss: 10.7715\n",
            "\n",
            "epoch 116\n",
            "10/10 [==============================] - 1s 79ms/step - loss: 0.3534 - val_loss: 14.0071\n",
            "\n",
            "epoch 117\n",
            "10/10 [==============================] - 1s 78ms/step - loss: 0.1764 - val_loss: 14.1484\n",
            "\n",
            "epoch 118\n",
            "10/10 [==============================] - 1s 78ms/step - loss: 0.2760 - val_loss: 10.5353\n",
            "\n",
            "epoch 119\n",
            "10/10 [==============================] - 1s 78ms/step - loss: 0.1671 - val_loss: 13.3753\n",
            "\n",
            "epoch 120\n",
            "10/10 [==============================] - 1s 78ms/step - loss: 0.1978 - val_loss: 13.7437\n",
            "\n",
            "epoch 121\n",
            "10/10 [==============================] - 1s 79ms/step - loss: 0.2466 - val_loss: 10.8738\n",
            "\n",
            "epoch 122\n",
            "10/10 [==============================] - 1s 79ms/step - loss: 0.1242 - val_loss: 9.3551\n",
            "\n",
            "epoch 123\n",
            "10/10 [==============================] - 1s 77ms/step - loss: 0.1907 - val_loss: 11.5632\n",
            "\n",
            "epoch 124\n",
            "10/10 [==============================] - 1s 78ms/step - loss: 0.1452 - val_loss: 11.5185\n",
            "\n",
            "epoch 125\n",
            "10/10 [==============================] - 1s 79ms/step - loss: 0.1623 - val_loss: 9.9055\n",
            "\n",
            "epoch 126\n",
            "10/10 [==============================] - 1s 80ms/step - loss: 0.1082 - val_loss: 11.9116\n",
            "\n",
            "epoch 127\n",
            "10/10 [==============================] - 1s 78ms/step - loss: 0.1388 - val_loss: 7.7159\n",
            "\n",
            "epoch 128\n",
            "10/10 [==============================] - 1s 79ms/step - loss: 0.0391 - val_loss: 10.0582\n",
            "\n",
            "epoch 129\n",
            "10/10 [==============================] - 1s 78ms/step - loss: 0.1058 - val_loss: 5.2249\n",
            "\n",
            "epoch 130\n",
            "10/10 [==============================] - 1s 78ms/step - loss: 0.0737 - val_loss: 15.7967\n",
            "\n",
            "epoch 131\n",
            "10/10 [==============================] - 1s 79ms/step - loss: 0.0950 - val_loss: 12.3121\n",
            "\n",
            "epoch 132\n",
            "10/10 [==============================] - 1s 79ms/step - loss: 1.2271 - val_loss: 9.6248\n",
            "\n",
            "epoch 133\n",
            "10/10 [==============================] - 1s 79ms/step - loss: 0.1116 - val_loss: 12.4050\n",
            "\n",
            "epoch 134\n",
            "10/10 [==============================] - 1s 78ms/step - loss: 0.1948 - val_loss: 15.1435\n",
            "\n",
            "epoch 135\n",
            "10/10 [==============================] - 1s 79ms/step - loss: 0.0242 - val_loss: 9.1740\n",
            "\n",
            "epoch 136\n",
            "10/10 [==============================] - 1s 79ms/step - loss: 0.0898 - val_loss: 10.5871\n",
            "\n",
            "epoch 137\n",
            "10/10 [==============================] - 1s 78ms/step - loss: 0.1227 - val_loss: 12.2998\n",
            "\n",
            "epoch 138\n",
            "10/10 [==============================] - 1s 78ms/step - loss: 0.0926 - val_loss: 12.4193\n",
            "\n",
            "epoch 139\n",
            "10/10 [==============================] - 1s 78ms/step - loss: 0.0919 - val_loss: 9.5759\n",
            "\n",
            "epoch 140\n",
            "10/10 [==============================] - 1s 78ms/step - loss: 0.0577 - val_loss: 9.7151\n",
            "\n",
            "epoch 141\n",
            "10/10 [==============================] - 1s 78ms/step - loss: 0.1916 - val_loss: 6.6978\n",
            "\n",
            "epoch 142\n",
            "10/10 [==============================] - 1s 78ms/step - loss: 0.0780 - val_loss: 11.7932\n",
            "\n",
            "epoch 143\n",
            "10/10 [==============================] - 1s 86ms/step - loss: 0.2315 - val_loss: 16.3257\n",
            "\n",
            "epoch 144\n",
            "10/10 [==============================] - 1s 82ms/step - loss: 0.3285 - val_loss: 14.7819\n",
            "\n",
            "epoch 145\n",
            "10/10 [==============================] - 1s 82ms/step - loss: 0.1723 - val_loss: 8.9342\n",
            "\n",
            "epoch 146\n",
            "10/10 [==============================] - 1s 79ms/step - loss: 0.1292 - val_loss: 9.0345\n",
            "\n",
            "epoch 147\n",
            "10/10 [==============================] - 1s 78ms/step - loss: 0.0950 - val_loss: 11.3788\n",
            "\n",
            "epoch 148\n",
            "10/10 [==============================] - 1s 78ms/step - loss: 0.1370 - val_loss: 13.7262\n",
            "\n",
            "epoch 149\n",
            "10/10 [==============================] - 1s 79ms/step - loss: 0.1368 - val_loss: 12.1727\n",
            "\n",
            "epoch 150\n",
            "10/10 [==============================] - 1s 78ms/step - loss: 0.1329 - val_loss: 14.4536\n",
            "\n",
            "epoch 151\n",
            "10/10 [==============================] - 1s 78ms/step - loss: 0.1546 - val_loss: 10.2366\n",
            "\n",
            "epoch 152\n",
            "10/10 [==============================] - 1s 79ms/step - loss: 0.0771 - val_loss: 14.0936\n",
            "\n",
            "epoch 153\n",
            "10/10 [==============================] - 1s 79ms/step - loss: 0.0844 - val_loss: 8.2830\n",
            "\n",
            "epoch 154\n",
            "10/10 [==============================] - 1s 78ms/step - loss: 0.0661 - val_loss: 13.1664\n",
            "\n",
            "epoch 155\n",
            "10/10 [==============================] - 1s 78ms/step - loss: 0.1078 - val_loss: 9.7448\n",
            "\n",
            "epoch 156\n",
            "10/10 [==============================] - 1s 78ms/step - loss: 0.1399 - val_loss: 11.3175\n",
            "\n",
            "epoch 157\n",
            "10/10 [==============================] - 1s 80ms/step - loss: 0.0789 - val_loss: 8.3656\n",
            "\n",
            "epoch 158\n",
            "10/10 [==============================] - 1s 78ms/step - loss: 0.1373 - val_loss: 11.5320\n",
            "\n",
            "epoch 159\n",
            "10/10 [==============================] - 1s 79ms/step - loss: 0.0917 - val_loss: 9.8991\n",
            "\n",
            "epoch 160\n",
            "10/10 [==============================] - 1s 79ms/step - loss: 0.1102 - val_loss: 7.2290\n",
            "\n",
            "epoch 161\n",
            "10/10 [==============================] - 1s 79ms/step - loss: 0.0513 - val_loss: 15.1005\n",
            "\n",
            "epoch 162\n",
            "10/10 [==============================] - 1s 79ms/step - loss: 0.0463 - val_loss: 12.3469\n",
            "\n",
            "epoch 163\n",
            "10/10 [==============================] - 1s 78ms/step - loss: 0.1692 - val_loss: 11.3766\n",
            "\n",
            "epoch 164\n",
            "10/10 [==============================] - 1s 79ms/step - loss: 0.1156 - val_loss: 9.9998\n",
            "\n",
            "epoch 165\n",
            "10/10 [==============================] - 1s 77ms/step - loss: 0.1082 - val_loss: 12.9762\n",
            "\n",
            "epoch 166\n",
            "10/10 [==============================] - 1s 79ms/step - loss: 0.1147 - val_loss: 12.8060\n",
            "\n",
            "epoch 167\n",
            "10/10 [==============================] - 1s 78ms/step - loss: 0.3135 - val_loss: 12.1219\n",
            "\n",
            "epoch 168\n",
            "10/10 [==============================] - 1s 78ms/step - loss: 0.1185 - val_loss: 14.0798\n",
            "\n",
            "epoch 169\n",
            "10/10 [==============================] - 1s 79ms/step - loss: 0.0627 - val_loss: 11.5680\n",
            "\n",
            "epoch 170\n",
            "10/10 [==============================] - 1s 79ms/step - loss: 0.2923 - val_loss: 13.7715\n",
            "\n",
            "epoch 171\n",
            "10/10 [==============================] - 1s 77ms/step - loss: 0.0694 - val_loss: 8.3367\n",
            "\n",
            "epoch 172\n",
            "10/10 [==============================] - 1s 78ms/step - loss: 0.1012 - val_loss: 7.2933\n",
            "\n",
            "epoch 173\n",
            "10/10 [==============================] - 1s 77ms/step - loss: 0.0275 - val_loss: 7.5291\n",
            "\n",
            "epoch 174\n",
            "10/10 [==============================] - 1s 78ms/step - loss: 0.0994 - val_loss: 13.5540\n",
            "\n",
            "epoch 175\n",
            "10/10 [==============================] - 1s 79ms/step - loss: 0.2765 - val_loss: 16.3599\n",
            "\n",
            "epoch 176\n",
            "10/10 [==============================] - 1s 78ms/step - loss: 0.0828 - val_loss: 11.3877\n",
            "\n",
            "epoch 177\n",
            "10/10 [==============================] - 1s 78ms/step - loss: 0.0815 - val_loss: 10.2189\n",
            "\n",
            "epoch 178\n",
            "10/10 [==============================] - 1s 79ms/step - loss: 0.0602 - val_loss: 9.6277\n",
            "\n",
            "epoch 179\n",
            "10/10 [==============================] - 1s 78ms/step - loss: 0.0599 - val_loss: 15.8570\n",
            "\n",
            "epoch 180\n",
            "10/10 [==============================] - 1s 78ms/step - loss: 0.0163 - val_loss: 12.7880\n",
            "\n",
            "epoch 181\n",
            "10/10 [==============================] - 1s 78ms/step - loss: 0.0296 - val_loss: 15.7525\n",
            "\n",
            "epoch 182\n",
            "10/10 [==============================] - 1s 78ms/step - loss: 0.0867 - val_loss: 12.7320\n",
            "\n",
            "epoch 183\n",
            "10/10 [==============================] - 1s 78ms/step - loss: 0.0754 - val_loss: 15.1907\n",
            "\n",
            "epoch 184\n",
            "10/10 [==============================] - 1s 80ms/step - loss: 0.1743 - val_loss: 9.8946\n",
            "\n",
            "epoch 185\n",
            "10/10 [==============================] - 1s 78ms/step - loss: 0.0438 - val_loss: 11.4816\n",
            "\n",
            "epoch 186\n",
            "10/10 [==============================] - 1s 77ms/step - loss: 0.0199 - val_loss: 10.2474\n",
            "\n",
            "epoch 187\n",
            "10/10 [==============================] - 1s 78ms/step - loss: 0.0313 - val_loss: 11.4721\n",
            "\n",
            "epoch 188\n",
            "10/10 [==============================] - 1s 80ms/step - loss: 0.0557 - val_loss: 8.3538\n",
            "\n",
            "epoch 189\n",
            "10/10 [==============================] - 1s 78ms/step - loss: 0.0380 - val_loss: 15.3595\n",
            "\n",
            "epoch 190\n",
            "10/10 [==============================] - 1s 78ms/step - loss: 0.1309 - val_loss: 10.0042\n",
            "\n",
            "epoch 191\n",
            "10/10 [==============================] - 1s 79ms/step - loss: 0.0700 - val_loss: 13.7605\n",
            "\n",
            "epoch 192\n",
            "10/10 [==============================] - 1s 78ms/step - loss: 0.1273 - val_loss: 13.9443\n",
            "\n",
            "epoch 193\n",
            "10/10 [==============================] - 1s 78ms/step - loss: 0.2080 - val_loss: 11.1328\n",
            "\n",
            "epoch 194\n",
            "10/10 [==============================] - 1s 79ms/step - loss: 0.0971 - val_loss: 16.1622\n",
            "\n",
            "epoch 195\n",
            "10/10 [==============================] - 1s 79ms/step - loss: 0.1337 - val_loss: 11.4326\n",
            "\n",
            "epoch 196\n",
            "10/10 [==============================] - 1s 77ms/step - loss: 0.0445 - val_loss: 10.7494\n",
            "\n",
            "epoch 197\n",
            "10/10 [==============================] - 1s 79ms/step - loss: 0.0212 - val_loss: 13.4679\n",
            "\n",
            "epoch 198\n",
            "10/10 [==============================] - 1s 78ms/step - loss: 0.0486 - val_loss: 14.4939\n",
            "\n",
            "epoch 199\n",
            "10/10 [==============================] - 1s 78ms/step - loss: 0.0493 - val_loss: 15.5187\n",
            "\n",
            "epoch 200\n"
          ]
        }
      ],
      "source": [
        "optimizer=tf.keras.optimizers.RMSprop(learning_rate=0.0001)\n",
        "history={}\n",
        "history['loss']=list()\n",
        "history['val_loss']=list()\n",
        "metrics_names = ['loss'] \n",
        "epochs = 1\n",
        "num_epoch=200\n",
        "for i in range(epochs):\n",
        "    n=0\n",
        "    epoch=0\n",
        "    for step, x_batch_train in enumerate(trn_dataset_whole):\n",
        "        if epoch==num_epoch:\n",
        "          break\n",
        "        progbar = tf.keras.utils.Progbar(10,stateful_metrics=['loss'])\n",
        "        with tf.GradientTape() as tape:\n",
        "            [visual,sematic] = reward_model(x_batch_train, training=True)  # Logits for this minibatch0\n",
        "            loss_value = loss(visual, sematic)\n",
        "        grads = tape.gradient(loss_value, reward_model.trainable_weights)\n",
        "        optimizer.apply_gradients(zip(grads, reward_model.trainable_weights))\n",
        "        progbar.update(n, values = [(\"loss\", loss_value)])\n",
        "        # Log every 200 batches.\n",
        "        n+=1\n",
        "        #if loss_value < 0.05:\n",
        "        #  break\n",
        "        if step % 10 == 0:\n",
        "            epoch+=1\n",
        "            val_ds=next(iter(val_dataset))\n",
        "            [val_visual,val_sematic] = reward_model(val_ds)\n",
        "            val_loss_value=loss(val_visual, val_sematic)\n",
        "            progbar.add(1,values = [(\"val_loss\", val_loss_value)])\n",
        "            n=0\n",
        "            print(\"\\nepoch %d\" % (epoch,))\n",
        "            history['loss'].append(loss_value)\n",
        "            history['val_loss'].append(val_loss_value)"
      ]
    },
    {
      "cell_type": "markdown",
      "source": [
        "#### Saving model history and weight"
      ],
      "metadata": {
        "id": "VTzqLM87XQT6"
      }
    },
    {
      "cell_type": "code",
      "execution_count": null,
      "metadata": {
        "id": "mP6E0oKE4-MJ"
      },
      "outputs": [],
      "source": [
        "f = open(\"/content/final_reward_net_whole_training_lstm_bi_loss.pkl\", \"wb\")\n",
        "pickle.dump(history, f)\n",
        "f.close()   "
      ]
    },
    {
      "cell_type": "code",
      "source": [
        "model_hist=open(\"/content/final_reward_net_whole_training_lstm_hard_loss.pkl\", \"wb\")"
      ],
      "metadata": {
        "id": "zeGYgR8B8CTY"
      },
      "execution_count": null,
      "outputs": []
    },
    {
      "cell_type": "code",
      "execution_count": null,
      "metadata": {
        "id": "R7pbfXY44R8n"
      },
      "outputs": [],
      "source": [
        "import matplotlib.pyplot as plt"
      ]
    },
    {
      "cell_type": "code",
      "execution_count": null,
      "metadata": {
        "colab": {
          "base_uri": "https://localhost:8080/",
          "height": 283
        },
        "id": "rjYWCRIZ4JX-",
        "outputId": "c282fc0e-081b-4758-c926-484cd1cdb8a1"
      },
      "outputs": [
        {
          "output_type": "execute_result",
          "data": {
            "text/plain": [
              "[<matplotlib.lines.Line2D at 0x7fe54c4e7ad0>]"
            ]
          },
          "metadata": {},
          "execution_count": 73
        },
        {
          "output_type": "display_data",
          "data": {
            "image/png": "[encoded data removed]",
            "text/plain": [
              "<Figure size 432x288 with 1 Axes>"
            ]
          },
          "metadata": {
            "needs_background": "light"
          }
        }
      ],
      "source": [
        "plt.plot(history['loss'])\n",
        "plt.plot(model_hist['loss'])\n",
        "#plt.plot(history['val_loss'])\n",
        "#plt.axis([150,400,0,5])"
      ]
    },
    {
      "cell_type": "code",
      "execution_count": null,
      "metadata": {
        "id": "qnR_hOQC4Do4"
      },
      "outputs": [],
      "source": [
        "#reward_model.save_weights('/content/drive/MyDrive/Kaggle/final_reward_net_weights_all.h5')"
      ]
    },
    {
      "cell_type": "code",
      "execution_count": null,
      "metadata": {
        "id": "tPgMeqdOONp1"
      },
      "outputs": [],
      "source": [
        "#reward_model.save('/content/drive/MyDrive/Kaggle/reward_net_weights.h5')"
      ]
    },
    {
      "cell_type": "code",
      "execution_count": null,
      "metadata": {
        "colab": {
          "base_uri": "https://localhost:8080/"
        },
        "id": "zl686AqOb2dY",
        "outputId": "063ae9c9-be62-401d-ef9d-60198fcb4daa"
      },
      "outputs": [
        {
          "name": "stdout",
          "output_type": "stream",
          "text": [
            "(25, 256, 256, 3) (25, 25)\n"
          ]
        }
      ],
      "source": [
        "inputs1 = next(iter(val_dataset))\n",
        "\n",
        "print(inputs[0].shape, inputs1[1].shape)"
      ]
    },
    {
      "cell_type": "code",
      "execution_count": null,
      "metadata": {
        "colab": {
          "base_uri": "https://localhost:8080/"
        },
        "id": "a4ldPSuObxDG",
        "outputId": "0dec1ba5-3d3d-45ca-ec8f-6010e67855d5"
      },
      "outputs": [
        {
          "data": {
            "text/plain": [
              "<tf.Tensor: shape=(25,), dtype=float32, numpy=\n",
              "array([ 0.02177213,  0.09168981,  0.05719122,  0.07145166,  0.08618225,\n",
              "        0.15175845,  0.15766758,  0.00541286, -0.03181414, -0.02004794,\n",
              "       -0.08428244,  0.03512927,  0.14939623,  0.04865621, -0.00354678,\n",
              "        0.09814619,  0.12125899,  0.15942904,  0.14223643,  0.06877327,\n",
              "        0.12730028,  0.07815305,  0.07971337,  0.08816956,  0.0481442 ],\n",
              "      dtype=float32)>"
            ]
          },
          "execution_count": 58,
          "metadata": {},
          "output_type": "execute_result"
        }
      ],
      "source": [
        "Rewards(reward_model,[inputs[0], inputs[1]])"
      ]
    },
    {
      "cell_type": "code",
      "execution_count": null,
      "metadata": {
        "id": "2F96IVlyKFj9"
      },
      "outputs": [],
      "source": [
        "#reward_model.save('/content/drive/MyDrive/Kaggle/reward_net.h5')"
      ]
    },
    {
      "cell_type": "code",
      "execution_count": null,
      "metadata": {
        "colab": {
          "base_uri": "https://localhost:8080/"
        },
        "id": "GhFihdZZ4EEH",
        "outputId": "53a6448f-04c7-4706-cbb5-68de9efb8850"
      },
      "outputs": [
        {
          "name": "stdout",
          "output_type": "stream",
          "text": [
            "(25, 256, 256, 3) (25, 25)\n"
          ]
        }
      ],
      "source": [
        "inputs = next(iter(val_dataset))\n",
        "inputs_1 = next(iter(val_dataset))\n",
        "print(inputs[0].shape, inputs[1].shape)"
      ]
    },
    {
      "cell_type": "code",
      "execution_count": null,
      "metadata": {
        "colab": {
          "base_uri": "https://localhost:8080/",
          "height": 334
        },
        "id": "Ce6AY9_V0Kxh",
        "outputId": "22b72b7a-5273-44da-80e7-1049357802b1"
      },
      "outputs": [
        {
          "data": {
            "text/plain": [
              "Text(0.5, 1.0, '[[   2   16 1053 1457   65 1705   35  246  105   81    3    0    0    0\\n     0    0    0    0    0    0    0    0    0    0    0]]')"
            ]
          },
          "execution_count": 160,
          "metadata": {},
          "output_type": "execute_result"
        },
        {
          "data": {
            "image/png": "[encoded data removed]",
            "text/plain": [
              "<Figure size 432x288 with 1 Axes>"
            ]
          },
          "metadata": {},
          "output_type": "display_data"
        }
      ],
      "source": [
        "plt.imshow(tf.squeeze(inputs_1[0]))\n",
        "plt.title(str(inputs_1[1]))"
      ]
    },
    {
      "cell_type": "code",
      "execution_count": null,
      "metadata": {
        "colab": {
          "base_uri": "https://localhost:8080/"
        },
        "id": "xdr6mgt439pQ",
        "outputId": "5e0a0382-d55e-4fe5-a32f-7890f4b6bf60"
      },
      "outputs": [
        {
          "name": "stdout",
          "output_type": "stream",
          "text": [
            "tf.Tensor([0.01224614], shape=(1,), dtype=float32)\n"
          ]
        }
      ],
      "source": [
        "r=Rewards(reward_model,[inputs[0], inputs_1[1]])\n",
        "print(r)"
      ]
    },
    {
      "cell_type": "code",
      "execution_count": null,
      "metadata": {
        "colab": {
          "base_uri": "https://localhost:8080/",
          "height": 35
        },
        "id": "-wl_u-KQKkE0",
        "outputId": "aba7a738-9fde-4b53-c5bf-4501c30afa5a"
      },
      "outputs": [
        {
          "data": {
            "application/vnd.google.colaboratory.intrinsic+json": {
              "type": "string"
            },
            "text/plain": [
              "'/content/drive/MyDrive/Kaggle/reward_net.h5'"
            ]
          },
          "execution_count": 82,
          "metadata": {},
          "output_type": "execute_result"
        }
      ],
      "source": [
        "'/content/drive/MyDrive/Kaggle/reward_net.h5'"
      ]
    },
    {
      "cell_type": "code",
      "execution_count": null,
      "metadata": {
        "colab": {
          "base_uri": "https://localhost:8080/"
        },
        "id": "2i7Ii2EWF2hd",
        "outputId": "dd11b572-e9ae-4f52-a1ac-fcf74a205f6e"
      },
      "outputs": [
        {
          "data": {
            "text/plain": [
              "dict_keys(['loss', 'val_loss'])"
            ]
          },
          "execution_count": 83,
          "metadata": {},
          "output_type": "execute_result"
        }
      ],
      "source": [
        "history.keys()"
      ]
    },
    {
      "cell_type": "code",
      "execution_count": null,
      "metadata": {
        "id": "sH35PugRynW2"
      },
      "outputs": [],
      "source": [
        "f = open(\"/content/history_reward_model_Adam_incp_lstm_3.pkl\", \"wb\")\n",
        "pickle.dump(history, f)\n",
        "f.close() "
      ]
    },
    {
      "cell_type": "code",
      "execution_count": null,
      "metadata": {
        "id": "Uxv7qvEeE9Q-"
      },
      "outputs": [],
      "source": [
        "reward_model.save_weights('/content/reward_net_model_weights.h5')"
      ]
    },
    {
      "cell_type": "code",
      "execution_count": null,
      "metadata": {
        "id": "k_q_UpRCe604"
      },
      "outputs": [],
      "source": [
        ""
      ]
    }
  ],
  "metadata": {
    "accelerator": "GPU",
    "colab": {
      "collapsed_sections": [],
      "machine_shape": "hm",
      "name": "training_reward_net.ipynb",
      "provenance": [],
      "include_colab_link": true
    },
    "kernelspec": {
      "display_name": "Python 3",
      "name": "python3"
    },
    "language_info": {
      "name": "python"
    }
  },
  "nbformat": 4,
  "nbformat_minor": 0
}