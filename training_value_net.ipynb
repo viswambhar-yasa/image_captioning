{
  "cells": [
    {
      "cell_type": "code",
      "execution_count": 1,
      "metadata": {
        "colab": {
          "base_uri": "https://localhost:8080/"
        },
        "id": "SCaXLacBGeyg",
        "outputId": "094ea0eb-92b7-4e40-d09f-a86cc2301bd3"
      },
      "outputs": [
        {
          "output_type": "stream",
          "name": "stdout",
          "text": [
            "Cloning into 'image_captioning'...\n",
            "remote: Enumerating objects: 61, done.\u001b[K\n",
            "remote: Counting objects: 100% (61/61), done.\u001b[K\n",
            "remote: Compressing objects: 100% (54/54), done.\u001b[K\n",
            "remote: Total 61 (delta 28), reused 17 (delta 6), pack-reused 0\u001b[K\n",
            "Unpacking objects: 100% (61/61), done.\n"
          ]
        }
      ],
      "source": [
        "!git clone https://github.com/viswambhar-yasa/image_captioning"
      ]
    },
    {
      "cell_type": "code",
      "source": [
        "cd /content/image_captioning"
      ],
      "metadata": {
        "colab": {
          "base_uri": "https://localhost:8080/"
        },
        "id": "6_tya19GYGTy",
        "outputId": "a60bc390-64c4-4323-9a04-600742cbef01"
      },
      "execution_count": 2,
      "outputs": [
        {
          "output_type": "stream",
          "name": "stdout",
          "text": [
            "/content/image_captioning\n"
          ]
        }
      ]
    },
    {
      "cell_type": "code",
      "source": [
        "from data_extraction import downloading_extraction"
      ],
      "metadata": {
        "id": "JwbXzPCuYP72"
      },
      "execution_count": 3,
      "outputs": []
    },
    {
      "cell_type": "code",
      "source": [
        "images_link = 'https://github.com/jbrownlee/Datasets/releases/download/Flickr8k/Flickr8k_Dataset.zip'\n",
        "downloading_extraction(images_link)\n",
        "text_link = \"https://github.com/jbrownlee/Datasets/releases/download/Flickr8k/Flickr8k_text.zip\"\n",
        "downloading_extraction(text_link)"
      ],
      "metadata": {
        "id": "5UO9T51iYSCF"
      },
      "execution_count": 4,
      "outputs": []
    },
    {
      "cell_type": "code",
      "source": [
        "from model_networks import Caption_model_gen\n",
        "from data_processing import data_processing"
      ],
      "metadata": {
        "id": "hIKvVlKWYXW2"
      },
      "execution_count": 5,
      "outputs": []
    },
    {
      "cell_type": "code",
      "execution_count": 6,
      "metadata": {
        "id": "agl9PPMER-m_"
      },
      "outputs": [],
      "source": [
        "import tensorflow as tf"
      ]
    },
    {
      "cell_type": "code",
      "source": [
        "value_model = Caption_model_gen(NET='value', vocab_size=8360, Embed_Size=512, max_length=25,display=True)\n",
        "#actor_model.summary()\n",
        "#reward_model.compile(loss=reward_net_loss,                   optimizer=tf.keras.optimizers.Adam(learning_rate=0.001),                    metrics=['accuracy'])"
      ],
      "metadata": {
        "colab": {
          "base_uri": "https://localhost:8080/"
        },
        "id": "SNS73HiK06dd",
        "outputId": "560ff469-4d4e-4614-c01e-54c757d5052d"
      },
      "execution_count": 7,
      "outputs": [
        {
          "output_type": "stream",
          "name": "stdout",
          "text": [
            "Building CNN model\n",
            "Downloading data from https://storage.googleapis.com/tensorflow/keras-applications/xception/xception_weights_tf_dim_ordering_tf_kernels_notop.h5\n",
            "83689472/83683744 [==============================] - 0s 0us/step\n",
            "83697664/83683744 [==============================] - 0s 0us/step\n",
            "CNN model {output shape}: (None, 2048)\n",
            "Building RNN model\n",
            "final_carry_state {rnn output shape}: (None, 512)\n",
            "Image and text {concat shape}: (None, 1024)\n",
            "output {shape} (None, 1)\n",
            "Value Net built successfully \n",
            "\n"
          ]
        }
      ]
    },
    {
      "cell_type": "code",
      "source": [
        "value_model.summary()"
      ],
      "metadata": {
        "colab": {
          "base_uri": "https://localhost:8080/"
        },
        "id": "4PnbHwbV06Xa",
        "outputId": "97badd2f-53d8-4625-aba0-007fc6de7e06"
      },
      "execution_count": 8,
      "outputs": [
        {
          "output_type": "stream",
          "name": "stdout",
          "text": [
            "Model: \"Value_Net\"\n",
            "__________________________________________________________________________________________________\n",
            " Layer (type)                   Output Shape         Param #     Connected to                     \n",
            "==================================================================================================\n",
            " input_1 (InputLayer)           [(None, 256, 256, 3  0           []                               \n",
            "                                )]                                                                \n",
            "                                                                                                  \n",
            " block1_conv1 (Conv2D)          (None, 127, 127, 32  864         ['input_1[0][0]']                \n",
            "                                )                                                                 \n",
            "                                                                                                  \n",
            " block1_conv1_bn (BatchNormaliz  (None, 127, 127, 32  128        ['block1_conv1[0][0]']           \n",
            " ation)                         )                                                                 \n",
            "                                                                                                  \n",
            " block1_conv1_act (Activation)  (None, 127, 127, 32  0           ['block1_conv1_bn[0][0]']        \n",
            "                                )                                                                 \n",
            "                                                                                                  \n",
            " block1_conv2 (Conv2D)          (None, 125, 125, 64  18432       ['block1_conv1_act[0][0]']       \n",
            "                                )                                                                 \n",
            "                                                                                                  \n",
            " block1_conv2_bn (BatchNormaliz  (None, 125, 125, 64  256        ['block1_conv2[0][0]']           \n",
            " ation)                         )                                                                 \n",
            "                                                                                                  \n",
            " block1_conv2_act (Activation)  (None, 125, 125, 64  0           ['block1_conv2_bn[0][0]']        \n",
            "                                )                                                                 \n",
            "                                                                                                  \n",
            " block2_sepconv1 (SeparableConv  (None, 125, 125, 12  8768       ['block1_conv2_act[0][0]']       \n",
            " 2D)                            8)                                                                \n",
            "                                                                                                  \n",
            " block2_sepconv1_bn (BatchNorma  (None, 125, 125, 12  512        ['block2_sepconv1[0][0]']        \n",
            " lization)                      8)                                                                \n",
            "                                                                                                  \n",
            " block2_sepconv2_act (Activatio  (None, 125, 125, 12  0          ['block2_sepconv1_bn[0][0]']     \n",
            " n)                             8)                                                                \n",
            "                                                                                                  \n",
            " block2_sepconv2 (SeparableConv  (None, 125, 125, 12  17536      ['block2_sepconv2_act[0][0]']    \n",
            " 2D)                            8)                                                                \n",
            "                                                                                                  \n",
            " block2_sepconv2_bn (BatchNorma  (None, 125, 125, 12  512        ['block2_sepconv2[0][0]']        \n",
            " lization)                      8)                                                                \n",
            "                                                                                                  \n",
            " conv2d (Conv2D)                (None, 63, 63, 128)  8192        ['block1_conv2_act[0][0]']       \n",
            "                                                                                                  \n",
            " block2_pool (MaxPooling2D)     (None, 63, 63, 128)  0           ['block2_sepconv2_bn[0][0]']     \n",
            "                                                                                                  \n",
            " batch_normalization (BatchNorm  (None, 63, 63, 128)  512        ['conv2d[0][0]']                 \n",
            " alization)                                                                                       \n",
            "                                                                                                  \n",
            " add (Add)                      (None, 63, 63, 128)  0           ['block2_pool[0][0]',            \n",
            "                                                                  'batch_normalization[0][0]']    \n",
            "                                                                                                  \n",
            " block3_sepconv1_act (Activatio  (None, 63, 63, 128)  0          ['add[0][0]']                    \n",
            " n)                                                                                               \n",
            "                                                                                                  \n",
            " block3_sepconv1 (SeparableConv  (None, 63, 63, 256)  33920      ['block3_sepconv1_act[0][0]']    \n",
            " 2D)                                                                                              \n",
            "                                                                                                  \n",
            " block3_sepconv1_bn (BatchNorma  (None, 63, 63, 256)  1024       ['block3_sepconv1[0][0]']        \n",
            " lization)                                                                                        \n",
            "                                                                                                  \n",
            " block3_sepconv2_act (Activatio  (None, 63, 63, 256)  0          ['block3_sepconv1_bn[0][0]']     \n",
            " n)                                                                                               \n",
            "                                                                                                  \n",
            " block3_sepconv2 (SeparableConv  (None, 63, 63, 256)  67840      ['block3_sepconv2_act[0][0]']    \n",
            " 2D)                                                                                              \n",
            "                                                                                                  \n",
            " block3_sepconv2_bn (BatchNorma  (None, 63, 63, 256)  1024       ['block3_sepconv2[0][0]']        \n",
            " lization)                                                                                        \n",
            "                                                                                                  \n",
            " conv2d_1 (Conv2D)              (None, 32, 32, 256)  32768       ['add[0][0]']                    \n",
            "                                                                                                  \n",
            " block3_pool (MaxPooling2D)     (None, 32, 32, 256)  0           ['block3_sepconv2_bn[0][0]']     \n",
            "                                                                                                  \n",
            " batch_normalization_1 (BatchNo  (None, 32, 32, 256)  1024       ['conv2d_1[0][0]']               \n",
            " rmalization)                                                                                     \n",
            "                                                                                                  \n",
            " add_1 (Add)                    (None, 32, 32, 256)  0           ['block3_pool[0][0]',            \n",
            "                                                                  'batch_normalization_1[0][0]']  \n",
            "                                                                                                  \n",
            " block4_sepconv1_act (Activatio  (None, 32, 32, 256)  0          ['add_1[0][0]']                  \n",
            " n)                                                                                               \n",
            "                                                                                                  \n",
            " block4_sepconv1 (SeparableConv  (None, 32, 32, 728)  188672     ['block4_sepconv1_act[0][0]']    \n",
            " 2D)                                                                                              \n",
            "                                                                                                  \n",
            " block4_sepconv1_bn (BatchNorma  (None, 32, 32, 728)  2912       ['block4_sepconv1[0][0]']        \n",
            " lization)                                                                                        \n",
            "                                                                                                  \n",
            " block4_sepconv2_act (Activatio  (None, 32, 32, 728)  0          ['block4_sepconv1_bn[0][0]']     \n",
            " n)                                                                                               \n",
            "                                                                                                  \n",
            " block4_sepconv2 (SeparableConv  (None, 32, 32, 728)  536536     ['block4_sepconv2_act[0][0]']    \n",
            " 2D)                                                                                              \n",
            "                                                                                                  \n",
            " block4_sepconv2_bn (BatchNorma  (None, 32, 32, 728)  2912       ['block4_sepconv2[0][0]']        \n",
            " lization)                                                                                        \n",
            "                                                                                                  \n",
            " conv2d_2 (Conv2D)              (None, 16, 16, 728)  186368      ['add_1[0][0]']                  \n",
            "                                                                                                  \n",
            " block4_pool (MaxPooling2D)     (None, 16, 16, 728)  0           ['block4_sepconv2_bn[0][0]']     \n",
            "                                                                                                  \n",
            " batch_normalization_2 (BatchNo  (None, 16, 16, 728)  2912       ['conv2d_2[0][0]']               \n",
            " rmalization)                                                                                     \n",
            "                                                                                                  \n",
            " add_2 (Add)                    (None, 16, 16, 728)  0           ['block4_pool[0][0]',            \n",
            "                                                                  'batch_normalization_2[0][0]']  \n",
            "                                                                                                  \n",
            " block5_sepconv1_act (Activatio  (None, 16, 16, 728)  0          ['add_2[0][0]']                  \n",
            " n)                                                                                               \n",
            "                                                                                                  \n",
            " block5_sepconv1 (SeparableConv  (None, 16, 16, 728)  536536     ['block5_sepconv1_act[0][0]']    \n",
            " 2D)                                                                                              \n",
            "                                                                                                  \n",
            " block5_sepconv1_bn (BatchNorma  (None, 16, 16, 728)  2912       ['block5_sepconv1[0][0]']        \n",
            " lization)                                                                                        \n",
            "                                                                                                  \n",
            " block5_sepconv2_act (Activatio  (None, 16, 16, 728)  0          ['block5_sepconv1_bn[0][0]']     \n",
            " n)                                                                                               \n",
            "                                                                                                  \n",
            " block5_sepconv2 (SeparableConv  (None, 16, 16, 728)  536536     ['block5_sepconv2_act[0][0]']    \n",
            " 2D)                                                                                              \n",
            "                                                                                                  \n",
            " block5_sepconv2_bn (BatchNorma  (None, 16, 16, 728)  2912       ['block5_sepconv2[0][0]']        \n",
            " lization)                                                                                        \n",
            "                                                                                                  \n",
            " block5_sepconv3_act (Activatio  (None, 16, 16, 728)  0          ['block5_sepconv2_bn[0][0]']     \n",
            " n)                                                                                               \n",
            "                                                                                                  \n",
            " block5_sepconv3 (SeparableConv  (None, 16, 16, 728)  536536     ['block5_sepconv3_act[0][0]']    \n",
            " 2D)                                                                                              \n",
            "                                                                                                  \n",
            " block5_sepconv3_bn (BatchNorma  (None, 16, 16, 728)  2912       ['block5_sepconv3[0][0]']        \n",
            " lization)                                                                                        \n",
            "                                                                                                  \n",
            " add_3 (Add)                    (None, 16, 16, 728)  0           ['block5_sepconv3_bn[0][0]',     \n",
            "                                                                  'add_2[0][0]']                  \n",
            "                                                                                                  \n",
            " block6_sepconv1_act (Activatio  (None, 16, 16, 728)  0          ['add_3[0][0]']                  \n",
            " n)                                                                                               \n",
            "                                                                                                  \n",
            " block6_sepconv1 (SeparableConv  (None, 16, 16, 728)  536536     ['block6_sepconv1_act[0][0]']    \n",
            " 2D)                                                                                              \n",
            "                                                                                                  \n",
            " block6_sepconv1_bn (BatchNorma  (None, 16, 16, 728)  2912       ['block6_sepconv1[0][0]']        \n",
            " lization)                                                                                        \n",
            "                                                                                                  \n",
            " block6_sepconv2_act (Activatio  (None, 16, 16, 728)  0          ['block6_sepconv1_bn[0][0]']     \n",
            " n)                                                                                               \n",
            "                                                                                                  \n",
            " block6_sepconv2 (SeparableConv  (None, 16, 16, 728)  536536     ['block6_sepconv2_act[0][0]']    \n",
            " 2D)                                                                                              \n",
            "                                                                                                  \n",
            " block6_sepconv2_bn (BatchNorma  (None, 16, 16, 728)  2912       ['block6_sepconv2[0][0]']        \n",
            " lization)                                                                                        \n",
            "                                                                                                  \n",
            " block6_sepconv3_act (Activatio  (None, 16, 16, 728)  0          ['block6_sepconv2_bn[0][0]']     \n",
            " n)                                                                                               \n",
            "                                                                                                  \n",
            " block6_sepconv3 (SeparableConv  (None, 16, 16, 728)  536536     ['block6_sepconv3_act[0][0]']    \n",
            " 2D)                                                                                              \n",
            "                                                                                                  \n",
            " block6_sepconv3_bn (BatchNorma  (None, 16, 16, 728)  2912       ['block6_sepconv3[0][0]']        \n",
            " lization)                                                                                        \n",
            "                                                                                                  \n",
            " add_4 (Add)                    (None, 16, 16, 728)  0           ['block6_sepconv3_bn[0][0]',     \n",
            "                                                                  'add_3[0][0]']                  \n",
            "                                                                                                  \n",
            " block7_sepconv1_act (Activatio  (None, 16, 16, 728)  0          ['add_4[0][0]']                  \n",
            " n)                                                                                               \n",
            "                                                                                                  \n",
            " block7_sepconv1 (SeparableConv  (None, 16, 16, 728)  536536     ['block7_sepconv1_act[0][0]']    \n",
            " 2D)                                                                                              \n",
            "                                                                                                  \n",
            " block7_sepconv1_bn (BatchNorma  (None, 16, 16, 728)  2912       ['block7_sepconv1[0][0]']        \n",
            " lization)                                                                                        \n",
            "                                                                                                  \n",
            " block7_sepconv2_act (Activatio  (None, 16, 16, 728)  0          ['block7_sepconv1_bn[0][0]']     \n",
            " n)                                                                                               \n",
            "                                                                                                  \n",
            " block7_sepconv2 (SeparableConv  (None, 16, 16, 728)  536536     ['block7_sepconv2_act[0][0]']    \n",
            " 2D)                                                                                              \n",
            "                                                                                                  \n",
            " block7_sepconv2_bn (BatchNorma  (None, 16, 16, 728)  2912       ['block7_sepconv2[0][0]']        \n",
            " lization)                                                                                        \n",
            "                                                                                                  \n",
            " block7_sepconv3_act (Activatio  (None, 16, 16, 728)  0          ['block7_sepconv2_bn[0][0]']     \n",
            " n)                                                                                               \n",
            "                                                                                                  \n",
            " block7_sepconv3 (SeparableConv  (None, 16, 16, 728)  536536     ['block7_sepconv3_act[0][0]']    \n",
            " 2D)                                                                                              \n",
            "                                                                                                  \n",
            " block7_sepconv3_bn (BatchNorma  (None, 16, 16, 728)  2912       ['block7_sepconv3[0][0]']        \n",
            " lization)                                                                                        \n",
            "                                                                                                  \n",
            " add_5 (Add)                    (None, 16, 16, 728)  0           ['block7_sepconv3_bn[0][0]',     \n",
            "                                                                  'add_4[0][0]']                  \n",
            "                                                                                                  \n",
            " block8_sepconv1_act (Activatio  (None, 16, 16, 728)  0          ['add_5[0][0]']                  \n",
            " n)                                                                                               \n",
            "                                                                                                  \n",
            " block8_sepconv1 (SeparableConv  (None, 16, 16, 728)  536536     ['block8_sepconv1_act[0][0]']    \n",
            " 2D)                                                                                              \n",
            "                                                                                                  \n",
            " block8_sepconv1_bn (BatchNorma  (None, 16, 16, 728)  2912       ['block8_sepconv1[0][0]']        \n",
            " lization)                                                                                        \n",
            "                                                                                                  \n",
            " block8_sepconv2_act (Activatio  (None, 16, 16, 728)  0          ['block8_sepconv1_bn[0][0]']     \n",
            " n)                                                                                               \n",
            "                                                                                                  \n",
            " block8_sepconv2 (SeparableConv  (None, 16, 16, 728)  536536     ['block8_sepconv2_act[0][0]']    \n",
            " 2D)                                                                                              \n",
            "                                                                                                  \n",
            " block8_sepconv2_bn (BatchNorma  (None, 16, 16, 728)  2912       ['block8_sepconv2[0][0]']        \n",
            " lization)                                                                                        \n",
            "                                                                                                  \n",
            " block8_sepconv3_act (Activatio  (None, 16, 16, 728)  0          ['block8_sepconv2_bn[0][0]']     \n",
            " n)                                                                                               \n",
            "                                                                                                  \n",
            " block8_sepconv3 (SeparableConv  (None, 16, 16, 728)  536536     ['block8_sepconv3_act[0][0]']    \n",
            " 2D)                                                                                              \n",
            "                                                                                                  \n",
            " block8_sepconv3_bn (BatchNorma  (None, 16, 16, 728)  2912       ['block8_sepconv3[0][0]']        \n",
            " lization)                                                                                        \n",
            "                                                                                                  \n",
            " add_6 (Add)                    (None, 16, 16, 728)  0           ['block8_sepconv3_bn[0][0]',     \n",
            "                                                                  'add_5[0][0]']                  \n",
            "                                                                                                  \n",
            " block9_sepconv1_act (Activatio  (None, 16, 16, 728)  0          ['add_6[0][0]']                  \n",
            " n)                                                                                               \n",
            "                                                                                                  \n",
            " block9_sepconv1 (SeparableConv  (None, 16, 16, 728)  536536     ['block9_sepconv1_act[0][0]']    \n",
            " 2D)                                                                                              \n",
            "                                                                                                  \n",
            " block9_sepconv1_bn (BatchNorma  (None, 16, 16, 728)  2912       ['block9_sepconv1[0][0]']        \n",
            " lization)                                                                                        \n",
            "                                                                                                  \n",
            " block9_sepconv2_act (Activatio  (None, 16, 16, 728)  0          ['block9_sepconv1_bn[0][0]']     \n",
            " n)                                                                                               \n",
            "                                                                                                  \n",
            " block9_sepconv2 (SeparableConv  (None, 16, 16, 728)  536536     ['block9_sepconv2_act[0][0]']    \n",
            " 2D)                                                                                              \n",
            "                                                                                                  \n",
            " block9_sepconv2_bn (BatchNorma  (None, 16, 16, 728)  2912       ['block9_sepconv2[0][0]']        \n",
            " lization)                                                                                        \n",
            "                                                                                                  \n",
            " block9_sepconv3_act (Activatio  (None, 16, 16, 728)  0          ['block9_sepconv2_bn[0][0]']     \n",
            " n)                                                                                               \n",
            "                                                                                                  \n",
            " block9_sepconv3 (SeparableConv  (None, 16, 16, 728)  536536     ['block9_sepconv3_act[0][0]']    \n",
            " 2D)                                                                                              \n",
            "                                                                                                  \n",
            " block9_sepconv3_bn (BatchNorma  (None, 16, 16, 728)  2912       ['block9_sepconv3[0][0]']        \n",
            " lization)                                                                                        \n",
            "                                                                                                  \n",
            " add_7 (Add)                    (None, 16, 16, 728)  0           ['block9_sepconv3_bn[0][0]',     \n",
            "                                                                  'add_6[0][0]']                  \n",
            "                                                                                                  \n",
            " block10_sepconv1_act (Activati  (None, 16, 16, 728)  0          ['add_7[0][0]']                  \n",
            " on)                                                                                              \n",
            "                                                                                                  \n",
            " block10_sepconv1 (SeparableCon  (None, 16, 16, 728)  536536     ['block10_sepconv1_act[0][0]']   \n",
            " v2D)                                                                                             \n",
            "                                                                                                  \n",
            " block10_sepconv1_bn (BatchNorm  (None, 16, 16, 728)  2912       ['block10_sepconv1[0][0]']       \n",
            " alization)                                                                                       \n",
            "                                                                                                  \n",
            " block10_sepconv2_act (Activati  (None, 16, 16, 728)  0          ['block10_sepconv1_bn[0][0]']    \n",
            " on)                                                                                              \n",
            "                                                                                                  \n",
            " block10_sepconv2 (SeparableCon  (None, 16, 16, 728)  536536     ['block10_sepconv2_act[0][0]']   \n",
            " v2D)                                                                                             \n",
            "                                                                                                  \n",
            " block10_sepconv2_bn (BatchNorm  (None, 16, 16, 728)  2912       ['block10_sepconv2[0][0]']       \n",
            " alization)                                                                                       \n",
            "                                                                                                  \n",
            " block10_sepconv3_act (Activati  (None, 16, 16, 728)  0          ['block10_sepconv2_bn[0][0]']    \n",
            " on)                                                                                              \n",
            "                                                                                                  \n",
            " block10_sepconv3 (SeparableCon  (None, 16, 16, 728)  536536     ['block10_sepconv3_act[0][0]']   \n",
            " v2D)                                                                                             \n",
            "                                                                                                  \n",
            " block10_sepconv3_bn (BatchNorm  (None, 16, 16, 728)  2912       ['block10_sepconv3[0][0]']       \n",
            " alization)                                                                                       \n",
            "                                                                                                  \n",
            " add_8 (Add)                    (None, 16, 16, 728)  0           ['block10_sepconv3_bn[0][0]',    \n",
            "                                                                  'add_7[0][0]']                  \n",
            "                                                                                                  \n",
            " block11_sepconv1_act (Activati  (None, 16, 16, 728)  0          ['add_8[0][0]']                  \n",
            " on)                                                                                              \n",
            "                                                                                                  \n",
            " block11_sepconv1 (SeparableCon  (None, 16, 16, 728)  536536     ['block11_sepconv1_act[0][0]']   \n",
            " v2D)                                                                                             \n",
            "                                                                                                  \n",
            " block11_sepconv1_bn (BatchNorm  (None, 16, 16, 728)  2912       ['block11_sepconv1[0][0]']       \n",
            " alization)                                                                                       \n",
            "                                                                                                  \n",
            " block11_sepconv2_act (Activati  (None, 16, 16, 728)  0          ['block11_sepconv1_bn[0][0]']    \n",
            " on)                                                                                              \n",
            "                                                                                                  \n",
            " block11_sepconv2 (SeparableCon  (None, 16, 16, 728)  536536     ['block11_sepconv2_act[0][0]']   \n",
            " v2D)                                                                                             \n",
            "                                                                                                  \n",
            " block11_sepconv2_bn (BatchNorm  (None, 16, 16, 728)  2912       ['block11_sepconv2[0][0]']       \n",
            " alization)                                                                                       \n",
            "                                                                                                  \n",
            " block11_sepconv3_act (Activati  (None, 16, 16, 728)  0          ['block11_sepconv2_bn[0][0]']    \n",
            " on)                                                                                              \n",
            "                                                                                                  \n",
            " block11_sepconv3 (SeparableCon  (None, 16, 16, 728)  536536     ['block11_sepconv3_act[0][0]']   \n",
            " v2D)                                                                                             \n",
            "                                                                                                  \n",
            " block11_sepconv3_bn (BatchNorm  (None, 16, 16, 728)  2912       ['block11_sepconv3[0][0]']       \n",
            " alization)                                                                                       \n",
            "                                                                                                  \n",
            " add_9 (Add)                    (None, 16, 16, 728)  0           ['block11_sepconv3_bn[0][0]',    \n",
            "                                                                  'add_8[0][0]']                  \n",
            "                                                                                                  \n",
            " block12_sepconv1_act (Activati  (None, 16, 16, 728)  0          ['add_9[0][0]']                  \n",
            " on)                                                                                              \n",
            "                                                                                                  \n",
            " block12_sepconv1 (SeparableCon  (None, 16, 16, 728)  536536     ['block12_sepconv1_act[0][0]']   \n",
            " v2D)                                                                                             \n",
            "                                                                                                  \n",
            " block12_sepconv1_bn (BatchNorm  (None, 16, 16, 728)  2912       ['block12_sepconv1[0][0]']       \n",
            " alization)                                                                                       \n",
            "                                                                                                  \n",
            " block12_sepconv2_act (Activati  (None, 16, 16, 728)  0          ['block12_sepconv1_bn[0][0]']    \n",
            " on)                                                                                              \n",
            "                                                                                                  \n",
            " block12_sepconv2 (SeparableCon  (None, 16, 16, 728)  536536     ['block12_sepconv2_act[0][0]']   \n",
            " v2D)                                                                                             \n",
            "                                                                                                  \n",
            " block12_sepconv2_bn (BatchNorm  (None, 16, 16, 728)  2912       ['block12_sepconv2[0][0]']       \n",
            " alization)                                                                                       \n",
            "                                                                                                  \n",
            " block12_sepconv3_act (Activati  (None, 16, 16, 728)  0          ['block12_sepconv2_bn[0][0]']    \n",
            " on)                                                                                              \n",
            "                                                                                                  \n",
            " block12_sepconv3 (SeparableCon  (None, 16, 16, 728)  536536     ['block12_sepconv3_act[0][0]']   \n",
            " v2D)                                                                                             \n",
            "                                                                                                  \n",
            " block12_sepconv3_bn (BatchNorm  (None, 16, 16, 728)  2912       ['block12_sepconv3[0][0]']       \n",
            " alization)                                                                                       \n",
            "                                                                                                  \n",
            " add_10 (Add)                   (None, 16, 16, 728)  0           ['block12_sepconv3_bn[0][0]',    \n",
            "                                                                  'add_9[0][0]']                  \n",
            "                                                                                                  \n",
            " block13_sepconv1_act (Activati  (None, 16, 16, 728)  0          ['add_10[0][0]']                 \n",
            " on)                                                                                              \n",
            "                                                                                                  \n",
            " block13_sepconv1 (SeparableCon  (None, 16, 16, 728)  536536     ['block13_sepconv1_act[0][0]']   \n",
            " v2D)                                                                                             \n",
            "                                                                                                  \n",
            " block13_sepconv1_bn (BatchNorm  (None, 16, 16, 728)  2912       ['block13_sepconv1[0][0]']       \n",
            " alization)                                                                                       \n",
            "                                                                                                  \n",
            " block13_sepconv2_act (Activati  (None, 16, 16, 728)  0          ['block13_sepconv1_bn[0][0]']    \n",
            " on)                                                                                              \n",
            "                                                                                                  \n",
            " block13_sepconv2 (SeparableCon  (None, 16, 16, 1024  752024     ['block13_sepconv2_act[0][0]']   \n",
            " v2D)                           )                                                                 \n",
            "                                                                                                  \n",
            " block13_sepconv2_bn (BatchNorm  (None, 16, 16, 1024  4096       ['block13_sepconv2[0][0]']       \n",
            " alization)                     )                                                                 \n",
            "                                                                                                  \n",
            " conv2d_3 (Conv2D)              (None, 8, 8, 1024)   745472      ['add_10[0][0]']                 \n",
            "                                                                                                  \n",
            " block13_pool (MaxPooling2D)    (None, 8, 8, 1024)   0           ['block13_sepconv2_bn[0][0]']    \n",
            "                                                                                                  \n",
            " batch_normalization_3 (BatchNo  (None, 8, 8, 1024)  4096        ['conv2d_3[0][0]']               \n",
            " rmalization)                                                                                     \n",
            "                                                                                                  \n",
            " add_11 (Add)                   (None, 8, 8, 1024)   0           ['block13_pool[0][0]',           \n",
            "                                                                  'batch_normalization_3[0][0]']  \n",
            "                                                                                                  \n",
            " block14_sepconv1 (SeparableCon  (None, 8, 8, 1536)  1582080     ['add_11[0][0]']                 \n",
            " v2D)                                                                                             \n",
            "                                                                                                  \n",
            " block14_sepconv1_bn (BatchNorm  (None, 8, 8, 1536)  6144        ['block14_sepconv1[0][0]']       \n",
            " alization)                                                                                       \n",
            "                                                                                                  \n",
            " block14_sepconv1_act (Activati  (None, 8, 8, 1536)  0           ['block14_sepconv1_bn[0][0]']    \n",
            " on)                                                                                              \n",
            "                                                                                                  \n",
            " block14_sepconv2 (SeparableCon  (None, 8, 8, 2048)  3159552     ['block14_sepconv1_act[0][0]']   \n",
            " v2D)                                                                                             \n",
            "                                                                                                  \n",
            " block14_sepconv2_bn (BatchNorm  (None, 8, 8, 2048)  8192        ['block14_sepconv2[0][0]']       \n",
            " alization)                                                                                       \n",
            "                                                                                                  \n",
            " input_2 (InputLayer)           [(None, 25)]         0           []                               \n",
            "                                                                                                  \n",
            " block14_sepconv2_act (Activati  (None, 8, 8, 2048)  0           ['block14_sepconv2_bn[0][0]']    \n",
            " on)                                                                                              \n",
            "                                                                                                  \n",
            " embedding (Embedding)          (None, 25, 512)      4280320     ['input_2[0][0]']                \n",
            "                                                                                                  \n",
            " global_average_pooling (Global  (None, 2048)        0           ['block14_sepconv2_act[0][0]']   \n",
            " AveragePooling2D)                                                                                \n",
            "                                                                                                  \n",
            " batch_normalization_4 (BatchNo  (None, 25, 512)     2048        ['embedding[0][0]']              \n",
            " rmalization)                                                                                     \n",
            "                                                                                                  \n",
            " dense (Dense)                  (None, 512)          1049088     ['global_average_pooling[0][0]'] \n",
            "                                                                                                  \n",
            " lstm (LSTM)                    (None, 512)          2099200     ['batch_normalization_4[0][0]']  \n",
            "                                                                                                  \n",
            " concatenate (Concatenate)      (None, 1024)         0           ['dense[0][0]',                  \n",
            "                                                                  'lstm[0][0]']                   \n",
            "                                                                                                  \n",
            " MLP_layer1 (Dense)             (None, 1024)         1049600     ['concatenate[0][0]']            \n",
            "                                                                                                  \n",
            " MLP_layer2 (Dense)             (None, 512)          524800      ['MLP_layer1[0][0]']             \n",
            "                                                                                                  \n",
            " decoder_output (Dense)         (None, 1)            513         ['MLP_layer2[0][0]']             \n",
            "                                                                                                  \n",
            "==================================================================================================\n",
            "Total params: 29,867,049\n",
            "Trainable params: 9,004,545\n",
            "Non-trainable params: 20,862,504\n",
            "__________________________________________________________________________________________________\n"
          ]
        }
      ]
    },
    {
      "cell_type": "code",
      "execution_count": 9,
      "metadata": {
        "colab": {
          "base_uri": "https://localhost:8080/"
        },
        "id": "HDfI0dk_6FSr",
        "outputId": "12e17bba-401a-4682-8f8c-7eaa0e2097d7"
      },
      "outputs": [
        {
          "output_type": "stream",
          "name": "stdout",
          "text": [
            "/content/image_captioning\n"
          ]
        }
      ],
      "source": [
        "cd /content/image_captioning"
      ]
    },
    {
      "cell_type": "code",
      "source": [
        "captions_path=r\"/content/image_captioning/Flickr8k.token.txt\""
      ],
      "metadata": {
        "id": "PsJ0kdIHY2Uk"
      },
      "execution_count": 10,
      "outputs": []
    },
    {
      "cell_type": "code",
      "execution_count": 11,
      "metadata": {
        "colab": {
          "base_uri": "https://localhost:8080/"
        },
        "id": "mhNC3QW_htVy",
        "outputId": "6585051a-ae86-433f-90cd-55114aa4b893"
      },
      "outputs": [
        {
          "output_type": "stream",
          "name": "stdout",
          "text": [
            "max_length of captions 33\n"
          ]
        }
      ],
      "source": [
        "text = open(captions_path, 'r', encoding='utf-8').read()\n",
        "description_map=dict()\n",
        "for lines in text.split('\\n'):\n",
        "  line_split = lines.split('\\t')\n",
        "  if line_split == ['']:\n",
        "      continue\n",
        "  image_id = line_split[0][:-2]\n",
        "  image_des = line_split[1]\n",
        "  #if image_id in img_dic:\n",
        "  if image_id not in description_map:\n",
        "    description_map[image_id] = list()\n",
        "  description_map[image_id].append(image_des)\n",
        "caption_list = []\n",
        "for img_id, des_list in description_map.items():\n",
        "    for i in range(len(des_list)):\n",
        "        caption = des_list[i]\n",
        "        caption = ''.join(caption)\n",
        "        caption = caption.split(' ')\n",
        "        caption = [word.lower() for word in caption if len(word) > 1 and word.isalpha()]\n",
        "        caption = ' '.join(caption)\n",
        "        des_list[i] = 'startseq ' + caption + ' endseq'\n",
        "        caption_list.append('startseq ' + caption + ' endseq')\n",
        "max_length = max(len(des.split()) for des in caption_list)\n",
        "print('max_length of captions', max_length)\n",
        "tokenizer = tf.keras.preprocessing.text.Tokenizer(num_words=8360,oov_token='<unknw>')\n",
        "tokenizer.fit_on_texts(caption_list)"
      ]
    },
    {
      "cell_type": "code",
      "execution_count": 12,
      "metadata": {
        "id": "IXSfrqyUhx6U"
      },
      "outputs": [],
      "source": [
        "import os\n",
        "files=os.listdir(path = '/content/image_captioning/Flicker8k_Dataset')"
      ]
    },
    {
      "cell_type": "code",
      "execution_count": 13,
      "metadata": {
        "id": "Xf1K1kHGh1QH"
      },
      "outputs": [],
      "source": [
        "description_map1=dict()\n",
        "for key,value in description_map.items():\n",
        "  if key in files:\n",
        "    description_map1[key]=value"
      ]
    },
    {
      "cell_type": "code",
      "execution_count": 14,
      "metadata": {
        "colab": {
          "base_uri": "https://localhost:8080/"
        },
        "id": "sl-C-Tjuh6GK",
        "outputId": "8c467882-ff81-4483-815d-ce8a74d7209b"
      },
      "outputs": [
        {
          "output_type": "stream",
          "name": "stdout",
          "text": [
            "Vocab size 8359\n"
          ]
        }
      ],
      "source": [
        "token_cap_dic = dict()\n",
        "print('Vocab size',len(tokenizer.word_counts))\n",
        "for img_id, des_list in description_map1.items():\n",
        "    for i in range(len(des_list)):\n",
        "        caption = des_list[i]\n",
        "        cap_token = tokenizer.texts_to_sequences([str(caption)])\n",
        "        if img_id not in token_cap_dic:\n",
        "            token_cap_dic[img_id] = list()\n",
        "        token_cap_dic[img_id].append(cap_token)"
      ]
    },
    {
      "cell_type": "code",
      "source": [
        "from model_losses import loss,Rewards,cos\n",
        "from data_processing import data_processing\n",
        "from data_generator import captions_generation_reward,load_preprocess_img"
      ],
      "metadata": {
        "id": "64TTVVH6ZDzF"
      },
      "execution_count": 28,
      "outputs": []
    },
    {
      "cell_type": "code",
      "execution_count": 17,
      "metadata": {
        "colab": {
          "base_uri": "https://localhost:8080/"
        },
        "id": "GCnr1RqfG--K",
        "outputId": "bc40764c-1fde-40b0-d91a-03e65bcd5392"
      },
      "outputs": [
        {
          "output_type": "stream",
          "name": "stdout",
          "text": [
            "TensorFlow Version 2.8.0\n",
            "max_length of captions 33\n",
            "max_length of captions 31\n",
            "max_length of captions 30\n",
            "No of captions: Training-6000.0 Validation-1000.0 test-1000.0\n",
            "Vocab size 8360\n",
            "Vocab size 8360\n",
            "Vocab size 8360\n",
            "(5, 256, 256, 3) (5, 25)\n"
          ]
        }
      ],
      "source": [
        "import pickle\n",
        "\n",
        "print('TensorFlow Version', tf.__version__)\n",
        "vocab_size = 8360\n",
        "max_length = 15\n",
        "\n",
        "captions_text_path = r'/content/image_captioning/Flickr8k.token.txt'\n",
        "captions_extraction = data_processing(captions_text_path)\n",
        "trn_images_id_text = r'/content/image_captioning/Flickr_8k.trainImages.txt'\n",
        "train_cleaned_seq, train_cleaned_dic = captions_extraction.cleaning_sequencing_captions(trn_images_id_text)\n",
        "val_images_id_text = r'/content/image_captioning/Flickr_8k.devImages.txt'\n",
        "val_cleaned_seq, val_cleaned_dic = captions_extraction.cleaning_sequencing_captions(val_images_id_text)\n",
        "test_images_id_text = r'/content/image_captioning/Flickr_8k.testImages.txt'\n",
        "test_cleaned_seq, test_cleaned_dic = captions_extraction.cleaning_sequencing_captions(test_images_id_text)\n",
        "captions_extraction.tokenization(train_cleaned_seq, vocab_size)\n",
        "print(\"No of captions: Training-\" + str(len(train_cleaned_seq) / 5) + \" Validation-\" + str(\n",
        "    len(val_cleaned_seq) / 5) + \" test-\" + str(len(test_cleaned_seq) / 5))\n",
        "\n",
        "train_cap_tok = captions_extraction.sentence_tokenizing(train_cleaned_dic)\n",
        "val_cap_tok = captions_extraction.sentence_tokenizing(val_cleaned_dic)\n",
        "test_cap_tok = captions_extraction.sentence_tokenizing(test_cleaned_dic)\n",
        "\n",
        "image_pth_rt = r\"/content/image_captioning/Flicker8k_Dataset/\" #+ r\"\\\\\"\n",
        "trn_dataset = captions_generation_reward(train_cap_tok, vocab_size, image_pth_rt, 25,5,1)\n",
        "val_dataset = captions_generation_reward(val_cap_tok, vocab_size, image_pth_rt, 25,32,1)\n",
        "\n",
        "inputs = next(iter(trn_dataset))\n",
        "print(inputs[0].shape, inputs[1].shape)"
      ]
    },
    {
      "cell_type": "code",
      "source": [
        "import numpy as np"
      ],
      "metadata": {
        "id": "daUAJD2qZwCN"
      },
      "execution_count": 30,
      "outputs": []
    },
    {
      "cell_type": "code",
      "execution_count": 32,
      "metadata": {
        "id": "tUPAMQCpfFn2"
      },
      "outputs": [],
      "source": [
        "def caption_greedy(policy_net,image,tokenizer,word_index,max_length=25):\n",
        "  caption='startseq'\n",
        "  for i in range(max_length):\n",
        "    input_seq=caption.split(' ')\n",
        "    tokenization=tokenizer.texts_to_sequences(input_seq)\n",
        "    padding=tf.keras.preprocessing.sequence.pad_sequences([tokenization],maxlen=max_length) \n",
        "    predicted_word_index=np.argmax(policy_net.predict([tf.expand_dims(image,axis=0),padding]))\n",
        "    predicted_word=word_index[predicted_word_index]\n",
        "    caption+=' '+predicted_word\n",
        "    if predicted_word =='endseq':\n",
        "      break\n",
        "  return caption"
      ]
    },
    {
      "cell_type": "code",
      "execution_count": 18,
      "metadata": {
        "colab": {
          "base_uri": "https://localhost:8080/"
        },
        "id": "MeEhlqISf7AA",
        "outputId": "59a0a0e2-c93d-450d-e0e5-18df993b0ca8"
      },
      "outputs": [
        {
          "output_type": "stream",
          "name": "stdout",
          "text": [
            "Building CNN model\n",
            "CNN model {output shape}: (None, 2048)\n",
            "Building RNN model\n",
            "final_carry_state {rnn output shape}: (None, 512)\n",
            "Image and text {add shape}: (None, 512)\n",
            "output {shape} (None, 8360)\n",
            "Policy Net built successfully \n",
            "\n"
          ]
        }
      ],
      "source": [
        "actor_model = Caption_model_gen(NET='policy', vocab_size=8360, Embed_Size=512, max_length=25,display=True)\n",
        "#actor_model.summary()\n",
        "#reward_model.compile(loss=reward_net_loss,                   optimizer=tf.keras.optimizers.Adam(learning_rate=0.001),                    metrics=['accuracy'])"
      ]
    },
    {
      "cell_type": "code",
      "execution_count": null,
      "metadata": {
        "id": "F28GanWofn4h"
      },
      "outputs": [],
      "source": [
        "actor_model.load_weights('/content/drive/MyDrive/Kaggle/policy_net_weights_resnet_lstm.h5')"
      ]
    },
    {
      "cell_type": "code",
      "execution_count": 19,
      "metadata": {
        "id": "9_t0tZ2SJdfn"
      },
      "outputs": [],
      "source": [
        "tokenizer = tf.keras.preprocessing.text.Tokenizer(num_words=8360,oov_token='<unknw>')\n",
        "tokenizer.fit_on_texts(caption_list)"
      ]
    },
    {
      "cell_type": "code",
      "execution_count": 20,
      "metadata": {
        "id": "_EcYDdTyKRB8"
      },
      "outputs": [],
      "source": [
        "word_index=tokenizer.word_index\n",
        "word_index={value:key for key, value in word_index.items()}"
      ]
    },
    {
      "cell_type": "code",
      "execution_count": 21,
      "metadata": {
        "id": "KhfRTBqTOPMW"
      },
      "outputs": [],
      "source": [
        "import matplotlib.pyplot as plt"
      ]
    },
    {
      "cell_type": "code",
      "execution_count": 22,
      "metadata": {
        "id": "iALq9fFMf8QT"
      },
      "outputs": [],
      "source": [
        "trn_dataset_whole = captions_generation_reward(token_cap_dic, vocab_size, image_pth_rt, max_length=25,num_photos_per_batch=32,num_captions=5)"
      ]
    },
    {
      "cell_type": "code",
      "execution_count": 23,
      "metadata": {
        "colab": {
          "base_uri": "https://localhost:8080/"
        },
        "id": "uy02zZn-fdMR",
        "outputId": "a6462258-d918-4be3-b8f5-3cb91f62ca2e"
      },
      "outputs": [
        {
          "output_type": "stream",
          "name": "stdout",
          "text": [
            "Building CNN model\n",
            "CNN model {output shape}: (None, 2048)\n",
            "Building RNN model\n",
            "final_carry_state {rnn output shape}: (None, 512)\n",
            "Image feature vector shape: (None, 512)\n",
            "Text sequence vector shape: (None, 512)\n",
            "Reward Net built successfully \n",
            "\n"
          ]
        }
      ],
      "source": [
        "reward_model = Caption_model_gen(NET='reward', vocab_size=8360, Embed_Size=512, max_length=25,display=True)\n",
        "#actor_model.summary()\n",
        "#reward_model.compile(loss=reward_net_loss,                   optimizer=tf.keras.optimizers.Adam(learning_rate=0.001),                    metrics=['accuracy'])"
      ]
    },
    {
      "cell_type": "code",
      "execution_count": null,
      "metadata": {
        "id": "qnR_hOQC4Do4",
        "colab": {
          "base_uri": "https://localhost:8080/",
          "height": 449
        },
        "outputId": "3fe256bf-af5c-4d07-cd20-c4e8fdb88f2e"
      },
      "outputs": [
        {
          "output_type": "error",
          "ename": "OSError",
          "evalue": "ignored",
          "traceback": [
            "\u001b[0;31m---------------------------------------------------------------------------\u001b[0m",
            "\u001b[0;31mOSError\u001b[0m                                   Traceback (most recent call last)",
            "\u001b[0;32m<ipython-input-81-8b3752c5bc89>\u001b[0m in \u001b[0;36m<module>\u001b[0;34m()\u001b[0m\n\u001b[0;32m----> 1\u001b[0;31m \u001b[0mreward_model\u001b[0m\u001b[0;34m.\u001b[0m\u001b[0mload_weights\u001b[0m\u001b[0;34m(\u001b[0m\u001b[0;34m'/content/drive/MyDrive/Kaggle/policy_net_weights_xception_lstm.h5'\u001b[0m\u001b[0;34m)\u001b[0m\u001b[0;34m\u001b[0m\u001b[0;34m\u001b[0m\u001b[0m\n\u001b[0m",
            "\u001b[0;32m/usr/local/lib/python3.7/dist-packages/keras/utils/traceback_utils.py\u001b[0m in \u001b[0;36merror_handler\u001b[0;34m(*args, **kwargs)\u001b[0m\n\u001b[1;32m     65\u001b[0m     \u001b[0;32mexcept\u001b[0m \u001b[0mException\u001b[0m \u001b[0;32mas\u001b[0m \u001b[0me\u001b[0m\u001b[0;34m:\u001b[0m  \u001b[0;31m# pylint: disable=broad-except\u001b[0m\u001b[0;34m\u001b[0m\u001b[0;34m\u001b[0m\u001b[0m\n\u001b[1;32m     66\u001b[0m       \u001b[0mfiltered_tb\u001b[0m \u001b[0;34m=\u001b[0m \u001b[0m_process_traceback_frames\u001b[0m\u001b[0;34m(\u001b[0m\u001b[0me\u001b[0m\u001b[0;34m.\u001b[0m\u001b[0m__traceback__\u001b[0m\u001b[0;34m)\u001b[0m\u001b[0;34m\u001b[0m\u001b[0;34m\u001b[0m\u001b[0m\n\u001b[0;32m---> 67\u001b[0;31m       \u001b[0;32mraise\u001b[0m \u001b[0me\u001b[0m\u001b[0;34m.\u001b[0m\u001b[0mwith_traceback\u001b[0m\u001b[0;34m(\u001b[0m\u001b[0mfiltered_tb\u001b[0m\u001b[0;34m)\u001b[0m \u001b[0;32mfrom\u001b[0m \u001b[0;32mNone\u001b[0m\u001b[0;34m\u001b[0m\u001b[0;34m\u001b[0m\u001b[0m\n\u001b[0m\u001b[1;32m     68\u001b[0m     \u001b[0;32mfinally\u001b[0m\u001b[0;34m:\u001b[0m\u001b[0;34m\u001b[0m\u001b[0;34m\u001b[0m\u001b[0m\n\u001b[1;32m     69\u001b[0m       \u001b[0;32mdel\u001b[0m \u001b[0mfiltered_tb\u001b[0m\u001b[0;34m\u001b[0m\u001b[0;34m\u001b[0m\u001b[0m\n",
            "\u001b[0;32m/usr/local/lib/python3.7/dist-packages/h5py/_hl/files.py\u001b[0m in \u001b[0;36m__init__\u001b[0;34m(self, name, mode, driver, libver, userblock_size, swmr, rdcc_nslots, rdcc_nbytes, rdcc_w0, track_order, fs_strategy, fs_persist, fs_threshold, **kwds)\u001b[0m\n\u001b[1;32m    425\u001b[0m                                fapl, fcpl=make_fcpl(track_order=track_order, fs_strategy=fs_strategy,\n\u001b[1;32m    426\u001b[0m                                fs_persist=fs_persist, fs_threshold=fs_threshold),\n\u001b[0;32m--> 427\u001b[0;31m                                swmr=swmr)\n\u001b[0m\u001b[1;32m    428\u001b[0m \u001b[0;34m\u001b[0m\u001b[0m\n\u001b[1;32m    429\u001b[0m             \u001b[0;32mif\u001b[0m \u001b[0misinstance\u001b[0m\u001b[0;34m(\u001b[0m\u001b[0mlibver\u001b[0m\u001b[0;34m,\u001b[0m \u001b[0mtuple\u001b[0m\u001b[0;34m)\u001b[0m\u001b[0;34m:\u001b[0m\u001b[0;34m\u001b[0m\u001b[0;34m\u001b[0m\u001b[0m\n",
            "\u001b[0;32m/usr/local/lib/python3.7/dist-packages/h5py/_hl/files.py\u001b[0m in \u001b[0;36mmake_fid\u001b[0;34m(name, mode, userblock_size, fapl, fcpl, swmr)\u001b[0m\n\u001b[1;32m    188\u001b[0m         \u001b[0;32mif\u001b[0m \u001b[0mswmr\u001b[0m \u001b[0;32mand\u001b[0m \u001b[0mswmr_support\u001b[0m\u001b[0;34m:\u001b[0m\u001b[0;34m\u001b[0m\u001b[0;34m\u001b[0m\u001b[0m\n\u001b[1;32m    189\u001b[0m             \u001b[0mflags\u001b[0m \u001b[0;34m|=\u001b[0m \u001b[0mh5f\u001b[0m\u001b[0;34m.\u001b[0m\u001b[0mACC_SWMR_READ\u001b[0m\u001b[0;34m\u001b[0m\u001b[0;34m\u001b[0m\u001b[0m\n\u001b[0;32m--> 190\u001b[0;31m         \u001b[0mfid\u001b[0m \u001b[0;34m=\u001b[0m \u001b[0mh5f\u001b[0m\u001b[0;34m.\u001b[0m\u001b[0mopen\u001b[0m\u001b[0;34m(\u001b[0m\u001b[0mname\u001b[0m\u001b[0;34m,\u001b[0m \u001b[0mflags\u001b[0m\u001b[0;34m,\u001b[0m \u001b[0mfapl\u001b[0m\u001b[0;34m=\u001b[0m\u001b[0mfapl\u001b[0m\u001b[0;34m)\u001b[0m\u001b[0;34m\u001b[0m\u001b[0;34m\u001b[0m\u001b[0m\n\u001b[0m\u001b[1;32m    191\u001b[0m     \u001b[0;32melif\u001b[0m \u001b[0mmode\u001b[0m \u001b[0;34m==\u001b[0m \u001b[0;34m'r+'\u001b[0m\u001b[0;34m:\u001b[0m\u001b[0;34m\u001b[0m\u001b[0;34m\u001b[0m\u001b[0m\n\u001b[1;32m    192\u001b[0m         \u001b[0mfid\u001b[0m \u001b[0;34m=\u001b[0m \u001b[0mh5f\u001b[0m\u001b[0;34m.\u001b[0m\u001b[0mopen\u001b[0m\u001b[0;34m(\u001b[0m\u001b[0mname\u001b[0m\u001b[0;34m,\u001b[0m \u001b[0mh5f\u001b[0m\u001b[0;34m.\u001b[0m\u001b[0mACC_RDWR\u001b[0m\u001b[0;34m,\u001b[0m \u001b[0mfapl\u001b[0m\u001b[0;34m=\u001b[0m\u001b[0mfapl\u001b[0m\u001b[0;34m)\u001b[0m\u001b[0;34m\u001b[0m\u001b[0;34m\u001b[0m\u001b[0m\n",
            "\u001b[0;32mh5py/_objects.pyx\u001b[0m in \u001b[0;36mh5py._objects.with_phil.wrapper\u001b[0;34m()\u001b[0m\n",
            "\u001b[0;32mh5py/_objects.pyx\u001b[0m in \u001b[0;36mh5py._objects.with_phil.wrapper\u001b[0;34m()\u001b[0m\n",
            "\u001b[0;32mh5py/h5f.pyx\u001b[0m in \u001b[0;36mh5py.h5f.open\u001b[0;34m()\u001b[0m\n",
            "\u001b[0;31mOSError\u001b[0m: Unable to open file (truncated file: eof = 48234496, sblock->base_addr = 0, stored_eof = 130672400)"
          ]
        }
      ],
      "source": [
        "reward_model.load_weights('/content/drive/MyDrive/Kaggle/policy_net_weights_xception_lstm.h5')"
      ]
    },
    {
      "cell_type": "code",
      "execution_count": 24,
      "metadata": {
        "colab": {
          "base_uri": "https://localhost:8080/"
        },
        "id": "EDT-kgAIG1nA",
        "outputId": "8a853be6-accd-45b6-a586-e70b7b1b939b"
      },
      "outputs": [
        {
          "output_type": "stream",
          "name": "stdout",
          "text": [
            "Building CNN model\n",
            "CNN model {output shape}: (None, 2048)\n",
            "Building RNN model\n",
            "final_carry_state {rnn output shape}: (None, 512)\n",
            "Image and text {concat shape}: (None, 1024)\n",
            "output {shape} (None, 1)\n",
            "Value Net built successfully \n",
            "\n"
          ]
        }
      ],
      "source": [
        "value_model = Caption_model_gen(NET='value', vocab_size=8360, Embed_Size=512, max_length=25,display=True)\n",
        "#actor_model.summary()\n",
        "#reward_model.compile(loss=reward_net_loss,                   optimizer=tf.keras.optimizers.Adam(learning_rate=0.001),                    metrics=['accuracy'])"
      ]
    },
    {
      "cell_type": "code",
      "execution_count": 25,
      "metadata": {
        "id": "c3b92vJqSbj8"
      },
      "outputs": [],
      "source": [
        "inputs = next(iter(trn_dataset))"
      ]
    },
    {
      "cell_type": "code",
      "execution_count": 26,
      "metadata": {
        "colab": {
          "base_uri": "https://localhost:8080/"
        },
        "id": "09YjT6ZWSfuI",
        "outputId": "2a13f734-9e8a-40a3-a6b0-245d3d82122b"
      },
      "outputs": [
        {
          "output_type": "stream",
          "name": "stdout",
          "text": [
            "tf.Tensor([-0.01990153  0.0207907   0.02579585  0.0624245  -0.02776499], shape=(5,), dtype=float32)\n"
          ]
        }
      ],
      "source": [
        "r=Rewards(reward_model,inputs)\n",
        "print(r)"
      ]
    },
    {
      "cell_type": "code",
      "execution_count": 33,
      "metadata": {
        "colab": {
          "base_uri": "https://localhost:8080/",
          "height": 299
        },
        "id": "Z1ouiLT5cuuG",
        "outputId": "635b5f5a-de44-477f-ba7a-a2ce6091e6f2"
      },
      "outputs": [
        {
          "output_type": "stream",
          "name": "stdout",
          "text": [
            "tf.Tensor([0.00576186], shape=(1,), dtype=float32)\n"
          ]
        },
        {
          "output_type": "display_data",
          "data": {
            "text/plain": [
              "<Figure size 432x288 with 1 Axes>"
            ],
            "image/png": "[encoded data removed]"
          },
          "metadata": {
            "needs_background": "light"
          }
        }
      ],
      "source": [
        "test_img=list(test_cap_tok.keys())[50]\n",
        "test_photo = load_preprocess_img(image_pth_rt + test_img)\n",
        "cap=caption_greedy(actor_model,test_photo,tokenizer,word_index)\n",
        "plt.imshow(test_photo)\n",
        "plt.title(cap)\n",
        "tokenization=tokenizer.texts_to_sequences([cap])\n",
        "seq_cap=tf.keras.preprocessing.sequence.pad_sequences(tokenization, maxlen=25,\n",
        "                                                                            padding='post')\n",
        "input_ds=[tf.expand_dims(test_photo,axis=0),seq_cap]\n",
        "reward=Rewards(reward_model,input_ds)\n",
        "print(reward)"
      ]
    },
    {
      "cell_type": "code",
      "execution_count": null,
      "metadata": {
        "colab": {
          "base_uri": "https://localhost:8080/"
        },
        "id": "IZuh0RCKlqYh",
        "outputId": "f4e47512-66b0-4681-df3f-7d2fe98bba3a"
      },
      "outputs": [
        {
          "output_type": "stream",
          "name": "stdout",
          "text": [
            " 1/10 [==>...........................] - ETA: 8s - loss: 0.3650 - val_loss: 0.3955[-0.52751297] -0.013290568\n",
            "\n",
            "epoch 1\n",
            "10/10 [==============================] - 1s 86ms/step - loss: 0.0988 - val_loss: 0.0797\n",
            "[-0.27494407] 0.06548306\n",
            "\n",
            "epoch 2\n",
            "10/10 [==============================] - 1s 86ms/step - loss: 0.2247 - val_loss: 0.1560\n",
            "[-0.39741147] 0.03835158\n",
            "\n",
            "epoch 3\n",
            "10/10 [==============================] - 1s 83ms/step - loss: 0.0174 - val_loss: 0.0837\n",
            "[0.03669123] 0.0056708613\n",
            "\n",
            "epoch 4\n",
            "10/10 [==============================] - 1s 84ms/step - loss: 0.0514 - val_loss: 0.0554\n",
            "[-0.00439673] -0.00087823195\n",
            "\n",
            "epoch 5\n",
            "10/10 [==============================] - 1s 82ms/step - loss: 0.0201 - val_loss: 0.0445\n",
            "[0.07702664] 0.021296864\n",
            "\n",
            "epoch 6\n",
            "10/10 [==============================] - 1s 85ms/step - loss: 0.0409 - val_loss: 0.0782\n",
            "[0.4489065] -0.025615947\n",
            "\n",
            "epoch 7\n",
            "10/10 [==============================] - 1s 85ms/step - loss: 0.0276 - val_loss: 0.0469\n",
            "[-0.24169679] 0.05456323\n",
            "\n",
            "epoch 8\n",
            "10/10 [==============================] - 1s 84ms/step - loss: 0.0245 - val_loss: 0.0478\n",
            "[0.2474956] 0.08402746\n",
            "\n",
            "epoch 9\n",
            "10/10 [==============================] - 1s 84ms/step - loss: 0.0797 - val_loss: 0.0363\n",
            "[0.32610375] 0.07857482\n",
            "\n",
            "epoch 10\n",
            "10/10 [==============================] - 1s 83ms/step - loss: 0.0306 - val_loss: 0.0585\n",
            "[-0.25305918] 0.03181891\n",
            "\n",
            "epoch 11\n",
            "10/10 [==============================] - 1s 83ms/step - loss: 0.0306 - val_loss: 0.0366\n",
            "[-0.3229415] 0.01240038\n",
            "\n",
            "epoch 12\n",
            "10/10 [==============================] - 1s 83ms/step - loss: 0.0252 - val_loss: 0.0195\n",
            "[-0.06344777] 0.00938959\n",
            "\n",
            "epoch 13\n",
            "10/10 [==============================] - 1s 85ms/step - loss: 0.0252 - val_loss: 0.0201\n",
            "[-0.00921017] 0.04730492\n",
            "\n",
            "epoch 14\n",
            "10/10 [==============================] - 1s 84ms/step - loss: 0.0350 - val_loss: 0.0575\n",
            "[0.04444254] -0.032494023\n",
            "\n",
            "epoch 15\n",
            "10/10 [==============================] - 1s 84ms/step - loss: 0.0593 - val_loss: 0.0182\n",
            "[0.10850523] 0.057402033\n",
            "\n",
            "epoch 16\n",
            "10/10 [==============================] - 1s 84ms/step - loss: 0.0544 - val_loss: 0.0255\n",
            "[-0.05335799] 0.03252217\n",
            "\n",
            "epoch 17\n",
            "10/10 [==============================] - 1s 83ms/step - loss: 0.0201 - val_loss: 0.0260\n",
            "[-0.24316871] 0.043359734\n",
            "\n",
            "epoch 18\n",
            "10/10 [==============================] - 1s 82ms/step - loss: 0.0306 - val_loss: 0.0180\n",
            "[-0.22873102] -0.009401288\n",
            "\n",
            "epoch 19\n",
            "10/10 [==============================] - 1s 84ms/step - loss: 0.0188 - val_loss: 0.0145\n",
            "[-0.1678345] 0.064827524\n",
            "\n",
            "epoch 20\n",
            "10/10 [==============================] - 1s 85ms/step - loss: 0.0144 - val_loss: 0.0107\n",
            "[-0.15680023] -0.039407946\n",
            "\n",
            "epoch 21\n",
            "10/10 [==============================] - 1s 84ms/step - loss: 0.0080 - val_loss: 0.0226\n",
            "[-0.00184438] 0.01989579\n",
            "\n",
            "epoch 22\n",
            "10/10 [==============================] - 1s 83ms/step - loss: 0.0159 - val_loss: 0.0153\n",
            "[0.20193966] 0.024151985\n",
            "\n",
            "epoch 23\n",
            "10/10 [==============================] - 1s 83ms/step - loss: 0.0078 - val_loss: 0.0097\n",
            "[-0.03458671] -0.025729975\n",
            "\n",
            "epoch 24\n",
            "10/10 [==============================] - 1s 83ms/step - loss: 0.0073 - val_loss: 0.0107\n",
            "[-0.00707874] -0.037435926\n",
            "\n",
            "epoch 25\n",
            "10/10 [==============================] - 1s 87ms/step - loss: 0.0031 - val_loss: 0.0107\n",
            "[-0.0360219] -0.010198681\n",
            "\n",
            "epoch 26\n",
            "10/10 [==============================] - 1s 84ms/step - loss: 0.0085 - val_loss: 0.0131\n",
            "[0.0646595] 0.05347651\n",
            "\n",
            "epoch 27\n",
            "10/10 [==============================] - 1s 83ms/step - loss: 0.0092 - val_loss: 0.0060\n",
            "[0.10866898] -0.052580323\n",
            "\n",
            "epoch 28\n",
            "10/10 [==============================] - 1s 83ms/step - loss: 0.0236 - val_loss: 0.0060\n",
            "[-0.07033401] 0.06435627\n",
            "\n",
            "epoch 29\n",
            "10/10 [==============================] - 1s 85ms/step - loss: 0.0092 - val_loss: 0.0081\n",
            "[-0.00770122] 0.017208852\n",
            "\n",
            "epoch 30\n",
            "10/10 [==============================] - 1s 83ms/step - loss: 0.0118 - val_loss: 0.0084\n",
            "[-0.05007582] 0.049090635\n",
            "\n",
            "epoch 31\n",
            "10/10 [==============================] - 1s 84ms/step - loss: 0.0021 - val_loss: 0.0121\n",
            "[-0.08948543] -0.06829537\n",
            "\n",
            "epoch 32\n",
            "10/10 [==============================] - 1s 84ms/step - loss: 0.0076 - val_loss: 0.0093\n",
            "[0.13066146] 0.04547677\n",
            "\n",
            "epoch 33\n",
            "10/10 [==============================] - 1s 85ms/step - loss: 0.0255 - val_loss: 0.0134\n",
            "[0.11395925] 0.03716536\n",
            "\n",
            "epoch 34\n",
            "10/10 [==============================] - 1s 82ms/step - loss: 0.0074 - val_loss: 0.0088\n",
            "[0.18964483] -0.044812407\n",
            "\n",
            "epoch 35\n",
            "10/10 [==============================] - 1s 83ms/step - loss: 0.0070 - val_loss: 0.0077\n",
            "[-0.04302531] -0.07122638\n",
            "\n",
            "epoch 36\n",
            "10/10 [==============================] - 1s 83ms/step - loss: 0.0093 - val_loss: 0.0085\n",
            "[0.12353314] -0.003976379\n",
            "\n",
            "epoch 37\n",
            "10/10 [==============================] - 1s 83ms/step - loss: 0.0052 - val_loss: 0.0209\n",
            "[0.10269956] -0.0420318\n",
            "\n",
            "epoch 38\n",
            "10/10 [==============================] - 1s 83ms/step - loss: 0.0217 - val_loss: 0.0287\n",
            "[0.36323866] -0.04177788\n",
            "\n",
            "epoch 39\n",
            "10/10 [==============================] - 1s 85ms/step - loss: 0.0026 - val_loss: 0.0086\n",
            "[0.16739944] -0.0035305575\n",
            "\n",
            "epoch 40\n",
            "10/10 [==============================] - 1s 84ms/step - loss: 0.0091 - val_loss: 0.0083\n",
            "[0.15250957] 0.035175458\n",
            "\n",
            "epoch 41\n",
            "10/10 [==============================] - 1s 82ms/step - loss: 0.0312 - val_loss: 0.0117\n",
            "[0.0406265] -0.014521035\n",
            "\n",
            "epoch 42\n",
            "10/10 [==============================] - 1s 83ms/step - loss: 0.0614 - val_loss: 0.0153\n",
            "[0.03718318] -0.009800186\n",
            "\n",
            "epoch 43\n",
            "10/10 [==============================] - 1s 82ms/step - loss: 0.0535 - val_loss: 0.0166\n",
            "[-0.13623706] 0.033346407\n",
            "\n",
            "epoch 44\n",
            "10/10 [==============================] - 1s 82ms/step - loss: 0.0218 - val_loss: 0.0119\n",
            "[-0.00474859] -0.0120865\n",
            "\n",
            "epoch 45\n",
            "10/10 [==============================] - 1s 82ms/step - loss: 0.0320 - val_loss: 0.0179\n",
            "[-0.04782561] 0.019397318\n",
            "\n",
            "epoch 46\n",
            "10/10 [==============================] - 1s 83ms/step - loss: 0.0200 - val_loss: 0.0182\n",
            "[0.12401206] -0.044252187\n",
            "\n",
            "epoch 47\n",
            "10/10 [==============================] - 1s 82ms/step - loss: 0.0069 - val_loss: 0.0145\n",
            "[-0.00765849] -0.019545443\n",
            "\n",
            "epoch 48\n",
            "10/10 [==============================] - 1s 83ms/step - loss: 0.0543 - val_loss: 0.0159\n",
            "[-0.02113607] -0.0683681\n",
            "\n",
            "epoch 49\n",
            "10/10 [==============================] - 1s 103ms/step - loss: 0.0288 - val_loss: 0.0276\n",
            "[-0.01288439] 0.096953824\n",
            "\n",
            "epoch 50\n",
            "10/10 [==============================] - 1s 84ms/step - loss: 0.0135 - val_loss: 0.0149\n",
            "[0.04495146] 0.084462695\n",
            "\n",
            "epoch 51\n",
            "10/10 [==============================] - 1s 83ms/step - loss: 0.0265 - val_loss: 0.0165\n",
            "[-0.03709337] 0.02037983\n",
            "\n",
            "epoch 52\n",
            "10/10 [==============================] - 1s 83ms/step - loss: 0.0113 - val_loss: 0.0166\n",
            "[-0.16835904] 0.010151051\n",
            "\n",
            "epoch 53\n",
            "10/10 [==============================] - 1s 83ms/step - loss: 0.0297 - val_loss: 0.0113\n",
            "[-0.04439631] -0.00235074\n",
            "\n",
            "epoch 54\n",
            "10/10 [==============================] - 1s 83ms/step - loss: 0.0133 - val_loss: 0.0209\n",
            "[0.43149218] -0.017881002\n",
            "\n",
            "epoch 55\n",
            "10/10 [==============================] - 1s 86ms/step - loss: 0.0295 - val_loss: 0.0148\n",
            "[0.12586509] -0.0054747597\n",
            "\n",
            "epoch 56\n",
            "10/10 [==============================] - 1s 84ms/step - loss: 0.0069 - val_loss: 0.0086\n",
            "[0.08236363] -0.00093403814\n",
            "\n",
            "epoch 57\n",
            "10/10 [==============================] - 1s 83ms/step - loss: 0.0155 - val_loss: 0.0110\n",
            "[-0.04802079] 0.14009362\n",
            "\n",
            "epoch 58\n",
            "10/10 [==============================] - 1s 83ms/step - loss: 0.0127 - val_loss: 0.0127\n",
            "[0.23222513] -0.04069199\n",
            "\n",
            "epoch 59\n",
            "10/10 [==============================] - 1s 84ms/step - loss: 0.0452 - val_loss: 0.0193\n",
            "[0.05432038] 0.031621084\n",
            "\n",
            "epoch 60\n",
            "10/10 [==============================] - 1s 84ms/step - loss: 0.0374 - val_loss: 0.0173\n",
            "[0.02370514] 0.078236885\n",
            "\n",
            "epoch 61\n",
            "10/10 [==============================] - 1s 84ms/step - loss: 0.0190 - val_loss: 0.0214\n",
            "[0.1369591] 0.12458145\n",
            "\n",
            "epoch 62\n",
            "10/10 [==============================] - 1s 84ms/step - loss: 0.0147 - val_loss: 0.0096\n",
            "[0.1550498] 0.08581526\n",
            "\n",
            "epoch 63\n",
            "10/10 [==============================] - 1s 83ms/step - loss: 0.0064 - val_loss: 0.0129\n",
            "[-0.18424474] 0.027110241\n",
            "\n",
            "epoch 64\n",
            "10/10 [==============================] - 1s 85ms/step - loss: 0.0233 - val_loss: 0.0152\n",
            "[-0.07995701] -0.002607205\n",
            "\n",
            "epoch 65\n",
            "10/10 [==============================] - 1s 84ms/step - loss: 0.0125 - val_loss: 0.0132\n",
            "[-0.07456251] 0.03870071\n",
            "\n",
            "epoch 66\n",
            "10/10 [==============================] - 1s 83ms/step - loss: 0.0112 - val_loss: 0.0105\n",
            "[-0.24791248] -0.063583404\n",
            "\n",
            "epoch 67\n",
            "10/10 [==============================] - 1s 84ms/step - loss: 0.0178 - val_loss: 0.0175\n",
            "[-0.22734626] -0.0112249\n",
            "\n",
            "epoch 68\n",
            "10/10 [==============================] - 1s 102ms/step - loss: 0.0063 - val_loss: 0.0136\n",
            "[0.07421039] -0.013910106\n",
            "\n",
            "epoch 69\n",
            "10/10 [==============================] - 1s 85ms/step - loss: 0.0050 - val_loss: 0.0087\n",
            "[0.04410228] 0.027816715\n",
            "\n",
            "epoch 70\n",
            "10/10 [==============================] - 1s 83ms/step - loss: 0.0202 - val_loss: 0.0092\n",
            "[-0.14440025] 0.0008306174\n",
            "\n",
            "epoch 71\n",
            "10/10 [==============================] - 1s 84ms/step - loss: 0.0070 - val_loss: 0.0116\n",
            "[0.1892633] 0.049505603\n",
            "\n",
            "epoch 72\n",
            "10/10 [==============================] - 1s 83ms/step - loss: 0.0064 - val_loss: 0.0203\n",
            "[-0.1426208] 0.039295584\n",
            "\n",
            "epoch 73\n",
            "10/10 [==============================] - 1s 84ms/step - loss: 0.0160 - val_loss: 0.0294\n",
            "[-0.18781798] 0.03032018\n",
            "\n",
            "epoch 74\n",
            "10/10 [==============================] - 1s 84ms/step - loss: 0.0037 - val_loss: 0.0082\n",
            "[0.07829777] 0.070792094\n",
            "\n",
            "epoch 75\n",
            "10/10 [==============================] - 1s 83ms/step - loss: 0.0129 - val_loss: 0.0116\n",
            "[0.17567953] 0.017878499\n",
            "\n",
            "epoch 76\n",
            "10/10 [==============================] - 1s 84ms/step - loss: 0.0123 - val_loss: 0.0108\n",
            "[-0.02269502] -0.015175407\n",
            "\n",
            "epoch 77\n",
            "10/10 [==============================] - 1s 84ms/step - loss: 0.0034 - val_loss: 0.0095\n",
            "[-0.01111817] 0.023175372\n",
            "\n",
            "epoch 78\n",
            "10/10 [==============================] - 1s 102ms/step - loss: 0.0046 - val_loss: 0.0102\n",
            "[0.04053499] 0.032736648\n",
            "\n",
            "epoch 79\n",
            "10/10 [==============================] - 1s 84ms/step - loss: 0.0055 - val_loss: 0.0081\n",
            "[0.00221665] 0.020051807\n",
            "\n",
            "epoch 80\n",
            "10/10 [==============================] - 1s 82ms/step - loss: 0.0032 - val_loss: 0.0063\n",
            "[0.03208215] 0.027593644\n",
            "\n",
            "epoch 81\n",
            "10/10 [==============================] - 1s 84ms/step - loss: 0.0118 - val_loss: 0.0080\n",
            "[0.043664] 0.005545696\n",
            "\n",
            "epoch 82\n",
            "10/10 [==============================] - 1s 85ms/step - loss: 0.0037 - val_loss: 0.0121\n",
            "[0.12010472] 0.02474831\n",
            "\n",
            "epoch 83\n",
            "10/10 [==============================] - 1s 102ms/step - loss: 0.0069 - val_loss: 0.0105\n",
            "[0.2019902] 0.03375844\n",
            "\n",
            "epoch 84\n",
            "10/10 [==============================] - 1s 83ms/step - loss: 0.0184 - val_loss: 0.0118\n",
            "[0.04950614] 0.030983364\n",
            "\n",
            "epoch 85\n",
            "10/10 [==============================] - 1s 84ms/step - loss: 0.0026 - val_loss: 0.0047\n",
            "[-0.12339764] 0.017283354\n",
            "\n",
            "epoch 86\n",
            "10/10 [==============================] - 1s 83ms/step - loss: 0.0023 - val_loss: 0.0113\n",
            "[-0.05115304] 0.050980903\n",
            "\n",
            "epoch 87\n",
            "10/10 [==============================] - 1s 85ms/step - loss: 0.0033 - val_loss: 0.0142\n",
            "[-0.06100686] -0.03593901\n",
            "\n",
            "epoch 88\n",
            "10/10 [==============================] - 1s 84ms/step - loss: 0.0099 - val_loss: 0.0120\n",
            "[-0.00138564] -0.004935991\n",
            "\n",
            "epoch 89\n",
            "10/10 [==============================] - 1s 83ms/step - loss: 0.0186 - val_loss: 0.0132\n",
            "[-0.17138149] 0.02630926\n",
            "\n",
            "epoch 90\n",
            "10/10 [==============================] - 1s 87ms/step - loss: 0.0143 - val_loss: 0.0068\n",
            "[0.04801753] 0.06350036\n",
            "\n",
            "epoch 91\n",
            "10/10 [==============================] - 1s 83ms/step - loss: 0.0059 - val_loss: 0.0077\n",
            "[0.00742572] 0.03642586\n",
            "\n",
            "epoch 92\n",
            "10/10 [==============================] - 1s 83ms/step - loss: 0.0127 - val_loss: 0.0070\n",
            "[0.09054618] -0.016375415\n",
            "\n",
            "epoch 93\n",
            "10/10 [==============================] - 1s 83ms/step - loss: 0.0059 - val_loss: 0.0088\n",
            "[-0.00987524] 0.022933433\n",
            "\n",
            "epoch 94\n",
            "10/10 [==============================] - 1s 84ms/step - loss: 0.0054 - val_loss: 0.0081\n",
            "[-0.00569322] 0.020597218\n",
            "\n",
            "epoch 95\n",
            "10/10 [==============================] - 1s 87ms/step - loss: 0.0199 - val_loss: 0.0107\n",
            "[0.01981336] 0.048401374\n",
            "\n",
            "epoch 96\n",
            "10/10 [==============================] - 1s 83ms/step - loss: 0.0183 - val_loss: 0.0149\n",
            "[0.10371427] 0.009961476\n",
            "\n",
            "epoch 97\n",
            "10/10 [==============================] - 1s 85ms/step - loss: 0.0116 - val_loss: 0.0093\n",
            "[0.08169737] 0.09835715\n",
            "\n",
            "epoch 98\n",
            "10/10 [==============================] - 1s 84ms/step - loss: 0.0042 - val_loss: 0.0169\n",
            "[0.04847459] 0.06285992\n",
            "\n",
            "epoch 99\n",
            "10/10 [==============================] - 1s 83ms/step - loss: 0.0092 - val_loss: 0.0084\n",
            "[0.00312154] 0.002775945\n",
            "\n",
            "epoch 100\n"
          ]
        }
      ],
      "source": [
        "optimizer=tf.keras.optimizers.Adam(learning_rate=0.0001)\n",
        "history={}\n",
        "history['loss']=list()\n",
        "history['val_loss']=list()\n",
        "metrics_names = ['loss'] \n",
        "epochs = 1\n",
        "num_epoch=100\n",
        "for i in range(epochs):\n",
        "    n=0\n",
        "    epoch=0\n",
        "    for step, x_batch_train in enumerate(trn_dataset):\n",
        "        if epoch==num_epoch:\n",
        "          break\n",
        "        progbar = tf.keras.utils.Progbar(10,stateful_metrics=['loss'])\n",
        "        with tf.GradientTape() as tape:\n",
        "            input_image=x_batch_train[0]\n",
        "            input_seq=x_batch_train[1][:,:np.random.randint(5)]\n",
        "            input_padseq=tf.keras.preprocessing.sequence.pad_sequences(input_seq, maxlen=25,\n",
        "                                                                            padding='post')\n",
        "            input_batch=[input_image,input_padseq]\n",
        "            value = value_model(x_batch_train, training=True)  \n",
        "            reward=Rewards(reward_model,x_batch_train)\n",
        "            loss_value = tf.keras.losses.mean_squared_error(value,reward)\n",
        "\n",
        "        grads = tape.gradient(loss_value, value_model.trainable_weights)\n",
        "\n",
        "        optimizer.apply_gradients(zip(grads, value_model.trainable_weights))\n",
        "        progbar.update(n, values = [(\"loss\", loss_value)])\n",
        "        n+=1\n",
        "        if step % 10 == 0:\n",
        "            epoch+=1\n",
        "            val_ds=next(iter(val_dataset))\n",
        "            val_value = value_model(val_ds)\n",
        "            \n",
        "            val_reward=Rewards(reward_model,val_ds)\n",
        "           \n",
        "            val_loss_value=tf.keras.losses.mean_squared_error(val_value,val_reward)\n",
        "            progbar.add(1,values = [(\"val_loss\", val_loss_value)])\n",
        "            n=0\n",
        "            print(val_value.numpy()[0],val_reward.numpy()[0])\n",
        "            print(\"\\nepoch %d\" % (epoch,))\n",
        "            history['loss'].append(loss_value)\n",
        "            history['val_loss'].append(val_loss_value)"
      ]
    },
    {
      "cell_type": "code",
      "execution_count": null,
      "metadata": {
        "id": "sH35PugRynW2"
      },
      "outputs": [],
      "source": [
        "f = open(\"/content/history_value_model_3_layer_adam.pkl\", \"wb\")\n",
        "pickle.dump(history, f)\n",
        "f.close() "
      ]
    },
    {
      "cell_type": "code",
      "execution_count": null,
      "metadata": {
        "id": "sQAvJY77oFrb"
      },
      "outputs": [],
      "source": [
        " "
      ]
    }
  ],
  "metadata": {
    "colab": {
      "collapsed_sections": [],
      "machine_shape": "hm",
      "name": "training value_net.ipynb",
      "provenance": []
    },
    "kernelspec": {
      "display_name": "Python 3",
      "name": "python3"
    },
    "language_info": {
      "name": "python"
    }
  },
  "nbformat": 4,
  "nbformat_minor": 0
}