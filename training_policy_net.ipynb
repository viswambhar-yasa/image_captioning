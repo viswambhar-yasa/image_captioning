{
  "cells": [
    {
      "cell_type": "markdown",
      "metadata": {
        "id": "view-in-github",
        "colab_type": "text"
      },
      "source": [
        "<a href=\"https://colab.research.google.com/github/viswambhar-yasa/image_captioning/blob/master/training_policy_net.ipynb\" target=\"_parent\"><img src=\"https://colab.research.google.com/assets/colab-badge.svg\" alt=\"Open In Colab\"/></a>"
      ]
    },
    {
      "cell_type": "code",
      "execution_count": 1,
      "metadata": {
        "colab": {
          "base_uri": "https://localhost:8080/"
        },
        "id": "SCaXLacBGeyg",
        "outputId": "4d7dc7c4-ba1d-4910-8342-4b9f3da1162e"
      },
      "outputs": [
        {
          "output_type": "stream",
          "name": "stdout",
          "text": [
            "Cloning into 'image_captioning'...\n",
            "remote: Enumerating objects: 31, done.\u001b[K\n",
            "remote: Counting objects: 100% (31/31), done.\u001b[K\n",
            "remote: Compressing objects: 100% (26/26), done.\u001b[K\n",
            "remote: Total 31 (delta 13), reused 15 (delta 4), pack-reused 0\u001b[K\n",
            "Unpacking objects: 100% (31/31), done.\n"
          ]
        }
      ],
      "source": [
        "!git clone https://github.com/viswambhar-yasa/image_captioning"
      ]
    },
    {
      "cell_type": "code",
      "execution_count": 2,
      "metadata": {
        "id": "VsGCW4z_Gi35"
      },
      "outputs": [],
      "source": [
        "from urllib.request import urlopen\n",
        "from io import BytesIO\n",
        "from zipfile import ZipFile\n",
        "\n",
        "\n",
        "def downloading_extraction(link, extraction_path='.'):\n",
        "    url = urlopen(link)\n",
        "    zipfile = ZipFile(BytesIO(url.read()))\n",
        "    zipfile.extractall(path=extraction_path)\n",
        "\n",
        "\n",
        "if __name__ == \"__main__\":\n",
        "    images_link = 'https://github.com/jbrownlee/Datasets/releases/download/Flickr8k/Flickr8k_Dataset.zip'\n",
        "    downloading_extraction(images_link)\n",
        "    text_link = \"https://github.com/jbrownlee/Datasets/releases/download/Flickr8k/Flickr8k_text.zip\"\n",
        "    downloading_extraction(text_link)\n"
      ]
    },
    {
      "cell_type": "code",
      "source": [
        "import tensorflow as tf\n",
        "from tensorflow.keras.layers import GlobalAveragePooling2D, Dense, Embedding, LSTM, BatchNormalization, Bidirectional\n",
        "from tensorflow.keras.applications import Xception, InceptionV3\n",
        "from tensorflow.keras.models import Model\n",
        "from tensorflow.python.keras.layers.recurrent import GRU\n",
        "\n",
        "\n",
        "def image_encoder(img_input, trainable_layers=0, CNN_Type='Xception', Embed_Size=256, display=False):\n",
        "    print('Building CNN model')\n",
        "    if CNN_Type == 'Xception':\n",
        "        cnn_pre_trained_model = Xception(include_top=False, weights='imagenet', input_tensor=img_input)\n",
        "    else:\n",
        "        cnn_pre_trained_model = InceptionV3(include_top=False, weights='imagenet', input_tensor=img_input)\n",
        "    for i, layer in enumerate(cnn_pre_trained_model.layers):\n",
        "        if len(cnn_pre_trained_model.layers) - i < trainable_layers:\n",
        "            layer.trainable = True\n",
        "        else:\n",
        "            layer.trainable = False\n",
        "    cnn_inputs = cnn_pre_trained_model.inputs\n",
        "    base_model = cnn_pre_trained_model.output\n",
        "    base_model = GlobalAveragePooling2D(name='global_average_pooling')(base_model)\n",
        "    embed_image = tf.keras.layers.Dense(Embed_Size, activation='tanh', name='embed_image')(base_model)\n",
        "    feature_extraction_model = Model(inputs=cnn_inputs, outputs=embed_image, name='CNN encoder model')\n",
        "    print('CNN model {output shape}:', embed_image.shape)\n",
        "    if display:\n",
        "        tf.keras.utils.plot_model(feature_extraction_model, to_file='base_model.png', show_shapes=True)\n",
        "    return feature_extraction_model\n",
        "\n",
        "\n",
        "def txt_decoder(rnn_input, Embed_Size=256, Bi_Direction=False, RNN_Type='LSTM', RNN_Layers=2):\n",
        "    print('Building RNN model')\n",
        "    for i in range(RNN_Layers):\n",
        "        x = BatchNormalization()(rnn_input)\n",
        "        if RNN_Type == 'LSTM':\n",
        "            if i == (RNN_Layers - 1):\n",
        "                if Bi_Direction:\n",
        "                    rnn_out = Bidirectional(LSTM(int(Embed_Size/2)))(x)\n",
        "                else:\n",
        "                    rnn_out = LSTM(Embed_Size)(x)\n",
        "            else:\n",
        "                if Bi_Direction:\n",
        "                    rnn_out = Bidirectional(LSTM(int(Embed_Size/2), return_sequences=True))(x)\n",
        "                else:\n",
        "                    rnn_out = LSTM(Embed_Size, return_sequences=True)(x)\n",
        "        else:\n",
        "            if i == (RNN_Layers - 1):\n",
        "                if Bi_Direction:\n",
        "                    rnn_out = Bidirectional(GRU(Embed_Size))(x)\n",
        "                else:\n",
        "                    rnn_out = GRU(Embed_Size)(x)\n",
        "            else:\n",
        "                if Bi_Direction:\n",
        "                    rnn_out = Bidirectional(GRU(Embed_Size/2, return_sequences=True))(x)\n",
        "                else:\n",
        "                    rnn_out = GRU(Embed_Size, return_sequences=True)(x)\n",
        "        rnn_input = rnn_out\n",
        "    return rnn_out\n",
        "\n",
        "\n",
        "def Caption_model_gen(NET, img_shape=(256, 256, 3), vocab_size=5000, Embed_Size=256, max_length=20, display=False):\n",
        "    img_input = tf.keras.Input(shape=img_shape)\n",
        "    cnn_model = image_encoder(img_input, trainable_layers=0, CNN_Type='InceptionV3', display=False)\n",
        "    embed_image = tf.keras.layers.Dense(Embed_Size, activation='tanh')(cnn_model.output)\n",
        "\n",
        "    text_input = tf.keras.Input(shape=(max_length,))\n",
        "    Embedding_layer = Embedding(input_dim=vocab_size, output_dim=Embed_Size, input_length=max_length, mask_zero=True)(\n",
        "        text_input)\n",
        "\n",
        "    whole_seq_output = txt_decoder(Embedding_layer, Embed_Size=Embed_Size,\n",
        "                                                                          Bi_Direction=False, RNN_Type='LSTM',\n",
        "                                                                          RNN_Layers=3)\n",
        "    print('final_carry_state {rnn output shape}:', whole_seq_output.shape)\n",
        "    rnn_output = whole_seq_output\n",
        "    if NET == 'policy':\n",
        "        image_txt_embed = tf.keras.layers.add([embed_image, rnn_output])\n",
        "        print('Image and text {add shape}:', image_txt_embed.shape)\n",
        "        policy_net_output = tf.keras.layers.Dense(vocab_size, activation='softmax')(image_txt_embed)\n",
        "        policy_net_model = Model(inputs=[img_input, text_input], outputs=policy_net_output, name='Policy_Net')\n",
        "\n",
        "        print('output {shape}', policy_net_output.shape)\n",
        "        print('Policy Net built successfully \\n')\n",
        "        if display:\n",
        "            tf.keras.utils.plot_model(policy_net_model, to_file='policy_net.png', show_shapes=True)\n",
        "        return policy_net_model\n",
        "    elif NET == 'value':\n",
        "        image_txt_embed = tf.keras.layers.concatenate([embed_image, rnn_output], axis=-1)\n",
        "        print('Image and text {concat shape}:', image_txt_embed.shape)\n",
        "        hidden_layer_1 = Dense(1024, activation='tanh', name='MLP_layer1')(image_txt_embed)\n",
        "        hidden_layer_2 = Dense(512, activation='tanh', name=\"MLP_layer2\")(hidden_layer_1)\n",
        "        value_net_outputs = Dense(1, activation='tanh', name='decoder_output')(hidden_layer_2)\n",
        "        value_net_model = Model(inputs=[img_input, text_input], outputs=value_net_outputs, name='Value_Net')\n",
        "        print('output {shape}', value_net_outputs.shape)\n",
        "        print('Value Net built successfully \\n')\n",
        "        if display:\n",
        "            tf.keras.utils.plot_model(value_net_model, to_file='value_net.png', show_shapes=True)\n",
        "        return value_net_model\n",
        "    else:\n",
        "        feature_vector = Dense(512, activation='tanh')(embed_image)\n",
        "        text_sequence_vector = Dense(512, activation='tanh', name='rnn_linear')(rnn_output)\n",
        "        print('Image feature vector shape:', feature_vector.shape)\n",
        "        print('Text sequence vector shape:', text_sequence_vector.shape)\n",
        "        reward_model = Model(inputs=[img_input, text_input], outputs=[feature_vector, text_sequence_vector],\n",
        "                             name='reward net model')\n",
        "        print('Reward Net built successfully \\n')\n",
        "        if display:\n",
        "            tf.keras.utils.plot_model(reward_model, to_file='reward_net.png', show_shapes=True)\n",
        "        return reward_model\n",
        "\n",
        "\n",
        "if __name__ == \"__main__\":\n",
        "    print('TensorFlow Version', tf.__version__)\n",
        "    #actor_model = Caption_model_gen('policy')\n",
        "    #critic_model = Caption_model_gen('value')\n",
        "    #reward = Caption_model_gen('reward')\n"
      ],
      "metadata": {
        "colab": {
          "base_uri": "https://localhost:8080/"
        },
        "id": "907XvN7wzXz3",
        "outputId": "1c3d0e15-bcac-465c-f5fc-6cf614a47721"
      },
      "execution_count": 3,
      "outputs": [
        {
          "output_type": "stream",
          "name": "stdout",
          "text": [
            "TensorFlow Version 2.7.0\n"
          ]
        }
      ]
    },
    {
      "cell_type": "code",
      "source": [
        "text = open('/content/Flickr8k.token.txt', 'r', encoding='utf-8').read()"
      ],
      "metadata": {
        "id": "JNXCA7UNZXm_"
      },
      "execution_count": 4,
      "outputs": []
    },
    {
      "cell_type": "code",
      "source": [
        "text\n",
        "description_map=dict()\n",
        "for lines in text.split('\\n'):\n",
        "  line_split = lines.split('\\t')\n",
        "  if line_split == ['']:\n",
        "      continue\n",
        "  image_id = line_split[0][:-2]\n",
        "  image_des = line_split[1]\n",
        "  #if image_id in img_dic:\n",
        "  if image_id not in description_map:\n",
        "    description_map[image_id] = list()\n",
        "  description_map[image_id].append(image_des)\n",
        "caption_list = []\n",
        "for img_id, des_list in description_map.items():\n",
        "    for i in range(len(des_list)):\n",
        "        caption = des_list[i]\n",
        "        caption = ''.join(caption)\n",
        "        caption = caption.split(' ')\n",
        "        caption = [word.lower() for word in caption if len(word) > 1 and word.isalpha()]\n",
        "        caption = ' '.join(caption)\n",
        "        des_list[i] = 'startseq ' + caption + ' endseq'\n",
        "        caption_list.append('startseq ' + caption + ' endseq')\n",
        "max_length = max(len(des.split()) for des in caption_list)\n",
        "print('max_length of captions', max_length)\n",
        "tokenizer = tf.keras.preprocessing.text.Tokenizer(num_words=5000,oov_token='<unknw>')\n",
        "tokenizer.fit_on_texts(caption_list)"
      ],
      "metadata": {
        "colab": {
          "base_uri": "https://localhost:8080/"
        },
        "id": "4qKd9U_cZcxB",
        "outputId": "4c9085d8-93b9-4ca7-b1ae-3afb9554f146"
      },
      "execution_count": 5,
      "outputs": [
        {
          "output_type": "stream",
          "name": "stdout",
          "text": [
            "max_length of captions 33\n"
          ]
        }
      ]
    },
    {
      "cell_type": "code",
      "source": [
        "import os"
      ],
      "metadata": {
        "id": "BQ9RQWWskJlF"
      },
      "execution_count": 6,
      "outputs": []
    },
    {
      "cell_type": "code",
      "source": [
        "word_index=tokenizer.word_index"
      ],
      "metadata": {
        "id": "Y99LvKqd_iJZ"
      },
      "execution_count": 7,
      "outputs": []
    },
    {
      "cell_type": "code",
      "source": [
        "word_index={value:key for key, value in word_index.items()}"
      ],
      "metadata": {
        "id": "0t-RTZQQ_suO"
      },
      "execution_count": 8,
      "outputs": []
    },
    {
      "cell_type": "code",
      "source": [
        "len(word_index)"
      ],
      "metadata": {
        "colab": {
          "base_uri": "https://localhost:8080/"
        },
        "id": "Tkq4FlXUAO3p",
        "outputId": "fd8befc6-486d-4a19-b279-81a5bfca78a4"
      },
      "execution_count": 9,
      "outputs": [
        {
          "output_type": "execute_result",
          "data": {
            "text/plain": [
              "8360"
            ]
          },
          "metadata": {},
          "execution_count": 9
        }
      ]
    },
    {
      "cell_type": "code",
      "source": [
        "description_map['2258277193_586949ec62.jpg.1']"
      ],
      "metadata": {
        "colab": {
          "base_uri": "https://localhost:8080/"
        },
        "id": "nmXoDBQFoTmv",
        "outputId": "b72b84fa-ea24-4717-f8d5-481776701490"
      },
      "execution_count": 10,
      "outputs": [
        {
          "output_type": "execute_result",
          "data": {
            "text/plain": [
              "['startseq people waiting for the subway endseq',\n",
              " 'startseq some people looking out windows in large building endseq',\n",
              " 'startseq three people are waiting on train platform endseq',\n",
              " 'startseq three people standing at station endseq',\n",
              " 'startseq two woman and one man standing near train tracks endseq']"
            ]
          },
          "metadata": {},
          "execution_count": 10
        }
      ]
    },
    {
      "cell_type": "code",
      "source": [
        "description_map['2258277193_586949ec62.jpg'] = description_map['2258277193_586949ec62.jpg.1']\n",
        "del description_map['2258277193_586949ec62.jpg.1']"
      ],
      "metadata": {
        "id": "0EtHJgjkok-Q"
      },
      "execution_count": 11,
      "outputs": []
    },
    {
      "cell_type": "code",
      "source": [
        "del description_map['2258277193_586949ec62.jpg']"
      ],
      "metadata": {
        "id": "WRgzMMhL_SfS"
      },
      "execution_count": 12,
      "outputs": []
    },
    {
      "cell_type": "code",
      "source": [
        "description_map1=dict()"
      ],
      "metadata": {
        "id": "rwOe_nr6kwKr"
      },
      "execution_count": 13,
      "outputs": []
    },
    {
      "cell_type": "code",
      "source": [
        "files=os.listdir(\"/content/Flicker8k_Dataset\")"
      ],
      "metadata": {
        "id": "w9h0qf3NkeNl"
      },
      "execution_count": 16,
      "outputs": []
    },
    {
      "cell_type": "code",
      "source": [
        "for key,value in description_map.items():\n",
        "  if key in files:\n",
        "    description_map1[key]=value"
      ],
      "metadata": {
        "id": "H4USEbMkkfn8"
      },
      "execution_count": 17,
      "outputs": []
    },
    {
      "cell_type": "code",
      "source": [
        "print(len(tokenizer.word_counts))"
      ],
      "metadata": {
        "colab": {
          "base_uri": "https://localhost:8080/"
        },
        "id": "HsG1nZclawvt",
        "outputId": "4c788184-d84e-4f93-e596-3c13170aca22"
      },
      "execution_count": 18,
      "outputs": [
        {
          "output_type": "stream",
          "name": "stdout",
          "text": [
            "8359\n"
          ]
        }
      ]
    },
    {
      "cell_type": "code",
      "source": [
        "token_cap_dic = dict()\n",
        "print('Vocab size',len(tokenizer.word_counts))\n",
        "for img_id, des_list in description_map1.items():\n",
        "    for i in range(len(des_list)):\n",
        "        caption = des_list[i]\n",
        "        cap_token = tokenizer.texts_to_sequences([str(caption)])\n",
        "        if img_id not in token_cap_dic:\n",
        "            token_cap_dic[img_id] = list()\n",
        "        token_cap_dic[img_id].append(cap_token)"
      ],
      "metadata": {
        "colab": {
          "base_uri": "https://localhost:8080/"
        },
        "id": "bXtMy9peZprb",
        "outputId": "4c440982-044b-4633-84e2-676516ca62f1"
      },
      "execution_count": 19,
      "outputs": [
        {
          "output_type": "stream",
          "name": "stdout",
          "text": [
            "Vocab size 8359\n"
          ]
        }
      ]
    },
    {
      "cell_type": "code",
      "source": [
        "description_map['1001773457_577c3a7d70.jpg'],token_cap_dic['1001773457_577c3a7d70.jpg']"
      ],
      "metadata": {
        "colab": {
          "base_uri": "https://localhost:8080/"
        },
        "id": "MmMzsBL6bV5G",
        "outputId": "7f23600a-6f7c-411a-d833-0ce72328ccee"
      },
      "execution_count": 20,
      "outputs": [
        {
          "output_type": "execute_result",
          "data": {
            "text/plain": [
              "(['startseq black dog and spotted dog are fighting endseq',\n",
              "  'startseq black dog and dog playing with each other on the road endseq',\n",
              "  'startseq black dog and white dog with brown spots are staring at each other in the street endseq',\n",
              "  'startseq two dogs of different breeds looking at each other on the road endseq',\n",
              "  'startseq two dogs on pavement moving toward each other endseq'],\n",
              " [[[2, 15, 9, 8, 848, 9, 17, 341, 3]],\n",
              "  [[2, 15, 9, 8, 9, 34, 10, 137, 82, 6, 5, 154, 3]],\n",
              "  [[2, 15, 9, 8, 14, 9, 10, 27, 992, 17, 635, 22, 137, 82, 4, 5, 72, 3]],\n",
              "  [[2, 13, 31, 12, 735, 2614, 88, 22, 137, 82, 6, 5, 154, 3]],\n",
              "  [[2, 13, 31, 6, 717, 793, 317, 137, 82, 3]]])"
            ]
          },
          "metadata": {},
          "execution_count": 20
        }
      ]
    },
    {
      "cell_type": "code",
      "source": [
        "cd /content/image_captioning"
      ],
      "metadata": {
        "colab": {
          "base_uri": "https://localhost:8080/"
        },
        "id": "HDfI0dk_6FSr",
        "outputId": "4654ca80-7ffc-483d-8fc9-f58aa62674a6"
      },
      "execution_count": 21,
      "outputs": [
        {
          "output_type": "stream",
          "name": "stdout",
          "text": [
            "/content/image_captioning\n"
          ]
        }
      ]
    },
    {
      "cell_type": "code",
      "source": [
        "import tensorflow as tf\n",
        "\n",
        "\n",
        "class data_processing:\n",
        "    def __init__(self, text_file_path):\n",
        "        self.text_file_path = text_file_path\n",
        "        self.tokenizer = None\n",
        "\n",
        "    def extraction_captions(self, images_id_text):\n",
        "        description_map = dict()\n",
        "        text = open(self.text_file_path, 'r', encoding='utf-8').read()\n",
        "        images = open(images_id_text, 'r', encoding='utf-8').read()\n",
        "        img_dic = []\n",
        "        for img_id in images.split('\\n'):\n",
        "            img_dic.append(img_id)\n",
        "        for lines in text.split('\\n'):\n",
        "            line_split = lines.split('\\t')\n",
        "            if line_split == ['']:\n",
        "                continue\n",
        "            image_id = line_split[0][:-2]\n",
        "            image_des = line_split[1]\n",
        "            if image_id in img_dic:\n",
        "                if image_id not in description_map:\n",
        "                    description_map[image_id] = list()\n",
        "                description_map[image_id].append(image_des)\n",
        "        return description_map\n",
        "\n",
        "    def cleaning_sequencing_captions(self, images_id_text):\n",
        "        captions_dic = self.extraction_captions(images_id_text)\n",
        "        caption_list = []\n",
        "        for img_id, des_list in captions_dic.items():\n",
        "            for i in range(len(des_list)):\n",
        "                caption = des_list[i]\n",
        "                caption = ''.join(caption)\n",
        "                caption = caption.split(' ')\n",
        "                caption = [word.lower() for word in caption if len(word) > 1 and word.isalpha()]\n",
        "                caption = ' '.join(caption)\n",
        "                des_list[i] = 'startseq ' + caption + ' endseq'\n",
        "                caption_list.append('startseq ' + caption + ' endseq')\n",
        "        max_length = max(len(des.split()) for des in caption_list)\n",
        "        print('max_length of captions', max_length)\n",
        "        return caption_list,captions_dic\n",
        "\n",
        "    def tokenization(self, captions_for_token, num_wrds=5000) -> None:\n",
        "        tokenizer = tf.keras.preprocessing.text.Tokenizer(num_words=num_wrds, oov_token='<unknw>')\n",
        "        tokenizer.fit_on_texts(captions_for_token)\n",
        "        self.tokenizer = tokenizer\n",
        "        return tokenizer\n",
        "\n",
        "    def sentence_tokenizing(self, captions_dic) -> dict:\n",
        "        token_cap_dic = dict()\n",
        "        print('Vocab size', self.tokenizer.num_words)\n",
        "        for img_id, des_list in captions_dic.items():\n",
        "            for i in range(len(des_list)):\n",
        "                caption = des_list[i]\n",
        "                cap_token = self.tokenizer.texts_to_sequences([str(caption)])\n",
        "                if img_id not in token_cap_dic:\n",
        "                    token_cap_dic[img_id] = list()\n",
        "                token_cap_dic[img_id].append(cap_token)\n",
        "        return token_cap_dic"
      ],
      "metadata": {
        "id": "d9Oaedi_FrHA"
      },
      "execution_count": 22,
      "outputs": []
    },
    {
      "cell_type": "code",
      "source": [
        "import tensorflow as tf\n",
        "from keras.preprocessing.image import load_img, img_to_array\n",
        "from keras.applications.inception_v3 import InceptionV3, preprocess_input\n",
        "import numpy as np\n",
        "from data_processing import data_processing\n",
        "\n",
        "\n",
        "def load_preprocess_img(img_path):\n",
        "    img = load_img(img_path, target_size=(256, 256, 3))\n",
        "    x = img_to_array(img)\n",
        "    x /= 255.0\n",
        "    return x\n",
        "\n",
        "\n",
        "def captions_generation(captions_dic, vocab_size, image_pth_rt, max_length=25, num_photos_per_batch=5, num_captions=1):\n",
        "    images, input_text_seq, output_text = list(), list(), list()\n",
        "    batch_iter = 0\n",
        "    batch_keys = []\n",
        "    while True:\n",
        "        for key, desc_list in captions_dic.items():\n",
        "            # print(key)\n",
        "            batch_keys.append(key)\n",
        "            batch_iter += 1\n",
        "            caption = 0\n",
        "            # retrieve the photo feature\n",
        "\n",
        "            photo = load_preprocess_img(image_pth_rt + key)\n",
        "            \n",
        "            for desc in desc_list:\n",
        "                caption += 1\n",
        "                desc = np.squeeze(desc)\n",
        "                input_sequence = []\n",
        "                out_text=[]\n",
        "                for i in range(0, len(desc)-1):\n",
        "                    input_sequence.append(desc[:i ])\n",
        "                    out_text.append(desc[i+1])\n",
        "                    images.append(photo)\n",
        "                \n",
        "                input_seq = tf.keras.preprocessing.sequence.pad_sequences(input_sequence, maxlen=max_length,\n",
        "                                                                          padding='post')\n",
        "                #input_text = input_seq[:, :-1]\n",
        "                #out_text = input_seq[:, -1]\n",
        "                output_sequence = tf.keras.utils.to_categorical(out_text, num_classes=vocab_size)\n",
        "                input_text_seq.append(input_seq)\n",
        "                output_text.append(output_sequence)\n",
        "                if caption == num_captions:\n",
        "                    break\n",
        "            if batch_iter == num_photos_per_batch:\n",
        "                input_text_seq = np.concatenate(input_text_seq)\n",
        "                output_text = np.concatenate(output_text)\n",
        "                #print(batch_keys[-5:])\n",
        "                yield [[np.array(images), np.array(input_text_seq)], np.array(output_text)]\n",
        "                images, input_text_seq, output_text = list(), list(), list()\n",
        "                batch_iter = 0"
      ],
      "metadata": {
        "id": "2CAacq12PSvG"
      },
      "execution_count": 23,
      "outputs": []
    },
    {
      "cell_type": "code",
      "source": [
        "import matplotlib.pyplot as plt"
      ],
      "metadata": {
        "id": "9fkiF7ENolW2"
      },
      "execution_count": 24,
      "outputs": []
    },
    {
      "cell_type": "code",
      "execution_count": 25,
      "metadata": {
        "colab": {
          "base_uri": "https://localhost:8080/"
        },
        "id": "GCnr1RqfG--K",
        "outputId": "f91969e1-c4ef-454e-c70e-335a76252df5"
      },
      "outputs": [
        {
          "output_type": "stream",
          "name": "stdout",
          "text": [
            "TensorFlow Version 2.7.0\n",
            "max_length of captions 33\n",
            "max_length of captions 31\n",
            "max_length of captions 30\n",
            "No of captions: Training-6000.0 Validation-1000.0 test-1000.0\n",
            "Vocab size 5000\n",
            "Vocab size 5000\n",
            "Vocab size 5000\n"
          ]
        }
      ],
      "source": [
        "import tensorflow as tf\n",
        "#from data_processing import data_processing\n",
        "#from data_generator import captions_generation\n",
        "import pickle\n",
        "\n",
        "print('TensorFlow Version', tf.__version__)\n",
        "vocab_size = 5000\n",
        "max_length = 20\n",
        "\n",
        "\n",
        "captions_text_path = r'/content/Flickr8k.token.txt'\n",
        "captions_extraction = data_processing(captions_text_path)\n",
        "trn_images_id_text = r'/content/Flickr_8k.trainImages.txt'\n",
        "train_cleaned_seq, train_cleaned_dic = captions_extraction.cleaning_sequencing_captions(trn_images_id_text)\n",
        "val_images_id_text = r'/content/Flickr_8k.devImages.txt'\n",
        "val_cleaned_seq, val_cleaned_dic = captions_extraction.cleaning_sequencing_captions(val_images_id_text)\n",
        "test_images_id_text = r'/content/Flickr_8k.testImages.txt'\n",
        "test_cleaned_seq, test_cleaned_dic = captions_extraction.cleaning_sequencing_captions(test_images_id_text)\n",
        "tokenizer=captions_extraction.tokenization(train_cleaned_seq, vocab_size)\n",
        "print(\"No of captions: Training-\" + str(len(train_cleaned_seq) / 5) + \" Validation-\" + str(\n",
        "    len(val_cleaned_seq) / 5) + \" test-\" + str(len(test_cleaned_seq) / 5))\n",
        "\n",
        "train_cap_tok = captions_extraction.sentence_tokenizing(train_cleaned_dic)\n",
        "val_cap_tok = captions_extraction.sentence_tokenizing(val_cleaned_dic)\n",
        "test_cap_tok = captions_extraction.sentence_tokenizing(test_cleaned_dic)\n",
        "\n",
        "image_pth_rt = r\"/content/Flicker8k_Dataset/\" #+ r\"\\\\\"\n",
        "trn_dataset = captions_generation(train_cap_tok, vocab_size, image_pth_rt, max_length,5,1)\n",
        "val_dataset = captions_generation(val_cap_tok, vocab_size, image_pth_rt, max_length)\n",
        "\n",
        "tokenizer"
      ]
    },
    {
      "cell_type": "code",
      "source": [
        "trn_dataset_whole = captions_generation(token_cap_dic, 5000, image_pth_rt, max_length,5,1)"
      ],
      "metadata": {
        "id": "wadAX3Yqb2g1"
      },
      "execution_count": 38,
      "outputs": []
    },
    {
      "cell_type": "code",
      "source": [
        "len(train_cleaned_seq)"
      ],
      "metadata": {
        "colab": {
          "base_uri": "https://localhost:8080/"
        },
        "id": "Mv_K1blfZEYH",
        "outputId": "c2993f3b-e408-4a85-87e8-c16697d414e4"
      },
      "execution_count": 39,
      "outputs": [
        {
          "output_type": "execute_result",
          "data": {
            "text/plain": [
              "30000"
            ]
          },
          "metadata": {},
          "execution_count": 39
        }
      ]
    },
    {
      "cell_type": "code",
      "source": [
        "inputs, outputs = next(iter(trn_dataset_whole))\n",
        "print(inputs[0].shape, inputs[1].shape, outputs.shape)"
      ],
      "metadata": {
        "colab": {
          "base_uri": "https://localhost:8080/"
        },
        "id": "v0v_E-hekGpx",
        "outputId": "8a7709fc-6da5-43a9-c566-5e72c7ed4e5c"
      },
      "execution_count": 40,
      "outputs": [
        {
          "output_type": "stream",
          "name": "stdout",
          "text": [
            "(60, 256, 256, 3) (60, 20) (60, 5000)\n"
          ]
        }
      ]
    },
    {
      "cell_type": "code",
      "source": [
        "print(tokenizer)"
      ],
      "metadata": {
        "colab": {
          "base_uri": "https://localhost:8080/"
        },
        "id": "ublTG7UVcwAG",
        "outputId": "acf8804d-b934-4e54-d8fe-803a1541484e"
      },
      "execution_count": 41,
      "outputs": [
        {
          "output_type": "stream",
          "name": "stdout",
          "text": [
            "None\n"
          ]
        }
      ]
    },
    {
      "cell_type": "code",
      "source": [
        "actor_model = Caption_model_gen(NET='policy', vocab_size=5000, Embed_Size=256, max_length=max_length,display=True)\n",
        "#actor_model.summary()\n",
        "actor_model.compile(loss=tf.keras.losses.categorical_crossentropy,\n",
        "                    optimizer=tf.keras.optimizers.Adam(learning_rate=0.0001),\n",
        "                    metrics=['accuracy'])"
      ],
      "metadata": {
        "colab": {
          "base_uri": "https://localhost:8080/"
        },
        "id": "hJwJlBBfztRE",
        "outputId": "befe2e25-0853-4cc5-bc85-5879e92acf04"
      },
      "execution_count": 42,
      "outputs": [
        {
          "output_type": "stream",
          "name": "stdout",
          "text": [
            "Building CNN model\n",
            "CNN model {output shape}: (None, 256)\n",
            "Building RNN model\n",
            "final_carry_state {rnn output shape}: (None, 256)\n",
            "Image and text {add shape}: (None, 256)\n",
            "output {shape} (None, 5000)\n",
            "Policy Net built successfully \n",
            "\n"
          ]
        }
      ]
    },
    {
      "cell_type": "code",
      "source": [
        "def scheduler(epoch, lr):\n",
        "    if epoch < 10:\n",
        "        return lr\n",
        "    else:\n",
        "        return lr * tf.math.exp(-0.1)\n",
        "\n",
        "\n",
        "lr_callback = tf.keras.callbacks.LearningRateScheduler(scheduler)\n",
        "\n",
        "checkpoint_filepath = '/content'\n",
        "early_stop_callback = tf.keras.callbacks.EarlyStopping(\n",
        "    monitor='loss', patience=10)\n",
        "\n",
        "model_checkpoint_callback = tf.keras.callbacks.ModelCheckpoint(\n",
        "    filepath=checkpoint_filepath,\n",
        "    monitor='accuracy',\n",
        "    mode='auto')\n",
        "\n",
        "callback = [model_checkpoint_callback]\n",
        "\n",
        "history = actor_model.fit(trn_dataset_whole,epochs=150,steps_per_epoch=10, shuffle=False, validation_data=val_dataset,validation_steps=1)\n",
        "#history = actor_model.fit(trn_dataset, steps_per_epoch=10, epochs=100, shuffle=False,callbacks=lr_callback)\n",
        "model_parameters = history.history"
      ],
      "metadata": {
        "colab": {
          "base_uri": "https://localhost:8080/"
        },
        "id": "ZzLzRr37zrn5",
        "outputId": "d8292689-d70c-4c8b-9ea8-8a23bffeaccd"
      },
      "execution_count": 43,
      "outputs": [
        {
          "output_type": "stream",
          "name": "stdout",
          "text": [
            "Epoch 1/150\n",
            "10/10 [==============================] - 32s 2s/step - loss: 8.4166 - accuracy: 0.0459 - val_loss: 8.2575 - val_accuracy: 0.0980\n",
            "Epoch 2/150\n",
            "10/10 [==============================] - 9s 902ms/step - loss: 8.1948 - accuracy: 0.1002 - val_loss: 8.1164 - val_accuracy: 0.0943\n",
            "Epoch 3/150\n",
            "10/10 [==============================] - 9s 958ms/step - loss: 7.9459 - accuracy: 0.0954 - val_loss: 7.8247 - val_accuracy: 0.0962\n",
            "Epoch 4/150\n",
            "10/10 [==============================] - 9s 892ms/step - loss: 7.5897 - accuracy: 0.1106 - val_loss: 7.5545 - val_accuracy: 0.1351\n",
            "Epoch 5/150\n",
            "10/10 [==============================] - 10s 968ms/step - loss: 7.3116 - accuracy: 0.0933 - val_loss: 7.2983 - val_accuracy: 0.1020\n",
            "Epoch 6/150\n",
            "10/10 [==============================] - 10s 991ms/step - loss: 7.0410 - accuracy: 0.0876 - val_loss: 7.2744 - val_accuracy: 0.1064\n",
            "Epoch 7/150\n",
            "10/10 [==============================] - 8s 832ms/step - loss: 6.5837 - accuracy: 0.1071 - val_loss: 6.6112 - val_accuracy: 0.1020\n",
            "Epoch 8/150\n",
            "10/10 [==============================] - 9s 887ms/step - loss: 6.2813 - accuracy: 0.0917 - val_loss: 6.3154 - val_accuracy: 0.1220\n",
            "Epoch 9/150\n",
            "10/10 [==============================] - 9s 874ms/step - loss: 6.2567 - accuracy: 0.0930 - val_loss: 6.4017 - val_accuracy: 0.0758\n",
            "Epoch 10/150\n",
            "10/10 [==============================] - 8s 832ms/step - loss: 5.9311 - accuracy: 0.1079 - val_loss: 6.2410 - val_accuracy: 0.1000\n",
            "Epoch 11/150\n",
            "10/10 [==============================] - 9s 863ms/step - loss: 5.9455 - accuracy: 0.1182 - val_loss: 6.2635 - val_accuracy: 0.0364\n",
            "Epoch 12/150\n",
            "10/10 [==============================] - 8s 851ms/step - loss: 5.7369 - accuracy: 0.1255 - val_loss: 6.0181 - val_accuracy: 0.0444\n",
            "Epoch 13/150\n",
            "10/10 [==============================] - 9s 898ms/step - loss: 5.6893 - accuracy: 0.1205 - val_loss: 5.9271 - val_accuracy: 0.0377\n",
            "Epoch 14/150\n",
            "10/10 [==============================] - 9s 900ms/step - loss: 5.5041 - accuracy: 0.1132 - val_loss: 5.9075 - val_accuracy: 0.0513\n",
            "Epoch 15/150\n",
            "10/10 [==============================] - 9s 899ms/step - loss: 5.8296 - accuracy: 0.1230 - val_loss: 5.8973 - val_accuracy: 0.0656\n",
            "Epoch 16/150\n",
            "10/10 [==============================] - 9s 875ms/step - loss: 5.7179 - accuracy: 0.1263 - val_loss: 5.8499 - val_accuracy: 0.0364\n",
            "Epoch 17/150\n",
            "10/10 [==============================] - 9s 885ms/step - loss: 5.8998 - accuracy: 0.1245 - val_loss: 5.8193 - val_accuracy: 0.0250\n",
            "Epoch 18/150\n",
            "10/10 [==============================] - 9s 960ms/step - loss: 5.6020 - accuracy: 0.1185 - val_loss: 5.3964 - val_accuracy: 0.0182\n",
            "Epoch 19/150\n",
            "10/10 [==============================] - 10s 1000ms/step - loss: 5.6377 - accuracy: 0.1193 - val_loss: 5.7286 - val_accuracy: 0.0377\n",
            "Epoch 20/150\n",
            "10/10 [==============================] - 9s 940ms/step - loss: 5.8175 - accuracy: 0.1223 - val_loss: 6.7080 - val_accuracy: 0.0238\n",
            "Epoch 21/150\n",
            "10/10 [==============================] - 9s 896ms/step - loss: 5.5024 - accuracy: 0.1293 - val_loss: 5.7979 - val_accuracy: 0.0508\n",
            "Epoch 22/150\n",
            "10/10 [==============================] - 9s 878ms/step - loss: 5.4354 - accuracy: 0.1297 - val_loss: 5.6301 - val_accuracy: 0.0612\n",
            "Epoch 23/150\n",
            "10/10 [==============================] - 9s 913ms/step - loss: 5.6530 - accuracy: 0.1224 - val_loss: 5.8750 - val_accuracy: 0.0862\n",
            "Epoch 24/150\n",
            "10/10 [==============================] - 9s 952ms/step - loss: 5.6462 - accuracy: 0.1067 - val_loss: 5.5693 - val_accuracy: 0.0408\n",
            "Epoch 25/150\n",
            "10/10 [==============================] - 9s 955ms/step - loss: 5.6553 - accuracy: 0.1255 - val_loss: 5.7738 - val_accuracy: 0.0577\n",
            "Epoch 26/150\n",
            "10/10 [==============================] - 9s 918ms/step - loss: 5.6222 - accuracy: 0.1257 - val_loss: 6.1831 - val_accuracy: 0.0159\n",
            "Epoch 27/150\n",
            "10/10 [==============================] - 9s 849ms/step - loss: 5.7253 - accuracy: 0.1292 - val_loss: 5.4878 - val_accuracy: 0.0909\n",
            "Epoch 28/150\n",
            "10/10 [==============================] - 9s 900ms/step - loss: 5.6580 - accuracy: 0.1065 - val_loss: 5.5902 - val_accuracy: 0.0784\n",
            "Epoch 29/150\n",
            "10/10 [==============================] - 8s 835ms/step - loss: 5.5262 - accuracy: 0.1115 - val_loss: 5.7933 - val_accuracy: 0.0417\n",
            "Epoch 30/150\n",
            "10/10 [==============================] - 8s 824ms/step - loss: 5.1806 - accuracy: 0.1307 - val_loss: 6.1993 - val_accuracy: 0.0000e+00\n",
            "Epoch 31/150\n",
            "10/10 [==============================] - 8s 798ms/step - loss: 5.4112 - accuracy: 0.1329 - val_loss: 6.1668 - val_accuracy: 0.0980\n",
            "Epoch 32/150\n",
            "10/10 [==============================] - 9s 856ms/step - loss: 5.5440 - accuracy: 0.1270 - val_loss: 6.4325 - val_accuracy: 0.0488\n",
            "Epoch 33/150\n",
            "10/10 [==============================] - 8s 825ms/step - loss: 5.6125 - accuracy: 0.1366 - val_loss: 5.7062 - val_accuracy: 0.0588\n",
            "Epoch 34/150\n",
            "10/10 [==============================] - 9s 917ms/step - loss: 5.3182 - accuracy: 0.1158 - val_loss: 5.6204 - val_accuracy: 0.0400\n",
            "Epoch 35/150\n",
            "10/10 [==============================] - 9s 888ms/step - loss: 5.3701 - accuracy: 0.1431 - val_loss: 5.3323 - val_accuracy: 0.0545\n",
            "Epoch 36/150\n",
            "10/10 [==============================] - 9s 931ms/step - loss: 6.3327 - accuracy: 0.1247 - val_loss: 6.1592 - val_accuracy: 0.0213\n",
            "Epoch 37/150\n",
            "10/10 [==============================] - 9s 904ms/step - loss: 5.5521 - accuracy: 0.1426 - val_loss: 5.9600 - val_accuracy: 0.0238\n",
            "Epoch 38/150\n",
            "10/10 [==============================] - 8s 853ms/step - loss: 5.6162 - accuracy: 0.1215 - val_loss: 5.6792 - val_accuracy: 0.0847\n",
            "Epoch 39/150\n",
            "10/10 [==============================] - 9s 911ms/step - loss: 5.5022 - accuracy: 0.1143 - val_loss: 6.1302 - val_accuracy: 0.0588\n",
            "Epoch 40/150\n",
            "10/10 [==============================] - 9s 875ms/step - loss: 5.4717 - accuracy: 0.1257 - val_loss: 5.6077 - val_accuracy: 0.1042\n",
            "Epoch 41/150\n",
            "10/10 [==============================] - 9s 881ms/step - loss: 5.5554 - accuracy: 0.1240 - val_loss: 5.5313 - val_accuracy: 0.0612\n",
            "Epoch 42/150\n",
            "10/10 [==============================] - 9s 931ms/step - loss: 5.6140 - accuracy: 0.1195 - val_loss: 5.8273 - val_accuracy: 0.0758\n",
            "Epoch 43/150\n",
            "10/10 [==============================] - 9s 894ms/step - loss: 5.3947 - accuracy: 0.1203 - val_loss: 6.0238 - val_accuracy: 0.0182\n",
            "Epoch 44/150\n",
            "10/10 [==============================] - 9s 931ms/step - loss: 5.6448 - accuracy: 0.1152 - val_loss: 5.9766 - val_accuracy: 0.0244\n",
            "Epoch 45/150\n",
            "10/10 [==============================] - 9s 869ms/step - loss: 5.3860 - accuracy: 0.1344 - val_loss: 5.7317 - val_accuracy: 0.0667\n",
            "Epoch 46/150\n",
            "10/10 [==============================] - 9s 867ms/step - loss: 5.1970 - accuracy: 0.1646 - val_loss: 5.3957 - val_accuracy: 0.0943\n",
            "Epoch 47/150\n",
            "10/10 [==============================] - 8s 860ms/step - loss: 5.4909 - accuracy: 0.1483 - val_loss: 5.3085 - val_accuracy: 0.0820\n",
            "Epoch 48/150\n",
            "10/10 [==============================] - 10s 978ms/step - loss: 5.3628 - accuracy: 0.1364 - val_loss: 5.9262 - val_accuracy: 0.0508\n",
            "Epoch 49/150\n",
            "10/10 [==============================] - 8s 842ms/step - loss: 5.4796 - accuracy: 0.1384 - val_loss: 5.6629 - val_accuracy: 0.0833\n",
            "Epoch 50/150\n",
            "10/10 [==============================] - 9s 866ms/step - loss: 5.5900 - accuracy: 0.1396 - val_loss: 5.1603 - val_accuracy: 0.0600\n",
            "Epoch 51/150\n",
            "10/10 [==============================] - 8s 855ms/step - loss: 5.4798 - accuracy: 0.1388 - val_loss: 5.9174 - val_accuracy: 0.0625\n",
            "Epoch 52/150\n",
            "10/10 [==============================] - 9s 932ms/step - loss: 5.6901 - accuracy: 0.1214 - val_loss: 5.3008 - val_accuracy: 0.1754\n",
            "Epoch 53/150\n",
            "10/10 [==============================] - 9s 944ms/step - loss: 5.4583 - accuracy: 0.1350 - val_loss: 5.6193 - val_accuracy: 0.0667\n",
            "Epoch 54/150\n",
            "10/10 [==============================] - 9s 902ms/step - loss: 5.4851 - accuracy: 0.1410 - val_loss: 5.6634 - val_accuracy: 0.1000\n",
            "Epoch 55/150\n",
            "10/10 [==============================] - 9s 868ms/step - loss: 5.4545 - accuracy: 0.1228 - val_loss: 4.9630 - val_accuracy: 0.1719\n",
            "Epoch 56/150\n",
            "10/10 [==============================] - 9s 854ms/step - loss: 5.3683 - accuracy: 0.1412 - val_loss: 5.9346 - val_accuracy: 0.0952\n",
            "Epoch 57/150\n",
            "10/10 [==============================] - 9s 866ms/step - loss: 5.5377 - accuracy: 0.1478 - val_loss: 5.2391 - val_accuracy: 0.0816\n",
            "Epoch 58/150\n",
            "10/10 [==============================] - 9s 888ms/step - loss: 5.4228 - accuracy: 0.1397 - val_loss: 5.4013 - val_accuracy: 0.1200\n",
            "Epoch 59/150\n",
            "10/10 [==============================] - 9s 921ms/step - loss: 5.4316 - accuracy: 0.1316 - val_loss: 5.6256 - val_accuracy: 0.1860\n",
            "Epoch 60/150\n",
            "10/10 [==============================] - 9s 854ms/step - loss: 5.6556 - accuracy: 0.1359 - val_loss: 5.6499 - val_accuracy: 0.1129\n",
            "Epoch 61/150\n",
            "10/10 [==============================] - 9s 883ms/step - loss: 5.5012 - accuracy: 0.1442 - val_loss: 5.6960 - val_accuracy: 0.0870\n",
            "Epoch 62/150\n",
            "10/10 [==============================] - 9s 914ms/step - loss: 5.3779 - accuracy: 0.1458 - val_loss: 5.0545 - val_accuracy: 0.2174\n",
            "Epoch 63/150\n",
            "10/10 [==============================] - 8s 851ms/step - loss: 5.3968 - accuracy: 0.1544 - val_loss: 6.1447 - val_accuracy: 0.0877\n",
            "Epoch 64/150\n",
            "10/10 [==============================] - 8s 836ms/step - loss: 5.3530 - accuracy: 0.1437 - val_loss: 6.3047 - val_accuracy: 0.1071\n",
            "Epoch 65/150\n",
            "10/10 [==============================] - 9s 877ms/step - loss: 5.4762 - accuracy: 0.1318 - val_loss: 5.6449 - val_accuracy: 0.0678\n",
            "Epoch 66/150\n",
            "10/10 [==============================] - 8s 842ms/step - loss: 5.4603 - accuracy: 0.1423 - val_loss: 5.6913 - val_accuracy: 0.1167\n",
            "Epoch 67/150\n",
            "10/10 [==============================] - 8s 790ms/step - loss: 5.5717 - accuracy: 0.1516 - val_loss: 5.8075 - val_accuracy: 0.1333\n",
            "Epoch 68/150\n",
            "10/10 [==============================] - 9s 878ms/step - loss: 5.4270 - accuracy: 0.1528 - val_loss: 5.3679 - val_accuracy: 0.1429\n",
            "Epoch 69/150\n",
            "10/10 [==============================] - 8s 837ms/step - loss: 5.3309 - accuracy: 0.1800 - val_loss: 4.4944 - val_accuracy: 0.3191\n",
            "Epoch 70/150\n",
            "10/10 [==============================] - 8s 869ms/step - loss: 5.4482 - accuracy: 0.1660 - val_loss: 5.3494 - val_accuracy: 0.1887\n",
            "Epoch 71/150\n",
            "10/10 [==============================] - 9s 884ms/step - loss: 5.5241 - accuracy: 0.1590 - val_loss: 5.6116 - val_accuracy: 0.1429\n",
            "Epoch 72/150\n",
            "10/10 [==============================] - 8s 848ms/step - loss: 5.5414 - accuracy: 0.1572 - val_loss: 5.3933 - val_accuracy: 0.1346\n",
            "Epoch 73/150\n",
            "10/10 [==============================] - 9s 888ms/step - loss: 5.5543 - accuracy: 0.1618 - val_loss: 5.4273 - val_accuracy: 0.1569\n",
            "Epoch 74/150\n",
            "10/10 [==============================] - 10s 973ms/step - loss: 5.5990 - accuracy: 0.1525 - val_loss: 5.1640 - val_accuracy: 0.1447\n",
            "Epoch 75/150\n",
            "10/10 [==============================] - 8s 849ms/step - loss: 5.4479 - accuracy: 0.1475 - val_loss: 5.4517 - val_accuracy: 0.0909\n",
            "Epoch 76/150\n",
            "10/10 [==============================] - 9s 923ms/step - loss: 5.4384 - accuracy: 0.1653 - val_loss: 5.5086 - val_accuracy: 0.1702\n",
            "Epoch 77/150\n",
            "10/10 [==============================] - 9s 888ms/step - loss: 5.6928 - accuracy: 0.1440 - val_loss: 5.5987 - val_accuracy: 0.0926\n",
            "Epoch 78/150\n",
            "10/10 [==============================] - 9s 860ms/step - loss: 5.5286 - accuracy: 0.1498 - val_loss: 5.2203 - val_accuracy: 0.1304\n",
            "Epoch 79/150\n",
            "10/10 [==============================] - 9s 853ms/step - loss: 5.3087 - accuracy: 0.1592 - val_loss: 5.5188 - val_accuracy: 0.2449\n",
            "Epoch 80/150\n",
            "10/10 [==============================] - 8s 783ms/step - loss: 5.4431 - accuracy: 0.1887 - val_loss: 5.3604 - val_accuracy: 0.1800\n",
            "Epoch 81/150\n",
            "10/10 [==============================] - 9s 885ms/step - loss: 5.5591 - accuracy: 0.1508 - val_loss: 5.2085 - val_accuracy: 0.1552\n",
            "Epoch 82/150\n",
            "10/10 [==============================] - 9s 885ms/step - loss: 5.4453 - accuracy: 0.1625 - val_loss: 5.4728 - val_accuracy: 0.1607\n",
            "Epoch 83/150\n",
            "10/10 [==============================] - 8s 837ms/step - loss: 5.5053 - accuracy: 0.1498 - val_loss: 5.1420 - val_accuracy: 0.1860\n",
            "Epoch 84/150\n",
            "10/10 [==============================] - 9s 888ms/step - loss: 5.5156 - accuracy: 0.1482 - val_loss: 5.4023 - val_accuracy: 0.1754\n",
            "Epoch 85/150\n",
            "10/10 [==============================] - 9s 878ms/step - loss: 5.3112 - accuracy: 0.1602 - val_loss: 5.2549 - val_accuracy: 0.1500\n",
            "Epoch 86/150\n",
            "10/10 [==============================] - 8s 857ms/step - loss: 5.3858 - accuracy: 0.1770 - val_loss: 5.6535 - val_accuracy: 0.1471\n",
            "Epoch 87/150\n",
            "10/10 [==============================] - 9s 887ms/step - loss: 5.4822 - accuracy: 0.1537 - val_loss: 4.9374 - val_accuracy: 0.1765\n",
            "Epoch 88/150\n",
            "10/10 [==============================] - 8s 835ms/step - loss: 5.5550 - accuracy: 0.1721 - val_loss: 5.6139 - val_accuracy: 0.1538\n",
            "Epoch 89/150\n",
            "10/10 [==============================] - 9s 852ms/step - loss: 5.3837 - accuracy: 0.1505 - val_loss: 5.8229 - val_accuracy: 0.1818\n",
            "Epoch 90/150\n",
            "10/10 [==============================] - 8s 841ms/step - loss: 5.4911 - accuracy: 0.1529 - val_loss: 5.3018 - val_accuracy: 0.1667\n",
            "Epoch 91/150\n",
            "10/10 [==============================] - 8s 830ms/step - loss: 5.4261 - accuracy: 0.1724 - val_loss: 5.0210 - val_accuracy: 0.1364\n",
            "Epoch 92/150\n",
            "10/10 [==============================] - 9s 938ms/step - loss: 5.3694 - accuracy: 0.1606 - val_loss: 5.2953 - val_accuracy: 0.1636\n",
            "Epoch 93/150\n",
            "10/10 [==============================] - 8s 862ms/step - loss: 5.4467 - accuracy: 0.1705 - val_loss: 5.5213 - val_accuracy: 0.2222\n",
            "Epoch 94/150\n",
            "10/10 [==============================] - 9s 849ms/step - loss: 5.4521 - accuracy: 0.1633 - val_loss: 5.6111 - val_accuracy: 0.1639\n",
            "Epoch 95/150\n",
            "10/10 [==============================] - 9s 915ms/step - loss: 5.3093 - accuracy: 0.1714 - val_loss: 5.9074 - val_accuracy: 0.1449\n",
            "Epoch 96/150\n",
            "10/10 [==============================] - 9s 867ms/step - loss: 5.4919 - accuracy: 0.1647 - val_loss: 5.8764 - val_accuracy: 0.0909\n",
            "Epoch 97/150\n",
            "10/10 [==============================] - 8s 834ms/step - loss: 5.4131 - accuracy: 0.1699 - val_loss: 4.9889 - val_accuracy: 0.2128\n",
            "Epoch 98/150\n",
            "10/10 [==============================] - 8s 855ms/step - loss: 5.3780 - accuracy: 0.1512 - val_loss: 5.2622 - val_accuracy: 0.1600\n",
            "Epoch 99/150\n",
            "10/10 [==============================] - 9s 867ms/step - loss: 5.5601 - accuracy: 0.1603 - val_loss: 5.6919 - val_accuracy: 0.1096\n",
            "Epoch 100/150\n",
            "10/10 [==============================] - 8s 823ms/step - loss: 5.4102 - accuracy: 0.1625 - val_loss: 5.0784 - val_accuracy: 0.2200\n",
            "Epoch 101/150\n",
            "10/10 [==============================] - 9s 883ms/step - loss: 5.2332 - accuracy: 0.1627 - val_loss: 5.0016 - val_accuracy: 0.2549\n",
            "Epoch 102/150\n",
            "10/10 [==============================] - 8s 865ms/step - loss: 5.3648 - accuracy: 0.1567 - val_loss: 5.4738 - val_accuracy: 0.1509\n",
            "Epoch 103/150\n",
            "10/10 [==============================] - 9s 868ms/step - loss: 5.2109 - accuracy: 0.1829 - val_loss: 5.4703 - val_accuracy: 0.1538\n",
            "Epoch 104/150\n",
            "10/10 [==============================] - 8s 832ms/step - loss: 5.4246 - accuracy: 0.1538 - val_loss: 5.3665 - val_accuracy: 0.0811\n",
            "Epoch 105/150\n",
            "10/10 [==============================] - 8s 810ms/step - loss: 5.2058 - accuracy: 0.1580 - val_loss: 5.4647 - val_accuracy: 0.1224\n",
            "Epoch 106/150\n",
            "10/10 [==============================] - 8s 801ms/step - loss: 5.1596 - accuracy: 0.1694 - val_loss: 6.0993 - val_accuracy: 0.1702\n",
            "Epoch 107/150\n",
            "10/10 [==============================] - 8s 857ms/step - loss: 5.2804 - accuracy: 0.1797 - val_loss: 5.1230 - val_accuracy: 0.1837\n",
            "Epoch 108/150\n",
            "10/10 [==============================] - 7s 744ms/step - loss: 5.3567 - accuracy: 0.1769 - val_loss: 5.0471 - val_accuracy: 0.1463\n",
            "Epoch 109/150\n",
            "10/10 [==============================] - 9s 878ms/step - loss: 5.2044 - accuracy: 0.1798 - val_loss: 5.6201 - val_accuracy: 0.1667\n",
            "Epoch 110/150\n",
            "10/10 [==============================] - 8s 835ms/step - loss: 5.2768 - accuracy: 0.1753 - val_loss: 5.4103 - val_accuracy: 0.1400\n",
            "Epoch 111/150\n",
            "10/10 [==============================] - 8s 840ms/step - loss: 5.4355 - accuracy: 0.1757 - val_loss: 5.5809 - val_accuracy: 0.1636\n",
            "Epoch 112/150\n",
            "10/10 [==============================] - 8s 776ms/step - loss: 5.4092 - accuracy: 0.1646 - val_loss: 5.1629 - val_accuracy: 0.1778\n",
            "Epoch 113/150\n",
            "10/10 [==============================] - 9s 869ms/step - loss: 5.4153 - accuracy: 0.1735 - val_loss: 5.3203 - val_accuracy: 0.1509\n",
            "Epoch 114/150\n",
            "10/10 [==============================] - 8s 811ms/step - loss: 5.1976 - accuracy: 0.1770 - val_loss: 5.3804 - val_accuracy: 0.2564\n",
            "Epoch 115/150\n",
            "10/10 [==============================] - 8s 811ms/step - loss: 5.4052 - accuracy: 0.1612 - val_loss: 5.6218 - val_accuracy: 0.1148\n",
            "Epoch 116/150\n",
            "10/10 [==============================] - 9s 948ms/step - loss: 5.4542 - accuracy: 0.1344 - val_loss: 5.2959 - val_accuracy: 0.1273\n",
            "Epoch 117/150\n",
            "10/10 [==============================] - 9s 885ms/step - loss: 5.3068 - accuracy: 0.1507 - val_loss: 5.2755 - val_accuracy: 0.2000\n",
            "Epoch 118/150\n",
            "10/10 [==============================] - 8s 835ms/step - loss: 5.2896 - accuracy: 0.1547 - val_loss: 4.9806 - val_accuracy: 0.2000\n",
            "Epoch 119/150\n",
            "10/10 [==============================] - 8s 821ms/step - loss: 5.3246 - accuracy: 0.1657 - val_loss: 4.9763 - val_accuracy: 0.1698\n",
            "Epoch 120/150\n",
            "10/10 [==============================] - 9s 880ms/step - loss: 5.5468 - accuracy: 0.1608 - val_loss: 6.1662 - val_accuracy: 0.1429\n",
            "Epoch 121/150\n",
            "10/10 [==============================] - 10s 1s/step - loss: 5.2757 - accuracy: 0.1572 - val_loss: 5.2224 - val_accuracy: 0.1695\n",
            "Epoch 122/150\n",
            "10/10 [==============================] - 10s 1s/step - loss: 5.3117 - accuracy: 0.1547 - val_loss: 5.1889 - val_accuracy: 0.1837\n",
            "Epoch 123/150\n",
            "10/10 [==============================] - 10s 1s/step - loss: 5.2796 - accuracy: 0.1590 - val_loss: 5.3229 - val_accuracy: 0.1552\n",
            "Epoch 124/150\n",
            "10/10 [==============================] - 9s 960ms/step - loss: 5.3409 - accuracy: 0.1711 - val_loss: 5.1939 - val_accuracy: 0.1224\n",
            "Epoch 125/150\n",
            "10/10 [==============================] - 9s 907ms/step - loss: 5.3731 - accuracy: 0.1558 - val_loss: 4.9880 - val_accuracy: 0.1923\n",
            "Epoch 126/150\n",
            "10/10 [==============================] - 9s 888ms/step - loss: 5.3314 - accuracy: 0.1469 - val_loss: 5.6635 - val_accuracy: 0.1270\n",
            "Epoch 127/150\n",
            "10/10 [==============================] - 9s 895ms/step - loss: 5.1185 - accuracy: 0.1933 - val_loss: 5.1225 - val_accuracy: 0.2182\n",
            "Epoch 128/150\n",
            "10/10 [==============================] - 9s 899ms/step - loss: 5.2677 - accuracy: 0.1569 - val_loss: 5.0395 - val_accuracy: 0.2549\n",
            "Epoch 129/150\n",
            "10/10 [==============================] - 8s 816ms/step - loss: 5.4527 - accuracy: 0.1567 - val_loss: 5.2241 - val_accuracy: 0.2292\n",
            "Epoch 130/150\n",
            "10/10 [==============================] - 9s 864ms/step - loss: 5.2820 - accuracy: 0.1712 - val_loss: 5.5118 - val_accuracy: 0.1905\n",
            "Epoch 131/150\n",
            "10/10 [==============================] - 8s 859ms/step - loss: 5.2142 - accuracy: 0.1780 - val_loss: 5.4474 - val_accuracy: 0.1765\n",
            "Epoch 132/150\n",
            "10/10 [==============================] - 8s 844ms/step - loss: 4.9880 - accuracy: 0.1922 - val_loss: 5.6367 - val_accuracy: 0.1220\n",
            "Epoch 133/150\n",
            "10/10 [==============================] - 8s 804ms/step - loss: 5.2463 - accuracy: 0.1627 - val_loss: 5.2411 - val_accuracy: 0.1569\n",
            "Epoch 134/150\n",
            "10/10 [==============================] - 8s 823ms/step - loss: 5.3582 - accuracy: 0.1643 - val_loss: 5.1537 - val_accuracy: 0.1400\n",
            "Epoch 135/150\n",
            "10/10 [==============================] - 8s 845ms/step - loss: 5.2382 - accuracy: 0.1570 - val_loss: 4.8286 - val_accuracy: 0.2000\n",
            "Epoch 136/150\n",
            "10/10 [==============================] - 8s 775ms/step - loss: 5.2179 - accuracy: 0.1667 - val_loss: 5.6233 - val_accuracy: 0.0851\n",
            "Epoch 137/150\n",
            "10/10 [==============================] - 8s 778ms/step - loss: 5.6265 - accuracy: 0.1639 - val_loss: 5.5417 - val_accuracy: 0.1667\n",
            "Epoch 138/150\n",
            "10/10 [==============================] - 8s 858ms/step - loss: 5.2646 - accuracy: 0.1531 - val_loss: 5.3061 - val_accuracy: 0.1695\n",
            "Epoch 139/150\n",
            "10/10 [==============================] - 9s 911ms/step - loss: 5.4763 - accuracy: 0.1395 - val_loss: 5.4511 - val_accuracy: 0.1569\n",
            "Epoch 140/150\n",
            "10/10 [==============================] - 8s 810ms/step - loss: 5.1377 - accuracy: 0.1541 - val_loss: 5.1450 - val_accuracy: 0.2083\n",
            "Epoch 141/150\n",
            "10/10 [==============================] - 8s 777ms/step - loss: 5.1813 - accuracy: 0.1806 - val_loss: 5.0504 - val_accuracy: 0.1429\n",
            "Epoch 142/150\n",
            "10/10 [==============================] - 8s 828ms/step - loss: 5.2642 - accuracy: 0.1734 - val_loss: 5.5049 - val_accuracy: 0.1061\n",
            "Epoch 143/150\n",
            "10/10 [==============================] - 8s 859ms/step - loss: 5.1027 - accuracy: 0.1809 - val_loss: 5.6955 - val_accuracy: 0.1273\n",
            "Epoch 144/150\n",
            "10/10 [==============================] - 9s 859ms/step - loss: 5.0700 - accuracy: 0.1593 - val_loss: 5.4547 - val_accuracy: 0.1951\n",
            "Epoch 145/150\n",
            "10/10 [==============================] - 8s 869ms/step - loss: 5.0931 - accuracy: 0.1919 - val_loss: 5.2292 - val_accuracy: 0.1778\n",
            "Epoch 146/150\n",
            "10/10 [==============================] - 9s 884ms/step - loss: 5.1876 - accuracy: 0.1748 - val_loss: 4.8711 - val_accuracy: 0.2453\n",
            "Epoch 147/150\n",
            "10/10 [==============================] - 9s 909ms/step - loss: 4.8491 - accuracy: 0.2012 - val_loss: 4.8945 - val_accuracy: 0.2131\n",
            "Epoch 148/150\n",
            "10/10 [==============================] - 9s 879ms/step - loss: 5.0476 - accuracy: 0.1829 - val_loss: 5.4547 - val_accuracy: 0.1695\n",
            "Epoch 149/150\n",
            "10/10 [==============================] - 8s 866ms/step - loss: 5.1622 - accuracy: 0.1734 - val_loss: 5.2159 - val_accuracy: 0.1458\n",
            "Epoch 150/150\n",
            "10/10 [==============================] - 9s 953ms/step - loss: 4.9494 - accuracy: 0.1841 - val_loss: 4.6395 - val_accuracy: 0.1800\n"
          ]
        }
      ]
    },
    {
      "cell_type": "code",
      "source": [
        "f = open(\"/content/history_policy_model_lstm_3.pkl\", \"wb\")\n",
        "pickle.dump(model_parameters, f)\n",
        "f.close()   "
      ],
      "metadata": {
        "id": "vQFFrV4IduFF"
      },
      "execution_count": null,
      "outputs": []
    },
    {
      "cell_type": "code",
      "source": [
        "actor_model.save_weights('/content/policy_net_weights.h5')"
      ],
      "metadata": {
        "id": "lkdzs3PaiWj9"
      },
      "execution_count": 44,
      "outputs": []
    },
    {
      "cell_type": "code",
      "source": [
        "actor_model.load_weights('/content/drive/MyDrive/Kaggle/policy_net_weights_1.h5')"
      ],
      "metadata": {
        "id": "FRe7oA5HiyWl"
      },
      "execution_count": null,
      "outputs": []
    },
    {
      "cell_type": "code",
      "source": [
        "import os\n",
        "from tensorboard.plugins import projector"
      ],
      "metadata": {
        "id": "fJMSCR66D6Hf"
      },
      "execution_count": null,
      "outputs": []
    },
    {
      "cell_type": "code",
      "source": [
        "weights = tf.Variable(actor_model.layers[-23].get_weights()[0][1:])\n",
        "# Create a checkpoint from embedding, the filename and key are the\n",
        "# name of the tensor.\n",
        "log_dir=r'/content/sample_data'\n",
        "checkpoint = tf.train.Checkpoint(embedding=weights)\n",
        "checkpoint.save(os.path.join(log_dir, \"embedding.ckpt\"))\n",
        "# Set up config.\n",
        "config = projector.ProjectorConfig()\n",
        "embedding = config.embeddings.add()\n",
        "# The name of the tensor will be suffixed by `/.ATTRIBUTES/VARIABLE_VALUE`.\n",
        "embedding.tensor_name = \"embedding/.ATTRIBUTES/VARIABLE_VALUE\"\n",
        "embedding.metadata_path = 'metadata.tsv'\n",
        "projector.visualize_embeddings(log_dir, config)"
      ],
      "metadata": {
        "id": "UJLIxu97Dzs_"
      },
      "execution_count": null,
      "outputs": []
    },
    {
      "cell_type": "code",
      "source": [
        "actor_model.layers[-23]"
      ],
      "metadata": {
        "colab": {
          "base_uri": "https://localhost:8080/"
        },
        "id": "or43YYkvC2AE",
        "outputId": "5f72b4e4-cc93-450e-c3c7-800fbb108102"
      },
      "execution_count": null,
      "outputs": [
        {
          "output_type": "execute_result",
          "data": {
            "text/plain": [
              "<keras.layers.embeddings.Embedding at 0x7f545e9cc4d0>"
            ]
          },
          "metadata": {},
          "execution_count": 94
        }
      ]
    },
    {
      "cell_type": "code",
      "source": [
        "# Now run tensorboard against on log data we just saved.\n",
        "!tensorboard --logdir /logs/"
      ],
      "metadata": {
        "colab": {
          "base_uri": "https://localhost:8080/"
        },
        "id": "Fnc42s_bEQKq",
        "outputId": "1594a67d-02d0-4469-da93-352417db5086"
      },
      "execution_count": null,
      "outputs": [
        {
          "output_type": "stream",
          "name": "stdout",
          "text": [
            "2022-01-10 12:59:54.024863: E tensorflow/stream_executor/cuda/cuda_driver.cc:271] failed call to cuInit: CUDA_ERROR_NO_DEVICE: no CUDA-capable device is detected\n",
            "\n",
            "NOTE: Using experimental fast data loading logic. To disable, pass\n",
            "    \"--load_fast=false\" and report issues on GitHub. More details:\n",
            "    https://github.com/tensorflow/tensorboard/issues/4784\n",
            "\n",
            "Serving TensorBoard on localhost; to expose to the network, use a proxy or pass --bind_all\n",
            "TensorBoard 2.7.0 at http://localhost:6006/ (Press CTRL+C to quit)\n"
          ]
        }
      ]
    },
    {
      "cell_type": "code",
      "source": [
        "print(history.history)\n",
        "f = open(\"/content/history_policy_model_lstm_3.pkl\", \"wb\")\n",
        "pickle.dump(model_parameters, f)\n",
        "f.close()   "
      ],
      "metadata": {
        "colab": {
          "base_uri": "https://localhost:8080/",
          "height": 225
        },
        "id": "xndtNRnFkeoE",
        "outputId": "82fcd1ab-3b98-428d-a5d5-678b99a3e283"
      },
      "execution_count": null,
      "outputs": [
        {
          "output_type": "error",
          "ename": "NameError",
          "evalue": "ignored",
          "traceback": [
            "\u001b[0;31m---------------------------------------------------------------------------\u001b[0m",
            "\u001b[0;31mNameError\u001b[0m                                 Traceback (most recent call last)",
            "\u001b[0;32m<ipython-input-23-acd4cbea3e3f>\u001b[0m in \u001b[0;36m<module>\u001b[0;34m()\u001b[0m\n\u001b[0;32m----> 1\u001b[0;31m \u001b[0mprint\u001b[0m\u001b[0;34m(\u001b[0m\u001b[0mhistory\u001b[0m\u001b[0;34m.\u001b[0m\u001b[0mhistory\u001b[0m\u001b[0;34m)\u001b[0m\u001b[0;34m\u001b[0m\u001b[0;34m\u001b[0m\u001b[0m\n\u001b[0m\u001b[1;32m      2\u001b[0m \u001b[0mf\u001b[0m \u001b[0;34m=\u001b[0m \u001b[0mopen\u001b[0m\u001b[0;34m(\u001b[0m\u001b[0;34m\"/content/history_policy_model_lr_lstm.pkl\"\u001b[0m\u001b[0;34m,\u001b[0m \u001b[0;34m\"wb\"\u001b[0m\u001b[0;34m)\u001b[0m\u001b[0;34m\u001b[0m\u001b[0;34m\u001b[0m\u001b[0m\n\u001b[1;32m      3\u001b[0m \u001b[0mpickle\u001b[0m\u001b[0;34m.\u001b[0m\u001b[0mdump\u001b[0m\u001b[0;34m(\u001b[0m\u001b[0mmodel_parameters\u001b[0m\u001b[0;34m,\u001b[0m \u001b[0mf\u001b[0m\u001b[0;34m)\u001b[0m\u001b[0;34m\u001b[0m\u001b[0;34m\u001b[0m\u001b[0m\n\u001b[1;32m      4\u001b[0m \u001b[0mf\u001b[0m\u001b[0;34m.\u001b[0m\u001b[0mclose\u001b[0m\u001b[0;34m(\u001b[0m\u001b[0;34m)\u001b[0m\u001b[0;34m\u001b[0m\u001b[0;34m\u001b[0m\u001b[0m\n",
            "\u001b[0;31mNameError\u001b[0m: name 'history' is not defined"
          ]
        }
      ]
    },
    {
      "cell_type": "code",
      "source": [
        "   import matplotlib.pyplot as plt"
      ],
      "metadata": {
        "id": "Sj9y4cXs-gRv"
      },
      "execution_count": 45,
      "outputs": []
    },
    {
      "cell_type": "code",
      "source": [
        "plt.plot(history.history['loss'])\n",
        "plt.plot(history.history['val_loss'])"
      ],
      "metadata": {
        "colab": {
          "base_uri": "https://localhost:8080/",
          "height": 283
        },
        "id": "3eMm-zoHAQfW",
        "outputId": "806d9917-91a7-47c3-dacf-e4ce7344aa7b"
      },
      "execution_count": 46,
      "outputs": [
        {
          "output_type": "execute_result",
          "data": {
            "text/plain": [
              "[<matplotlib.lines.Line2D at 0x7fbad84cd890>]"
            ]
          },
          "metadata": {},
          "execution_count": 46
        },
        {
          "output_type": "display_data",
          "data": {
            "image/png": "[encoded data removed]",
            "text/plain": [
              "<Figure size 432x288 with 1 Axes>"
            ]
          },
          "metadata": {
            "needs_background": "light"
          }
        }
      ]
    },
    {
      "cell_type": "code",
      "source": [
        "plt.plot(history.history['accuracy'])\n",
        "plt.plot(history.history['val_accuracy'])"
      ],
      "metadata": {
        "colab": {
          "base_uri": "https://localhost:8080/",
          "height": 283
        },
        "id": "7aNbVQcUMj5O",
        "outputId": "d1e47769-e107-4333-85fd-367e1422b59d"
      },
      "execution_count": 47,
      "outputs": [
        {
          "output_type": "execute_result",
          "data": {
            "text/plain": [
              "[<matplotlib.lines.Line2D at 0x7fbad7fb5950>]"
            ]
          },
          "metadata": {},
          "execution_count": 47
        },
        {
          "output_type": "display_data",
          "data": {
            "image/png": "[encoded data removed]",
            "text/plain": [
              "<Figure size 432x288 with 1 Axes>"
            ]
          },
          "metadata": {
            "needs_background": "light"
          }
        }
      ]
    },
    {
      "cell_type": "code",
      "source": [
        "plt.semilogx(history.history['lr'],history.history['loss'])\n",
        "plt.axis([0.001,0.0001,4.5,6.5])"
      ],
      "metadata": {
        "colab": {
          "base_uri": "https://localhost:8080/",
          "height": 189
        },
        "id": "3YtPObwH-Vgq",
        "outputId": "587cb6d9-e826-42ae-a79b-66b7d5148f19"
      },
      "execution_count": 48,
      "outputs": [
        {
          "output_type": "error",
          "ename": "KeyError",
          "evalue": "ignored",
          "traceback": [
            "\u001b[0;31m---------------------------------------------------------------------------\u001b[0m",
            "\u001b[0;31mKeyError\u001b[0m                                  Traceback (most recent call last)",
            "\u001b[0;32m<ipython-input-48-795a41919e37>\u001b[0m in \u001b[0;36m<module>\u001b[0;34m()\u001b[0m\n\u001b[0;32m----> 1\u001b[0;31m \u001b[0mplt\u001b[0m\u001b[0;34m.\u001b[0m\u001b[0msemilogx\u001b[0m\u001b[0;34m(\u001b[0m\u001b[0mhistory\u001b[0m\u001b[0;34m.\u001b[0m\u001b[0mhistory\u001b[0m\u001b[0;34m[\u001b[0m\u001b[0;34m'lr'\u001b[0m\u001b[0;34m]\u001b[0m\u001b[0;34m,\u001b[0m\u001b[0mhistory\u001b[0m\u001b[0;34m.\u001b[0m\u001b[0mhistory\u001b[0m\u001b[0;34m[\u001b[0m\u001b[0;34m'loss'\u001b[0m\u001b[0;34m]\u001b[0m\u001b[0;34m)\u001b[0m\u001b[0;34m\u001b[0m\u001b[0;34m\u001b[0m\u001b[0m\n\u001b[0m\u001b[1;32m      2\u001b[0m \u001b[0mplt\u001b[0m\u001b[0;34m.\u001b[0m\u001b[0maxis\u001b[0m\u001b[0;34m(\u001b[0m\u001b[0;34m[\u001b[0m\u001b[0;36m0.001\u001b[0m\u001b[0;34m,\u001b[0m\u001b[0;36m0.0001\u001b[0m\u001b[0;34m,\u001b[0m\u001b[0;36m4.5\u001b[0m\u001b[0;34m,\u001b[0m\u001b[0;36m6.5\u001b[0m\u001b[0;34m]\u001b[0m\u001b[0;34m)\u001b[0m\u001b[0;34m\u001b[0m\u001b[0;34m\u001b[0m\u001b[0m\n",
            "\u001b[0;31mKeyError\u001b[0m: 'lr'"
          ]
        }
      ]
    },
    {
      "cell_type": "code",
      "execution_count": 49,
      "metadata": {
        "id": "hNMRkq7mKtmZ"
      },
      "outputs": [],
      "source": [
        "actor_model.save_weights('/content/policy_net_model_3.h5')"
      ]
    },
    {
      "cell_type": "code",
      "source": [
        "#actor_model.load_weights()"
      ],
      "metadata": {
        "id": "7uzwYUotGOvW"
      },
      "execution_count": 50,
      "outputs": []
    },
    {
      "cell_type": "code",
      "source": [
        "def caption_greedy(policy_net,image,tokenizer,word_index,max_length=20):\n",
        "  caption='startseq'\n",
        "  for i in range(max_length):\n",
        "    input_seq=caption.split(' ')\n",
        "    tokenization=tokenizer.texts_to_sequences(input_seq)\n",
        "    padding=tf.keras.preprocessing.sequence.pad_sequences([tokenization],maxlen=max_length) \n",
        "    predicted_word_index=np.argmax(policy_net.predict([tf.expand_dims(image,axis=0),padding]))\n",
        "    predicted_word=word_index[predicted_word_index]\n",
        "    caption+=' '+predicted_word\n",
        "    if predicted_word =='endseq':\n",
        "      break\n",
        "  return caption"
      ],
      "metadata": {
        "id": "fnrxXXoQ-15m"
      },
      "execution_count": 51,
      "outputs": []
    },
    {
      "cell_type": "code",
      "source": [
        "tokenizer = tf.keras.preprocessing.text.Tokenizer(num_words=5000,oov_token='<unknw>')\n",
        "tokenizer.fit_on_texts(caption_list)"
      ],
      "metadata": {
        "id": "gpg8naTN3LzL"
      },
      "execution_count": 53,
      "outputs": []
    },
    {
      "cell_type": "code",
      "source": [
        "test_img=list(test_cap_tok.keys())[250]\n",
        "test_photo = load_preprocess_img(image_pth_rt + test_img)\n",
        "cap=caption_greedy(actor_model,test_photo,tokenizer,word_index)\n",
        "plt.imshow(test_photo)\n",
        "plt.title(cap)"
      ],
      "metadata": {
        "colab": {
          "base_uri": "https://localhost:8080/",
          "height": 299
        },
        "id": "B9FAQiioYOEi",
        "outputId": "a1926f4c-6d67-43d9-8258-4733e956854d"
      },
      "execution_count": 54,
      "outputs": [
        {
          "output_type": "execute_result",
          "data": {
            "text/plain": [
              "Text(0.5, 1.0, 'startseq in is in is on endseq')"
            ]
          },
          "metadata": {},
          "execution_count": 54
        },
        {
          "output_type": "display_data",
          "data": {
            "image/png": "[encoded data removed]",
            "text/plain": [
              "<Figure size 432x288 with 1 Axes>"
            ]
          },
          "metadata": {
            "needs_background": "light"
          }
        }
      ]
    },
    {
      "cell_type": "code",
      "source": [
        "test_dataset = captions_generation(test_cap_tok, vocab_size, image_pth_rt, max_length)"
      ],
      "metadata": {
        "id": "oijeDQqNftdq"
      },
      "execution_count": null,
      "outputs": []
    },
    {
      "cell_type": "code",
      "source": [
        "import nltk\n",
        "def captions_eval(captions_dic, vocab_size, image_pth_rt,tokenizer, max_length=25, num_captions=1):\n",
        "    images, input_text_seq, output_text = list(), list(), list()\n",
        "    batch_iter = 0\n",
        "    batch_keys = []\n",
        "    while True:\n",
        "        for key, desc_list in captions_dic.items():\n",
        "            # print(key)\n",
        "            batch_keys.append(key)\n",
        "            batch_iter += 1\n",
        "            caption = 0\n",
        "            # retrieve the photo feature\n",
        "\n",
        "            photo = load_preprocess_img(image_pth_rt + key)\n",
        "            for desc in desc_list:\n",
        "                caption += 1\n",
        "                desc = np.squeeze(desc)\n",
        "                input_sequence = []\n",
        "                for i in range(1, len(desc)):\n",
        "                    input_sequence.append(desc[:i + 1])\n",
        "                    images.append(photo)\n",
        "                input_seq = tf.keras.preprocessing.sequence.pad_sequences(input_sequence, maxlen=max_length,\n",
        "                                                                          padding='pre')\n",
        "                if caption == num_captions:\n",
        "                    break\n",
        "                #predicted_cap=caption_greedy(policy_net,photo,tokenizer)\n",
        "                #BLEUscore = nltk.translate.bleu_score.sentence_bleu([reference], predicted_cap, weights = [1])\n",
        "                #print(BLEUscore)\n",
        "          "
      ],
      "metadata": {
        "id": "vmAr0a6uE8n_"
      },
      "execution_count": null,
      "outputs": []
    },
    {
      "cell_type": "code",
      "execution_count": null,
      "metadata": {
        "id": "GEOFx-UfKsw9",
        "colab": {
          "base_uri": "https://localhost:8080/",
          "height": 340
        },
        "outputId": "3f6fb1bb-c5f4-4a30-b93c-afc0c1f51f80"
      },
      "outputs": [
        {
          "output_type": "stream",
          "name": "stdout",
          "text": [
            "   1255/Unknown - 5189s 4s/step - loss: 3.5979 - accuracy: 0.2958"
          ]
        },
        {
          "output_type": "error",
          "ename": "KeyboardInterrupt",
          "evalue": "ignored",
          "traceback": [
            "\u001b[0;31m---------------------------------------------------------------------------\u001b[0m",
            "\u001b[0;31mKeyboardInterrupt\u001b[0m                         Traceback (most recent call last)",
            "\u001b[0;32m<ipython-input-20-7334d6ebdfc0>\u001b[0m in \u001b[0;36m<module>\u001b[0;34m()\u001b[0m\n\u001b[0;32m----> 1\u001b[0;31m \u001b[0mactor_model\u001b[0m\u001b[0;34m.\u001b[0m\u001b[0mevaluate\u001b[0m\u001b[0;34m(\u001b[0m\u001b[0mtest_dataset\u001b[0m\u001b[0;34m)\u001b[0m\u001b[0;34m\u001b[0m\u001b[0;34m\u001b[0m\u001b[0m\n\u001b[0m",
            "\u001b[0;32m/usr/local/lib/python3.7/dist-packages/keras/utils/traceback_utils.py\u001b[0m in \u001b[0;36merror_handler\u001b[0;34m(*args, **kwargs)\u001b[0m\n\u001b[1;32m     62\u001b[0m     \u001b[0mfiltered_tb\u001b[0m \u001b[0;34m=\u001b[0m \u001b[0;32mNone\u001b[0m\u001b[0;34m\u001b[0m\u001b[0;34m\u001b[0m\u001b[0m\n\u001b[1;32m     63\u001b[0m     \u001b[0;32mtry\u001b[0m\u001b[0;34m:\u001b[0m\u001b[0;34m\u001b[0m\u001b[0;34m\u001b[0m\u001b[0m\n\u001b[0;32m---> 64\u001b[0;31m       \u001b[0;32mreturn\u001b[0m \u001b[0mfn\u001b[0m\u001b[0;34m(\u001b[0m\u001b[0;34m*\u001b[0m\u001b[0margs\u001b[0m\u001b[0;34m,\u001b[0m \u001b[0;34m**\u001b[0m\u001b[0mkwargs\u001b[0m\u001b[0;34m)\u001b[0m\u001b[0;34m\u001b[0m\u001b[0;34m\u001b[0m\u001b[0m\n\u001b[0m\u001b[1;32m     65\u001b[0m     \u001b[0;32mexcept\u001b[0m \u001b[0mException\u001b[0m \u001b[0;32mas\u001b[0m \u001b[0me\u001b[0m\u001b[0;34m:\u001b[0m  \u001b[0;31m# pylint: disable=broad-except\u001b[0m\u001b[0;34m\u001b[0m\u001b[0;34m\u001b[0m\u001b[0m\n\u001b[1;32m     66\u001b[0m       \u001b[0mfiltered_tb\u001b[0m \u001b[0;34m=\u001b[0m \u001b[0m_process_traceback_frames\u001b[0m\u001b[0;34m(\u001b[0m\u001b[0me\u001b[0m\u001b[0;34m.\u001b[0m\u001b[0m__traceback__\u001b[0m\u001b[0;34m)\u001b[0m\u001b[0;34m\u001b[0m\u001b[0;34m\u001b[0m\u001b[0m\n",
            "\u001b[0;32m/usr/local/lib/python3.7/dist-packages/keras/engine/training.py\u001b[0m in \u001b[0;36mevaluate\u001b[0;34m(self, x, y, batch_size, verbose, sample_weight, steps, callbacks, max_queue_size, workers, use_multiprocessing, return_dict, **kwargs)\u001b[0m\n\u001b[1;32m   1535\u001b[0m             \u001b[0;32mwith\u001b[0m \u001b[0mtf\u001b[0m\u001b[0;34m.\u001b[0m\u001b[0mprofiler\u001b[0m\u001b[0;34m.\u001b[0m\u001b[0mexperimental\u001b[0m\u001b[0;34m.\u001b[0m\u001b[0mTrace\u001b[0m\u001b[0;34m(\u001b[0m\u001b[0;34m'test'\u001b[0m\u001b[0;34m,\u001b[0m \u001b[0mstep_num\u001b[0m\u001b[0;34m=\u001b[0m\u001b[0mstep\u001b[0m\u001b[0;34m,\u001b[0m \u001b[0m_r\u001b[0m\u001b[0;34m=\u001b[0m\u001b[0;36m1\u001b[0m\u001b[0;34m)\u001b[0m\u001b[0;34m:\u001b[0m\u001b[0;34m\u001b[0m\u001b[0;34m\u001b[0m\u001b[0m\n\u001b[1;32m   1536\u001b[0m               \u001b[0mcallbacks\u001b[0m\u001b[0;34m.\u001b[0m\u001b[0mon_test_batch_begin\u001b[0m\u001b[0;34m(\u001b[0m\u001b[0mstep\u001b[0m\u001b[0;34m)\u001b[0m\u001b[0;34m\u001b[0m\u001b[0;34m\u001b[0m\u001b[0m\n\u001b[0;32m-> 1537\u001b[0;31m               \u001b[0mtmp_logs\u001b[0m \u001b[0;34m=\u001b[0m \u001b[0mself\u001b[0m\u001b[0;34m.\u001b[0m\u001b[0mtest_function\u001b[0m\u001b[0;34m(\u001b[0m\u001b[0miterator\u001b[0m\u001b[0;34m)\u001b[0m\u001b[0;34m\u001b[0m\u001b[0;34m\u001b[0m\u001b[0m\n\u001b[0m\u001b[1;32m   1538\u001b[0m               \u001b[0;32mif\u001b[0m \u001b[0mdata_handler\u001b[0m\u001b[0;34m.\u001b[0m\u001b[0mshould_sync\u001b[0m\u001b[0;34m:\u001b[0m\u001b[0;34m\u001b[0m\u001b[0;34m\u001b[0m\u001b[0m\n\u001b[1;32m   1539\u001b[0m                 \u001b[0mcontext\u001b[0m\u001b[0;34m.\u001b[0m\u001b[0masync_wait\u001b[0m\u001b[0;34m(\u001b[0m\u001b[0;34m)\u001b[0m\u001b[0;34m\u001b[0m\u001b[0;34m\u001b[0m\u001b[0m\n",
            "\u001b[0;32m/usr/local/lib/python3.7/dist-packages/tensorflow/python/util/traceback_utils.py\u001b[0m in \u001b[0;36merror_handler\u001b[0;34m(*args, **kwargs)\u001b[0m\n\u001b[1;32m    148\u001b[0m     \u001b[0mfiltered_tb\u001b[0m \u001b[0;34m=\u001b[0m \u001b[0;32mNone\u001b[0m\u001b[0;34m\u001b[0m\u001b[0;34m\u001b[0m\u001b[0m\n\u001b[1;32m    149\u001b[0m     \u001b[0;32mtry\u001b[0m\u001b[0;34m:\u001b[0m\u001b[0;34m\u001b[0m\u001b[0;34m\u001b[0m\u001b[0m\n\u001b[0;32m--> 150\u001b[0;31m       \u001b[0;32mreturn\u001b[0m \u001b[0mfn\u001b[0m\u001b[0;34m(\u001b[0m\u001b[0;34m*\u001b[0m\u001b[0margs\u001b[0m\u001b[0;34m,\u001b[0m \u001b[0;34m**\u001b[0m\u001b[0mkwargs\u001b[0m\u001b[0;34m)\u001b[0m\u001b[0;34m\u001b[0m\u001b[0;34m\u001b[0m\u001b[0m\n\u001b[0m\u001b[1;32m    151\u001b[0m     \u001b[0;32mexcept\u001b[0m \u001b[0mException\u001b[0m \u001b[0;32mas\u001b[0m \u001b[0me\u001b[0m\u001b[0;34m:\u001b[0m\u001b[0;34m\u001b[0m\u001b[0;34m\u001b[0m\u001b[0m\n\u001b[1;32m    152\u001b[0m       \u001b[0mfiltered_tb\u001b[0m \u001b[0;34m=\u001b[0m \u001b[0m_process_traceback_frames\u001b[0m\u001b[0;34m(\u001b[0m\u001b[0me\u001b[0m\u001b[0;34m.\u001b[0m\u001b[0m__traceback__\u001b[0m\u001b[0;34m)\u001b[0m\u001b[0;34m\u001b[0m\u001b[0;34m\u001b[0m\u001b[0m\n",
            "\u001b[0;32m/usr/local/lib/python3.7/dist-packages/tensorflow/python/eager/def_function.py\u001b[0m in \u001b[0;36m__call__\u001b[0;34m(self, *args, **kwds)\u001b[0m\n\u001b[1;32m    908\u001b[0m \u001b[0;34m\u001b[0m\u001b[0m\n\u001b[1;32m    909\u001b[0m       \u001b[0;32mwith\u001b[0m \u001b[0mOptionalXlaContext\u001b[0m\u001b[0;34m(\u001b[0m\u001b[0mself\u001b[0m\u001b[0;34m.\u001b[0m\u001b[0m_jit_compile\u001b[0m\u001b[0;34m)\u001b[0m\u001b[0;34m:\u001b[0m\u001b[0;34m\u001b[0m\u001b[0;34m\u001b[0m\u001b[0m\n\u001b[0;32m--> 910\u001b[0;31m         \u001b[0mresult\u001b[0m \u001b[0;34m=\u001b[0m \u001b[0mself\u001b[0m\u001b[0;34m.\u001b[0m\u001b[0m_call\u001b[0m\u001b[0;34m(\u001b[0m\u001b[0;34m*\u001b[0m\u001b[0margs\u001b[0m\u001b[0;34m,\u001b[0m \u001b[0;34m**\u001b[0m\u001b[0mkwds\u001b[0m\u001b[0;34m)\u001b[0m\u001b[0;34m\u001b[0m\u001b[0;34m\u001b[0m\u001b[0m\n\u001b[0m\u001b[1;32m    911\u001b[0m \u001b[0;34m\u001b[0m\u001b[0m\n\u001b[1;32m    912\u001b[0m       \u001b[0mnew_tracing_count\u001b[0m \u001b[0;34m=\u001b[0m \u001b[0mself\u001b[0m\u001b[0;34m.\u001b[0m\u001b[0mexperimental_get_tracing_count\u001b[0m\u001b[0;34m(\u001b[0m\u001b[0;34m)\u001b[0m\u001b[0;34m\u001b[0m\u001b[0;34m\u001b[0m\u001b[0m\n",
            "\u001b[0;32m/usr/local/lib/python3.7/dist-packages/tensorflow/python/eager/def_function.py\u001b[0m in \u001b[0;36m_call\u001b[0;34m(self, *args, **kwds)\u001b[0m\n\u001b[1;32m    947\u001b[0m       \u001b[0;31m# In this case we have not created variables on the first call. So we can\u001b[0m\u001b[0;34m\u001b[0m\u001b[0;34m\u001b[0m\u001b[0;34m\u001b[0m\u001b[0m\n\u001b[1;32m    948\u001b[0m       \u001b[0;31m# run the first trace but we should fail if variables are created.\u001b[0m\u001b[0;34m\u001b[0m\u001b[0;34m\u001b[0m\u001b[0;34m\u001b[0m\u001b[0m\n\u001b[0;32m--> 949\u001b[0;31m       \u001b[0mresults\u001b[0m \u001b[0;34m=\u001b[0m \u001b[0mself\u001b[0m\u001b[0;34m.\u001b[0m\u001b[0m_stateful_fn\u001b[0m\u001b[0;34m(\u001b[0m\u001b[0;34m*\u001b[0m\u001b[0margs\u001b[0m\u001b[0;34m,\u001b[0m \u001b[0;34m**\u001b[0m\u001b[0mkwds\u001b[0m\u001b[0;34m)\u001b[0m\u001b[0;34m\u001b[0m\u001b[0;34m\u001b[0m\u001b[0m\n\u001b[0m\u001b[1;32m    950\u001b[0m       \u001b[0;32mif\u001b[0m \u001b[0mself\u001b[0m\u001b[0;34m.\u001b[0m\u001b[0m_created_variables\u001b[0m \u001b[0;32mand\u001b[0m \u001b[0;32mnot\u001b[0m \u001b[0mALLOW_DYNAMIC_VARIABLE_CREATION\u001b[0m\u001b[0;34m:\u001b[0m\u001b[0;34m\u001b[0m\u001b[0;34m\u001b[0m\u001b[0m\n\u001b[1;32m    951\u001b[0m         raise ValueError(\"Creating variables on a non-first call to a function\"\n",
            "\u001b[0;32m/usr/local/lib/python3.7/dist-packages/tensorflow/python/eager/function.py\u001b[0m in \u001b[0;36m__call__\u001b[0;34m(self, *args, **kwargs)\u001b[0m\n\u001b[1;32m   3129\u001b[0m        filtered_flat_args) = self._maybe_define_function(args, kwargs)\n\u001b[1;32m   3130\u001b[0m     return graph_function._call_flat(\n\u001b[0;32m-> 3131\u001b[0;31m         filtered_flat_args, captured_inputs=graph_function.captured_inputs)  # pylint: disable=protected-access\n\u001b[0m\u001b[1;32m   3132\u001b[0m \u001b[0;34m\u001b[0m\u001b[0m\n\u001b[1;32m   3133\u001b[0m   \u001b[0;34m@\u001b[0m\u001b[0mproperty\u001b[0m\u001b[0;34m\u001b[0m\u001b[0;34m\u001b[0m\u001b[0m\n",
            "\u001b[0;32m/usr/local/lib/python3.7/dist-packages/tensorflow/python/eager/function.py\u001b[0m in \u001b[0;36m_call_flat\u001b[0;34m(self, args, captured_inputs, cancellation_manager)\u001b[0m\n\u001b[1;32m   1958\u001b[0m       \u001b[0;31m# No tape is watching; skip to running the function.\u001b[0m\u001b[0;34m\u001b[0m\u001b[0;34m\u001b[0m\u001b[0;34m\u001b[0m\u001b[0m\n\u001b[1;32m   1959\u001b[0m       return self._build_call_outputs(self._inference_function.call(\n\u001b[0;32m-> 1960\u001b[0;31m           ctx, args, cancellation_manager=cancellation_manager))\n\u001b[0m\u001b[1;32m   1961\u001b[0m     forward_backward = self._select_forward_and_backward_functions(\n\u001b[1;32m   1962\u001b[0m         \u001b[0margs\u001b[0m\u001b[0;34m,\u001b[0m\u001b[0;34m\u001b[0m\u001b[0;34m\u001b[0m\u001b[0m\n",
            "\u001b[0;32m/usr/local/lib/python3.7/dist-packages/tensorflow/python/eager/function.py\u001b[0m in \u001b[0;36mcall\u001b[0;34m(self, ctx, args, cancellation_manager)\u001b[0m\n\u001b[1;32m    601\u001b[0m               \u001b[0minputs\u001b[0m\u001b[0;34m=\u001b[0m\u001b[0margs\u001b[0m\u001b[0;34m,\u001b[0m\u001b[0;34m\u001b[0m\u001b[0;34m\u001b[0m\u001b[0m\n\u001b[1;32m    602\u001b[0m               \u001b[0mattrs\u001b[0m\u001b[0;34m=\u001b[0m\u001b[0mattrs\u001b[0m\u001b[0;34m,\u001b[0m\u001b[0;34m\u001b[0m\u001b[0;34m\u001b[0m\u001b[0m\n\u001b[0;32m--> 603\u001b[0;31m               ctx=ctx)\n\u001b[0m\u001b[1;32m    604\u001b[0m         \u001b[0;32melse\u001b[0m\u001b[0;34m:\u001b[0m\u001b[0;34m\u001b[0m\u001b[0;34m\u001b[0m\u001b[0m\n\u001b[1;32m    605\u001b[0m           outputs = execute.execute_with_cancellation(\n",
            "\u001b[0;32m/usr/local/lib/python3.7/dist-packages/tensorflow/python/eager/execute.py\u001b[0m in \u001b[0;36mquick_execute\u001b[0;34m(op_name, num_outputs, inputs, attrs, ctx, name)\u001b[0m\n\u001b[1;32m     57\u001b[0m     \u001b[0mctx\u001b[0m\u001b[0;34m.\u001b[0m\u001b[0mensure_initialized\u001b[0m\u001b[0;34m(\u001b[0m\u001b[0;34m)\u001b[0m\u001b[0;34m\u001b[0m\u001b[0;34m\u001b[0m\u001b[0m\n\u001b[1;32m     58\u001b[0m     tensors = pywrap_tfe.TFE_Py_Execute(ctx._handle, device_name, op_name,\n\u001b[0;32m---> 59\u001b[0;31m                                         inputs, attrs, num_outputs)\n\u001b[0m\u001b[1;32m     60\u001b[0m   \u001b[0;32mexcept\u001b[0m \u001b[0mcore\u001b[0m\u001b[0;34m.\u001b[0m\u001b[0m_NotOkStatusException\u001b[0m \u001b[0;32mas\u001b[0m \u001b[0me\u001b[0m\u001b[0;34m:\u001b[0m\u001b[0;34m\u001b[0m\u001b[0;34m\u001b[0m\u001b[0m\n\u001b[1;32m     61\u001b[0m     \u001b[0;32mif\u001b[0m \u001b[0mname\u001b[0m \u001b[0;32mis\u001b[0m \u001b[0;32mnot\u001b[0m \u001b[0;32mNone\u001b[0m\u001b[0;34m:\u001b[0m\u001b[0;34m\u001b[0m\u001b[0;34m\u001b[0m\u001b[0m\n",
            "\u001b[0;31mKeyboardInterrupt\u001b[0m: "
          ]
        }
      ],
      "source": [
        "actor_model.evaluate(test_dataset)"
      ]
    }
  ],
  "metadata": {
    "accelerator": "TPU",
    "colab": {
      "machine_shape": "hm",
      "name": "training_policy_net.ipynb",
      "provenance": [],
      "collapsed_sections": [],
      "authorship_tag": "ABX9TyM7Zk8/5vbS6l6V1MfWnICW",
      "include_colab_link": true
    },
    "kernelspec": {
      "display_name": "Python 3",
      "name": "python3"
    },
    "language_info": {
      "name": "python"
    }
  },
  "nbformat": 4,
  "nbformat_minor": 0
}