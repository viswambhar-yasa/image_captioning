{
  "cells": [
    {
      "cell_type": "markdown",
      "metadata": {
        "id": "view-in-github",
        "colab_type": "text"
      },
      "source": [
        "<a href=\"https://colab.research.google.com/github/viswambhar-yasa/image_captioning/blob/master/training_policy_net.ipynb\" target=\"_parent\"><img src=\"https://colab.research.google.com/assets/colab-badge.svg\" alt=\"Open In Colab\"/></a>"
      ]
    },
    {
      "cell_type": "code",
      "execution_count": null,
      "metadata": {
        "colab": {
          "base_uri": "https://localhost:8080/"
        },
        "id": "SCaXLacBGeyg",
        "outputId": "fa31e693-5965-4d5a-9390-8d8a988a1ba4"
      },
      "outputs": [
        {
          "output_type": "stream",
          "name": "stdout",
          "text": [
            "Cloning into 'image_captioning'...\n",
            "remote: Enumerating objects: 22, done.\u001b[K\n",
            "remote: Counting objects: 100% (22/22), done.\u001b[K\n",
            "remote: Compressing objects: 100% (17/17), done.\u001b[K\n",
            "remote: Total 22 (delta 8), reused 15 (delta 4), pack-reused 0\u001b[K\n",
            "Unpacking objects: 100% (22/22), done.\n"
          ]
        }
      ],
      "source": [
        "!git clone https://github.com/viswambhar-yasa/image_captioning"
      ]
    },
    {
      "cell_type": "code",
      "execution_count": null,
      "metadata": {
        "id": "VsGCW4z_Gi35"
      },
      "outputs": [],
      "source": [
        "from urllib.request import urlopen\n",
        "from io import BytesIO\n",
        "from zipfile import ZipFile\n",
        "\n",
        "\n",
        "def downloading_extraction(link, extraction_path='.'):\n",
        "    url = urlopen(link)\n",
        "    zipfile = ZipFile(BytesIO(url.read()))\n",
        "    zipfile.extractall(path=extraction_path)\n",
        "\n",
        "\n",
        "if __name__ == \"__main__\":\n",
        "    images_link = 'https://github.com/jbrownlee/Datasets/releases/download/Flickr8k/Flickr8k_Dataset.zip'\n",
        "    downloading_extraction(images_link)\n",
        "    text_link = \"https://github.com/jbrownlee/Datasets/releases/download/Flickr8k/Flickr8k_text.zip\"\n",
        "    downloading_extraction(text_link)\n"
      ]
    },
    {
      "cell_type": "code",
      "source": [
        "import tensorflow as tf\n",
        "from tensorflow.keras.layers import GlobalAveragePooling2D, Dense, Embedding, LSTM, BatchNormalization, Bidirectional\n",
        "from tensorflow.keras.applications import Xception, InceptionV3\n",
        "from tensorflow.keras.models import Model\n",
        "from tensorflow.python.keras.layers.recurrent import GRU\n",
        "\n",
        "\n",
        "def image_encoder(img_input, trainable_layers=0, CNN_Type='Xception', Embed_Size=256, display=False):\n",
        "    print('Building CNN model')\n",
        "    if CNN_Type == 'Xception':\n",
        "        cnn_pre_trained_model = Xception(include_top=False, weights='imagenet', input_tensor=img_input)\n",
        "    else:\n",
        "        cnn_pre_trained_model = InceptionV3(include_top=False, weights='imagenet', input_tensor=img_input)\n",
        "    for i, layer in enumerate(cnn_pre_trained_model.layers):\n",
        "        if len(cnn_pre_trained_model.layers) - i < trainable_layers:\n",
        "            layer.trainable = True\n",
        "        else:\n",
        "            layer.trainable = False\n",
        "    cnn_inputs = cnn_pre_trained_model.inputs\n",
        "    base_model = cnn_pre_trained_model.output\n",
        "    base_model = GlobalAveragePooling2D(name='global_average_pooling')(base_model)\n",
        "    embed_image = tf.keras.layers.Dense(Embed_Size, activation='tanh', name='embed_image')(base_model)\n",
        "    feature_extraction_model = Model(inputs=cnn_inputs, outputs=embed_image, name='CNN encoder model')\n",
        "    print('CNN model {output shape}:', embed_image.shape)\n",
        "    if display:\n",
        "        tf.keras.utils.plot_model(feature_extraction_model, to_file='base_model.png', show_shapes=True)\n",
        "    return feature_extraction_model\n",
        "\n",
        "\n",
        "def txt_decoder(rnn_input, Embed_Size=256, Bi_Direction=False, RNN_Type='LSTM', RNN_Layers=2):\n",
        "    print('Building RNN model')\n",
        "    for i in range(RNN_Layers):\n",
        "        x = BatchNormalization()(rnn_input)\n",
        "        if RNN_Type == 'LSTM':\n",
        "            if i == (RNN_Layers - 1):\n",
        "                if Bi_Direction:\n",
        "                    rnn_out = Bidirectional(LSTM(int(Embed_Size/2)))(x)\n",
        "                else:\n",
        "                    rnn_out = LSTM(Embed_Size)(x)\n",
        "            else:\n",
        "                if Bi_Direction:\n",
        "                    rnn_out = Bidirectional(LSTM(int(Embed_Size/2), return_sequences=True))(x)\n",
        "                else:\n",
        "                    rnn_out = LSTM(Embed_Size, return_sequences=True)(x)\n",
        "        else:\n",
        "            if i == (RNN_Layers - 1):\n",
        "                if Bi_Direction:\n",
        "                    rnn_out = Bidirectional(GRU(Embed_Size))(x)\n",
        "                else:\n",
        "                    rnn_out = GRU(Embed_Size)(x)\n",
        "            else:\n",
        "                if Bi_Direction:\n",
        "                    rnn_out = Bidirectional(GRU(Embed_Size/2, return_sequences=True))(x)\n",
        "                else:\n",
        "                    rnn_out = GRU(Embed_Size, return_sequences=True)(x)\n",
        "        rnn_input = rnn_out\n",
        "    return rnn_out\n",
        "\n",
        "\n",
        "def Caption_model_gen(NET, img_shape=(256, 256, 3), vocab_size=5000, Embed_Size=256, max_length=20, display=False):\n",
        "    img_input = tf.keras.Input(shape=img_shape)\n",
        "    cnn_model = image_encoder(img_input, trainable_layers=0, CNN_Type='InceptionV3', display=False)\n",
        "    embed_image = tf.keras.layers.Dense(Embed_Size, activation='tanh')(cnn_model.output)\n",
        "\n",
        "    text_input = tf.keras.Input(shape=(max_length,))\n",
        "    Embedding_layer = Embedding(input_dim=vocab_size, output_dim=Embed_Size, input_length=max_length, mask_zero=True)(\n",
        "        text_input)\n",
        "\n",
        "    whole_seq_output = txt_decoder(Embedding_layer, Embed_Size=Embed_Size,\n",
        "                                                                          Bi_Direction=False, RNN_Type='LSTM',\n",
        "                                                                          RNN_Layers=3)\n",
        "    print('final_carry_state {rnn output shape}:', whole_seq_output.shape)\n",
        "    rnn_output = whole_seq_output\n",
        "    if NET == 'policy':\n",
        "        image_txt_embed = tf.keras.layers.add([embed_image, rnn_output])\n",
        "        print('Image and text {add shape}:', image_txt_embed.shape)\n",
        "        policy_net_output = tf.keras.layers.Dense(vocab_size, activation='softmax')(image_txt_embed)\n",
        "        policy_net_model = Model(inputs=[img_input, text_input], outputs=policy_net_output, name='Policy_Net')\n",
        "\n",
        "        print('output {shape}', policy_net_output.shape)\n",
        "        print('Policy Net built successfully \\n')\n",
        "        if display:\n",
        "            tf.keras.utils.plot_model(policy_net_model, to_file='policy_net.png', show_shapes=True)\n",
        "        return policy_net_model\n",
        "    elif NET == 'value':\n",
        "        image_txt_embed = tf.keras.layers.concatenate([embed_image, rnn_output], axis=-1)\n",
        "        print('Image and text {concat shape}:', image_txt_embed.shape)\n",
        "        hidden_layer_1 = Dense(1024, activation='tanh', name='MLP_layer1')(image_txt_embed)\n",
        "        hidden_layer_2 = Dense(512, activation='tanh', name=\"MLP_layer2\")(hidden_layer_1)\n",
        "        value_net_outputs = Dense(1, activation='tanh', name='decoder_output')(hidden_layer_2)\n",
        "        value_net_model = Model(inputs=[img_input, text_input], outputs=value_net_outputs, name='Value_Net')\n",
        "        print('output {shape}', value_net_outputs.shape)\n",
        "        print('Value Net built successfully \\n')\n",
        "        if display:\n",
        "            tf.keras.utils.plot_model(value_net_model, to_file='value_net.png', show_shapes=True)\n",
        "        return value_net_model\n",
        "    else:\n",
        "        feature_vector = Dense(512, activation='tanh')(embed_image)\n",
        "        text_sequence_vector = Dense(512, activation='tanh', name='rnn_linear')(rnn_output)\n",
        "        print('Image feature vector shape:', feature_vector.shape)\n",
        "        print('Text sequence vector shape:', text_sequence_vector.shape)\n",
        "        reward_model = Model(inputs=[img_input, text_input], outputs=[feature_vector, text_sequence_vector],\n",
        "                             name='reward net model')\n",
        "        print('Reward Net built successfully \\n')\n",
        "        if display:\n",
        "            tf.keras.utils.plot_model(reward_model, to_file='reward_net.png', show_shapes=True)\n",
        "        return reward_model\n",
        "\n",
        "\n",
        "if __name__ == \"__main__\":\n",
        "    print('TensorFlow Version', tf.__version__)\n",
        "    #actor_model = Caption_model_gen('policy')\n",
        "    #critic_model = Caption_model_gen('value')\n",
        "    #reward = Caption_model_gen('reward')\n"
      ],
      "metadata": {
        "colab": {
          "base_uri": "https://localhost:8080/"
        },
        "id": "907XvN7wzXz3",
        "outputId": "1e3aa4f3-870b-4e66-eeb1-5f5d185b625a"
      },
      "execution_count": 95,
      "outputs": [
        {
          "output_type": "stream",
          "name": "stdout",
          "text": [
            "TensorFlow Version 2.7.0\n"
          ]
        }
      ]
    },
    {
      "cell_type": "code",
      "source": [
        "text = open('/content/Flickr8k.token.txt', 'r', encoding='utf-8').read()"
      ],
      "metadata": {
        "id": "JNXCA7UNZXm_"
      },
      "execution_count": 96,
      "outputs": []
    },
    {
      "cell_type": "code",
      "source": [
        "text\n",
        "description_map=dict()\n",
        "for lines in text.split('\\n'):\n",
        "  line_split = lines.split('\\t')\n",
        "  if line_split == ['']:\n",
        "      continue\n",
        "  image_id = line_split[0][:-2]\n",
        "  image_des = line_split[1]\n",
        "  #if image_id in img_dic:\n",
        "  if image_id not in description_map:\n",
        "    description_map[image_id] = list()\n",
        "  description_map[image_id].append(image_des)\n",
        "caption_list = []\n",
        "for img_id, des_list in description_map.items():\n",
        "    for i in range(len(des_list)):\n",
        "        caption = des_list[i]\n",
        "        caption = ''.join(caption)\n",
        "        caption = caption.split(' ')\n",
        "        caption = [word.lower() for word in caption if len(word) > 1 and word.isalpha()]\n",
        "        caption = ' '.join(caption)\n",
        "        des_list[i] = 'startseq ' + caption + ' endseq'\n",
        "        caption_list.append('startseq ' + caption + ' endseq')\n",
        "max_length = max(len(des.split()) for des in caption_list)\n",
        "print('max_length of captions', max_length)\n",
        "tokenizer = tf.keras.preprocessing.text.Tokenizer(num_words=5000,oov_token='<unknw>')\n",
        "tokenizer.fit_on_texts(caption_list)"
      ],
      "metadata": {
        "colab": {
          "base_uri": "https://localhost:8080/"
        },
        "id": "4qKd9U_cZcxB",
        "outputId": "97ef9261-d554-49d3-9e10-b187c32ad825"
      },
      "execution_count": 167,
      "outputs": [
        {
          "output_type": "stream",
          "name": "stdout",
          "text": [
            "max_length of captions 33\n"
          ]
        }
      ]
    },
    {
      "cell_type": "code",
      "source": [
        "import os"
      ],
      "metadata": {
        "id": "BQ9RQWWskJlF"
      },
      "execution_count": 168,
      "outputs": []
    },
    {
      "cell_type": "code",
      "source": [
        "word_index=tokenizer.word_index"
      ],
      "metadata": {
        "id": "Y99LvKqd_iJZ"
      },
      "execution_count": 169,
      "outputs": []
    },
    {
      "cell_type": "code",
      "source": [
        "word_index={value:key for key, value in word_index.items()}"
      ],
      "metadata": {
        "id": "0t-RTZQQ_suO"
      },
      "execution_count": 170,
      "outputs": []
    },
    {
      "cell_type": "code",
      "source": [
        "len(word_index)"
      ],
      "metadata": {
        "colab": {
          "base_uri": "https://localhost:8080/"
        },
        "id": "Tkq4FlXUAO3p",
        "outputId": "01e928b5-e3a2-448c-f201-158ba970f306"
      },
      "execution_count": 171,
      "outputs": [
        {
          "output_type": "execute_result",
          "data": {
            "text/plain": [
              "8360"
            ]
          },
          "metadata": {},
          "execution_count": 171
        }
      ]
    },
    {
      "cell_type": "code",
      "source": [
        "description_map['2258277193_586949ec62.jpg.1']"
      ],
      "metadata": {
        "colab": {
          "base_uri": "https://localhost:8080/"
        },
        "id": "nmXoDBQFoTmv",
        "outputId": "a080e56b-f9d6-4ab5-a1b3-124515cf40a3"
      },
      "execution_count": 172,
      "outputs": [
        {
          "output_type": "execute_result",
          "data": {
            "text/plain": [
              "['startseq people waiting for the subway endseq',\n",
              " 'startseq some people looking out windows in large building endseq',\n",
              " 'startseq three people are waiting on train platform endseq',\n",
              " 'startseq three people standing at station endseq',\n",
              " 'startseq two woman and one man standing near train tracks endseq']"
            ]
          },
          "metadata": {},
          "execution_count": 172
        }
      ]
    },
    {
      "cell_type": "code",
      "source": [
        "description_map['2258277193_586949ec62.jpg'] = description_map['2258277193_586949ec62.jpg.1']\n",
        "del description_map['2258277193_586949ec62.jpg.1']"
      ],
      "metadata": {
        "id": "0EtHJgjkok-Q"
      },
      "execution_count": 173,
      "outputs": []
    },
    {
      "cell_type": "code",
      "source": [
        "del description_map['2258277193_586949ec62.jpg']"
      ],
      "metadata": {
        "id": "WRgzMMhL_SfS"
      },
      "execution_count": 174,
      "outputs": []
    },
    {
      "cell_type": "code",
      "source": [
        "description_map1=dict()"
      ],
      "metadata": {
        "id": "rwOe_nr6kwKr"
      },
      "execution_count": 175,
      "outputs": []
    },
    {
      "cell_type": "code",
      "source": [
        "for key,value in description_map.items():\n",
        "  if key in files:\n",
        "    description_map1[key]=value"
      ],
      "metadata": {
        "id": "H4USEbMkkfn8"
      },
      "execution_count": 176,
      "outputs": []
    },
    {
      "cell_type": "code",
      "source": [
        "print(len(tokenizer.word_counts))"
      ],
      "metadata": {
        "colab": {
          "base_uri": "https://localhost:8080/"
        },
        "id": "HsG1nZclawvt",
        "outputId": "614a63da-a0ec-4f3a-e470-814ffe429d00"
      },
      "execution_count": 178,
      "outputs": [
        {
          "output_type": "stream",
          "name": "stdout",
          "text": [
            "8359\n"
          ]
        }
      ]
    },
    {
      "cell_type": "code",
      "source": [
        "token_cap_dic = dict()\n",
        "print('Vocab size',len(tokenizer.word_counts))\n",
        "for img_id, des_list in description_map1.items():\n",
        "    for i in range(len(des_list)):\n",
        "        caption = des_list[i]\n",
        "        cap_token = tokenizer.texts_to_sequences([str(caption)])\n",
        "        if img_id not in token_cap_dic:\n",
        "            token_cap_dic[img_id] = list()\n",
        "        token_cap_dic[img_id].append(cap_token)"
      ],
      "metadata": {
        "colab": {
          "base_uri": "https://localhost:8080/"
        },
        "id": "bXtMy9peZprb",
        "outputId": "46a43044-b0a4-4399-a388-ec0e9565a076"
      },
      "execution_count": 179,
      "outputs": [
        {
          "output_type": "stream",
          "name": "stdout",
          "text": [
            "Vocab size 8359\n"
          ]
        }
      ]
    },
    {
      "cell_type": "code",
      "source": [
        "description_map['1001773457_577c3a7d70.jpg'],token_cap_dic['1001773457_577c3a7d70.jpg']"
      ],
      "metadata": {
        "colab": {
          "base_uri": "https://localhost:8080/"
        },
        "id": "MmMzsBL6bV5G",
        "outputId": "d65da9c8-d1a4-4a24-f2f1-d1dce25285af"
      },
      "execution_count": 180,
      "outputs": [
        {
          "output_type": "execute_result",
          "data": {
            "text/plain": [
              "(['startseq black dog and spotted dog are fighting endseq',\n",
              "  'startseq black dog and dog playing with each other on the road endseq',\n",
              "  'startseq black dog and white dog with brown spots are staring at each other in the street endseq',\n",
              "  'startseq two dogs of different breeds looking at each other on the road endseq',\n",
              "  'startseq two dogs on pavement moving toward each other endseq'],\n",
              " [[[2, 15, 9, 8, 848, 9, 17, 341, 3]],\n",
              "  [[2, 15, 9, 8, 9, 34, 10, 137, 82, 6, 5, 154, 3]],\n",
              "  [[2, 15, 9, 8, 14, 9, 10, 27, 992, 17, 635, 22, 137, 82, 4, 5, 72, 3]],\n",
              "  [[2, 13, 31, 12, 735, 2614, 88, 22, 137, 82, 6, 5, 154, 3]],\n",
              "  [[2, 13, 31, 6, 717, 793, 317, 137, 82, 3]]])"
            ]
          },
          "metadata": {},
          "execution_count": 180
        }
      ]
    },
    {
      "cell_type": "code",
      "source": [
        "cd /content/image_captioning"
      ],
      "metadata": {
        "colab": {
          "base_uri": "https://localhost:8080/"
        },
        "id": "HDfI0dk_6FSr",
        "outputId": "1b9b4143-aa9b-4619-974c-328adad264e3"
      },
      "execution_count": 181,
      "outputs": [
        {
          "output_type": "stream",
          "name": "stdout",
          "text": [
            "/content/image_captioning\n"
          ]
        }
      ]
    },
    {
      "cell_type": "code",
      "source": [
        "import tensorflow as tf\n",
        "\n",
        "\n",
        "class data_processing:\n",
        "    def __init__(self, text_file_path):\n",
        "        self.text_file_path = text_file_path\n",
        "        self.tokenizer = None\n",
        "\n",
        "    def extraction_captions(self, images_id_text):\n",
        "        description_map = dict()\n",
        "        text = open(self.text_file_path, 'r', encoding='utf-8').read()\n",
        "        images = open(images_id_text, 'r', encoding='utf-8').read()\n",
        "        img_dic = []\n",
        "        for img_id in images.split('\\n'):\n",
        "            img_dic.append(img_id)\n",
        "        for lines in text.split('\\n'):\n",
        "            line_split = lines.split('\\t')\n",
        "            if line_split == ['']:\n",
        "                continue\n",
        "            image_id = line_split[0][:-2]\n",
        "            image_des = line_split[1]\n",
        "            if image_id in img_dic:\n",
        "                if image_id not in description_map:\n",
        "                    description_map[image_id] = list()\n",
        "                description_map[image_id].append(image_des)\n",
        "        return description_map\n",
        "\n",
        "    def cleaning_sequencing_captions(self, images_id_text):\n",
        "        captions_dic = self.extraction_captions(images_id_text)\n",
        "        caption_list = []\n",
        "        for img_id, des_list in captions_dic.items():\n",
        "            for i in range(len(des_list)):\n",
        "                caption = des_list[i]\n",
        "                caption = ''.join(caption)\n",
        "                caption = caption.split(' ')\n",
        "                caption = [word.lower() for word in caption if len(word) > 1 and word.isalpha()]\n",
        "                caption = ' '.join(caption)\n",
        "                des_list[i] = 'startseq ' + caption + ' endseq'\n",
        "                caption_list.append('startseq ' + caption + ' endseq')\n",
        "        max_length = max(len(des.split()) for des in caption_list)\n",
        "        print('max_length of captions', max_length)\n",
        "        return caption_list,captions_dic\n",
        "\n",
        "    def tokenization(self, captions_for_token, num_wrds=5000) -> None:\n",
        "        tokenizer = tf.keras.preprocessing.text.Tokenizer(num_words=num_wrds, oov_token='<unknw>')\n",
        "        tokenizer.fit_on_texts(captions_for_token)\n",
        "        self.tokenizer = tokenizer\n",
        "        return tokenizer\n",
        "\n",
        "    def sentence_tokenizing(self, captions_dic) -> dict:\n",
        "        token_cap_dic = dict()\n",
        "        print('Vocab size', self.tokenizer.num_words)\n",
        "        for img_id, des_list in captions_dic.items():\n",
        "            for i in range(len(des_list)):\n",
        "                caption = des_list[i]\n",
        "                cap_token = self.tokenizer.texts_to_sequences([str(caption)])\n",
        "                if img_id not in token_cap_dic:\n",
        "                    token_cap_dic[img_id] = list()\n",
        "                token_cap_dic[img_id].append(cap_token)\n",
        "        return token_cap_dic"
      ],
      "metadata": {
        "id": "d9Oaedi_FrHA"
      },
      "execution_count": 182,
      "outputs": []
    },
    {
      "cell_type": "code",
      "source": [
        "import tensorflow as tf\n",
        "from keras.preprocessing.image import load_img, img_to_array\n",
        "from keras.applications.inception_v3 import InceptionV3, preprocess_input\n",
        "import numpy as np\n",
        "from data_processing import data_processing\n",
        "\n",
        "\n",
        "def load_preprocess_img(img_path):\n",
        "    img = load_img(img_path, target_size=(256, 256, 3))\n",
        "    x = img_to_array(img)\n",
        "    x /= 255.0\n",
        "    return x\n",
        "\n",
        "\n",
        "def captions_generation(captions_dic, vocab_size, image_pth_rt, max_length=25, num_photos_per_batch=5, num_captions=1):\n",
        "    images, input_text_seq, output_text = list(), list(), list()\n",
        "    batch_iter = 0\n",
        "    batch_keys = []\n",
        "    while True:\n",
        "        for key, desc_list in captions_dic.items():\n",
        "            # print(key)\n",
        "            batch_keys.append(key)\n",
        "            batch_iter += 1\n",
        "            caption = 0\n",
        "            # retrieve the photo feature\n",
        "\n",
        "            photo = load_preprocess_img(image_pth_rt + key)\n",
        "            \n",
        "            for desc in desc_list:\n",
        "                caption += 1\n",
        "                desc = np.squeeze(desc)\n",
        "                input_sequence = []\n",
        "                out_text=[]\n",
        "                for i in range(0, len(desc)-1):\n",
        "                    input_sequence.append(desc[:i ])\n",
        "                    out_text.append(desc[i+1])\n",
        "                    images.append(photo)\n",
        "                \n",
        "                input_seq = tf.keras.preprocessing.sequence.pad_sequences(input_sequence, maxlen=max_length,\n",
        "                                                                          padding='post')\n",
        "                #input_text = input_seq[:, :-1]\n",
        "                #out_text = input_seq[:, -1]\n",
        "                output_sequence = tf.keras.utils.to_categorical(out_text, num_classes=vocab_size)\n",
        "                input_text_seq.append(input_seq)\n",
        "                output_text.append(output_sequence)\n",
        "                if caption == num_captions:\n",
        "                    break\n",
        "            if batch_iter == num_photos_per_batch:\n",
        "                input_text_seq = np.concatenate(input_text_seq)\n",
        "                output_text = np.concatenate(output_text)\n",
        "                #print(batch_keys[-5:])\n",
        "                yield [[np.array(images), np.array(input_text_seq)], np.array(output_text)]\n",
        "                images, input_text_seq, output_text = list(), list(), list()\n",
        "                batch_iter = 0"
      ],
      "metadata": {
        "id": "2CAacq12PSvG"
      },
      "execution_count": 183,
      "outputs": []
    },
    {
      "cell_type": "code",
      "source": [
        "import matplotlib.pyplot as plt"
      ],
      "metadata": {
        "id": "9fkiF7ENolW2"
      },
      "execution_count": 184,
      "outputs": []
    },
    {
      "cell_type": "code",
      "execution_count": 185,
      "metadata": {
        "colab": {
          "base_uri": "https://localhost:8080/"
        },
        "id": "GCnr1RqfG--K",
        "outputId": "bd6efc1c-0ae4-4eaf-a928-35852417bb50"
      },
      "outputs": [
        {
          "output_type": "stream",
          "name": "stdout",
          "text": [
            "TensorFlow Version 2.7.0\n",
            "max_length of captions 33\n",
            "max_length of captions 31\n",
            "max_length of captions 30\n",
            "No of captions: Training-6000.0 Validation-1000.0 test-1000.0\n",
            "Vocab size 5000\n",
            "Vocab size 5000\n",
            "Vocab size 5000\n"
          ]
        }
      ],
      "source": [
        "import tensorflow as tf\n",
        "#from data_processing import data_processing\n",
        "#from data_generator import captions_generation\n",
        "import pickle\n",
        "\n",
        "print('TensorFlow Version', tf.__version__)\n",
        "vocab_size = 5000\n",
        "max_length = 20\n",
        "\n",
        "\n",
        "captions_text_path = r'/content/Flickr8k.token.txt'\n",
        "captions_extraction = data_processing(captions_text_path)\n",
        "trn_images_id_text = r'/content/Flickr_8k.trainImages.txt'\n",
        "train_cleaned_seq, train_cleaned_dic = captions_extraction.cleaning_sequencing_captions(trn_images_id_text)\n",
        "val_images_id_text = r'/content/Flickr_8k.devImages.txt'\n",
        "val_cleaned_seq, val_cleaned_dic = captions_extraction.cleaning_sequencing_captions(val_images_id_text)\n",
        "test_images_id_text = r'/content/Flickr_8k.testImages.txt'\n",
        "test_cleaned_seq, test_cleaned_dic = captions_extraction.cleaning_sequencing_captions(test_images_id_text)\n",
        "tokenizer=captions_extraction.tokenization(train_cleaned_seq, vocab_size)\n",
        "print(\"No of captions: Training-\" + str(len(train_cleaned_seq) / 5) + \" Validation-\" + str(\n",
        "    len(val_cleaned_seq) / 5) + \" test-\" + str(len(test_cleaned_seq) / 5))\n",
        "\n",
        "train_cap_tok = captions_extraction.sentence_tokenizing(train_cleaned_dic)\n",
        "val_cap_tok = captions_extraction.sentence_tokenizing(val_cleaned_dic)\n",
        "test_cap_tok = captions_extraction.sentence_tokenizing(test_cleaned_dic)\n",
        "\n",
        "image_pth_rt = r\"/content/Flicker8k_Dataset/\" #+ r\"\\\\\"\n",
        "trn_dataset = captions_generation(train_cap_tok, vocab_size, image_pth_rt, max_length,5,1)\n",
        "val_dataset = captions_generation(val_cap_tok, vocab_size, image_pth_rt, max_length)\n",
        "\n",
        "tokenizer"
      ]
    },
    {
      "cell_type": "code",
      "source": [
        "trn_dataset_whole = captions_generation(token_cap_dic, 5000, image_pth_rt, max_length,5,1)"
      ],
      "metadata": {
        "id": "wadAX3Yqb2g1"
      },
      "execution_count": 186,
      "outputs": []
    },
    {
      "cell_type": "code",
      "source": [
        "len(train_cleaned_seq)"
      ],
      "metadata": {
        "colab": {
          "base_uri": "https://localhost:8080/"
        },
        "id": "Mv_K1blfZEYH",
        "outputId": "6d377734-74dc-48db-e164-e551473c0ba2"
      },
      "execution_count": 187,
      "outputs": [
        {
          "output_type": "execute_result",
          "data": {
            "text/plain": [
              "30000"
            ]
          },
          "metadata": {},
          "execution_count": 187
        }
      ]
    },
    {
      "cell_type": "code",
      "source": [
        "inputs, outputs = next(iter(trn_dataset_whole))\n",
        "print(inputs[0].shape, inputs[1].shape, outputs.shape)"
      ],
      "metadata": {
        "colab": {
          "base_uri": "https://localhost:8080/"
        },
        "id": "v0v_E-hekGpx",
        "outputId": "43b0f6dd-b55b-43c0-a9e1-8c0e02402d3a"
      },
      "execution_count": 188,
      "outputs": [
        {
          "output_type": "stream",
          "name": "stdout",
          "text": [
            "(565, 256, 256, 3) (565, 20) (565, 5000)\n"
          ]
        }
      ]
    },
    {
      "cell_type": "code",
      "source": [
        "print(tokenizer)"
      ],
      "metadata": {
        "colab": {
          "base_uri": "https://localhost:8080/"
        },
        "id": "ublTG7UVcwAG",
        "outputId": "c575c170-bfab-4bd4-92aa-5fa97c38f44d"
      },
      "execution_count": 189,
      "outputs": [
        {
          "output_type": "stream",
          "name": "stdout",
          "text": [
            "None\n"
          ]
        }
      ]
    },
    {
      "cell_type": "code",
      "source": [
        "actor_model = Caption_model_gen(NET='policy', vocab_size=5000, Embed_Size=256, max_length=max_length,display=True)\n",
        "#actor_model.summary()\n",
        "actor_model.compile(loss=tf.keras.losses.categorical_crossentropy,\n",
        "                    optimizer=tf.keras.optimizers.Adam(learning_rate=0.001),\n",
        "                    metrics=['accuracy'])"
      ],
      "metadata": {
        "colab": {
          "base_uri": "https://localhost:8080/"
        },
        "id": "hJwJlBBfztRE",
        "outputId": "8e1a5b8f-d8f9-40ca-b84f-38418d12ba48"
      },
      "execution_count": 190,
      "outputs": [
        {
          "output_type": "stream",
          "name": "stdout",
          "text": [
            "Building CNN model\n",
            "CNN model {output shape}: (None, 256)\n",
            "Building RNN model\n",
            "final_carry_state {rnn output shape}: (None, 256)\n",
            "Image and text {add shape}: (None, 256)\n",
            "output {shape} (None, 5000)\n",
            "Policy Net built successfully \n",
            "\n"
          ]
        }
      ]
    },
    {
      "cell_type": "code",
      "source": [
        "def scheduler(epoch, lr):\n",
        "    if epoch < 10:\n",
        "        return lr\n",
        "    else:\n",
        "        return lr * tf.math.exp(-0.1)\n",
        "\n",
        "\n",
        "lr_callback = tf.keras.callbacks.LearningRateScheduler(scheduler)\n",
        "\n",
        "checkpoint_filepath = '/content'\n",
        "early_stop_callback = tf.keras.callbacks.EarlyStopping(\n",
        "    monitor='loss', patience=10)\n",
        "\n",
        "model_checkpoint_callback = tf.keras.callbacks.ModelCheckpoint(\n",
        "    filepath=checkpoint_filepath,\n",
        "    monitor='accuracy',\n",
        "    mode='auto')\n",
        "\n",
        "callback = [model_checkpoint_callback]\n",
        "\n",
        "history = actor_model.fit(trn_dataset_whole,epochs=400,steps_per_epoch=10, shuffle=False, validation_data=val_dataset,validation_steps=5)\n",
        "#history = actor_model.fit(trn_dataset, steps_per_epoch=10, epochs=100, shuffle=False,callbacks=lr_callback)\n",
        "model_parameters = history.history"
      ],
      "metadata": {
        "colab": {
          "base_uri": "https://localhost:8080/"
        },
        "id": "ZzLzRr37zrn5",
        "outputId": "99588ca9-3b6f-4711-f2c5-03674da5adb5"
      },
      "execution_count": null,
      "outputs": [
        {
          "output_type": "stream",
          "name": "stdout",
          "text": [
            "Epoch 1/400\n",
            "10/10 [==============================] - 105s 9s/step - loss: 7.2085 - accuracy: 0.0893 - val_loss: 6.2943 - val_accuracy: 0.0973\n",
            "Epoch 2/400\n",
            "10/10 [==============================] - 95s 9s/step - loss: 5.9235 - accuracy: 0.0820 - val_loss: 5.9092 - val_accuracy: 0.0541\n",
            "Epoch 3/400\n",
            "10/10 [==============================] - 98s 10s/step - loss: 5.9050 - accuracy: 0.1067 - val_loss: 5.6898 - val_accuracy: 0.1028\n",
            "Epoch 4/400\n",
            "10/10 [==============================] - 81s 8s/step - loss: 5.7092 - accuracy: 0.1150 - val_loss: 5.8094 - val_accuracy: 0.0917\n",
            "Epoch 5/400\n",
            "10/10 [==============================] - 89s 9s/step - loss: 5.6616 - accuracy: 0.1374 - val_loss: 5.8165 - val_accuracy: 0.0817\n",
            "Epoch 6/400\n",
            "10/10 [==============================] - 93s 9s/step - loss: 5.4955 - accuracy: 0.1322 - val_loss: 5.8296 - val_accuracy: 0.0922\n",
            "Epoch 7/400\n",
            "10/10 [==============================] - 104s 11s/step - loss: 5.4756 - accuracy: 0.1421 - val_loss: 5.7625 - val_accuracy: 0.0745\n",
            "Epoch 8/400\n",
            "10/10 [==============================] - 85s 9s/step - loss: 5.5090 - accuracy: 0.1288 - val_loss: 5.8083 - val_accuracy: 0.0850\n",
            "Epoch 9/400\n",
            "10/10 [==============================] - 98s 10s/step - loss: 5.5311 - accuracy: 0.1333 - val_loss: 5.6857 - val_accuracy: 0.0786\n",
            "Epoch 10/400\n",
            "10/10 [==============================] - 98s 10s/step - loss: 5.4051 - accuracy: 0.1504 - val_loss: 5.4985 - val_accuracy: 0.0920\n",
            "Epoch 11/400\n",
            "10/10 [==============================] - 92s 9s/step - loss: 5.2215 - accuracy: 0.1499 - val_loss: 5.8506 - val_accuracy: 0.0818\n",
            "Epoch 12/400\n",
            "10/10 [==============================] - 97s 10s/step - loss: 5.3071 - accuracy: 0.1578 - val_loss: 5.8184 - val_accuracy: 0.1092\n",
            "Epoch 13/400\n",
            "10/10 [==============================] - 93s 9s/step - loss: 5.2496 - accuracy: 0.1569 - val_loss: 5.6831 - val_accuracy: 0.0913\n",
            "Epoch 14/400\n",
            "10/10 [==============================] - 92s 9s/step - loss: 5.2157 - accuracy: 0.1570 - val_loss: 5.6530 - val_accuracy: 0.1152\n",
            "Epoch 15/400\n",
            "10/10 [==============================] - 91s 9s/step - loss: 4.9888 - accuracy: 0.1748 - val_loss: 5.8533 - val_accuracy: 0.0996\n",
            "Epoch 16/400\n",
            "10/10 [==============================] - 91s 9s/step - loss: 5.0188 - accuracy: 0.1725 - val_loss: 5.6599 - val_accuracy: 0.1289\n",
            "Epoch 17/400\n",
            "10/10 [==============================] - 89s 9s/step - loss: 5.1377 - accuracy: 0.1498 - val_loss: 5.6304 - val_accuracy: 0.1369\n",
            "Epoch 18/400\n",
            "10/10 [==============================] - 90s 9s/step - loss: 5.4281 - accuracy: 0.1616 - val_loss: 5.8897 - val_accuracy: 0.0723\n",
            "Epoch 19/400\n",
            "10/10 [==============================] - 96s 10s/step - loss: 5.0924 - accuracy: 0.1676 - val_loss: 5.5320 - val_accuracy: 0.1111\n",
            "Epoch 20/400\n",
            "10/10 [==============================] - 84s 8s/step - loss: 5.1189 - accuracy: 0.1684 - val_loss: 5.8043 - val_accuracy: 0.1308\n",
            "Epoch 21/400\n",
            "10/10 [==============================] - 97s 10s/step - loss: 5.0840 - accuracy: 0.1849 - val_loss: 5.7196 - val_accuracy: 0.1016\n",
            "Epoch 22/400\n",
            "10/10 [==============================] - 90s 9s/step - loss: 5.1191 - accuracy: 0.1636 - val_loss: 5.6189 - val_accuracy: 0.1362\n",
            "Epoch 23/400\n",
            "10/10 [==============================] - 96s 10s/step - loss: 4.8673 - accuracy: 0.1868 - val_loss: 5.6943 - val_accuracy: 0.1285\n",
            "Epoch 24/400\n",
            "10/10 [==============================] - 108s 11s/step - loss: 4.9356 - accuracy: 0.1809 - val_loss: 5.5460 - val_accuracy: 0.1200\n",
            "Epoch 25/400\n",
            "10/10 [==============================] - 101s 9s/step - loss: 4.9783 - accuracy: 0.1790 - val_loss: 5.6778 - val_accuracy: 0.1053\n",
            "Epoch 26/400\n",
            "10/10 [==============================] - 81s 8s/step - loss: 5.0646 - accuracy: 0.1594 - val_loss: 5.7955 - val_accuracy: 0.1212\n",
            "Epoch 27/400\n",
            "10/10 [==============================] - 97s 9s/step - loss: 5.0045 - accuracy: 0.1757 - val_loss: 5.4395 - val_accuracy: 0.1440\n",
            "Epoch 28/400\n",
            "10/10 [==============================] - 87s 9s/step - loss: 4.9622 - accuracy: 0.1693 - val_loss: 5.4677 - val_accuracy: 0.1336\n",
            "Epoch 29/400\n",
            "10/10 [==============================] - 88s 9s/step - loss: 4.9855 - accuracy: 0.1801 - val_loss: 5.9388 - val_accuracy: 0.1151\n",
            "Epoch 30/400\n",
            "10/10 [==============================] - 102s 10s/step - loss: 4.9442 - accuracy: 0.1778 - val_loss: 5.6428 - val_accuracy: 0.1264\n",
            "Epoch 31/400\n",
            "10/10 [==============================] - 93s 9s/step - loss: 4.8592 - accuracy: 0.1859 - val_loss: 5.5597 - val_accuracy: 0.1512\n",
            "Epoch 32/400\n",
            "10/10 [==============================] - 93s 9s/step - loss: 4.8482 - accuracy: 0.1946 - val_loss: 5.3165 - val_accuracy: 0.1516\n",
            "Epoch 33/400\n",
            "10/10 [==============================] - 96s 10s/step - loss: 4.9399 - accuracy: 0.1834 - val_loss: 5.5341 - val_accuracy: 0.1271\n",
            "Epoch 34/400\n",
            "10/10 [==============================] - 108s 10s/step - loss: 5.0216 - accuracy: 0.1711 - val_loss: 5.5171 - val_accuracy: 0.1429\n",
            "Epoch 35/400\n",
            "10/10 [==============================] - 105s 11s/step - loss: 4.8716 - accuracy: 0.1831 - val_loss: 5.4597 - val_accuracy: 0.1796\n",
            "Epoch 36/400\n",
            "10/10 [==============================] - 113s 11s/step - loss: 4.9657 - accuracy: 0.1782 - val_loss: 5.5044 - val_accuracy: 0.1429\n",
            "Epoch 37/400\n",
            "10/10 [==============================] - 111s 12s/step - loss: 5.2433 - accuracy: 0.1668 - val_loss: 5.5503 - val_accuracy: 0.1379\n",
            "Epoch 38/400\n",
            "10/10 [==============================] - 105s 11s/step - loss: 4.7894 - accuracy: 0.1777 - val_loss: 5.5041 - val_accuracy: 0.1124\n",
            "Epoch 39/400\n",
            "10/10 [==============================] - 106s 11s/step - loss: 5.0151 - accuracy: 0.1745 - val_loss: 5.7013 - val_accuracy: 0.1367\n",
            "Epoch 40/400\n",
            "10/10 [==============================] - 90s 9s/step - loss: 4.9204 - accuracy: 0.1787 - val_loss: 5.2867 - val_accuracy: 0.1818\n",
            "Epoch 41/400\n",
            "10/10 [==============================] - 112s 11s/step - loss: 4.9899 - accuracy: 0.1812 - val_loss: 5.6308 - val_accuracy: 0.1293\n",
            "Epoch 42/400\n",
            "10/10 [==============================] - 99s 9s/step - loss: 4.8731 - accuracy: 0.1758 - val_loss: 5.4677 - val_accuracy: 0.1603\n",
            "Epoch 43/400\n",
            "10/10 [==============================] - 106s 11s/step - loss: 4.7622 - accuracy: 0.1875 - val_loss: 5.4987 - val_accuracy: 0.1399\n",
            "Epoch 44/400\n",
            "10/10 [==============================] - 104s 11s/step - loss: 4.9183 - accuracy: 0.1826 - val_loss: 5.6038 - val_accuracy: 0.1268\n",
            "Epoch 45/400\n",
            "10/10 [==============================] - 101s 10s/step - loss: 4.9438 - accuracy: 0.1951 - val_loss: 5.6000 - val_accuracy: 0.1484\n",
            "Epoch 46/400\n",
            "10/10 [==============================] - 105s 10s/step - loss: 4.9043 - accuracy: 0.1763 - val_loss: 5.7640 - val_accuracy: 0.1304\n",
            "Epoch 47/400\n",
            "10/10 [==============================] - 97s 10s/step - loss: 4.8457 - accuracy: 0.1880 - val_loss: 5.2860 - val_accuracy: 0.1515\n",
            "Epoch 48/400\n",
            "10/10 [==============================] - 98s 10s/step - loss: 4.8176 - accuracy: 0.1825 - val_loss: 5.5248 - val_accuracy: 0.1853\n",
            "Epoch 49/400\n",
            "10/10 [==============================] - 109s 11s/step - loss: 4.8516 - accuracy: 0.1763 - val_loss: 5.5602 - val_accuracy: 0.1513\n",
            "Epoch 50/400\n",
            "10/10 [==============================] - 104s 10s/step - loss: 4.8939 - accuracy: 0.1857 - val_loss: 5.4907 - val_accuracy: 0.1848\n",
            "Epoch 51/400\n",
            "10/10 [==============================] - 99s 10s/step - loss: 4.6779 - accuracy: 0.1976 - val_loss: 5.5455 - val_accuracy: 0.1878\n",
            "Epoch 52/400\n",
            "10/10 [==============================] - 95s 10s/step - loss: 4.7615 - accuracy: 0.1877 - val_loss: 5.5157 - val_accuracy: 0.1775\n",
            "Epoch 53/400\n",
            "10/10 [==============================] - 81s 8s/step - loss: 4.7093 - accuracy: 0.1964 - val_loss: 5.8455 - val_accuracy: 0.1311\n",
            "Epoch 54/400\n",
            "10/10 [==============================] - 94s 10s/step - loss: 4.6850 - accuracy: 0.1940 - val_loss: 5.6214 - val_accuracy: 0.1700\n",
            "Epoch 55/400\n",
            "10/10 [==============================] - 101s 10s/step - loss: 4.6663 - accuracy: 0.1968 - val_loss: 5.6477 - val_accuracy: 0.1402\n",
            "Epoch 56/400\n",
            "10/10 [==============================] - 97s 9s/step - loss: 4.7827 - accuracy: 0.1901 - val_loss: 5.4165 - val_accuracy: 0.1445\n",
            "Epoch 57/400\n",
            "10/10 [==============================] - 100s 10s/step - loss: 4.7982 - accuracy: 0.1776 - val_loss: 5.7082 - val_accuracy: 0.1544\n",
            "Epoch 58/400\n",
            "10/10 [==============================] - 100s 10s/step - loss: 4.8565 - accuracy: 0.1717 - val_loss: 5.4324 - val_accuracy: 0.1571\n",
            "Epoch 59/400\n",
            "10/10 [==============================] - 110s 11s/step - loss: 4.7496 - accuracy: 0.1855 - val_loss: 5.7281 - val_accuracy: 0.1329\n",
            "Epoch 60/400\n",
            "10/10 [==============================] - 97s 10s/step - loss: 4.8468 - accuracy: 0.1742 - val_loss: 5.4240 - val_accuracy: 0.1648\n",
            "Epoch 61/400\n",
            "10/10 [==============================] - 107s 11s/step - loss: 4.6778 - accuracy: 0.1913 - val_loss: 5.6820 - val_accuracy: 0.1290\n",
            "Epoch 62/400\n",
            "10/10 [==============================] - 100s 10s/step - loss: 4.6608 - accuracy: 0.1801 - val_loss: 6.0343 - val_accuracy: 0.1218\n",
            "Epoch 63/400\n",
            "10/10 [==============================] - 108s 11s/step - loss: 4.7344 - accuracy: 0.1786 - val_loss: 5.6393 - val_accuracy: 0.1397\n",
            "Epoch 64/400\n",
            "10/10 [==============================] - 104s 11s/step - loss: 4.7206 - accuracy: 0.1898 - val_loss: 5.5893 - val_accuracy: 0.1407\n",
            "Epoch 65/400\n",
            "10/10 [==============================] - 92s 9s/step - loss: 4.7260 - accuracy: 0.1815 - val_loss: 5.4388 - val_accuracy: 0.1681\n",
            "Epoch 66/400\n",
            "10/10 [==============================] - 112s 11s/step - loss: 4.6181 - accuracy: 0.1992 - val_loss: 5.3916 - val_accuracy: 0.1649\n",
            "Epoch 67/400\n",
            "10/10 [==============================] - 95s 10s/step - loss: 4.6697 - accuracy: 0.1887 - val_loss: 5.7469 - val_accuracy: 0.1377\n",
            "Epoch 68/400\n",
            "10/10 [==============================] - 83s 8s/step - loss: 4.6161 - accuracy: 0.1854 - val_loss: 5.7029 - val_accuracy: 0.1550\n",
            "Epoch 69/400\n",
            "10/10 [==============================] - 89s 9s/step - loss: 4.8936 - accuracy: 0.1652 - val_loss: 5.4851 - val_accuracy: 0.1522\n",
            "Epoch 70/400\n",
            "10/10 [==============================] - ETA: 0s - loss: 4.6390 - accuracy: 0.1871"
          ]
        }
      ]
    },
    {
      "cell_type": "code",
      "source": [
        "f = open(\"/content/history_policy_model_lstm_3.pkl\", \"wb\")\n",
        "pickle.dump(model_parameters, f)\n",
        "f.close()   "
      ],
      "metadata": {
        "id": "vQFFrV4IduFF"
      },
      "execution_count": null,
      "outputs": []
    },
    {
      "cell_type": "code",
      "source": [
        "actor_model.save_weights('/content/policy_net_weights.h5')"
      ],
      "metadata": {
        "id": "lkdzs3PaiWj9"
      },
      "execution_count": 154,
      "outputs": []
    },
    {
      "cell_type": "code",
      "source": [
        "actor_model.load_weights('/content/drive/MyDrive/Kaggle/policy_net_weights.h5')"
      ],
      "metadata": {
        "id": "FRe7oA5HiyWl"
      },
      "execution_count": 156,
      "outputs": []
    },
    {
      "cell_type": "code",
      "source": [
        "actor_model.summary()"
      ],
      "metadata": {
        "colab": {
          "base_uri": "https://localhost:8080/"
        },
        "id": "2JniB06DDMIN",
        "outputId": "0eb198d6-1fc1-420d-ec2c-d43ff3d3e6d9"
      },
      "execution_count": null,
      "outputs": [
        {
          "output_type": "stream",
          "name": "stdout",
          "text": [
            "Model: \"Policy_Net\"\n",
            "__________________________________________________________________________________________________\n",
            " Layer (type)                   Output Shape         Param #     Connected to                     \n",
            "==================================================================================================\n",
            " input_15 (InputLayer)          [(None, 256, 256, 3  0           []                               \n",
            "                                )]                                                                \n",
            "                                                                                                  \n",
            " conv2d_658 (Conv2D)            (None, 127, 127, 32  864         ['input_15[0][0]']               \n",
            "                                )                                                                 \n",
            "                                                                                                  \n",
            " batch_normalization_669 (Batch  (None, 127, 127, 32  96         ['conv2d_658[0][0]']             \n",
            " Normalization)                 )                                                                 \n",
            "                                                                                                  \n",
            " activation_658 (Activation)    (None, 127, 127, 32  0           ['batch_normalization_669[0][0]']\n",
            "                                )                                                                 \n",
            "                                                                                                  \n",
            " conv2d_659 (Conv2D)            (None, 125, 125, 32  9216        ['activation_658[0][0]']         \n",
            "                                )                                                                 \n",
            "                                                                                                  \n",
            " batch_normalization_670 (Batch  (None, 125, 125, 32  96         ['conv2d_659[0][0]']             \n",
            " Normalization)                 )                                                                 \n",
            "                                                                                                  \n",
            " activation_659 (Activation)    (None, 125, 125, 32  0           ['batch_normalization_670[0][0]']\n",
            "                                )                                                                 \n",
            "                                                                                                  \n",
            " conv2d_660 (Conv2D)            (None, 125, 125, 64  18432       ['activation_659[0][0]']         \n",
            "                                )                                                                 \n",
            "                                                                                                  \n",
            " batch_normalization_671 (Batch  (None, 125, 125, 64  192        ['conv2d_660[0][0]']             \n",
            " Normalization)                 )                                                                 \n",
            "                                                                                                  \n",
            " activation_660 (Activation)    (None, 125, 125, 64  0           ['batch_normalization_671[0][0]']\n",
            "                                )                                                                 \n",
            "                                                                                                  \n",
            " max_pooling2d_28 (MaxPooling2D  (None, 62, 62, 64)  0           ['activation_660[0][0]']         \n",
            " )                                                                                                \n",
            "                                                                                                  \n",
            " conv2d_661 (Conv2D)            (None, 62, 62, 80)   5120        ['max_pooling2d_28[0][0]']       \n",
            "                                                                                                  \n",
            " batch_normalization_672 (Batch  (None, 62, 62, 80)  240         ['conv2d_661[0][0]']             \n",
            " Normalization)                                                                                   \n",
            "                                                                                                  \n",
            " activation_661 (Activation)    (None, 62, 62, 80)   0           ['batch_normalization_672[0][0]']\n",
            "                                                                                                  \n",
            " conv2d_662 (Conv2D)            (None, 60, 60, 192)  138240      ['activation_661[0][0]']         \n",
            "                                                                                                  \n",
            " batch_normalization_673 (Batch  (None, 60, 60, 192)  576        ['conv2d_662[0][0]']             \n",
            " Normalization)                                                                                   \n",
            "                                                                                                  \n",
            " activation_662 (Activation)    (None, 60, 60, 192)  0           ['batch_normalization_673[0][0]']\n",
            "                                                                                                  \n",
            " max_pooling2d_29 (MaxPooling2D  (None, 29, 29, 192)  0          ['activation_662[0][0]']         \n",
            " )                                                                                                \n",
            "                                                                                                  \n",
            " conv2d_666 (Conv2D)            (None, 29, 29, 64)   12288       ['max_pooling2d_29[0][0]']       \n",
            "                                                                                                  \n",
            " batch_normalization_677 (Batch  (None, 29, 29, 64)  192         ['conv2d_666[0][0]']             \n",
            " Normalization)                                                                                   \n",
            "                                                                                                  \n",
            " activation_666 (Activation)    (None, 29, 29, 64)   0           ['batch_normalization_677[0][0]']\n",
            "                                                                                                  \n",
            " conv2d_664 (Conv2D)            (None, 29, 29, 48)   9216        ['max_pooling2d_29[0][0]']       \n",
            "                                                                                                  \n",
            " conv2d_667 (Conv2D)            (None, 29, 29, 96)   55296       ['activation_666[0][0]']         \n",
            "                                                                                                  \n",
            " batch_normalization_675 (Batch  (None, 29, 29, 48)  144         ['conv2d_664[0][0]']             \n",
            " Normalization)                                                                                   \n",
            "                                                                                                  \n",
            " batch_normalization_678 (Batch  (None, 29, 29, 96)  288         ['conv2d_667[0][0]']             \n",
            " Normalization)                                                                                   \n",
            "                                                                                                  \n",
            " activation_664 (Activation)    (None, 29, 29, 48)   0           ['batch_normalization_675[0][0]']\n",
            "                                                                                                  \n",
            " activation_667 (Activation)    (None, 29, 29, 96)   0           ['batch_normalization_678[0][0]']\n",
            "                                                                                                  \n",
            " average_pooling2d_63 (AverageP  (None, 29, 29, 192)  0          ['max_pooling2d_29[0][0]']       \n",
            " ooling2D)                                                                                        \n",
            "                                                                                                  \n",
            " conv2d_663 (Conv2D)            (None, 29, 29, 64)   12288       ['max_pooling2d_29[0][0]']       \n",
            "                                                                                                  \n",
            " conv2d_665 (Conv2D)            (None, 29, 29, 64)   76800       ['activation_664[0][0]']         \n",
            "                                                                                                  \n",
            " conv2d_668 (Conv2D)            (None, 29, 29, 96)   82944       ['activation_667[0][0]']         \n",
            "                                                                                                  \n",
            " conv2d_669 (Conv2D)            (None, 29, 29, 32)   6144        ['average_pooling2d_63[0][0]']   \n",
            "                                                                                                  \n",
            " batch_normalization_674 (Batch  (None, 29, 29, 64)  192         ['conv2d_663[0][0]']             \n",
            " Normalization)                                                                                   \n",
            "                                                                                                  \n",
            " batch_normalization_676 (Batch  (None, 29, 29, 64)  192         ['conv2d_665[0][0]']             \n",
            " Normalization)                                                                                   \n",
            "                                                                                                  \n",
            " batch_normalization_679 (Batch  (None, 29, 29, 96)  288         ['conv2d_668[0][0]']             \n",
            " Normalization)                                                                                   \n",
            "                                                                                                  \n",
            " batch_normalization_680 (Batch  (None, 29, 29, 32)  96          ['conv2d_669[0][0]']             \n",
            " Normalization)                                                                                   \n",
            "                                                                                                  \n",
            " activation_663 (Activation)    (None, 29, 29, 64)   0           ['batch_normalization_674[0][0]']\n",
            "                                                                                                  \n",
            " activation_665 (Activation)    (None, 29, 29, 64)   0           ['batch_normalization_676[0][0]']\n",
            "                                                                                                  \n",
            " activation_668 (Activation)    (None, 29, 29, 96)   0           ['batch_normalization_679[0][0]']\n",
            "                                                                                                  \n",
            " activation_669 (Activation)    (None, 29, 29, 32)   0           ['batch_normalization_680[0][0]']\n",
            "                                                                                                  \n",
            " mixed0 (Concatenate)           (None, 29, 29, 256)  0           ['activation_663[0][0]',         \n",
            "                                                                  'activation_665[0][0]',         \n",
            "                                                                  'activation_668[0][0]',         \n",
            "                                                                  'activation_669[0][0]']         \n",
            "                                                                                                  \n",
            " conv2d_673 (Conv2D)            (None, 29, 29, 64)   16384       ['mixed0[0][0]']                 \n",
            "                                                                                                  \n",
            " batch_normalization_684 (Batch  (None, 29, 29, 64)  192         ['conv2d_673[0][0]']             \n",
            " Normalization)                                                                                   \n",
            "                                                                                                  \n",
            " activation_673 (Activation)    (None, 29, 29, 64)   0           ['batch_normalization_684[0][0]']\n",
            "                                                                                                  \n",
            " conv2d_671 (Conv2D)            (None, 29, 29, 48)   12288       ['mixed0[0][0]']                 \n",
            "                                                                                                  \n",
            " conv2d_674 (Conv2D)            (None, 29, 29, 96)   55296       ['activation_673[0][0]']         \n",
            "                                                                                                  \n",
            " batch_normalization_682 (Batch  (None, 29, 29, 48)  144         ['conv2d_671[0][0]']             \n",
            " Normalization)                                                                                   \n",
            "                                                                                                  \n",
            " batch_normalization_685 (Batch  (None, 29, 29, 96)  288         ['conv2d_674[0][0]']             \n",
            " Normalization)                                                                                   \n",
            "                                                                                                  \n",
            " activation_671 (Activation)    (None, 29, 29, 48)   0           ['batch_normalization_682[0][0]']\n",
            "                                                                                                  \n",
            " activation_674 (Activation)    (None, 29, 29, 96)   0           ['batch_normalization_685[0][0]']\n",
            "                                                                                                  \n",
            " average_pooling2d_64 (AverageP  (None, 29, 29, 256)  0          ['mixed0[0][0]']                 \n",
            " ooling2D)                                                                                        \n",
            "                                                                                                  \n",
            " conv2d_670 (Conv2D)            (None, 29, 29, 64)   16384       ['mixed0[0][0]']                 \n",
            "                                                                                                  \n",
            " conv2d_672 (Conv2D)            (None, 29, 29, 64)   76800       ['activation_671[0][0]']         \n",
            "                                                                                                  \n",
            " conv2d_675 (Conv2D)            (None, 29, 29, 96)   82944       ['activation_674[0][0]']         \n",
            "                                                                                                  \n",
            " conv2d_676 (Conv2D)            (None, 29, 29, 64)   16384       ['average_pooling2d_64[0][0]']   \n",
            "                                                                                                  \n",
            " batch_normalization_681 (Batch  (None, 29, 29, 64)  192         ['conv2d_670[0][0]']             \n",
            " Normalization)                                                                                   \n",
            "                                                                                                  \n",
            " batch_normalization_683 (Batch  (None, 29, 29, 64)  192         ['conv2d_672[0][0]']             \n",
            " Normalization)                                                                                   \n",
            "                                                                                                  \n",
            " batch_normalization_686 (Batch  (None, 29, 29, 96)  288         ['conv2d_675[0][0]']             \n",
            " Normalization)                                                                                   \n",
            "                                                                                                  \n",
            " batch_normalization_687 (Batch  (None, 29, 29, 64)  192         ['conv2d_676[0][0]']             \n",
            " Normalization)                                                                                   \n",
            "                                                                                                  \n",
            " activation_670 (Activation)    (None, 29, 29, 64)   0           ['batch_normalization_681[0][0]']\n",
            "                                                                                                  \n",
            " activation_672 (Activation)    (None, 29, 29, 64)   0           ['batch_normalization_683[0][0]']\n",
            "                                                                                                  \n",
            " activation_675 (Activation)    (None, 29, 29, 96)   0           ['batch_normalization_686[0][0]']\n",
            "                                                                                                  \n",
            " activation_676 (Activation)    (None, 29, 29, 64)   0           ['batch_normalization_687[0][0]']\n",
            "                                                                                                  \n",
            " mixed1 (Concatenate)           (None, 29, 29, 288)  0           ['activation_670[0][0]',         \n",
            "                                                                  'activation_672[0][0]',         \n",
            "                                                                  'activation_675[0][0]',         \n",
            "                                                                  'activation_676[0][0]']         \n",
            "                                                                                                  \n",
            " conv2d_680 (Conv2D)            (None, 29, 29, 64)   18432       ['mixed1[0][0]']                 \n",
            "                                                                                                  \n",
            " batch_normalization_691 (Batch  (None, 29, 29, 64)  192         ['conv2d_680[0][0]']             \n",
            " Normalization)                                                                                   \n",
            "                                                                                                  \n",
            " activation_680 (Activation)    (None, 29, 29, 64)   0           ['batch_normalization_691[0][0]']\n",
            "                                                                                                  \n",
            " conv2d_678 (Conv2D)            (None, 29, 29, 48)   13824       ['mixed1[0][0]']                 \n",
            "                                                                                                  \n",
            " conv2d_681 (Conv2D)            (None, 29, 29, 96)   55296       ['activation_680[0][0]']         \n",
            "                                                                                                  \n",
            " batch_normalization_689 (Batch  (None, 29, 29, 48)  144         ['conv2d_678[0][0]']             \n",
            " Normalization)                                                                                   \n",
            "                                                                                                  \n",
            " batch_normalization_692 (Batch  (None, 29, 29, 96)  288         ['conv2d_681[0][0]']             \n",
            " Normalization)                                                                                   \n",
            "                                                                                                  \n",
            " activation_678 (Activation)    (None, 29, 29, 48)   0           ['batch_normalization_689[0][0]']\n",
            "                                                                                                  \n",
            " activation_681 (Activation)    (None, 29, 29, 96)   0           ['batch_normalization_692[0][0]']\n",
            "                                                                                                  \n",
            " average_pooling2d_65 (AverageP  (None, 29, 29, 288)  0          ['mixed1[0][0]']                 \n",
            " ooling2D)                                                                                        \n",
            "                                                                                                  \n",
            " conv2d_677 (Conv2D)            (None, 29, 29, 64)   18432       ['mixed1[0][0]']                 \n",
            "                                                                                                  \n",
            " conv2d_679 (Conv2D)            (None, 29, 29, 64)   76800       ['activation_678[0][0]']         \n",
            "                                                                                                  \n",
            " conv2d_682 (Conv2D)            (None, 29, 29, 96)   82944       ['activation_681[0][0]']         \n",
            "                                                                                                  \n",
            " conv2d_683 (Conv2D)            (None, 29, 29, 64)   18432       ['average_pooling2d_65[0][0]']   \n",
            "                                                                                                  \n",
            " batch_normalization_688 (Batch  (None, 29, 29, 64)  192         ['conv2d_677[0][0]']             \n",
            " Normalization)                                                                                   \n",
            "                                                                                                  \n",
            " batch_normalization_690 (Batch  (None, 29, 29, 64)  192         ['conv2d_679[0][0]']             \n",
            " Normalization)                                                                                   \n",
            "                                                                                                  \n",
            " batch_normalization_693 (Batch  (None, 29, 29, 96)  288         ['conv2d_682[0][0]']             \n",
            " Normalization)                                                                                   \n",
            "                                                                                                  \n",
            " batch_normalization_694 (Batch  (None, 29, 29, 64)  192         ['conv2d_683[0][0]']             \n",
            " Normalization)                                                                                   \n",
            "                                                                                                  \n",
            " activation_677 (Activation)    (None, 29, 29, 64)   0           ['batch_normalization_688[0][0]']\n",
            "                                                                                                  \n",
            " activation_679 (Activation)    (None, 29, 29, 64)   0           ['batch_normalization_690[0][0]']\n",
            "                                                                                                  \n",
            " activation_682 (Activation)    (None, 29, 29, 96)   0           ['batch_normalization_693[0][0]']\n",
            "                                                                                                  \n",
            " activation_683 (Activation)    (None, 29, 29, 64)   0           ['batch_normalization_694[0][0]']\n",
            "                                                                                                  \n",
            " mixed2 (Concatenate)           (None, 29, 29, 288)  0           ['activation_677[0][0]',         \n",
            "                                                                  'activation_679[0][0]',         \n",
            "                                                                  'activation_682[0][0]',         \n",
            "                                                                  'activation_683[0][0]']         \n",
            "                                                                                                  \n",
            " conv2d_685 (Conv2D)            (None, 29, 29, 64)   18432       ['mixed2[0][0]']                 \n",
            "                                                                                                  \n",
            " batch_normalization_696 (Batch  (None, 29, 29, 64)  192         ['conv2d_685[0][0]']             \n",
            " Normalization)                                                                                   \n",
            "                                                                                                  \n",
            " activation_685 (Activation)    (None, 29, 29, 64)   0           ['batch_normalization_696[0][0]']\n",
            "                                                                                                  \n",
            " conv2d_686 (Conv2D)            (None, 29, 29, 96)   55296       ['activation_685[0][0]']         \n",
            "                                                                                                  \n",
            " batch_normalization_697 (Batch  (None, 29, 29, 96)  288         ['conv2d_686[0][0]']             \n",
            " Normalization)                                                                                   \n",
            "                                                                                                  \n",
            " activation_686 (Activation)    (None, 29, 29, 96)   0           ['batch_normalization_697[0][0]']\n",
            "                                                                                                  \n",
            " conv2d_684 (Conv2D)            (None, 14, 14, 384)  995328      ['mixed2[0][0]']                 \n",
            "                                                                                                  \n",
            " conv2d_687 (Conv2D)            (None, 14, 14, 96)   82944       ['activation_686[0][0]']         \n",
            "                                                                                                  \n",
            " batch_normalization_695 (Batch  (None, 14, 14, 384)  1152       ['conv2d_684[0][0]']             \n",
            " Normalization)                                                                                   \n",
            "                                                                                                  \n",
            " batch_normalization_698 (Batch  (None, 14, 14, 96)  288         ['conv2d_687[0][0]']             \n",
            " Normalization)                                                                                   \n",
            "                                                                                                  \n",
            " activation_684 (Activation)    (None, 14, 14, 384)  0           ['batch_normalization_695[0][0]']\n",
            "                                                                                                  \n",
            " activation_687 (Activation)    (None, 14, 14, 96)   0           ['batch_normalization_698[0][0]']\n",
            "                                                                                                  \n",
            " max_pooling2d_30 (MaxPooling2D  (None, 14, 14, 288)  0          ['mixed2[0][0]']                 \n",
            " )                                                                                                \n",
            "                                                                                                  \n",
            " mixed3 (Concatenate)           (None, 14, 14, 768)  0           ['activation_684[0][0]',         \n",
            "                                                                  'activation_687[0][0]',         \n",
            "                                                                  'max_pooling2d_30[0][0]']       \n",
            "                                                                                                  \n",
            " conv2d_692 (Conv2D)            (None, 14, 14, 128)  98304       ['mixed3[0][0]']                 \n",
            "                                                                                                  \n",
            " batch_normalization_703 (Batch  (None, 14, 14, 128)  384        ['conv2d_692[0][0]']             \n",
            " Normalization)                                                                                   \n",
            "                                                                                                  \n",
            " activation_692 (Activation)    (None, 14, 14, 128)  0           ['batch_normalization_703[0][0]']\n",
            "                                                                                                  \n",
            " conv2d_693 (Conv2D)            (None, 14, 14, 128)  114688      ['activation_692[0][0]']         \n",
            "                                                                                                  \n",
            " batch_normalization_704 (Batch  (None, 14, 14, 128)  384        ['conv2d_693[0][0]']             \n",
            " Normalization)                                                                                   \n",
            "                                                                                                  \n",
            " activation_693 (Activation)    (None, 14, 14, 128)  0           ['batch_normalization_704[0][0]']\n",
            "                                                                                                  \n",
            " conv2d_689 (Conv2D)            (None, 14, 14, 128)  98304       ['mixed3[0][0]']                 \n",
            "                                                                                                  \n",
            " conv2d_694 (Conv2D)            (None, 14, 14, 128)  114688      ['activation_693[0][0]']         \n",
            "                                                                                                  \n",
            " batch_normalization_700 (Batch  (None, 14, 14, 128)  384        ['conv2d_689[0][0]']             \n",
            " Normalization)                                                                                   \n",
            "                                                                                                  \n",
            " batch_normalization_705 (Batch  (None, 14, 14, 128)  384        ['conv2d_694[0][0]']             \n",
            " Normalization)                                                                                   \n",
            "                                                                                                  \n",
            " activation_689 (Activation)    (None, 14, 14, 128)  0           ['batch_normalization_700[0][0]']\n",
            "                                                                                                  \n",
            " activation_694 (Activation)    (None, 14, 14, 128)  0           ['batch_normalization_705[0][0]']\n",
            "                                                                                                  \n",
            " conv2d_690 (Conv2D)            (None, 14, 14, 128)  114688      ['activation_689[0][0]']         \n",
            "                                                                                                  \n",
            " conv2d_695 (Conv2D)            (None, 14, 14, 128)  114688      ['activation_694[0][0]']         \n",
            "                                                                                                  \n",
            " batch_normalization_701 (Batch  (None, 14, 14, 128)  384        ['conv2d_690[0][0]']             \n",
            " Normalization)                                                                                   \n",
            "                                                                                                  \n",
            " batch_normalization_706 (Batch  (None, 14, 14, 128)  384        ['conv2d_695[0][0]']             \n",
            " Normalization)                                                                                   \n",
            "                                                                                                  \n",
            " activation_690 (Activation)    (None, 14, 14, 128)  0           ['batch_normalization_701[0][0]']\n",
            "                                                                                                  \n",
            " activation_695 (Activation)    (None, 14, 14, 128)  0           ['batch_normalization_706[0][0]']\n",
            "                                                                                                  \n",
            " average_pooling2d_66 (AverageP  (None, 14, 14, 768)  0          ['mixed3[0][0]']                 \n",
            " ooling2D)                                                                                        \n",
            "                                                                                                  \n",
            " conv2d_688 (Conv2D)            (None, 14, 14, 192)  147456      ['mixed3[0][0]']                 \n",
            "                                                                                                  \n",
            " conv2d_691 (Conv2D)            (None, 14, 14, 192)  172032      ['activation_690[0][0]']         \n",
            "                                                                                                  \n",
            " conv2d_696 (Conv2D)            (None, 14, 14, 192)  172032      ['activation_695[0][0]']         \n",
            "                                                                                                  \n",
            " conv2d_697 (Conv2D)            (None, 14, 14, 192)  147456      ['average_pooling2d_66[0][0]']   \n",
            "                                                                                                  \n",
            " batch_normalization_699 (Batch  (None, 14, 14, 192)  576        ['conv2d_688[0][0]']             \n",
            " Normalization)                                                                                   \n",
            "                                                                                                  \n",
            " batch_normalization_702 (Batch  (None, 14, 14, 192)  576        ['conv2d_691[0][0]']             \n",
            " Normalization)                                                                                   \n",
            "                                                                                                  \n",
            " batch_normalization_707 (Batch  (None, 14, 14, 192)  576        ['conv2d_696[0][0]']             \n",
            " Normalization)                                                                                   \n",
            "                                                                                                  \n",
            " batch_normalization_708 (Batch  (None, 14, 14, 192)  576        ['conv2d_697[0][0]']             \n",
            " Normalization)                                                                                   \n",
            "                                                                                                  \n",
            " activation_688 (Activation)    (None, 14, 14, 192)  0           ['batch_normalization_699[0][0]']\n",
            "                                                                                                  \n",
            " activation_691 (Activation)    (None, 14, 14, 192)  0           ['batch_normalization_702[0][0]']\n",
            "                                                                                                  \n",
            " activation_696 (Activation)    (None, 14, 14, 192)  0           ['batch_normalization_707[0][0]']\n",
            "                                                                                                  \n",
            " activation_697 (Activation)    (None, 14, 14, 192)  0           ['batch_normalization_708[0][0]']\n",
            "                                                                                                  \n",
            " mixed4 (Concatenate)           (None, 14, 14, 768)  0           ['activation_688[0][0]',         \n",
            "                                                                  'activation_691[0][0]',         \n",
            "                                                                  'activation_696[0][0]',         \n",
            "                                                                  'activation_697[0][0]']         \n",
            "                                                                                                  \n",
            " conv2d_702 (Conv2D)            (None, 14, 14, 160)  122880      ['mixed4[0][0]']                 \n",
            "                                                                                                  \n",
            " batch_normalization_713 (Batch  (None, 14, 14, 160)  480        ['conv2d_702[0][0]']             \n",
            " Normalization)                                                                                   \n",
            "                                                                                                  \n",
            " activation_702 (Activation)    (None, 14, 14, 160)  0           ['batch_normalization_713[0][0]']\n",
            "                                                                                                  \n",
            " conv2d_703 (Conv2D)            (None, 14, 14, 160)  179200      ['activation_702[0][0]']         \n",
            "                                                                                                  \n",
            " batch_normalization_714 (Batch  (None, 14, 14, 160)  480        ['conv2d_703[0][0]']             \n",
            " Normalization)                                                                                   \n",
            "                                                                                                  \n",
            " activation_703 (Activation)    (None, 14, 14, 160)  0           ['batch_normalization_714[0][0]']\n",
            "                                                                                                  \n",
            " conv2d_699 (Conv2D)            (None, 14, 14, 160)  122880      ['mixed4[0][0]']                 \n",
            "                                                                                                  \n",
            " conv2d_704 (Conv2D)            (None, 14, 14, 160)  179200      ['activation_703[0][0]']         \n",
            "                                                                                                  \n",
            " batch_normalization_710 (Batch  (None, 14, 14, 160)  480        ['conv2d_699[0][0]']             \n",
            " Normalization)                                                                                   \n",
            "                                                                                                  \n",
            " batch_normalization_715 (Batch  (None, 14, 14, 160)  480        ['conv2d_704[0][0]']             \n",
            " Normalization)                                                                                   \n",
            "                                                                                                  \n",
            " activation_699 (Activation)    (None, 14, 14, 160)  0           ['batch_normalization_710[0][0]']\n",
            "                                                                                                  \n",
            " activation_704 (Activation)    (None, 14, 14, 160)  0           ['batch_normalization_715[0][0]']\n",
            "                                                                                                  \n",
            " conv2d_700 (Conv2D)            (None, 14, 14, 160)  179200      ['activation_699[0][0]']         \n",
            "                                                                                                  \n",
            " conv2d_705 (Conv2D)            (None, 14, 14, 160)  179200      ['activation_704[0][0]']         \n",
            "                                                                                                  \n",
            " batch_normalization_711 (Batch  (None, 14, 14, 160)  480        ['conv2d_700[0][0]']             \n",
            " Normalization)                                                                                   \n",
            "                                                                                                  \n",
            " batch_normalization_716 (Batch  (None, 14, 14, 160)  480        ['conv2d_705[0][0]']             \n",
            " Normalization)                                                                                   \n",
            "                                                                                                  \n",
            " activation_700 (Activation)    (None, 14, 14, 160)  0           ['batch_normalization_711[0][0]']\n",
            "                                                                                                  \n",
            " activation_705 (Activation)    (None, 14, 14, 160)  0           ['batch_normalization_716[0][0]']\n",
            "                                                                                                  \n",
            " average_pooling2d_67 (AverageP  (None, 14, 14, 768)  0          ['mixed4[0][0]']                 \n",
            " ooling2D)                                                                                        \n",
            "                                                                                                  \n",
            " conv2d_698 (Conv2D)            (None, 14, 14, 192)  147456      ['mixed4[0][0]']                 \n",
            "                                                                                                  \n",
            " conv2d_701 (Conv2D)            (None, 14, 14, 192)  215040      ['activation_700[0][0]']         \n",
            "                                                                                                  \n",
            " conv2d_706 (Conv2D)            (None, 14, 14, 192)  215040      ['activation_705[0][0]']         \n",
            "                                                                                                  \n",
            " conv2d_707 (Conv2D)            (None, 14, 14, 192)  147456      ['average_pooling2d_67[0][0]']   \n",
            "                                                                                                  \n",
            " batch_normalization_709 (Batch  (None, 14, 14, 192)  576        ['conv2d_698[0][0]']             \n",
            " Normalization)                                                                                   \n",
            "                                                                                                  \n",
            " batch_normalization_712 (Batch  (None, 14, 14, 192)  576        ['conv2d_701[0][0]']             \n",
            " Normalization)                                                                                   \n",
            "                                                                                                  \n",
            " batch_normalization_717 (Batch  (None, 14, 14, 192)  576        ['conv2d_706[0][0]']             \n",
            " Normalization)                                                                                   \n",
            "                                                                                                  \n",
            " batch_normalization_718 (Batch  (None, 14, 14, 192)  576        ['conv2d_707[0][0]']             \n",
            " Normalization)                                                                                   \n",
            "                                                                                                  \n",
            " activation_698 (Activation)    (None, 14, 14, 192)  0           ['batch_normalization_709[0][0]']\n",
            "                                                                                                  \n",
            " activation_701 (Activation)    (None, 14, 14, 192)  0           ['batch_normalization_712[0][0]']\n",
            "                                                                                                  \n",
            " activation_706 (Activation)    (None, 14, 14, 192)  0           ['batch_normalization_717[0][0]']\n",
            "                                                                                                  \n",
            " activation_707 (Activation)    (None, 14, 14, 192)  0           ['batch_normalization_718[0][0]']\n",
            "                                                                                                  \n",
            " mixed5 (Concatenate)           (None, 14, 14, 768)  0           ['activation_698[0][0]',         \n",
            "                                                                  'activation_701[0][0]',         \n",
            "                                                                  'activation_706[0][0]',         \n",
            "                                                                  'activation_707[0][0]']         \n",
            "                                                                                                  \n",
            " conv2d_712 (Conv2D)            (None, 14, 14, 160)  122880      ['mixed5[0][0]']                 \n",
            "                                                                                                  \n",
            " batch_normalization_723 (Batch  (None, 14, 14, 160)  480        ['conv2d_712[0][0]']             \n",
            " Normalization)                                                                                   \n",
            "                                                                                                  \n",
            " activation_712 (Activation)    (None, 14, 14, 160)  0           ['batch_normalization_723[0][0]']\n",
            "                                                                                                  \n",
            " conv2d_713 (Conv2D)            (None, 14, 14, 160)  179200      ['activation_712[0][0]']         \n",
            "                                                                                                  \n",
            " batch_normalization_724 (Batch  (None, 14, 14, 160)  480        ['conv2d_713[0][0]']             \n",
            " Normalization)                                                                                   \n",
            "                                                                                                  \n",
            " activation_713 (Activation)    (None, 14, 14, 160)  0           ['batch_normalization_724[0][0]']\n",
            "                                                                                                  \n",
            " conv2d_709 (Conv2D)            (None, 14, 14, 160)  122880      ['mixed5[0][0]']                 \n",
            "                                                                                                  \n",
            " conv2d_714 (Conv2D)            (None, 14, 14, 160)  179200      ['activation_713[0][0]']         \n",
            "                                                                                                  \n",
            " batch_normalization_720 (Batch  (None, 14, 14, 160)  480        ['conv2d_709[0][0]']             \n",
            " Normalization)                                                                                   \n",
            "                                                                                                  \n",
            " batch_normalization_725 (Batch  (None, 14, 14, 160)  480        ['conv2d_714[0][0]']             \n",
            " Normalization)                                                                                   \n",
            "                                                                                                  \n",
            " activation_709 (Activation)    (None, 14, 14, 160)  0           ['batch_normalization_720[0][0]']\n",
            "                                                                                                  \n",
            " activation_714 (Activation)    (None, 14, 14, 160)  0           ['batch_normalization_725[0][0]']\n",
            "                                                                                                  \n",
            " conv2d_710 (Conv2D)            (None, 14, 14, 160)  179200      ['activation_709[0][0]']         \n",
            "                                                                                                  \n",
            " conv2d_715 (Conv2D)            (None, 14, 14, 160)  179200      ['activation_714[0][0]']         \n",
            "                                                                                                  \n",
            " batch_normalization_721 (Batch  (None, 14, 14, 160)  480        ['conv2d_710[0][0]']             \n",
            " Normalization)                                                                                   \n",
            "                                                                                                  \n",
            " batch_normalization_726 (Batch  (None, 14, 14, 160)  480        ['conv2d_715[0][0]']             \n",
            " Normalization)                                                                                   \n",
            "                                                                                                  \n",
            " activation_710 (Activation)    (None, 14, 14, 160)  0           ['batch_normalization_721[0][0]']\n",
            "                                                                                                  \n",
            " activation_715 (Activation)    (None, 14, 14, 160)  0           ['batch_normalization_726[0][0]']\n",
            "                                                                                                  \n",
            " average_pooling2d_68 (AverageP  (None, 14, 14, 768)  0          ['mixed5[0][0]']                 \n",
            " ooling2D)                                                                                        \n",
            "                                                                                                  \n",
            " conv2d_708 (Conv2D)            (None, 14, 14, 192)  147456      ['mixed5[0][0]']                 \n",
            "                                                                                                  \n",
            " conv2d_711 (Conv2D)            (None, 14, 14, 192)  215040      ['activation_710[0][0]']         \n",
            "                                                                                                  \n",
            " conv2d_716 (Conv2D)            (None, 14, 14, 192)  215040      ['activation_715[0][0]']         \n",
            "                                                                                                  \n",
            " conv2d_717 (Conv2D)            (None, 14, 14, 192)  147456      ['average_pooling2d_68[0][0]']   \n",
            "                                                                                                  \n",
            " batch_normalization_719 (Batch  (None, 14, 14, 192)  576        ['conv2d_708[0][0]']             \n",
            " Normalization)                                                                                   \n",
            "                                                                                                  \n",
            " batch_normalization_722 (Batch  (None, 14, 14, 192)  576        ['conv2d_711[0][0]']             \n",
            " Normalization)                                                                                   \n",
            "                                                                                                  \n",
            " batch_normalization_727 (Batch  (None, 14, 14, 192)  576        ['conv2d_716[0][0]']             \n",
            " Normalization)                                                                                   \n",
            "                                                                                                  \n",
            " batch_normalization_728 (Batch  (None, 14, 14, 192)  576        ['conv2d_717[0][0]']             \n",
            " Normalization)                                                                                   \n",
            "                                                                                                  \n",
            " activation_708 (Activation)    (None, 14, 14, 192)  0           ['batch_normalization_719[0][0]']\n",
            "                                                                                                  \n",
            " activation_711 (Activation)    (None, 14, 14, 192)  0           ['batch_normalization_722[0][0]']\n",
            "                                                                                                  \n",
            " activation_716 (Activation)    (None, 14, 14, 192)  0           ['batch_normalization_727[0][0]']\n",
            "                                                                                                  \n",
            " activation_717 (Activation)    (None, 14, 14, 192)  0           ['batch_normalization_728[0][0]']\n",
            "                                                                                                  \n",
            " mixed6 (Concatenate)           (None, 14, 14, 768)  0           ['activation_708[0][0]',         \n",
            "                                                                  'activation_711[0][0]',         \n",
            "                                                                  'activation_716[0][0]',         \n",
            "                                                                  'activation_717[0][0]']         \n",
            "                                                                                                  \n",
            " conv2d_722 (Conv2D)            (None, 14, 14, 192)  147456      ['mixed6[0][0]']                 \n",
            "                                                                                                  \n",
            " batch_normalization_733 (Batch  (None, 14, 14, 192)  576        ['conv2d_722[0][0]']             \n",
            " Normalization)                                                                                   \n",
            "                                                                                                  \n",
            " activation_722 (Activation)    (None, 14, 14, 192)  0           ['batch_normalization_733[0][0]']\n",
            "                                                                                                  \n",
            " conv2d_723 (Conv2D)            (None, 14, 14, 192)  258048      ['activation_722[0][0]']         \n",
            "                                                                                                  \n",
            " batch_normalization_734 (Batch  (None, 14, 14, 192)  576        ['conv2d_723[0][0]']             \n",
            " Normalization)                                                                                   \n",
            "                                                                                                  \n",
            " activation_723 (Activation)    (None, 14, 14, 192)  0           ['batch_normalization_734[0][0]']\n",
            "                                                                                                  \n",
            " conv2d_719 (Conv2D)            (None, 14, 14, 192)  147456      ['mixed6[0][0]']                 \n",
            "                                                                                                  \n",
            " conv2d_724 (Conv2D)            (None, 14, 14, 192)  258048      ['activation_723[0][0]']         \n",
            "                                                                                                  \n",
            " batch_normalization_730 (Batch  (None, 14, 14, 192)  576        ['conv2d_719[0][0]']             \n",
            " Normalization)                                                                                   \n",
            "                                                                                                  \n",
            " batch_normalization_735 (Batch  (None, 14, 14, 192)  576        ['conv2d_724[0][0]']             \n",
            " Normalization)                                                                                   \n",
            "                                                                                                  \n",
            " activation_719 (Activation)    (None, 14, 14, 192)  0           ['batch_normalization_730[0][0]']\n",
            "                                                                                                  \n",
            " activation_724 (Activation)    (None, 14, 14, 192)  0           ['batch_normalization_735[0][0]']\n",
            "                                                                                                  \n",
            " conv2d_720 (Conv2D)            (None, 14, 14, 192)  258048      ['activation_719[0][0]']         \n",
            "                                                                                                  \n",
            " conv2d_725 (Conv2D)            (None, 14, 14, 192)  258048      ['activation_724[0][0]']         \n",
            "                                                                                                  \n",
            " batch_normalization_731 (Batch  (None, 14, 14, 192)  576        ['conv2d_720[0][0]']             \n",
            " Normalization)                                                                                   \n",
            "                                                                                                  \n",
            " batch_normalization_736 (Batch  (None, 14, 14, 192)  576        ['conv2d_725[0][0]']             \n",
            " Normalization)                                                                                   \n",
            "                                                                                                  \n",
            " activation_720 (Activation)    (None, 14, 14, 192)  0           ['batch_normalization_731[0][0]']\n",
            "                                                                                                  \n",
            " activation_725 (Activation)    (None, 14, 14, 192)  0           ['batch_normalization_736[0][0]']\n",
            "                                                                                                  \n",
            " average_pooling2d_69 (AverageP  (None, 14, 14, 768)  0          ['mixed6[0][0]']                 \n",
            " ooling2D)                                                                                        \n",
            "                                                                                                  \n",
            " conv2d_718 (Conv2D)            (None, 14, 14, 192)  147456      ['mixed6[0][0]']                 \n",
            "                                                                                                  \n",
            " conv2d_721 (Conv2D)            (None, 14, 14, 192)  258048      ['activation_720[0][0]']         \n",
            "                                                                                                  \n",
            " conv2d_726 (Conv2D)            (None, 14, 14, 192)  258048      ['activation_725[0][0]']         \n",
            "                                                                                                  \n",
            " conv2d_727 (Conv2D)            (None, 14, 14, 192)  147456      ['average_pooling2d_69[0][0]']   \n",
            "                                                                                                  \n",
            " batch_normalization_729 (Batch  (None, 14, 14, 192)  576        ['conv2d_718[0][0]']             \n",
            " Normalization)                                                                                   \n",
            "                                                                                                  \n",
            " batch_normalization_732 (Batch  (None, 14, 14, 192)  576        ['conv2d_721[0][0]']             \n",
            " Normalization)                                                                                   \n",
            "                                                                                                  \n",
            " batch_normalization_737 (Batch  (None, 14, 14, 192)  576        ['conv2d_726[0][0]']             \n",
            " Normalization)                                                                                   \n",
            "                                                                                                  \n",
            " batch_normalization_738 (Batch  (None, 14, 14, 192)  576        ['conv2d_727[0][0]']             \n",
            " Normalization)                                                                                   \n",
            "                                                                                                  \n",
            " activation_718 (Activation)    (None, 14, 14, 192)  0           ['batch_normalization_729[0][0]']\n",
            "                                                                                                  \n",
            " activation_721 (Activation)    (None, 14, 14, 192)  0           ['batch_normalization_732[0][0]']\n",
            "                                                                                                  \n",
            " activation_726 (Activation)    (None, 14, 14, 192)  0           ['batch_normalization_737[0][0]']\n",
            "                                                                                                  \n",
            " activation_727 (Activation)    (None, 14, 14, 192)  0           ['batch_normalization_738[0][0]']\n",
            "                                                                                                  \n",
            " mixed7 (Concatenate)           (None, 14, 14, 768)  0           ['activation_718[0][0]',         \n",
            "                                                                  'activation_721[0][0]',         \n",
            "                                                                  'activation_726[0][0]',         \n",
            "                                                                  'activation_727[0][0]']         \n",
            "                                                                                                  \n",
            " conv2d_730 (Conv2D)            (None, 14, 14, 192)  147456      ['mixed7[0][0]']                 \n",
            "                                                                                                  \n",
            " batch_normalization_741 (Batch  (None, 14, 14, 192)  576        ['conv2d_730[0][0]']             \n",
            " Normalization)                                                                                   \n",
            "                                                                                                  \n",
            " activation_730 (Activation)    (None, 14, 14, 192)  0           ['batch_normalization_741[0][0]']\n",
            "                                                                                                  \n",
            " conv2d_731 (Conv2D)            (None, 14, 14, 192)  258048      ['activation_730[0][0]']         \n",
            "                                                                                                  \n",
            " batch_normalization_742 (Batch  (None, 14, 14, 192)  576        ['conv2d_731[0][0]']             \n",
            " Normalization)                                                                                   \n",
            "                                                                                                  \n",
            " activation_731 (Activation)    (None, 14, 14, 192)  0           ['batch_normalization_742[0][0]']\n",
            "                                                                                                  \n",
            " conv2d_728 (Conv2D)            (None, 14, 14, 192)  147456      ['mixed7[0][0]']                 \n",
            "                                                                                                  \n",
            " conv2d_732 (Conv2D)            (None, 14, 14, 192)  258048      ['activation_731[0][0]']         \n",
            "                                                                                                  \n",
            " batch_normalization_739 (Batch  (None, 14, 14, 192)  576        ['conv2d_728[0][0]']             \n",
            " Normalization)                                                                                   \n",
            "                                                                                                  \n",
            " batch_normalization_743 (Batch  (None, 14, 14, 192)  576        ['conv2d_732[0][0]']             \n",
            " Normalization)                                                                                   \n",
            "                                                                                                  \n",
            " activation_728 (Activation)    (None, 14, 14, 192)  0           ['batch_normalization_739[0][0]']\n",
            "                                                                                                  \n",
            " activation_732 (Activation)    (None, 14, 14, 192)  0           ['batch_normalization_743[0][0]']\n",
            "                                                                                                  \n",
            " conv2d_729 (Conv2D)            (None, 6, 6, 320)    552960      ['activation_728[0][0]']         \n",
            "                                                                                                  \n",
            " conv2d_733 (Conv2D)            (None, 6, 6, 192)    331776      ['activation_732[0][0]']         \n",
            "                                                                                                  \n",
            " batch_normalization_740 (Batch  (None, 6, 6, 320)   960         ['conv2d_729[0][0]']             \n",
            " Normalization)                                                                                   \n",
            "                                                                                                  \n",
            " batch_normalization_744 (Batch  (None, 6, 6, 192)   576         ['conv2d_733[0][0]']             \n",
            " Normalization)                                                                                   \n",
            "                                                                                                  \n",
            " activation_729 (Activation)    (None, 6, 6, 320)    0           ['batch_normalization_740[0][0]']\n",
            "                                                                                                  \n",
            " activation_733 (Activation)    (None, 6, 6, 192)    0           ['batch_normalization_744[0][0]']\n",
            "                                                                                                  \n",
            " max_pooling2d_31 (MaxPooling2D  (None, 6, 6, 768)   0           ['mixed7[0][0]']                 \n",
            " )                                                                                                \n",
            "                                                                                                  \n",
            " mixed8 (Concatenate)           (None, 6, 6, 1280)   0           ['activation_729[0][0]',         \n",
            "                                                                  'activation_733[0][0]',         \n",
            "                                                                  'max_pooling2d_31[0][0]']       \n",
            "                                                                                                  \n",
            " conv2d_738 (Conv2D)            (None, 6, 6, 448)    573440      ['mixed8[0][0]']                 \n",
            "                                                                                                  \n",
            " batch_normalization_749 (Batch  (None, 6, 6, 448)   1344        ['conv2d_738[0][0]']             \n",
            " Normalization)                                                                                   \n",
            "                                                                                                  \n",
            " activation_738 (Activation)    (None, 6, 6, 448)    0           ['batch_normalization_749[0][0]']\n",
            "                                                                                                  \n",
            " conv2d_735 (Conv2D)            (None, 6, 6, 384)    491520      ['mixed8[0][0]']                 \n",
            "                                                                                                  \n",
            " conv2d_739 (Conv2D)            (None, 6, 6, 384)    1548288     ['activation_738[0][0]']         \n",
            "                                                                                                  \n",
            " batch_normalization_746 (Batch  (None, 6, 6, 384)   1152        ['conv2d_735[0][0]']             \n",
            " Normalization)                                                                                   \n",
            "                                                                                                  \n",
            " batch_normalization_750 (Batch  (None, 6, 6, 384)   1152        ['conv2d_739[0][0]']             \n",
            " Normalization)                                                                                   \n",
            "                                                                                                  \n",
            " activation_735 (Activation)    (None, 6, 6, 384)    0           ['batch_normalization_746[0][0]']\n",
            "                                                                                                  \n",
            " activation_739 (Activation)    (None, 6, 6, 384)    0           ['batch_normalization_750[0][0]']\n",
            "                                                                                                  \n",
            " conv2d_736 (Conv2D)            (None, 6, 6, 384)    442368      ['activation_735[0][0]']         \n",
            "                                                                                                  \n",
            " conv2d_737 (Conv2D)            (None, 6, 6, 384)    442368      ['activation_735[0][0]']         \n",
            "                                                                                                  \n",
            " conv2d_740 (Conv2D)            (None, 6, 6, 384)    442368      ['activation_739[0][0]']         \n",
            "                                                                                                  \n",
            " conv2d_741 (Conv2D)            (None, 6, 6, 384)    442368      ['activation_739[0][0]']         \n",
            "                                                                                                  \n",
            " average_pooling2d_70 (AverageP  (None, 6, 6, 1280)  0           ['mixed8[0][0]']                 \n",
            " ooling2D)                                                                                        \n",
            "                                                                                                  \n",
            " conv2d_734 (Conv2D)            (None, 6, 6, 320)    409600      ['mixed8[0][0]']                 \n",
            "                                                                                                  \n",
            " batch_normalization_747 (Batch  (None, 6, 6, 384)   1152        ['conv2d_736[0][0]']             \n",
            " Normalization)                                                                                   \n",
            "                                                                                                  \n",
            " batch_normalization_748 (Batch  (None, 6, 6, 384)   1152        ['conv2d_737[0][0]']             \n",
            " Normalization)                                                                                   \n",
            "                                                                                                  \n",
            " batch_normalization_751 (Batch  (None, 6, 6, 384)   1152        ['conv2d_740[0][0]']             \n",
            " Normalization)                                                                                   \n",
            "                                                                                                  \n",
            " batch_normalization_752 (Batch  (None, 6, 6, 384)   1152        ['conv2d_741[0][0]']             \n",
            " Normalization)                                                                                   \n",
            "                                                                                                  \n",
            " conv2d_742 (Conv2D)            (None, 6, 6, 192)    245760      ['average_pooling2d_70[0][0]']   \n",
            "                                                                                                  \n",
            " batch_normalization_745 (Batch  (None, 6, 6, 320)   960         ['conv2d_734[0][0]']             \n",
            " Normalization)                                                                                   \n",
            "                                                                                                  \n",
            " activation_736 (Activation)    (None, 6, 6, 384)    0           ['batch_normalization_747[0][0]']\n",
            "                                                                                                  \n",
            " activation_737 (Activation)    (None, 6, 6, 384)    0           ['batch_normalization_748[0][0]']\n",
            "                                                                                                  \n",
            " activation_740 (Activation)    (None, 6, 6, 384)    0           ['batch_normalization_751[0][0]']\n",
            "                                                                                                  \n",
            " activation_741 (Activation)    (None, 6, 6, 384)    0           ['batch_normalization_752[0][0]']\n",
            "                                                                                                  \n",
            " batch_normalization_753 (Batch  (None, 6, 6, 192)   576         ['conv2d_742[0][0]']             \n",
            " Normalization)                                                                                   \n",
            "                                                                                                  \n",
            " activation_734 (Activation)    (None, 6, 6, 320)    0           ['batch_normalization_745[0][0]']\n",
            "                                                                                                  \n",
            " mixed9_0 (Concatenate)         (None, 6, 6, 768)    0           ['activation_736[0][0]',         \n",
            "                                                                  'activation_737[0][0]']         \n",
            "                                                                                                  \n",
            " concatenate_14 (Concatenate)   (None, 6, 6, 768)    0           ['activation_740[0][0]',         \n",
            "                                                                  'activation_741[0][0]']         \n",
            "                                                                                                  \n",
            " activation_742 (Activation)    (None, 6, 6, 192)    0           ['batch_normalization_753[0][0]']\n",
            "                                                                                                  \n",
            " mixed9 (Concatenate)           (None, 6, 6, 2048)   0           ['activation_734[0][0]',         \n",
            "                                                                  'mixed9_0[0][0]',               \n",
            "                                                                  'concatenate_14[0][0]',         \n",
            "                                                                  'activation_742[0][0]']         \n",
            "                                                                                                  \n",
            " conv2d_747 (Conv2D)            (None, 6, 6, 448)    917504      ['mixed9[0][0]']                 \n",
            "                                                                                                  \n",
            " batch_normalization_758 (Batch  (None, 6, 6, 448)   1344        ['conv2d_747[0][0]']             \n",
            " Normalization)                                                                                   \n",
            "                                                                                                  \n",
            " activation_747 (Activation)    (None, 6, 6, 448)    0           ['batch_normalization_758[0][0]']\n",
            "                                                                                                  \n",
            " conv2d_744 (Conv2D)            (None, 6, 6, 384)    786432      ['mixed9[0][0]']                 \n",
            "                                                                                                  \n",
            " conv2d_748 (Conv2D)            (None, 6, 6, 384)    1548288     ['activation_747[0][0]']         \n",
            "                                                                                                  \n",
            " batch_normalization_755 (Batch  (None, 6, 6, 384)   1152        ['conv2d_744[0][0]']             \n",
            " Normalization)                                                                                   \n",
            "                                                                                                  \n",
            " batch_normalization_759 (Batch  (None, 6, 6, 384)   1152        ['conv2d_748[0][0]']             \n",
            " Normalization)                                                                                   \n",
            "                                                                                                  \n",
            " activation_744 (Activation)    (None, 6, 6, 384)    0           ['batch_normalization_755[0][0]']\n",
            "                                                                                                  \n",
            " activation_748 (Activation)    (None, 6, 6, 384)    0           ['batch_normalization_759[0][0]']\n",
            "                                                                                                  \n",
            " conv2d_745 (Conv2D)            (None, 6, 6, 384)    442368      ['activation_744[0][0]']         \n",
            "                                                                                                  \n",
            " conv2d_746 (Conv2D)            (None, 6, 6, 384)    442368      ['activation_744[0][0]']         \n",
            "                                                                                                  \n",
            " conv2d_749 (Conv2D)            (None, 6, 6, 384)    442368      ['activation_748[0][0]']         \n",
            "                                                                                                  \n",
            " conv2d_750 (Conv2D)            (None, 6, 6, 384)    442368      ['activation_748[0][0]']         \n",
            "                                                                                                  \n",
            " average_pooling2d_71 (AverageP  (None, 6, 6, 2048)  0           ['mixed9[0][0]']                 \n",
            " ooling2D)                                                                                        \n",
            "                                                                                                  \n",
            " input_16 (InputLayer)          [(None, 20)]         0           []                               \n",
            "                                                                                                  \n",
            " conv2d_743 (Conv2D)            (None, 6, 6, 320)    655360      ['mixed9[0][0]']                 \n",
            "                                                                                                  \n",
            " batch_normalization_756 (Batch  (None, 6, 6, 384)   1152        ['conv2d_745[0][0]']             \n",
            " Normalization)                                                                                   \n",
            "                                                                                                  \n",
            " batch_normalization_757 (Batch  (None, 6, 6, 384)   1152        ['conv2d_746[0][0]']             \n",
            " Normalization)                                                                                   \n",
            "                                                                                                  \n",
            " batch_normalization_760 (Batch  (None, 6, 6, 384)   1152        ['conv2d_749[0][0]']             \n",
            " Normalization)                                                                                   \n",
            "                                                                                                  \n",
            " batch_normalization_761 (Batch  (None, 6, 6, 384)   1152        ['conv2d_750[0][0]']             \n",
            " Normalization)                                                                                   \n",
            "                                                                                                  \n",
            " conv2d_751 (Conv2D)            (None, 6, 6, 192)    393216      ['average_pooling2d_71[0][0]']   \n",
            "                                                                                                  \n",
            " embedding_7 (Embedding)        (None, 20, 512)      2560000     ['input_16[0][0]']               \n",
            "                                                                                                  \n",
            " batch_normalization_754 (Batch  (None, 6, 6, 320)   960         ['conv2d_743[0][0]']             \n",
            " Normalization)                                                                                   \n",
            "                                                                                                  \n",
            " activation_745 (Activation)    (None, 6, 6, 384)    0           ['batch_normalization_756[0][0]']\n",
            "                                                                                                  \n",
            " activation_746 (Activation)    (None, 6, 6, 384)    0           ['batch_normalization_757[0][0]']\n",
            "                                                                                                  \n",
            " activation_749 (Activation)    (None, 6, 6, 384)    0           ['batch_normalization_760[0][0]']\n",
            "                                                                                                  \n",
            " activation_750 (Activation)    (None, 6, 6, 384)    0           ['batch_normalization_761[0][0]']\n",
            "                                                                                                  \n",
            " batch_normalization_762 (Batch  (None, 6, 6, 192)   576         ['conv2d_751[0][0]']             \n",
            " Normalization)                                                                                   \n",
            "                                                                                                  \n",
            " batch_normalization_763 (Batch  (None, 20, 512)     2048        ['embedding_7[0][0]']            \n",
            " Normalization)                                                                                   \n",
            "                                                                                                  \n",
            " activation_743 (Activation)    (None, 6, 6, 320)    0           ['batch_normalization_754[0][0]']\n",
            "                                                                                                  \n",
            " mixed9_1 (Concatenate)         (None, 6, 6, 768)    0           ['activation_745[0][0]',         \n",
            "                                                                  'activation_746[0][0]']         \n",
            "                                                                                                  \n",
            " concatenate_15 (Concatenate)   (None, 6, 6, 768)    0           ['activation_749[0][0]',         \n",
            "                                                                  'activation_750[0][0]']         \n",
            "                                                                                                  \n",
            " activation_751 (Activation)    (None, 6, 6, 192)    0           ['batch_normalization_762[0][0]']\n",
            "                                                                                                  \n",
            " lstm_11 (LSTM)                 (None, 20, 512)      2099200     ['batch_normalization_763[0][0]']\n",
            "                                                                                                  \n",
            " mixed10 (Concatenate)          (None, 6, 6, 2048)   0           ['activation_743[0][0]',         \n",
            "                                                                  'mixed9_1[0][0]',               \n",
            "                                                                  'concatenate_15[0][0]',         \n",
            "                                                                  'activation_751[0][0]']         \n",
            "                                                                                                  \n",
            " batch_normalization_764 (Batch  (None, 20, 512)     2048        ['lstm_11[0][0]']                \n",
            " Normalization)                                                                                   \n",
            "                                                                                                  \n",
            " global_average_pooling (Global  (None, 2048)        0           ['mixed10[0][0]']                \n",
            " AveragePooling2D)                                                                                \n",
            "                                                                                                  \n",
            " lstm_12 (LSTM)                 (None, 20, 512)      2099200     ['batch_normalization_764[0][0]']\n",
            "                                                                                                  \n",
            " embed_image (Dense)            (None, 256)          524544      ['global_average_pooling[0][0]'] \n",
            "                                                                                                  \n",
            " batch_normalization_765 (Batch  (None, 20, 512)     2048        ['lstm_12[0][0]']                \n",
            " Normalization)                                                                                   \n",
            "                                                                                                  \n",
            " dense_14 (Dense)               (None, 512)          131584      ['embed_image[0][0]']            \n",
            "                                                                                                  \n",
            " lstm_13 (LSTM)                 (None, 512)          2099200     ['batch_normalization_765[0][0]']\n",
            "                                                                                                  \n",
            " add_7 (Add)                    (None, 512)          0           ['dense_14[0][0]',               \n",
            "                                                                  'lstm_13[0][0]']                \n",
            "                                                                                                  \n",
            " dense_15 (Dense)               (None, 5000)         2565000     ['add_7[0][0]']                  \n",
            "                                                                                                  \n",
            "==================================================================================================\n",
            "Total params: 33,887,656\n",
            "Trainable params: 12,081,800\n",
            "Non-trainable params: 21,805,856\n",
            "__________________________________________________________________________________________________\n"
          ]
        }
      ]
    },
    {
      "cell_type": "code",
      "source": [
        "import os\n",
        "from tensorboard.plugins import projector"
      ],
      "metadata": {
        "id": "fJMSCR66D6Hf"
      },
      "execution_count": null,
      "outputs": []
    },
    {
      "cell_type": "code",
      "source": [
        "weights = tf.Variable(actor_model.layers[-23].get_weights()[0][1:])\n",
        "# Create a checkpoint from embedding, the filename and key are the\n",
        "# name of the tensor.\n",
        "log_dir=r'/content/sample_data'\n",
        "checkpoint = tf.train.Checkpoint(embedding=weights)\n",
        "checkpoint.save(os.path.join(log_dir, \"embedding.ckpt\"))\n",
        "# Set up config.\n",
        "config = projector.ProjectorConfig()\n",
        "embedding = config.embeddings.add()\n",
        "# The name of the tensor will be suffixed by `/.ATTRIBUTES/VARIABLE_VALUE`.\n",
        "embedding.tensor_name = \"embedding/.ATTRIBUTES/VARIABLE_VALUE\"\n",
        "embedding.metadata_path = 'metadata.tsv'\n",
        "projector.visualize_embeddings(log_dir, config)"
      ],
      "metadata": {
        "id": "UJLIxu97Dzs_"
      },
      "execution_count": null,
      "outputs": []
    },
    {
      "cell_type": "code",
      "source": [
        "actor_model.layers[-23]"
      ],
      "metadata": {
        "colab": {
          "base_uri": "https://localhost:8080/"
        },
        "id": "or43YYkvC2AE",
        "outputId": "5f72b4e4-cc93-450e-c3c7-800fbb108102"
      },
      "execution_count": null,
      "outputs": [
        {
          "output_type": "execute_result",
          "data": {
            "text/plain": [
              "<keras.layers.embeddings.Embedding at 0x7f545e9cc4d0>"
            ]
          },
          "metadata": {},
          "execution_count": 94
        }
      ]
    },
    {
      "cell_type": "code",
      "source": [
        "# Now run tensorboard against on log data we just saved.\n",
        "!tensorboard --logdir /logs/"
      ],
      "metadata": {
        "colab": {
          "base_uri": "https://localhost:8080/"
        },
        "id": "Fnc42s_bEQKq",
        "outputId": "1594a67d-02d0-4469-da93-352417db5086"
      },
      "execution_count": null,
      "outputs": [
        {
          "output_type": "stream",
          "name": "stdout",
          "text": [
            "2022-01-10 12:59:54.024863: E tensorflow/stream_executor/cuda/cuda_driver.cc:271] failed call to cuInit: CUDA_ERROR_NO_DEVICE: no CUDA-capable device is detected\n",
            "\n",
            "NOTE: Using experimental fast data loading logic. To disable, pass\n",
            "    \"--load_fast=false\" and report issues on GitHub. More details:\n",
            "    https://github.com/tensorflow/tensorboard/issues/4784\n",
            "\n",
            "Serving TensorBoard on localhost; to expose to the network, use a proxy or pass --bind_all\n",
            "TensorBoard 2.7.0 at http://localhost:6006/ (Press CTRL+C to quit)\n"
          ]
        }
      ]
    },
    {
      "cell_type": "code",
      "source": [
        "print(history.history)\n",
        "f = open(\"/content/history_policy_model_lstm_3.pkl\", \"wb\")\n",
        "pickle.dump(model_parameters, f)\n",
        "f.close()   "
      ],
      "metadata": {
        "colab": {
          "base_uri": "https://localhost:8080/",
          "height": 225
        },
        "id": "xndtNRnFkeoE",
        "outputId": "82fcd1ab-3b98-428d-a5d5-678b99a3e283"
      },
      "execution_count": null,
      "outputs": [
        {
          "output_type": "error",
          "ename": "NameError",
          "evalue": "ignored",
          "traceback": [
            "\u001b[0;31m---------------------------------------------------------------------------\u001b[0m",
            "\u001b[0;31mNameError\u001b[0m                                 Traceback (most recent call last)",
            "\u001b[0;32m<ipython-input-23-acd4cbea3e3f>\u001b[0m in \u001b[0;36m<module>\u001b[0;34m()\u001b[0m\n\u001b[0;32m----> 1\u001b[0;31m \u001b[0mprint\u001b[0m\u001b[0;34m(\u001b[0m\u001b[0mhistory\u001b[0m\u001b[0;34m.\u001b[0m\u001b[0mhistory\u001b[0m\u001b[0;34m)\u001b[0m\u001b[0;34m\u001b[0m\u001b[0;34m\u001b[0m\u001b[0m\n\u001b[0m\u001b[1;32m      2\u001b[0m \u001b[0mf\u001b[0m \u001b[0;34m=\u001b[0m \u001b[0mopen\u001b[0m\u001b[0;34m(\u001b[0m\u001b[0;34m\"/content/history_policy_model_lr_lstm.pkl\"\u001b[0m\u001b[0;34m,\u001b[0m \u001b[0;34m\"wb\"\u001b[0m\u001b[0;34m)\u001b[0m\u001b[0;34m\u001b[0m\u001b[0;34m\u001b[0m\u001b[0m\n\u001b[1;32m      3\u001b[0m \u001b[0mpickle\u001b[0m\u001b[0;34m.\u001b[0m\u001b[0mdump\u001b[0m\u001b[0;34m(\u001b[0m\u001b[0mmodel_parameters\u001b[0m\u001b[0;34m,\u001b[0m \u001b[0mf\u001b[0m\u001b[0;34m)\u001b[0m\u001b[0;34m\u001b[0m\u001b[0;34m\u001b[0m\u001b[0m\n\u001b[1;32m      4\u001b[0m \u001b[0mf\u001b[0m\u001b[0;34m.\u001b[0m\u001b[0mclose\u001b[0m\u001b[0;34m(\u001b[0m\u001b[0;34m)\u001b[0m\u001b[0;34m\u001b[0m\u001b[0;34m\u001b[0m\u001b[0m\n",
            "\u001b[0;31mNameError\u001b[0m: name 'history' is not defined"
          ]
        }
      ]
    },
    {
      "cell_type": "code",
      "source": [
        "   import matplotlib.pyplot as plt"
      ],
      "metadata": {
        "id": "Sj9y4cXs-gRv"
      },
      "execution_count": null,
      "outputs": []
    },
    {
      "cell_type": "code",
      "source": [
        "plt.plot(history.history['loss'])\n",
        "plt.plot(history.history['val_loss'])"
      ],
      "metadata": {
        "colab": {
          "base_uri": "https://localhost:8080/",
          "height": 283
        },
        "id": "3eMm-zoHAQfW",
        "outputId": "e5848902-3df4-437b-9daf-e39063268542"
      },
      "execution_count": null,
      "outputs": [
        {
          "output_type": "execute_result",
          "data": {
            "text/plain": [
              "[<matplotlib.lines.Line2D at 0x7f86b0c306d0>]"
            ]
          },
          "metadata": {},
          "execution_count": 160
        },
        {
          "output_type": "display_data",
          "data": {
            "image/png": "[encoded data removed]",
            "text/plain": [
              "<Figure size 432x288 with 1 Axes>"
            ]
          },
          "metadata": {
            "needs_background": "light"
          }
        }
      ]
    },
    {
      "cell_type": "code",
      "source": [
        "plt.plot(history.history['accuracy'])\n",
        "plt.plot(history.history['val_accuracy'])"
      ],
      "metadata": {
        "colab": {
          "base_uri": "https://localhost:8080/",
          "height": 283
        },
        "id": "7aNbVQcUMj5O",
        "outputId": "8f24bfa0-2159-41b5-bc31-2c238dd4cc55"
      },
      "execution_count": null,
      "outputs": [
        {
          "output_type": "execute_result",
          "data": {
            "text/plain": [
              "[<matplotlib.lines.Line2D at 0x7f86b0c17c10>]"
            ]
          },
          "metadata": {},
          "execution_count": 161
        },
        {
          "output_type": "display_data",
          "data": {
            "image/png": "[encoded data removed]",
            "text/plain": [
              "<Figure size 432x288 with 1 Axes>"
            ]
          },
          "metadata": {
            "needs_background": "light"
          }
        }
      ]
    },
    {
      "cell_type": "code",
      "source": [
        "plt.semilogx(history.history['lr'],history.history['loss'])\n",
        "plt.axis([0.001,0.0001,4.5,6.5])"
      ],
      "metadata": {
        "colab": {
          "base_uri": "https://localhost:8080/",
          "height": 189
        },
        "id": "3YtPObwH-Vgq",
        "outputId": "db9f96a3-a21f-4940-bde2-23d169993cf4"
      },
      "execution_count": null,
      "outputs": [
        {
          "output_type": "error",
          "ename": "KeyError",
          "evalue": "ignored",
          "traceback": [
            "\u001b[0;31m---------------------------------------------------------------------------\u001b[0m",
            "\u001b[0;31mKeyError\u001b[0m                                  Traceback (most recent call last)",
            "\u001b[0;32m<ipython-input-162-795a41919e37>\u001b[0m in \u001b[0;36m<module>\u001b[0;34m()\u001b[0m\n\u001b[0;32m----> 1\u001b[0;31m \u001b[0mplt\u001b[0m\u001b[0;34m.\u001b[0m\u001b[0msemilogx\u001b[0m\u001b[0;34m(\u001b[0m\u001b[0mhistory\u001b[0m\u001b[0;34m.\u001b[0m\u001b[0mhistory\u001b[0m\u001b[0;34m[\u001b[0m\u001b[0;34m'lr'\u001b[0m\u001b[0;34m]\u001b[0m\u001b[0;34m,\u001b[0m\u001b[0mhistory\u001b[0m\u001b[0;34m.\u001b[0m\u001b[0mhistory\u001b[0m\u001b[0;34m[\u001b[0m\u001b[0;34m'loss'\u001b[0m\u001b[0;34m]\u001b[0m\u001b[0;34m)\u001b[0m\u001b[0;34m\u001b[0m\u001b[0;34m\u001b[0m\u001b[0m\n\u001b[0m\u001b[1;32m      2\u001b[0m \u001b[0mplt\u001b[0m\u001b[0;34m.\u001b[0m\u001b[0maxis\u001b[0m\u001b[0;34m(\u001b[0m\u001b[0;34m[\u001b[0m\u001b[0;36m0.001\u001b[0m\u001b[0;34m,\u001b[0m\u001b[0;36m0.0001\u001b[0m\u001b[0;34m,\u001b[0m\u001b[0;36m4.5\u001b[0m\u001b[0;34m,\u001b[0m\u001b[0;36m6.5\u001b[0m\u001b[0;34m]\u001b[0m\u001b[0;34m)\u001b[0m\u001b[0;34m\u001b[0m\u001b[0;34m\u001b[0m\u001b[0m\n",
            "\u001b[0;31mKeyError\u001b[0m: 'lr'"
          ]
        }
      ]
    },
    {
      "cell_type": "code",
      "execution_count": null,
      "metadata": {
        "id": "hNMRkq7mKtmZ"
      },
      "outputs": [],
      "source": [
        "actor_model.save_weights('/content/policy_net_model_3.h5')"
      ]
    },
    {
      "cell_type": "code",
      "source": [
        "#actor_model.load_weights()"
      ],
      "metadata": {
        "id": "7uzwYUotGOvW"
      },
      "execution_count": null,
      "outputs": []
    },
    {
      "cell_type": "code",
      "source": [
        "def caption_greedy(policy_net,image,tokenizer,word_index,max_length=20):\n",
        "  caption='startseq'\n",
        "  for i in range(max_length):\n",
        "    input_seq=caption.split(' ')\n",
        "    tokenization=tokenizer.texts_to_sequences(input_seq)\n",
        "    padding=tf.keras.preprocessing.sequence.pad_sequences([tokenization],maxlen=max_length) \n",
        "    predicted_word_index=np.argmax(policy_net.predict([tf.expand_dims(image,axis=0),padding]))\n",
        "    predicted_word=word_index[predicted_word_index]\n",
        "    caption+=' '+predicted_word\n",
        "    if predicted_word =='endseq':\n",
        "      break\n",
        "  return caption"
      ],
      "metadata": {
        "id": "fnrxXXoQ-15m"
      },
      "execution_count": null,
      "outputs": []
    },
    {
      "cell_type": "code",
      "source": [
        "test_img=list(test_cap_tok.keys())[250]\n",
        "test_photo = load_preprocess_img(image_pth_rt + test_img)\n",
        "cap=caption_greedy(actor_model,test_photo,tokenizer,word_index)\n",
        "plt.imshow(test_photo)\n",
        "plt.title(cap)"
      ],
      "metadata": {
        "colab": {
          "base_uri": "https://localhost:8080/",
          "height": 299
        },
        "id": "B9FAQiioYOEi",
        "outputId": "d8a1a200-795d-43f6-8395-8f291357acac"
      },
      "execution_count": null,
      "outputs": [
        {
          "output_type": "execute_result",
          "data": {
            "text/plain": [
              "Text(0.5, 1.0, 'startseq retail retail retail retail retail retail retail retail retail retail retail retail retail retail retail retail retail retail retail retail')"
            ]
          },
          "metadata": {},
          "execution_count": 109
        },
        {
          "output_type": "display_data",
          "data": {
            "image/png": "[encoded data removed]",
            "text/plain": [
              "<Figure size 432x288 with 1 Axes>"
            ]
          },
          "metadata": {
            "needs_background": "light"
          }
        }
      ]
    },
    {
      "cell_type": "code",
      "source": [
        "test_dataset = captions_generation(test_cap_tok, vocab_size, image_pth_rt, max_length)"
      ],
      "metadata": {
        "id": "oijeDQqNftdq"
      },
      "execution_count": null,
      "outputs": []
    },
    {
      "cell_type": "code",
      "source": [
        "import nltk\n",
        "def captions_eval(captions_dic, vocab_size, image_pth_rt,tokenizer, max_length=25, num_captions=1):\n",
        "    images, input_text_seq, output_text = list(), list(), list()\n",
        "    batch_iter = 0\n",
        "    batch_keys = []\n",
        "    while True:\n",
        "        for key, desc_list in captions_dic.items():\n",
        "            # print(key)\n",
        "            batch_keys.append(key)\n",
        "            batch_iter += 1\n",
        "            caption = 0\n",
        "            # retrieve the photo feature\n",
        "\n",
        "            photo = load_preprocess_img(image_pth_rt + key)\n",
        "            for desc in desc_list:\n",
        "                caption += 1\n",
        "                desc = np.squeeze(desc)\n",
        "                input_sequence = []\n",
        "                for i in range(1, len(desc)):\n",
        "                    input_sequence.append(desc[:i + 1])\n",
        "                    images.append(photo)\n",
        "                input_seq = tf.keras.preprocessing.sequence.pad_sequences(input_sequence, maxlen=max_length,\n",
        "                                                                          padding='pre')\n",
        "                if caption == num_captions:\n",
        "                    break\n",
        "                #predicted_cap=caption_greedy(policy_net,photo,tokenizer)\n",
        "                #BLEUscore = nltk.translate.bleu_score.sentence_bleu([reference], predicted_cap, weights = [1])\n",
        "                #print(BLEUscore)\n",
        "          "
      ],
      "metadata": {
        "id": "vmAr0a6uE8n_"
      },
      "execution_count": null,
      "outputs": []
    },
    {
      "cell_type": "code",
      "execution_count": null,
      "metadata": {
        "id": "GEOFx-UfKsw9",
        "colab": {
          "base_uri": "https://localhost:8080/",
          "height": 340
        },
        "outputId": "3f6fb1bb-c5f4-4a30-b93c-afc0c1f51f80"
      },
      "outputs": [
        {
          "output_type": "stream",
          "name": "stdout",
          "text": [
            "   1255/Unknown - 5189s 4s/step - loss: 3.5979 - accuracy: 0.2958"
          ]
        },
        {
          "output_type": "error",
          "ename": "KeyboardInterrupt",
          "evalue": "ignored",
          "traceback": [
            "\u001b[0;31m---------------------------------------------------------------------------\u001b[0m",
            "\u001b[0;31mKeyboardInterrupt\u001b[0m                         Traceback (most recent call last)",
            "\u001b[0;32m<ipython-input-20-7334d6ebdfc0>\u001b[0m in \u001b[0;36m<module>\u001b[0;34m()\u001b[0m\n\u001b[0;32m----> 1\u001b[0;31m \u001b[0mactor_model\u001b[0m\u001b[0;34m.\u001b[0m\u001b[0mevaluate\u001b[0m\u001b[0;34m(\u001b[0m\u001b[0mtest_dataset\u001b[0m\u001b[0;34m)\u001b[0m\u001b[0;34m\u001b[0m\u001b[0;34m\u001b[0m\u001b[0m\n\u001b[0m",
            "\u001b[0;32m/usr/local/lib/python3.7/dist-packages/keras/utils/traceback_utils.py\u001b[0m in \u001b[0;36merror_handler\u001b[0;34m(*args, **kwargs)\u001b[0m\n\u001b[1;32m     62\u001b[0m     \u001b[0mfiltered_tb\u001b[0m \u001b[0;34m=\u001b[0m \u001b[0;32mNone\u001b[0m\u001b[0;34m\u001b[0m\u001b[0;34m\u001b[0m\u001b[0m\n\u001b[1;32m     63\u001b[0m     \u001b[0;32mtry\u001b[0m\u001b[0;34m:\u001b[0m\u001b[0;34m\u001b[0m\u001b[0;34m\u001b[0m\u001b[0m\n\u001b[0;32m---> 64\u001b[0;31m       \u001b[0;32mreturn\u001b[0m \u001b[0mfn\u001b[0m\u001b[0;34m(\u001b[0m\u001b[0;34m*\u001b[0m\u001b[0margs\u001b[0m\u001b[0;34m,\u001b[0m \u001b[0;34m**\u001b[0m\u001b[0mkwargs\u001b[0m\u001b[0;34m)\u001b[0m\u001b[0;34m\u001b[0m\u001b[0;34m\u001b[0m\u001b[0m\n\u001b[0m\u001b[1;32m     65\u001b[0m     \u001b[0;32mexcept\u001b[0m \u001b[0mException\u001b[0m \u001b[0;32mas\u001b[0m \u001b[0me\u001b[0m\u001b[0;34m:\u001b[0m  \u001b[0;31m# pylint: disable=broad-except\u001b[0m\u001b[0;34m\u001b[0m\u001b[0;34m\u001b[0m\u001b[0m\n\u001b[1;32m     66\u001b[0m       \u001b[0mfiltered_tb\u001b[0m \u001b[0;34m=\u001b[0m \u001b[0m_process_traceback_frames\u001b[0m\u001b[0;34m(\u001b[0m\u001b[0me\u001b[0m\u001b[0;34m.\u001b[0m\u001b[0m__traceback__\u001b[0m\u001b[0;34m)\u001b[0m\u001b[0;34m\u001b[0m\u001b[0;34m\u001b[0m\u001b[0m\n",
            "\u001b[0;32m/usr/local/lib/python3.7/dist-packages/keras/engine/training.py\u001b[0m in \u001b[0;36mevaluate\u001b[0;34m(self, x, y, batch_size, verbose, sample_weight, steps, callbacks, max_queue_size, workers, use_multiprocessing, return_dict, **kwargs)\u001b[0m\n\u001b[1;32m   1535\u001b[0m             \u001b[0;32mwith\u001b[0m \u001b[0mtf\u001b[0m\u001b[0;34m.\u001b[0m\u001b[0mprofiler\u001b[0m\u001b[0;34m.\u001b[0m\u001b[0mexperimental\u001b[0m\u001b[0;34m.\u001b[0m\u001b[0mTrace\u001b[0m\u001b[0;34m(\u001b[0m\u001b[0;34m'test'\u001b[0m\u001b[0;34m,\u001b[0m \u001b[0mstep_num\u001b[0m\u001b[0;34m=\u001b[0m\u001b[0mstep\u001b[0m\u001b[0;34m,\u001b[0m \u001b[0m_r\u001b[0m\u001b[0;34m=\u001b[0m\u001b[0;36m1\u001b[0m\u001b[0;34m)\u001b[0m\u001b[0;34m:\u001b[0m\u001b[0;34m\u001b[0m\u001b[0;34m\u001b[0m\u001b[0m\n\u001b[1;32m   1536\u001b[0m               \u001b[0mcallbacks\u001b[0m\u001b[0;34m.\u001b[0m\u001b[0mon_test_batch_begin\u001b[0m\u001b[0;34m(\u001b[0m\u001b[0mstep\u001b[0m\u001b[0;34m)\u001b[0m\u001b[0;34m\u001b[0m\u001b[0;34m\u001b[0m\u001b[0m\n\u001b[0;32m-> 1537\u001b[0;31m               \u001b[0mtmp_logs\u001b[0m \u001b[0;34m=\u001b[0m \u001b[0mself\u001b[0m\u001b[0;34m.\u001b[0m\u001b[0mtest_function\u001b[0m\u001b[0;34m(\u001b[0m\u001b[0miterator\u001b[0m\u001b[0;34m)\u001b[0m\u001b[0;34m\u001b[0m\u001b[0;34m\u001b[0m\u001b[0m\n\u001b[0m\u001b[1;32m   1538\u001b[0m               \u001b[0;32mif\u001b[0m \u001b[0mdata_handler\u001b[0m\u001b[0;34m.\u001b[0m\u001b[0mshould_sync\u001b[0m\u001b[0;34m:\u001b[0m\u001b[0;34m\u001b[0m\u001b[0;34m\u001b[0m\u001b[0m\n\u001b[1;32m   1539\u001b[0m                 \u001b[0mcontext\u001b[0m\u001b[0;34m.\u001b[0m\u001b[0masync_wait\u001b[0m\u001b[0;34m(\u001b[0m\u001b[0;34m)\u001b[0m\u001b[0;34m\u001b[0m\u001b[0;34m\u001b[0m\u001b[0m\n",
            "\u001b[0;32m/usr/local/lib/python3.7/dist-packages/tensorflow/python/util/traceback_utils.py\u001b[0m in \u001b[0;36merror_handler\u001b[0;34m(*args, **kwargs)\u001b[0m\n\u001b[1;32m    148\u001b[0m     \u001b[0mfiltered_tb\u001b[0m \u001b[0;34m=\u001b[0m \u001b[0;32mNone\u001b[0m\u001b[0;34m\u001b[0m\u001b[0;34m\u001b[0m\u001b[0m\n\u001b[1;32m    149\u001b[0m     \u001b[0;32mtry\u001b[0m\u001b[0;34m:\u001b[0m\u001b[0;34m\u001b[0m\u001b[0;34m\u001b[0m\u001b[0m\n\u001b[0;32m--> 150\u001b[0;31m       \u001b[0;32mreturn\u001b[0m \u001b[0mfn\u001b[0m\u001b[0;34m(\u001b[0m\u001b[0;34m*\u001b[0m\u001b[0margs\u001b[0m\u001b[0;34m,\u001b[0m \u001b[0;34m**\u001b[0m\u001b[0mkwargs\u001b[0m\u001b[0;34m)\u001b[0m\u001b[0;34m\u001b[0m\u001b[0;34m\u001b[0m\u001b[0m\n\u001b[0m\u001b[1;32m    151\u001b[0m     \u001b[0;32mexcept\u001b[0m \u001b[0mException\u001b[0m \u001b[0;32mas\u001b[0m \u001b[0me\u001b[0m\u001b[0;34m:\u001b[0m\u001b[0;34m\u001b[0m\u001b[0;34m\u001b[0m\u001b[0m\n\u001b[1;32m    152\u001b[0m       \u001b[0mfiltered_tb\u001b[0m \u001b[0;34m=\u001b[0m \u001b[0m_process_traceback_frames\u001b[0m\u001b[0;34m(\u001b[0m\u001b[0me\u001b[0m\u001b[0;34m.\u001b[0m\u001b[0m__traceback__\u001b[0m\u001b[0;34m)\u001b[0m\u001b[0;34m\u001b[0m\u001b[0;34m\u001b[0m\u001b[0m\n",
            "\u001b[0;32m/usr/local/lib/python3.7/dist-packages/tensorflow/python/eager/def_function.py\u001b[0m in \u001b[0;36m__call__\u001b[0;34m(self, *args, **kwds)\u001b[0m\n\u001b[1;32m    908\u001b[0m \u001b[0;34m\u001b[0m\u001b[0m\n\u001b[1;32m    909\u001b[0m       \u001b[0;32mwith\u001b[0m \u001b[0mOptionalXlaContext\u001b[0m\u001b[0;34m(\u001b[0m\u001b[0mself\u001b[0m\u001b[0;34m.\u001b[0m\u001b[0m_jit_compile\u001b[0m\u001b[0;34m)\u001b[0m\u001b[0;34m:\u001b[0m\u001b[0;34m\u001b[0m\u001b[0;34m\u001b[0m\u001b[0m\n\u001b[0;32m--> 910\u001b[0;31m         \u001b[0mresult\u001b[0m \u001b[0;34m=\u001b[0m \u001b[0mself\u001b[0m\u001b[0;34m.\u001b[0m\u001b[0m_call\u001b[0m\u001b[0;34m(\u001b[0m\u001b[0;34m*\u001b[0m\u001b[0margs\u001b[0m\u001b[0;34m,\u001b[0m \u001b[0;34m**\u001b[0m\u001b[0mkwds\u001b[0m\u001b[0;34m)\u001b[0m\u001b[0;34m\u001b[0m\u001b[0;34m\u001b[0m\u001b[0m\n\u001b[0m\u001b[1;32m    911\u001b[0m \u001b[0;34m\u001b[0m\u001b[0m\n\u001b[1;32m    912\u001b[0m       \u001b[0mnew_tracing_count\u001b[0m \u001b[0;34m=\u001b[0m \u001b[0mself\u001b[0m\u001b[0;34m.\u001b[0m\u001b[0mexperimental_get_tracing_count\u001b[0m\u001b[0;34m(\u001b[0m\u001b[0;34m)\u001b[0m\u001b[0;34m\u001b[0m\u001b[0;34m\u001b[0m\u001b[0m\n",
            "\u001b[0;32m/usr/local/lib/python3.7/dist-packages/tensorflow/python/eager/def_function.py\u001b[0m in \u001b[0;36m_call\u001b[0;34m(self, *args, **kwds)\u001b[0m\n\u001b[1;32m    947\u001b[0m       \u001b[0;31m# In this case we have not created variables on the first call. So we can\u001b[0m\u001b[0;34m\u001b[0m\u001b[0;34m\u001b[0m\u001b[0;34m\u001b[0m\u001b[0m\n\u001b[1;32m    948\u001b[0m       \u001b[0;31m# run the first trace but we should fail if variables are created.\u001b[0m\u001b[0;34m\u001b[0m\u001b[0;34m\u001b[0m\u001b[0;34m\u001b[0m\u001b[0m\n\u001b[0;32m--> 949\u001b[0;31m       \u001b[0mresults\u001b[0m \u001b[0;34m=\u001b[0m \u001b[0mself\u001b[0m\u001b[0;34m.\u001b[0m\u001b[0m_stateful_fn\u001b[0m\u001b[0;34m(\u001b[0m\u001b[0;34m*\u001b[0m\u001b[0margs\u001b[0m\u001b[0;34m,\u001b[0m \u001b[0;34m**\u001b[0m\u001b[0mkwds\u001b[0m\u001b[0;34m)\u001b[0m\u001b[0;34m\u001b[0m\u001b[0;34m\u001b[0m\u001b[0m\n\u001b[0m\u001b[1;32m    950\u001b[0m       \u001b[0;32mif\u001b[0m \u001b[0mself\u001b[0m\u001b[0;34m.\u001b[0m\u001b[0m_created_variables\u001b[0m \u001b[0;32mand\u001b[0m \u001b[0;32mnot\u001b[0m \u001b[0mALLOW_DYNAMIC_VARIABLE_CREATION\u001b[0m\u001b[0;34m:\u001b[0m\u001b[0;34m\u001b[0m\u001b[0;34m\u001b[0m\u001b[0m\n\u001b[1;32m    951\u001b[0m         raise ValueError(\"Creating variables on a non-first call to a function\"\n",
            "\u001b[0;32m/usr/local/lib/python3.7/dist-packages/tensorflow/python/eager/function.py\u001b[0m in \u001b[0;36m__call__\u001b[0;34m(self, *args, **kwargs)\u001b[0m\n\u001b[1;32m   3129\u001b[0m        filtered_flat_args) = self._maybe_define_function(args, kwargs)\n\u001b[1;32m   3130\u001b[0m     return graph_function._call_flat(\n\u001b[0;32m-> 3131\u001b[0;31m         filtered_flat_args, captured_inputs=graph_function.captured_inputs)  # pylint: disable=protected-access\n\u001b[0m\u001b[1;32m   3132\u001b[0m \u001b[0;34m\u001b[0m\u001b[0m\n\u001b[1;32m   3133\u001b[0m   \u001b[0;34m@\u001b[0m\u001b[0mproperty\u001b[0m\u001b[0;34m\u001b[0m\u001b[0;34m\u001b[0m\u001b[0m\n",
            "\u001b[0;32m/usr/local/lib/python3.7/dist-packages/tensorflow/python/eager/function.py\u001b[0m in \u001b[0;36m_call_flat\u001b[0;34m(self, args, captured_inputs, cancellation_manager)\u001b[0m\n\u001b[1;32m   1958\u001b[0m       \u001b[0;31m# No tape is watching; skip to running the function.\u001b[0m\u001b[0;34m\u001b[0m\u001b[0;34m\u001b[0m\u001b[0;34m\u001b[0m\u001b[0m\n\u001b[1;32m   1959\u001b[0m       return self._build_call_outputs(self._inference_function.call(\n\u001b[0;32m-> 1960\u001b[0;31m           ctx, args, cancellation_manager=cancellation_manager))\n\u001b[0m\u001b[1;32m   1961\u001b[0m     forward_backward = self._select_forward_and_backward_functions(\n\u001b[1;32m   1962\u001b[0m         \u001b[0margs\u001b[0m\u001b[0;34m,\u001b[0m\u001b[0;34m\u001b[0m\u001b[0;34m\u001b[0m\u001b[0m\n",
            "\u001b[0;32m/usr/local/lib/python3.7/dist-packages/tensorflow/python/eager/function.py\u001b[0m in \u001b[0;36mcall\u001b[0;34m(self, ctx, args, cancellation_manager)\u001b[0m\n\u001b[1;32m    601\u001b[0m               \u001b[0minputs\u001b[0m\u001b[0;34m=\u001b[0m\u001b[0margs\u001b[0m\u001b[0;34m,\u001b[0m\u001b[0;34m\u001b[0m\u001b[0;34m\u001b[0m\u001b[0m\n\u001b[1;32m    602\u001b[0m               \u001b[0mattrs\u001b[0m\u001b[0;34m=\u001b[0m\u001b[0mattrs\u001b[0m\u001b[0;34m,\u001b[0m\u001b[0;34m\u001b[0m\u001b[0;34m\u001b[0m\u001b[0m\n\u001b[0;32m--> 603\u001b[0;31m               ctx=ctx)\n\u001b[0m\u001b[1;32m    604\u001b[0m         \u001b[0;32melse\u001b[0m\u001b[0;34m:\u001b[0m\u001b[0;34m\u001b[0m\u001b[0;34m\u001b[0m\u001b[0m\n\u001b[1;32m    605\u001b[0m           outputs = execute.execute_with_cancellation(\n",
            "\u001b[0;32m/usr/local/lib/python3.7/dist-packages/tensorflow/python/eager/execute.py\u001b[0m in \u001b[0;36mquick_execute\u001b[0;34m(op_name, num_outputs, inputs, attrs, ctx, name)\u001b[0m\n\u001b[1;32m     57\u001b[0m     \u001b[0mctx\u001b[0m\u001b[0;34m.\u001b[0m\u001b[0mensure_initialized\u001b[0m\u001b[0;34m(\u001b[0m\u001b[0;34m)\u001b[0m\u001b[0;34m\u001b[0m\u001b[0;34m\u001b[0m\u001b[0m\n\u001b[1;32m     58\u001b[0m     tensors = pywrap_tfe.TFE_Py_Execute(ctx._handle, device_name, op_name,\n\u001b[0;32m---> 59\u001b[0;31m                                         inputs, attrs, num_outputs)\n\u001b[0m\u001b[1;32m     60\u001b[0m   \u001b[0;32mexcept\u001b[0m \u001b[0mcore\u001b[0m\u001b[0;34m.\u001b[0m\u001b[0m_NotOkStatusException\u001b[0m \u001b[0;32mas\u001b[0m \u001b[0me\u001b[0m\u001b[0;34m:\u001b[0m\u001b[0;34m\u001b[0m\u001b[0;34m\u001b[0m\u001b[0m\n\u001b[1;32m     61\u001b[0m     \u001b[0;32mif\u001b[0m \u001b[0mname\u001b[0m \u001b[0;32mis\u001b[0m \u001b[0;32mnot\u001b[0m \u001b[0;32mNone\u001b[0m\u001b[0;34m:\u001b[0m\u001b[0;34m\u001b[0m\u001b[0;34m\u001b[0m\u001b[0m\n",
            "\u001b[0;31mKeyboardInterrupt\u001b[0m: "
          ]
        }
      ],
      "source": [
        "actor_model.evaluate(test_dataset)"
      ]
    }
  ],
  "metadata": {
    "accelerator": "TPU",
    "colab": {
      "machine_shape": "hm",
      "name": "training_policy_net.ipynb",
      "provenance": [],
      "collapsed_sections": [],
      "authorship_tag": "ABX9TyPKjyiMu3xkeO1YcG8s17LC",
      "include_colab_link": true
    },
    "kernelspec": {
      "display_name": "Python 3",
      "name": "python3"
    },
    "language_info": {
      "name": "python"
    }
  },
  "nbformat": 4,
  "nbformat_minor": 0
}