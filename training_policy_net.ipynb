{
  "cells": [
    {
      "cell_type": "markdown",
      "source": [
        "## Image captioning using reinforcement learning\n",
        "### Policy to actor method on deep convolution and recurrent networks\n",
        "#### Project Seminar for artifical intelligence WS2021-22\n",
        "##### Authors : Viswambhar Yasa, Venkata Mukund \n"
      ],
      "metadata": {
        "id": "vkXMLFARVGHY"
      }
    },
    {
      "cell_type": "code",
      "execution_count": 1,
      "metadata": {
        "colab": {
          "base_uri": "https://localhost:8080/"
        },
        "id": "SCaXLacBGeyg",
        "outputId": "b9b246a8-aaa9-4ba4-854a-71429c668b77"
      },
      "outputs": [
        {
          "output_type": "stream",
          "name": "stdout",
          "text": [
            "Cloning into 'image_captioning'...\n",
            "remote: Enumerating objects: 55, done.\u001b[K\n",
            "remote: Counting objects: 100% (55/55), done.\u001b[K\n",
            "remote: Compressing objects: 100% (48/48), done.\u001b[K\n",
            "remote: Total 55 (delta 25), reused 18 (delta 6), pack-reused 0\u001b[K\n",
            "Unpacking objects: 100% (55/55), done.\n"
          ]
        }
      ],
      "source": [
        "!git clone https://github.com/viswambhar-yasa/image_captioning"
      ]
    },
    {
      "cell_type": "code",
      "source": [
        "cd /content/image_captioning"
      ],
      "metadata": {
        "colab": {
          "base_uri": "https://localhost:8080/"
        },
        "id": "Yv_jCCOHVPPB",
        "outputId": "084a5bca-10c4-493f-e4c7-5abe0af5c9d5"
      },
      "execution_count": 2,
      "outputs": [
        {
          "output_type": "stream",
          "name": "stdout",
          "text": [
            "/content/image_captioning\n"
          ]
        }
      ]
    },
    {
      "cell_type": "code",
      "source": [
        "from data_extraction import downloading_extraction"
      ],
      "metadata": {
        "id": "ZWmXpHdhVVbK"
      },
      "execution_count": 3,
      "outputs": []
    },
    {
      "cell_type": "code",
      "execution_count": 4,
      "metadata": {
        "id": "VsGCW4z_Gi35"
      },
      "outputs": [],
      "source": [
        "images_link = 'https://github.com/jbrownlee/Datasets/releases/download/Flickr8k/Flickr8k_Dataset.zip'\n",
        "downloading_extraction(images_link)\n",
        "text_link = \"https://github.com/jbrownlee/Datasets/releases/download/Flickr8k/Flickr8k_text.zip\"\n",
        "downloading_extraction(text_link)\n",
        "glove_link='https://huggingface.co/stanfordnlp/glove/resolve/main/glove.6B.zip'\n",
        "downloading_extraction(glove_link)"
      ]
    },
    {
      "cell_type": "code",
      "execution_count": 5,
      "metadata": {
        "id": "JNXCA7UNZXm_"
      },
      "outputs": [],
      "source": [
        "import tensorflow as tf"
      ]
    },
    {
      "cell_type": "code",
      "source": [
        "captions_path=r\"/content/image_captioning/Flickr8k.token.txt\""
      ],
      "metadata": {
        "id": "mnBRSqVKVgXo"
      },
      "execution_count": 6,
      "outputs": []
    },
    {
      "cell_type": "code",
      "execution_count": 7,
      "metadata": {
        "colab": {
          "base_uri": "https://localhost:8080/"
        },
        "id": "4qKd9U_cZcxB",
        "outputId": "9f7a2881-204e-4ce7-c1d3-aee3e98e6992"
      },
      "outputs": [
        {
          "output_type": "stream",
          "name": "stdout",
          "text": [
            "max_length of captions 33\n"
          ]
        }
      ],
      "source": [
        "text = open(captions_path, 'r', encoding='utf-8').read()\n",
        "description_map=dict()\n",
        "for lines in text.split('\\n'):\n",
        "  line_split = lines.split('\\t')\n",
        "  if line_split == ['']:\n",
        "      continue\n",
        "  image_id = line_split[0][:-2]\n",
        "  image_des = line_split[1]\n",
        "  #if image_id in img_dic:\n",
        "  if image_id not in description_map:\n",
        "    description_map[image_id] = list()\n",
        "  description_map[image_id].append(image_des)\n",
        "caption_list = []\n",
        "for img_id, des_list in description_map.items():\n",
        "    for i in range(len(des_list)):\n",
        "        caption = des_list[i]\n",
        "        caption = ''.join(caption)\n",
        "        caption = caption.split(' ')\n",
        "        caption = [word.lower() for word in caption if len(word) > 1 and word.isalpha()]\n",
        "        caption = ' '.join(caption)\n",
        "        des_list[i] = 'startseq ' + caption + ' endseq'\n",
        "        caption_list.append('startseq ' + caption + ' endseq')\n",
        "max_length = max(len(des.split()) for des in caption_list)\n",
        "print('max_length of captions', max_length)\n",
        "tokenizer = tf.keras.preprocessing.text.Tokenizer(num_words=8350,oov_token='<unknw>')\n",
        "tokenizer.fit_on_texts(caption_list)"
      ]
    },
    {
      "cell_type": "markdown",
      "metadata": {
        "id": "7fhz6rN_h_kh"
      },
      "source": [
        ""
      ]
    },
    {
      "cell_type": "code",
      "execution_count": 8,
      "metadata": {
        "id": "BQ9RQWWskJlF"
      },
      "outputs": [],
      "source": [
        "import os"
      ]
    },
    {
      "cell_type": "code",
      "execution_count": 9,
      "metadata": {
        "id": "Y99LvKqd_iJZ"
      },
      "outputs": [],
      "source": [
        "word_index=tokenizer.word_index"
      ]
    },
    {
      "cell_type": "code",
      "execution_count": 10,
      "metadata": {
        "id": "0t-RTZQQ_suO"
      },
      "outputs": [],
      "source": [
        "word_index={value:key for key, value in word_index.items()}"
      ]
    },
    {
      "cell_type": "code",
      "execution_count": 11,
      "metadata": {
        "colab": {
          "base_uri": "https://localhost:8080/"
        },
        "id": "Tkq4FlXUAO3p",
        "outputId": "c463ee9d-ebcc-4188-fd3f-59f76566b26f"
      },
      "outputs": [
        {
          "output_type": "execute_result",
          "data": {
            "text/plain": [
              "8360"
            ]
          },
          "metadata": {},
          "execution_count": 11
        }
      ],
      "source": [
        "len(word_index)"
      ]
    },
    {
      "cell_type": "code",
      "source": [
        "from model_networks import Caption_model_gen"
      ],
      "metadata": {
        "id": "KVWerfRkWYyi"
      },
      "execution_count": 12,
      "outputs": []
    },
    {
      "cell_type": "code",
      "source": [
        "from data_generator import captions_generation_policy,load_preprocess_img"
      ],
      "metadata": {
        "id": "5b2V-dwwVtOU"
      },
      "execution_count": 33,
      "outputs": []
    },
    {
      "cell_type": "code",
      "execution_count": 14,
      "metadata": {
        "colab": {
          "base_uri": "https://localhost:8080/"
        },
        "id": "nmXoDBQFoTmv",
        "outputId": "3871d0c6-a496-4e07-8695-00f8ddcbc728"
      },
      "outputs": [
        {
          "output_type": "execute_result",
          "data": {
            "text/plain": [
              "['startseq people waiting for the subway endseq',\n",
              " 'startseq some people looking out windows in large building endseq',\n",
              " 'startseq three people are waiting on train platform endseq',\n",
              " 'startseq three people standing at station endseq',\n",
              " 'startseq two woman and one man standing near train tracks endseq']"
            ]
          },
          "metadata": {},
          "execution_count": 14
        }
      ],
      "source": [
        "description_map['2258277193_586949ec62.jpg.1']"
      ]
    },
    {
      "cell_type": "code",
      "execution_count": 15,
      "metadata": {
        "id": "0EtHJgjkok-Q"
      },
      "outputs": [],
      "source": [
        "description_map['2258277193_586949ec62.jpg'] = description_map['2258277193_586949ec62.jpg.1']\n",
        "del description_map['2258277193_586949ec62.jpg.1']"
      ]
    },
    {
      "cell_type": "code",
      "execution_count": 16,
      "metadata": {
        "id": "WRgzMMhL_SfS"
      },
      "outputs": [],
      "source": [
        "del description_map['2258277193_586949ec62.jpg']"
      ]
    },
    {
      "cell_type": "code",
      "execution_count": 17,
      "metadata": {
        "id": "rwOe_nr6kwKr"
      },
      "outputs": [],
      "source": [
        "description_map1=dict()"
      ]
    },
    {
      "cell_type": "code",
      "execution_count": 18,
      "metadata": {
        "id": "w9h0qf3NkeNl"
      },
      "outputs": [],
      "source": [
        "files=os.listdir(\"/content/image_captioning/Flicker8k_Dataset\")"
      ]
    },
    {
      "cell_type": "code",
      "execution_count": 19,
      "metadata": {
        "id": "H4USEbMkkfn8"
      },
      "outputs": [],
      "source": [
        "for key,value in description_map.items():\n",
        "  if key in files:\n",
        "    description_map1[key]=value"
      ]
    },
    {
      "cell_type": "code",
      "execution_count": 20,
      "metadata": {
        "colab": {
          "base_uri": "https://localhost:8080/"
        },
        "id": "HsG1nZclawvt",
        "outputId": "42092eaf-f0c4-4d9e-eeac-0d8f779a6435"
      },
      "outputs": [
        {
          "output_type": "stream",
          "name": "stdout",
          "text": [
            "8359\n"
          ]
        }
      ],
      "source": [
        "print(len(tokenizer.word_counts))"
      ]
    },
    {
      "cell_type": "code",
      "execution_count": 21,
      "metadata": {
        "colab": {
          "base_uri": "https://localhost:8080/"
        },
        "id": "bXtMy9peZprb",
        "outputId": "203a1535-74dc-4e60-a38a-d7b0d23ba171"
      },
      "outputs": [
        {
          "output_type": "stream",
          "name": "stdout",
          "text": [
            "Vocab size 8359\n"
          ]
        }
      ],
      "source": [
        "token_cap_dic = dict()\n",
        "print('Vocab size',len(tokenizer.word_counts))\n",
        "for img_id, des_list in description_map1.items():\n",
        "    for i in range(len(des_list)):\n",
        "        caption = des_list[i]\n",
        "        cap_token = tokenizer.texts_to_sequences([str(caption)])\n",
        "        if img_id not in token_cap_dic:\n",
        "            token_cap_dic[img_id] = list()\n",
        "        token_cap_dic[img_id].append(cap_token)"
      ]
    },
    {
      "cell_type": "code",
      "execution_count": 22,
      "metadata": {
        "colab": {
          "base_uri": "https://localhost:8080/"
        },
        "id": "MmMzsBL6bV5G",
        "outputId": "022ec218-e2a8-4c80-85b5-5ae0b5dac391"
      },
      "outputs": [
        {
          "output_type": "execute_result",
          "data": {
            "text/plain": [
              "(['startseq black dog and spotted dog are fighting endseq',\n",
              "  'startseq black dog and dog playing with each other on the road endseq',\n",
              "  'startseq black dog and white dog with brown spots are staring at each other in the street endseq',\n",
              "  'startseq two dogs of different breeds looking at each other on the road endseq',\n",
              "  'startseq two dogs on pavement moving toward each other endseq'],\n",
              " [[[2, 15, 9, 8, 848, 9, 17, 341, 3]],\n",
              "  [[2, 15, 9, 8, 9, 34, 10, 137, 82, 6, 5, 154, 3]],\n",
              "  [[2, 15, 9, 8, 14, 9, 10, 27, 992, 17, 635, 22, 137, 82, 4, 5, 72, 3]],\n",
              "  [[2, 13, 31, 12, 735, 2614, 88, 22, 137, 82, 6, 5, 154, 3]],\n",
              "  [[2, 13, 31, 6, 717, 793, 317, 137, 82, 3]]])"
            ]
          },
          "metadata": {},
          "execution_count": 22
        }
      ],
      "source": [
        "description_map['1001773457_577c3a7d70.jpg'],token_cap_dic['1001773457_577c3a7d70.jpg']"
      ]
    },
    {
      "cell_type": "code",
      "execution_count": 23,
      "metadata": {
        "colab": {
          "base_uri": "https://localhost:8080/"
        },
        "id": "HDfI0dk_6FSr",
        "outputId": "7ffcae18-b27e-4738-9c99-231d1295f21e"
      },
      "outputs": [
        {
          "output_type": "stream",
          "name": "stdout",
          "text": [
            "/content/image_captioning\n"
          ]
        }
      ],
      "source": [
        "cd /content/image_captioning"
      ]
    },
    {
      "cell_type": "code",
      "execution_count": 25,
      "metadata": {
        "id": "9fkiF7ENolW2"
      },
      "outputs": [],
      "source": [
        "import matplotlib.pyplot as plt"
      ]
    },
    {
      "cell_type": "code",
      "execution_count": 27,
      "metadata": {
        "colab": {
          "base_uri": "https://localhost:8080/"
        },
        "id": "GCnr1RqfG--K",
        "outputId": "8e336e30-21ea-4eed-ecb5-dcab6af9dbf4"
      },
      "outputs": [
        {
          "output_type": "stream",
          "name": "stdout",
          "text": [
            "TensorFlow Version 2.8.0\n",
            "max_length of captions 33\n",
            "max_length of captions 31\n",
            "max_length of captions 30\n",
            "No of captions: Training-6000.0 Validation-1000.0 test-1000.0\n",
            "Vocab size 8360\n",
            "Vocab size 8360\n",
            "Vocab size 8360\n"
          ]
        }
      ],
      "source": [
        "import pickle\n",
        "\n",
        "print('TensorFlow Version', tf.__version__)\n",
        "vocab_size = 8360\n",
        "max_length = 25\n",
        "\n",
        "captions_text_path = r'/content/image_captioning/Flickr8k.token.txt'\n",
        "captions_extraction = data_processing(captions_text_path)\n",
        "trn_images_id_text = r'/content/image_captioning/Flickr_8k.trainImages.txt'\n",
        "train_cleaned_seq, train_cleaned_dic = captions_extraction.cleaning_sequencing_captions(trn_images_id_text)\n",
        "val_images_id_text = r'/content/image_captioning/Flickr_8k.devImages.txt'\n",
        "val_cleaned_seq, val_cleaned_dic = captions_extraction.cleaning_sequencing_captions(val_images_id_text)\n",
        "test_images_id_text = r'/content/image_captioning/Flickr_8k.testImages.txt'\n",
        "test_cleaned_seq, test_cleaned_dic = captions_extraction.cleaning_sequencing_captions(test_images_id_text)\n",
        "tokenizer=captions_extraction.tokenization(train_cleaned_seq, vocab_size)\n",
        "print(\"No of captions: Training-\" + str(len(train_cleaned_seq) / 5) + \" Validation-\" + str(\n",
        "    len(val_cleaned_seq) / 5) + \" test-\" + str(len(test_cleaned_seq) / 5))\n",
        "\n",
        "train_cap_tok = captions_extraction.sentence_tokenizing(train_cleaned_dic)\n",
        "val_cap_tok = captions_extraction.sentence_tokenizing(val_cleaned_dic)\n",
        "test_cap_tok = captions_extraction.sentence_tokenizing(test_cleaned_dic)\n",
        "\n",
        "image_pth_rt = r\"/content/image_captioning/Flicker8k_Dataset/\" #+ r\"\\\\\"\n",
        "trn_dataset = captions_generation_policy(train_cap_tok, vocab_size, image_pth_rt, 25,32,1)\n",
        "val_dataset = captions_generation_policy(val_cap_tok, vocab_size, image_pth_rt, 25,32,1)\n",
        "tokenizer"
      ]
    },
    {
      "cell_type": "code",
      "execution_count": 29,
      "metadata": {
        "id": "wadAX3Yqb2g1"
      },
      "outputs": [],
      "source": [
        "trn_dataset_whole = captions_generation_policy(token_cap_dic, 8360, image_pth_rt, 25,32,1)"
      ]
    },
    {
      "cell_type": "code",
      "execution_count": 30,
      "metadata": {
        "colab": {
          "base_uri": "https://localhost:8080/"
        },
        "id": "Mv_K1blfZEYH",
        "outputId": "89f4ca20-1bc9-471f-94d7-d6de8c4d7078"
      },
      "outputs": [
        {
          "output_type": "execute_result",
          "data": {
            "text/plain": [
              "30000"
            ]
          },
          "metadata": {},
          "execution_count": 30
        }
      ],
      "source": [
        "len(train_cleaned_seq)"
      ]
    },
    {
      "cell_type": "code",
      "execution_count": 31,
      "metadata": {
        "colab": {
          "base_uri": "https://localhost:8080/"
        },
        "id": "v0v_E-hekGpx",
        "outputId": "2b2b1bb6-0ca2-48c7-845c-87be6e39ce0d"
      },
      "outputs": [
        {
          "output_type": "stream",
          "name": "stdout",
          "text": [
            "(349, 256, 256, 3) (349, 25) (349, 8360)\n"
          ]
        }
      ],
      "source": [
        "inputs, outputs = next(iter(trn_dataset_whole))\n",
        "print(inputs[0].shape, inputs[1].shape, outputs.shape)"
      ]
    },
    {
      "cell_type": "code",
      "execution_count": 32,
      "metadata": {
        "colab": {
          "base_uri": "https://localhost:8080/"
        },
        "id": "hJwJlBBfztRE",
        "outputId": "b689f650-3ee6-47a8-9a41-151c91c82052"
      },
      "outputs": [
        {
          "output_type": "stream",
          "name": "stdout",
          "text": [
            "Building CNN model\n",
            "Downloading data from https://storage.googleapis.com/tensorflow/keras-applications/xception/xception_weights_tf_dim_ordering_tf_kernels_notop.h5\n",
            "83689472/83683744 [==============================] - 1s 0us/step\n",
            "83697664/83683744 [==============================] - 1s 0us/step\n",
            "CNN model {output shape}: (None, 2048)\n",
            "Building RNN model\n",
            "final_carry_state {rnn output shape}: (None, 512)\n",
            "Image and text {add shape}: (None, 512)\n",
            "output {shape} (None, 8360)\n",
            "Policy Net built successfully \n",
            "\n"
          ]
        }
      ],
      "source": [
        "actor_model = Caption_model_gen(NET='policy',Embedding_layer=None, vocab_size=8360, Embed_Size=512, max_length=25,display=True)\n",
        "\n",
        "actor_model.compile(loss=tf.keras.losses.categorical_crossentropy,\n",
        "                    optimizer=tf.keras.optimizers.Adam(learning_rate=0.001),\n",
        "                    metrics=['accuracy'])"
      ]
    },
    {
      "cell_type": "code",
      "execution_count": null,
      "metadata": {
        "colab": {
          "base_uri": "https://localhost:8080/"
        },
        "id": "t3DA1rxhFN7l",
        "outputId": "55c9e994-2533-4f73-b9b3-c222453b8de0"
      },
      "outputs": [
        {
          "output_type": "stream",
          "name": "stdout",
          "text": [
            "Model: \"Policy_Net\"\n",
            "__________________________________________________________________________________________________\n",
            " Layer (type)                   Output Shape         Param #     Connected to                     \n",
            "==================================================================================================\n",
            " input_5 (InputLayer)           [(None, 256, 256, 3  0           []                               \n",
            "                                )]                                                                \n",
            "                                                                                                  \n",
            " block1_conv1 (Conv2D)          (None, 127, 127, 32  864         ['input_5[0][0]']                \n",
            "                                )                                                                 \n",
            "                                                                                                  \n",
            " block1_conv1_bn (BatchNormaliz  (None, 127, 127, 32  128        ['block1_conv1[0][0]']           \n",
            " ation)                         )                                                                 \n",
            "                                                                                                  \n",
            " block1_conv1_act (Activation)  (None, 127, 127, 32  0           ['block1_conv1_bn[0][0]']        \n",
            "                                )                                                                 \n",
            "                                                                                                  \n",
            " block1_conv2 (Conv2D)          (None, 125, 125, 64  18432       ['block1_conv1_act[0][0]']       \n",
            "                                )                                                                 \n",
            "                                                                                                  \n",
            " block1_conv2_bn (BatchNormaliz  (None, 125, 125, 64  256        ['block1_conv2[0][0]']           \n",
            " ation)                         )                                                                 \n",
            "                                                                                                  \n",
            " block1_conv2_act (Activation)  (None, 125, 125, 64  0           ['block1_conv2_bn[0][0]']        \n",
            "                                )                                                                 \n",
            "                                                                                                  \n",
            " block2_sepconv1 (SeparableConv  (None, 125, 125, 12  8768       ['block1_conv2_act[0][0]']       \n",
            " 2D)                            8)                                                                \n",
            "                                                                                                  \n",
            " block2_sepconv1_bn (BatchNorma  (None, 125, 125, 12  512        ['block2_sepconv1[0][0]']        \n",
            " lization)                      8)                                                                \n",
            "                                                                                                  \n",
            " block2_sepconv2_act (Activatio  (None, 125, 125, 12  0          ['block2_sepconv1_bn[0][0]']     \n",
            " n)                             8)                                                                \n",
            "                                                                                                  \n",
            " block2_sepconv2 (SeparableConv  (None, 125, 125, 12  17536      ['block2_sepconv2_act[0][0]']    \n",
            " 2D)                            8)                                                                \n",
            "                                                                                                  \n",
            " block2_sepconv2_bn (BatchNorma  (None, 125, 125, 12  512        ['block2_sepconv2[0][0]']        \n",
            " lization)                      8)                                                                \n",
            "                                                                                                  \n",
            " conv2d_8 (Conv2D)              (None, 63, 63, 128)  8192        ['block1_conv2_act[0][0]']       \n",
            "                                                                                                  \n",
            " block2_pool (MaxPooling2D)     (None, 63, 63, 128)  0           ['block2_sepconv2_bn[0][0]']     \n",
            "                                                                                                  \n",
            " batch_normalization_14 (BatchN  (None, 63, 63, 128)  512        ['conv2d_8[0][0]']               \n",
            " ormalization)                                                                                    \n",
            "                                                                                                  \n",
            " add_24 (Add)                   (None, 63, 63, 128)  0           ['block2_pool[0][0]',            \n",
            "                                                                  'batch_normalization_14[0][0]'] \n",
            "                                                                                                  \n",
            " block3_sepconv1_act (Activatio  (None, 63, 63, 128)  0          ['add_24[0][0]']                 \n",
            " n)                                                                                               \n",
            "                                                                                                  \n",
            " block3_sepconv1 (SeparableConv  (None, 63, 63, 256)  33920      ['block3_sepconv1_act[0][0]']    \n",
            " 2D)                                                                                              \n",
            "                                                                                                  \n",
            " block3_sepconv1_bn (BatchNorma  (None, 63, 63, 256)  1024       ['block3_sepconv1[0][0]']        \n",
            " lization)                                                                                        \n",
            "                                                                                                  \n",
            " block3_sepconv2_act (Activatio  (None, 63, 63, 256)  0          ['block3_sepconv1_bn[0][0]']     \n",
            " n)                                                                                               \n",
            "                                                                                                  \n",
            " block3_sepconv2 (SeparableConv  (None, 63, 63, 256)  67840      ['block3_sepconv2_act[0][0]']    \n",
            " 2D)                                                                                              \n",
            "                                                                                                  \n",
            " block3_sepconv2_bn (BatchNorma  (None, 63, 63, 256)  1024       ['block3_sepconv2[0][0]']        \n",
            " lization)                                                                                        \n",
            "                                                                                                  \n",
            " conv2d_9 (Conv2D)              (None, 32, 32, 256)  32768       ['add_24[0][0]']                 \n",
            "                                                                                                  \n",
            " block3_pool (MaxPooling2D)     (None, 32, 32, 256)  0           ['block3_sepconv2_bn[0][0]']     \n",
            "                                                                                                  \n",
            " batch_normalization_15 (BatchN  (None, 32, 32, 256)  1024       ['conv2d_9[0][0]']               \n",
            " ormalization)                                                                                    \n",
            "                                                                                                  \n",
            " add_25 (Add)                   (None, 32, 32, 256)  0           ['block3_pool[0][0]',            \n",
            "                                                                  'batch_normalization_15[0][0]'] \n",
            "                                                                                                  \n",
            " block4_sepconv1_act (Activatio  (None, 32, 32, 256)  0          ['add_25[0][0]']                 \n",
            " n)                                                                                               \n",
            "                                                                                                  \n",
            " block4_sepconv1 (SeparableConv  (None, 32, 32, 728)  188672     ['block4_sepconv1_act[0][0]']    \n",
            " 2D)                                                                                              \n",
            "                                                                                                  \n",
            " block4_sepconv1_bn (BatchNorma  (None, 32, 32, 728)  2912       ['block4_sepconv1[0][0]']        \n",
            " lization)                                                                                        \n",
            "                                                                                                  \n",
            " block4_sepconv2_act (Activatio  (None, 32, 32, 728)  0          ['block4_sepconv1_bn[0][0]']     \n",
            " n)                                                                                               \n",
            "                                                                                                  \n",
            " block4_sepconv2 (SeparableConv  (None, 32, 32, 728)  536536     ['block4_sepconv2_act[0][0]']    \n",
            " 2D)                                                                                              \n",
            "                                                                                                  \n",
            " block4_sepconv2_bn (BatchNorma  (None, 32, 32, 728)  2912       ['block4_sepconv2[0][0]']        \n",
            " lization)                                                                                        \n",
            "                                                                                                  \n",
            " conv2d_10 (Conv2D)             (None, 16, 16, 728)  186368      ['add_25[0][0]']                 \n",
            "                                                                                                  \n",
            " block4_pool (MaxPooling2D)     (None, 16, 16, 728)  0           ['block4_sepconv2_bn[0][0]']     \n",
            "                                                                                                  \n",
            " batch_normalization_16 (BatchN  (None, 16, 16, 728)  2912       ['conv2d_10[0][0]']              \n",
            " ormalization)                                                                                    \n",
            "                                                                                                  \n",
            " add_26 (Add)                   (None, 16, 16, 728)  0           ['block4_pool[0][0]',            \n",
            "                                                                  'batch_normalization_16[0][0]'] \n",
            "                                                                                                  \n",
            " block5_sepconv1_act (Activatio  (None, 16, 16, 728)  0          ['add_26[0][0]']                 \n",
            " n)                                                                                               \n",
            "                                                                                                  \n",
            " block5_sepconv1 (SeparableConv  (None, 16, 16, 728)  536536     ['block5_sepconv1_act[0][0]']    \n",
            " 2D)                                                                                              \n",
            "                                                                                                  \n",
            " block5_sepconv1_bn (BatchNorma  (None, 16, 16, 728)  2912       ['block5_sepconv1[0][0]']        \n",
            " lization)                                                                                        \n",
            "                                                                                                  \n",
            " block5_sepconv2_act (Activatio  (None, 16, 16, 728)  0          ['block5_sepconv1_bn[0][0]']     \n",
            " n)                                                                                               \n",
            "                                                                                                  \n",
            " block5_sepconv2 (SeparableConv  (None, 16, 16, 728)  536536     ['block5_sepconv2_act[0][0]']    \n",
            " 2D)                                                                                              \n",
            "                                                                                                  \n",
            " block5_sepconv2_bn (BatchNorma  (None, 16, 16, 728)  2912       ['block5_sepconv2[0][0]']        \n",
            " lization)                                                                                        \n",
            "                                                                                                  \n",
            " block5_sepconv3_act (Activatio  (None, 16, 16, 728)  0          ['block5_sepconv2_bn[0][0]']     \n",
            " n)                                                                                               \n",
            "                                                                                                  \n",
            " block5_sepconv3 (SeparableConv  (None, 16, 16, 728)  536536     ['block5_sepconv3_act[0][0]']    \n",
            " 2D)                                                                                              \n",
            "                                                                                                  \n",
            " block5_sepconv3_bn (BatchNorma  (None, 16, 16, 728)  2912       ['block5_sepconv3[0][0]']        \n",
            " lization)                                                                                        \n",
            "                                                                                                  \n",
            " add_27 (Add)                   (None, 16, 16, 728)  0           ['block5_sepconv3_bn[0][0]',     \n",
            "                                                                  'add_26[0][0]']                 \n",
            "                                                                                                  \n",
            " block6_sepconv1_act (Activatio  (None, 16, 16, 728)  0          ['add_27[0][0]']                 \n",
            " n)                                                                                               \n",
            "                                                                                                  \n",
            " block6_sepconv1 (SeparableConv  (None, 16, 16, 728)  536536     ['block6_sepconv1_act[0][0]']    \n",
            " 2D)                                                                                              \n",
            "                                                                                                  \n",
            " block6_sepconv1_bn (BatchNorma  (None, 16, 16, 728)  2912       ['block6_sepconv1[0][0]']        \n",
            " lization)                                                                                        \n",
            "                                                                                                  \n",
            " block6_sepconv2_act (Activatio  (None, 16, 16, 728)  0          ['block6_sepconv1_bn[0][0]']     \n",
            " n)                                                                                               \n",
            "                                                                                                  \n",
            " block6_sepconv2 (SeparableConv  (None, 16, 16, 728)  536536     ['block6_sepconv2_act[0][0]']    \n",
            " 2D)                                                                                              \n",
            "                                                                                                  \n",
            " block6_sepconv2_bn (BatchNorma  (None, 16, 16, 728)  2912       ['block6_sepconv2[0][0]']        \n",
            " lization)                                                                                        \n",
            "                                                                                                  \n",
            " block6_sepconv3_act (Activatio  (None, 16, 16, 728)  0          ['block6_sepconv2_bn[0][0]']     \n",
            " n)                                                                                               \n",
            "                                                                                                  \n",
            " block6_sepconv3 (SeparableConv  (None, 16, 16, 728)  536536     ['block6_sepconv3_act[0][0]']    \n",
            " 2D)                                                                                              \n",
            "                                                                                                  \n",
            " block6_sepconv3_bn (BatchNorma  (None, 16, 16, 728)  2912       ['block6_sepconv3[0][0]']        \n",
            " lization)                                                                                        \n",
            "                                                                                                  \n",
            " add_28 (Add)                   (None, 16, 16, 728)  0           ['block6_sepconv3_bn[0][0]',     \n",
            "                                                                  'add_27[0][0]']                 \n",
            "                                                                                                  \n",
            " block7_sepconv1_act (Activatio  (None, 16, 16, 728)  0          ['add_28[0][0]']                 \n",
            " n)                                                                                               \n",
            "                                                                                                  \n",
            " block7_sepconv1 (SeparableConv  (None, 16, 16, 728)  536536     ['block7_sepconv1_act[0][0]']    \n",
            " 2D)                                                                                              \n",
            "                                                                                                  \n",
            " block7_sepconv1_bn (BatchNorma  (None, 16, 16, 728)  2912       ['block7_sepconv1[0][0]']        \n",
            " lization)                                                                                        \n",
            "                                                                                                  \n",
            " block7_sepconv2_act (Activatio  (None, 16, 16, 728)  0          ['block7_sepconv1_bn[0][0]']     \n",
            " n)                                                                                               \n",
            "                                                                                                  \n",
            " block7_sepconv2 (SeparableConv  (None, 16, 16, 728)  536536     ['block7_sepconv2_act[0][0]']    \n",
            " 2D)                                                                                              \n",
            "                                                                                                  \n",
            " block7_sepconv2_bn (BatchNorma  (None, 16, 16, 728)  2912       ['block7_sepconv2[0][0]']        \n",
            " lization)                                                                                        \n",
            "                                                                                                  \n",
            " block7_sepconv3_act (Activatio  (None, 16, 16, 728)  0          ['block7_sepconv2_bn[0][0]']     \n",
            " n)                                                                                               \n",
            "                                                                                                  \n",
            " block7_sepconv3 (SeparableConv  (None, 16, 16, 728)  536536     ['block7_sepconv3_act[0][0]']    \n",
            " 2D)                                                                                              \n",
            "                                                                                                  \n",
            " block7_sepconv3_bn (BatchNorma  (None, 16, 16, 728)  2912       ['block7_sepconv3[0][0]']        \n",
            " lization)                                                                                        \n",
            "                                                                                                  \n",
            " add_29 (Add)                   (None, 16, 16, 728)  0           ['block7_sepconv3_bn[0][0]',     \n",
            "                                                                  'add_28[0][0]']                 \n",
            "                                                                                                  \n",
            " block8_sepconv1_act (Activatio  (None, 16, 16, 728)  0          ['add_29[0][0]']                 \n",
            " n)                                                                                               \n",
            "                                                                                                  \n",
            " block8_sepconv1 (SeparableConv  (None, 16, 16, 728)  536536     ['block8_sepconv1_act[0][0]']    \n",
            " 2D)                                                                                              \n",
            "                                                                                                  \n",
            " block8_sepconv1_bn (BatchNorma  (None, 16, 16, 728)  2912       ['block8_sepconv1[0][0]']        \n",
            " lization)                                                                                        \n",
            "                                                                                                  \n",
            " block8_sepconv2_act (Activatio  (None, 16, 16, 728)  0          ['block8_sepconv1_bn[0][0]']     \n",
            " n)                                                                                               \n",
            "                                                                                                  \n",
            " block8_sepconv2 (SeparableConv  (None, 16, 16, 728)  536536     ['block8_sepconv2_act[0][0]']    \n",
            " 2D)                                                                                              \n",
            "                                                                                                  \n",
            " block8_sepconv2_bn (BatchNorma  (None, 16, 16, 728)  2912       ['block8_sepconv2[0][0]']        \n",
            " lization)                                                                                        \n",
            "                                                                                                  \n",
            " block8_sepconv3_act (Activatio  (None, 16, 16, 728)  0          ['block8_sepconv2_bn[0][0]']     \n",
            " n)                                                                                               \n",
            "                                                                                                  \n",
            " block8_sepconv3 (SeparableConv  (None, 16, 16, 728)  536536     ['block8_sepconv3_act[0][0]']    \n",
            " 2D)                                                                                              \n",
            "                                                                                                  \n",
            " block8_sepconv3_bn (BatchNorma  (None, 16, 16, 728)  2912       ['block8_sepconv3[0][0]']        \n",
            " lization)                                                                                        \n",
            "                                                                                                  \n",
            " add_30 (Add)                   (None, 16, 16, 728)  0           ['block8_sepconv3_bn[0][0]',     \n",
            "                                                                  'add_29[0][0]']                 \n",
            "                                                                                                  \n",
            " block9_sepconv1_act (Activatio  (None, 16, 16, 728)  0          ['add_30[0][0]']                 \n",
            " n)                                                                                               \n",
            "                                                                                                  \n",
            " block9_sepconv1 (SeparableConv  (None, 16, 16, 728)  536536     ['block9_sepconv1_act[0][0]']    \n",
            " 2D)                                                                                              \n",
            "                                                                                                  \n",
            " block9_sepconv1_bn (BatchNorma  (None, 16, 16, 728)  2912       ['block9_sepconv1[0][0]']        \n",
            " lization)                                                                                        \n",
            "                                                                                                  \n",
            " block9_sepconv2_act (Activatio  (None, 16, 16, 728)  0          ['block9_sepconv1_bn[0][0]']     \n",
            " n)                                                                                               \n",
            "                                                                                                  \n",
            " block9_sepconv2 (SeparableConv  (None, 16, 16, 728)  536536     ['block9_sepconv2_act[0][0]']    \n",
            " 2D)                                                                                              \n",
            "                                                                                                  \n",
            " block9_sepconv2_bn (BatchNorma  (None, 16, 16, 728)  2912       ['block9_sepconv2[0][0]']        \n",
            " lization)                                                                                        \n",
            "                                                                                                  \n",
            " block9_sepconv3_act (Activatio  (None, 16, 16, 728)  0          ['block9_sepconv2_bn[0][0]']     \n",
            " n)                                                                                               \n",
            "                                                                                                  \n",
            " block9_sepconv3 (SeparableConv  (None, 16, 16, 728)  536536     ['block9_sepconv3_act[0][0]']    \n",
            " 2D)                                                                                              \n",
            "                                                                                                  \n",
            " block9_sepconv3_bn (BatchNorma  (None, 16, 16, 728)  2912       ['block9_sepconv3[0][0]']        \n",
            " lization)                                                                                        \n",
            "                                                                                                  \n",
            " add_31 (Add)                   (None, 16, 16, 728)  0           ['block9_sepconv3_bn[0][0]',     \n",
            "                                                                  'add_30[0][0]']                 \n",
            "                                                                                                  \n",
            " block10_sepconv1_act (Activati  (None, 16, 16, 728)  0          ['add_31[0][0]']                 \n",
            " on)                                                                                              \n",
            "                                                                                                  \n",
            " block10_sepconv1 (SeparableCon  (None, 16, 16, 728)  536536     ['block10_sepconv1_act[0][0]']   \n",
            " v2D)                                                                                             \n",
            "                                                                                                  \n",
            " block10_sepconv1_bn (BatchNorm  (None, 16, 16, 728)  2912       ['block10_sepconv1[0][0]']       \n",
            " alization)                                                                                       \n",
            "                                                                                                  \n",
            " block10_sepconv2_act (Activati  (None, 16, 16, 728)  0          ['block10_sepconv1_bn[0][0]']    \n",
            " on)                                                                                              \n",
            "                                                                                                  \n",
            " block10_sepconv2 (SeparableCon  (None, 16, 16, 728)  536536     ['block10_sepconv2_act[0][0]']   \n",
            " v2D)                                                                                             \n",
            "                                                                                                  \n",
            " block10_sepconv2_bn (BatchNorm  (None, 16, 16, 728)  2912       ['block10_sepconv2[0][0]']       \n",
            " alization)                                                                                       \n",
            "                                                                                                  \n",
            " block10_sepconv3_act (Activati  (None, 16, 16, 728)  0          ['block10_sepconv2_bn[0][0]']    \n",
            " on)                                                                                              \n",
            "                                                                                                  \n",
            " block10_sepconv3 (SeparableCon  (None, 16, 16, 728)  536536     ['block10_sepconv3_act[0][0]']   \n",
            " v2D)                                                                                             \n",
            "                                                                                                  \n",
            " block10_sepconv3_bn (BatchNorm  (None, 16, 16, 728)  2912       ['block10_sepconv3[0][0]']       \n",
            " alization)                                                                                       \n",
            "                                                                                                  \n",
            " add_32 (Add)                   (None, 16, 16, 728)  0           ['block10_sepconv3_bn[0][0]',    \n",
            "                                                                  'add_31[0][0]']                 \n",
            "                                                                                                  \n",
            " block11_sepconv1_act (Activati  (None, 16, 16, 728)  0          ['add_32[0][0]']                 \n",
            " on)                                                                                              \n",
            "                                                                                                  \n",
            " block11_sepconv1 (SeparableCon  (None, 16, 16, 728)  536536     ['block11_sepconv1_act[0][0]']   \n",
            " v2D)                                                                                             \n",
            "                                                                                                  \n",
            " block11_sepconv1_bn (BatchNorm  (None, 16, 16, 728)  2912       ['block11_sepconv1[0][0]']       \n",
            " alization)                                                                                       \n",
            "                                                                                                  \n",
            " block11_sepconv2_act (Activati  (None, 16, 16, 728)  0          ['block11_sepconv1_bn[0][0]']    \n",
            " on)                                                                                              \n",
            "                                                                                                  \n",
            " block11_sepconv2 (SeparableCon  (None, 16, 16, 728)  536536     ['block11_sepconv2_act[0][0]']   \n",
            " v2D)                                                                                             \n",
            "                                                                                                  \n",
            " block11_sepconv2_bn (BatchNorm  (None, 16, 16, 728)  2912       ['block11_sepconv2[0][0]']       \n",
            " alization)                                                                                       \n",
            "                                                                                                  \n",
            " block11_sepconv3_act (Activati  (None, 16, 16, 728)  0          ['block11_sepconv2_bn[0][0]']    \n",
            " on)                                                                                              \n",
            "                                                                                                  \n",
            " block11_sepconv3 (SeparableCon  (None, 16, 16, 728)  536536     ['block11_sepconv3_act[0][0]']   \n",
            " v2D)                                                                                             \n",
            "                                                                                                  \n",
            " block11_sepconv3_bn (BatchNorm  (None, 16, 16, 728)  2912       ['block11_sepconv3[0][0]']       \n",
            " alization)                                                                                       \n",
            "                                                                                                  \n",
            " add_33 (Add)                   (None, 16, 16, 728)  0           ['block11_sepconv3_bn[0][0]',    \n",
            "                                                                  'add_32[0][0]']                 \n",
            "                                                                                                  \n",
            " block12_sepconv1_act (Activati  (None, 16, 16, 728)  0          ['add_33[0][0]']                 \n",
            " on)                                                                                              \n",
            "                                                                                                  \n",
            " block12_sepconv1 (SeparableCon  (None, 16, 16, 728)  536536     ['block12_sepconv1_act[0][0]']   \n",
            " v2D)                                                                                             \n",
            "                                                                                                  \n",
            " block12_sepconv1_bn (BatchNorm  (None, 16, 16, 728)  2912       ['block12_sepconv1[0][0]']       \n",
            " alization)                                                                                       \n",
            "                                                                                                  \n",
            " block12_sepconv2_act (Activati  (None, 16, 16, 728)  0          ['block12_sepconv1_bn[0][0]']    \n",
            " on)                                                                                              \n",
            "                                                                                                  \n",
            " block12_sepconv2 (SeparableCon  (None, 16, 16, 728)  536536     ['block12_sepconv2_act[0][0]']   \n",
            " v2D)                                                                                             \n",
            "                                                                                                  \n",
            " block12_sepconv2_bn (BatchNorm  (None, 16, 16, 728)  2912       ['block12_sepconv2[0][0]']       \n",
            " alization)                                                                                       \n",
            "                                                                                                  \n",
            " block12_sepconv3_act (Activati  (None, 16, 16, 728)  0          ['block12_sepconv2_bn[0][0]']    \n",
            " on)                                                                                              \n",
            "                                                                                                  \n",
            " block12_sepconv3 (SeparableCon  (None, 16, 16, 728)  536536     ['block12_sepconv3_act[0][0]']   \n",
            " v2D)                                                                                             \n",
            "                                                                                                  \n",
            " block12_sepconv3_bn (BatchNorm  (None, 16, 16, 728)  2912       ['block12_sepconv3[0][0]']       \n",
            " alization)                                                                                       \n",
            "                                                                                                  \n",
            " add_34 (Add)                   (None, 16, 16, 728)  0           ['block12_sepconv3_bn[0][0]',    \n",
            "                                                                  'add_33[0][0]']                 \n",
            "                                                                                                  \n",
            " block13_sepconv1_act (Activati  (None, 16, 16, 728)  0          ['add_34[0][0]']                 \n",
            " on)                                                                                              \n",
            "                                                                                                  \n",
            " block13_sepconv1 (SeparableCon  (None, 16, 16, 728)  536536     ['block13_sepconv1_act[0][0]']   \n",
            " v2D)                                                                                             \n",
            "                                                                                                  \n",
            " block13_sepconv1_bn (BatchNorm  (None, 16, 16, 728)  2912       ['block13_sepconv1[0][0]']       \n",
            " alization)                                                                                       \n",
            "                                                                                                  \n",
            " block13_sepconv2_act (Activati  (None, 16, 16, 728)  0          ['block13_sepconv1_bn[0][0]']    \n",
            " on)                                                                                              \n",
            "                                                                                                  \n",
            " block13_sepconv2 (SeparableCon  (None, 16, 16, 1024  752024     ['block13_sepconv2_act[0][0]']   \n",
            " v2D)                           )                                                                 \n",
            "                                                                                                  \n",
            " block13_sepconv2_bn (BatchNorm  (None, 16, 16, 1024  4096       ['block13_sepconv2[0][0]']       \n",
            " alization)                     )                                                                 \n",
            "                                                                                                  \n",
            " conv2d_11 (Conv2D)             (None, 8, 8, 1024)   745472      ['add_34[0][0]']                 \n",
            "                                                                                                  \n",
            " block13_pool (MaxPooling2D)    (None, 8, 8, 1024)   0           ['block13_sepconv2_bn[0][0]']    \n",
            "                                                                                                  \n",
            " batch_normalization_17 (BatchN  (None, 8, 8, 1024)  4096        ['conv2d_11[0][0]']              \n",
            " ormalization)                                                                                    \n",
            "                                                                                                  \n",
            " add_35 (Add)                   (None, 8, 8, 1024)   0           ['block13_pool[0][0]',           \n",
            "                                                                  'batch_normalization_17[0][0]'] \n",
            "                                                                                                  \n",
            " block14_sepconv1 (SeparableCon  (None, 8, 8, 1536)  1582080     ['add_35[0][0]']                 \n",
            " v2D)                                                                                             \n",
            "                                                                                                  \n",
            " input_6 (InputLayer)           [(None, 25)]         0           []                               \n",
            "                                                                                                  \n",
            " block14_sepconv1_bn (BatchNorm  (None, 8, 8, 1536)  6144        ['block14_sepconv1[0][0]']       \n",
            " alization)                                                                                       \n",
            "                                                                                                  \n",
            " embedding_2 (Embedding)        (None, 25, 512)      4280320     ['input_6[0][0]']                \n",
            "                                                                                                  \n",
            " block14_sepconv1_act (Activati  (None, 8, 8, 1536)  0           ['block14_sepconv1_bn[0][0]']    \n",
            " on)                                                                                              \n",
            "                                                                                                  \n",
            " batch_normalization_18 (BatchN  (None, 25, 512)     2048        ['embedding_2[0][0]']            \n",
            " ormalization)                                                                                    \n",
            "                                                                                                  \n",
            " block14_sepconv2 (SeparableCon  (None, 8, 8, 2048)  3159552     ['block14_sepconv1_act[0][0]']   \n",
            " v2D)                                                                                             \n",
            "                                                                                                  \n",
            " bidirectional_6 (Bidirectional  (None, 25, 512)     1574912     ['batch_normalization_18[0][0]'] \n",
            " )                                                                                                \n",
            "                                                                                                  \n",
            " block14_sepconv2_bn (BatchNorm  (None, 8, 8, 2048)  8192        ['block14_sepconv2[0][0]']       \n",
            " alization)                                                                                       \n",
            "                                                                                                  \n",
            " batch_normalization_19 (BatchN  (None, 25, 512)     2048        ['bidirectional_6[0][0]']        \n",
            " ormalization)                                                                                    \n",
            "                                                                                                  \n",
            " block14_sepconv2_act (Activati  (None, 8, 8, 2048)  0           ['block14_sepconv2_bn[0][0]']    \n",
            " on)                                                                                              \n",
            "                                                                                                  \n",
            " bidirectional_7 (Bidirectional  (None, 25, 512)     1574912     ['batch_normalization_19[0][0]'] \n",
            " )                                                                                                \n",
            "                                                                                                  \n",
            " global_average_pooling (Global  (None, 2048)        0           ['block14_sepconv2_act[0][0]']   \n",
            " AveragePooling2D)                                                                                \n",
            "                                                                                                  \n",
            " batch_normalization_20 (BatchN  (None, 25, 512)     2048        ['bidirectional_7[0][0]']        \n",
            " ormalization)                                                                                    \n",
            "                                                                                                  \n",
            " dense_4 (Dense)                (None, 512)          1049088     ['global_average_pooling[0][0]'] \n",
            "                                                                                                  \n",
            " bidirectional_8 (Bidirectional  (None, 512)         1574912     ['batch_normalization_20[0][0]'] \n",
            " )                                                                                                \n",
            "                                                                                                  \n",
            " add_36 (Add)                   (None, 512)          0           ['dense_4[0][0]',                \n",
            "                                                                  'bidirectional_8[0][0]']        \n",
            "                                                                                                  \n",
            " dense_5 (Dense)                (None, 8360)         4288680     ['add_36[0][0]']                 \n",
            "                                                                                                  \n",
            "==================================================================================================\n",
            "Total params: 35,210,448\n",
            "Trainable params: 14,345,896\n",
            "Non-trainable params: 20,864,552\n",
            "__________________________________________________________________________________________________\n"
          ]
        }
      ],
      "source": [
        "actor_model.summary()"
      ]
    },
    {
      "cell_type": "code",
      "execution_count": null,
      "metadata": {
        "id": "bsSQ34ygvvvx"
      },
      "outputs": [],
      "source": [
        "#actor_model.load_weights('/content/drive/MyDrive/Kaggle/policy_net_weights_xception1.h5')"
      ]
    },
    {
      "cell_type": "code",
      "execution_count": null,
      "metadata": {
        "colab": {
          "base_uri": "https://localhost:8080/"
        },
        "id": "ZzLzRr37zrn5",
        "outputId": "d8c1119d-2a71-4854-bd08-ee38fe7a03cd"
      },
      "outputs": [
        {
          "output_type": "stream",
          "name": "stdout",
          "text": [
            "Epoch 1/200\n",
            "30/30 [==============================] - 120s 3s/step - loss: 6.2997 - accuracy: 0.1102 - val_loss: 6.0306 - val_accuracy: 0.0823\n",
            "Epoch 2/200\n",
            "30/30 [==============================] - 59s 2s/step - loss: 5.4472 - accuracy: 0.1557 - val_loss: 6.1711 - val_accuracy: 0.0516\n",
            "Epoch 3/200\n",
            "30/30 [==============================] - 50s 2s/step - loss: 5.2195 - accuracy: 0.1823 - val_loss: 6.5952 - val_accuracy: 0.0672\n",
            "Epoch 4/200\n",
            "30/30 [==============================] - 47s 2s/step - loss: 5.1385 - accuracy: 0.1849 - val_loss: 6.5022 - val_accuracy: 0.0820\n",
            "Epoch 5/200\n",
            "30/30 [==============================] - 53s 2s/step - loss: 5.0512 - accuracy: 0.1915 - val_loss: 6.2339 - val_accuracy: 0.1283\n",
            "Epoch 6/200\n",
            "30/30 [==============================] - 42s 1s/step - loss: 4.9066 - accuracy: 0.2020 - val_loss: 6.7770 - val_accuracy: 0.1154\n",
            "Epoch 7/200\n",
            "30/30 [==============================] - 44s 1s/step - loss: 4.8704 - accuracy: 0.1972 - val_loss: 6.1210 - val_accuracy: 0.1288\n",
            "Epoch 8/200\n",
            "30/30 [==============================] - 41s 1s/step - loss: 4.7448 - accuracy: 0.2027 - val_loss: 6.0965 - val_accuracy: 0.1235\n",
            "Epoch 9/200\n",
            "30/30 [==============================] - 41s 1s/step - loss: 4.6144 - accuracy: 0.2193 - val_loss: 6.1716 - val_accuracy: 0.1269\n",
            "Epoch 10/200\n",
            "30/30 [==============================] - 41s 1s/step - loss: 4.4934 - accuracy: 0.2222 - val_loss: 6.2733 - val_accuracy: 0.1313\n",
            "Epoch 11/200\n",
            "30/30 [==============================] - 42s 1s/step - loss: 4.3942 - accuracy: 0.2209 - val_loss: 5.6024 - val_accuracy: 0.1522\n",
            "Epoch 12/200\n",
            "30/30 [==============================] - 39s 1s/step - loss: 4.3359 - accuracy: 0.2288 - val_loss: 5.6905 - val_accuracy: 0.1708\n",
            "Epoch 13/200\n",
            "30/30 [==============================] - 41s 1s/step - loss: 4.3573 - accuracy: 0.2204 - val_loss: 5.7736 - val_accuracy: 0.1677\n",
            "Epoch 14/200\n",
            "30/30 [==============================] - 41s 1s/step - loss: 4.2731 - accuracy: 0.2233 - val_loss: 6.3670 - val_accuracy: 0.1404\n",
            "Epoch 15/200\n",
            "30/30 [==============================] - 40s 1s/step - loss: 4.2658 - accuracy: 0.2302 - val_loss: 5.7924 - val_accuracy: 0.1818\n",
            "Epoch 16/200\n",
            "30/30 [==============================] - 38s 1s/step - loss: 4.2595 - accuracy: 0.2248 - val_loss: 5.7141 - val_accuracy: 0.1606\n",
            "Epoch 17/200\n",
            "30/30 [==============================] - 41s 1s/step - loss: 4.1560 - accuracy: 0.2303 - val_loss: 5.9489 - val_accuracy: 0.1882\n",
            "Epoch 18/200\n",
            "30/30 [==============================] - 40s 1s/step - loss: 4.1683 - accuracy: 0.2358 - val_loss: 5.8191 - val_accuracy: 0.1891\n",
            "Epoch 19/200\n",
            "30/30 [==============================] - 38s 1s/step - loss: 4.0119 - accuracy: 0.2433 - val_loss: 6.0671 - val_accuracy: 0.1917\n",
            "Epoch 20/200\n",
            "30/30 [==============================] - 37s 1s/step - loss: 4.0165 - accuracy: 0.2436 - val_loss: 6.0589 - val_accuracy: 0.1645\n",
            "Epoch 21/200\n",
            "30/30 [==============================] - 38s 1s/step - loss: 3.9716 - accuracy: 0.2430 - val_loss: 6.0419 - val_accuracy: 0.1883\n",
            "Epoch 22/200\n",
            "30/30 [==============================] - 38s 1s/step - loss: 3.9633 - accuracy: 0.2405 - val_loss: 6.3575 - val_accuracy: 0.1725\n",
            "Epoch 23/200\n",
            "30/30 [==============================] - 40s 1s/step - loss: 3.9343 - accuracy: 0.2399 - val_loss: 6.3920 - val_accuracy: 0.1553\n",
            "Epoch 24/200\n",
            "30/30 [==============================] - 38s 1s/step - loss: 3.9616 - accuracy: 0.2394 - val_loss: 6.2024 - val_accuracy: 0.2047\n",
            "Epoch 25/200\n",
            "30/30 [==============================] - 38s 1s/step - loss: 3.8226 - accuracy: 0.2477 - val_loss: 6.0585 - val_accuracy: 0.1667\n",
            "Epoch 26/200\n",
            "30/30 [==============================] - 40s 1s/step - loss: 3.8463 - accuracy: 0.2475 - val_loss: 6.3228 - val_accuracy: 0.1766\n",
            "Epoch 27/200\n",
            "30/30 [==============================] - 43s 1s/step - loss: 3.7950 - accuracy: 0.2567 - val_loss: 6.2107 - val_accuracy: 0.1747\n",
            "Epoch 28/200\n",
            "30/30 [==============================] - 37s 1s/step - loss: 3.7699 - accuracy: 0.2579 - val_loss: 6.1279 - val_accuracy: 0.1547\n",
            "Epoch 29/200\n",
            "30/30 [==============================] - 37s 1s/step - loss: 3.7132 - accuracy: 0.2619 - val_loss: 6.3374 - val_accuracy: 0.1623\n",
            "Epoch 30/200\n",
            "30/30 [==============================] - 38s 1s/step - loss: 3.6948 - accuracy: 0.2553 - val_loss: 6.2493 - val_accuracy: 0.1345\n",
            "Epoch 31/200\n",
            "30/30 [==============================] - 37s 1s/step - loss: 3.6422 - accuracy: 0.2584 - val_loss: 6.0172 - val_accuracy: 0.1366\n",
            "Epoch 32/200\n",
            "30/30 [==============================] - 40s 1s/step - loss: 3.6791 - accuracy: 0.2551 - val_loss: 6.2409 - val_accuracy: 0.1906\n",
            "Epoch 33/200\n",
            "30/30 [==============================] - 38s 1s/step - loss: 3.6058 - accuracy: 0.2624 - val_loss: 6.0541 - val_accuracy: 0.1561\n",
            "Epoch 34/200\n",
            "30/30 [==============================] - 38s 1s/step - loss: 3.5712 - accuracy: 0.2643 - val_loss: 6.2950 - val_accuracy: 0.1652\n",
            "Epoch 35/200\n",
            "30/30 [==============================] - 38s 1s/step - loss: 3.5934 - accuracy: 0.2641 - val_loss: 6.1776 - val_accuracy: 0.1576\n",
            "Epoch 36/200\n",
            "30/30 [==============================] - 37s 1s/step - loss: 3.4914 - accuracy: 0.2839 - val_loss: 6.2641 - val_accuracy: 0.1973\n",
            "Epoch 37/200\n",
            "30/30 [==============================] - 38s 1s/step - loss: 3.4876 - accuracy: 0.2739 - val_loss: 6.4960 - val_accuracy: 0.1707\n",
            "Epoch 38/200\n",
            "30/30 [==============================] - 38s 1s/step - loss: 3.4615 - accuracy: 0.2717 - val_loss: 5.9013 - val_accuracy: 0.2226\n",
            "Epoch 39/200\n",
            "30/30 [==============================] - 37s 1s/step - loss: 3.4142 - accuracy: 0.2801 - val_loss: 6.4601 - val_accuracy: 0.1827\n",
            "Epoch 40/200\n",
            "30/30 [==============================] - 40s 1s/step - loss: 3.4327 - accuracy: 0.2746 - val_loss: 6.5129 - val_accuracy: 0.1424\n",
            "Epoch 41/200\n",
            "30/30 [==============================] - 38s 1s/step - loss: 3.4314 - accuracy: 0.2767 - val_loss: 6.7451 - val_accuracy: 0.1393\n",
            "Epoch 42/200\n",
            "30/30 [==============================] - 40s 1s/step - loss: 3.3273 - accuracy: 0.2913 - val_loss: 6.5812 - val_accuracy: 0.1527\n",
            "Epoch 43/200\n",
            "30/30 [==============================] - 39s 1s/step - loss: 3.3474 - accuracy: 0.2831 - val_loss: 6.4841 - val_accuracy: 0.1813\n",
            "Epoch 44/200\n",
            "30/30 [==============================] - 39s 1s/step - loss: 3.3022 - accuracy: 0.2950 - val_loss: 6.6330 - val_accuracy: 0.1520\n",
            "Epoch 45/200\n",
            "30/30 [==============================] - 37s 1s/step - loss: 3.2802 - accuracy: 0.2983 - val_loss: 6.7951 - val_accuracy: 0.1381\n",
            "Epoch 46/200\n",
            "30/30 [==============================] - 37s 1s/step - loss: 3.2206 - accuracy: 0.3042 - val_loss: 6.5258 - val_accuracy: 0.1293\n",
            "Epoch 47/200\n",
            "30/30 [==============================] - 40s 1s/step - loss: 3.2311 - accuracy: 0.3004 - val_loss: 6.1814 - val_accuracy: 0.1517\n",
            "Epoch 48/200\n",
            "30/30 [==============================] - 37s 1s/step - loss: 3.1674 - accuracy: 0.3075 - val_loss: 6.5710 - val_accuracy: 0.1553\n",
            "Epoch 49/200\n",
            "30/30 [==============================] - 38s 1s/step - loss: 3.2269 - accuracy: 0.2989 - val_loss: 6.6908 - val_accuracy: 0.1752\n",
            "Epoch 50/200\n",
            "30/30 [==============================] - 37s 1s/step - loss: 3.1419 - accuracy: 0.3117 - val_loss: 6.9722 - val_accuracy: 0.1456\n",
            "Epoch 51/200\n",
            "30/30 [==============================] - 39s 1s/step - loss: 3.1622 - accuracy: 0.3077 - val_loss: 6.6671 - val_accuracy: 0.1564\n",
            "Epoch 52/200\n",
            "30/30 [==============================] - 38s 1s/step - loss: 3.1345 - accuracy: 0.3126 - val_loss: 6.5787 - val_accuracy: 0.1567\n",
            "Epoch 53/200\n",
            "30/30 [==============================] - 37s 1s/step - loss: 3.0561 - accuracy: 0.3264 - val_loss: 7.1304 - val_accuracy: 0.1410\n",
            "Epoch 54/200\n",
            "30/30 [==============================] - 37s 1s/step - loss: 3.0422 - accuracy: 0.3307 - val_loss: 6.8084 - val_accuracy: 0.1472\n",
            "Epoch 55/200\n",
            "30/30 [==============================] - 38s 1s/step - loss: 2.9900 - accuracy: 0.3342 - val_loss: 6.8294 - val_accuracy: 0.1676\n",
            "Epoch 56/200\n",
            "30/30 [==============================] - 37s 1s/step - loss: 2.9737 - accuracy: 0.3359 - val_loss: 6.8145 - val_accuracy: 0.1657\n",
            "Epoch 57/200\n",
            "30/30 [==============================] - 38s 1s/step - loss: 2.9963 - accuracy: 0.3340 - val_loss: 7.1382 - val_accuracy: 0.1424\n",
            "Epoch 58/200\n",
            "30/30 [==============================] - 39s 1s/step - loss: 2.9621 - accuracy: 0.3375 - val_loss: 6.4077 - val_accuracy: 0.1864\n",
            "Epoch 59/200\n",
            "30/30 [==============================] - 38s 1s/step - loss: 2.9335 - accuracy: 0.3416 - val_loss: 6.5837 - val_accuracy: 0.1601\n",
            "Epoch 60/200\n",
            "30/30 [==============================] - 39s 1s/step - loss: 2.8971 - accuracy: 0.3462 - val_loss: 6.5703 - val_accuracy: 0.1517\n",
            "Epoch 61/200\n",
            "30/30 [==============================] - 37s 1s/step - loss: 2.8833 - accuracy: 0.3479 - val_loss: 7.1544 - val_accuracy: 0.1204\n",
            "Epoch 62/200\n",
            "30/30 [==============================] - 37s 1s/step - loss: 2.8546 - accuracy: 0.3606 - val_loss: 6.4501 - val_accuracy: 0.1487\n",
            "Epoch 63/200\n",
            "30/30 [==============================] - 37s 1s/step - loss: 2.8000 - accuracy: 0.3667 - val_loss: 6.7433 - val_accuracy: 0.1594\n",
            "Epoch 64/200\n",
            "30/30 [==============================] - 38s 1s/step - loss: 2.7760 - accuracy: 0.3727 - val_loss: 6.6878 - val_accuracy: 0.1618\n",
            "Epoch 65/200\n",
            "30/30 [==============================] - 39s 1s/step - loss: 2.7571 - accuracy: 0.3663 - val_loss: 6.5880 - val_accuracy: 0.1713\n",
            "Epoch 66/200\n",
            "30/30 [==============================] - 38s 1s/step - loss: 2.7744 - accuracy: 0.3608 - val_loss: 6.6345 - val_accuracy: 0.1864\n",
            "Epoch 67/200\n",
            "30/30 [==============================] - 38s 1s/step - loss: 2.7256 - accuracy: 0.3742 - val_loss: 6.9086 - val_accuracy: 0.1704\n",
            "Epoch 68/200\n",
            "30/30 [==============================] - 38s 1s/step - loss: 2.7186 - accuracy: 0.3704 - val_loss: 6.8702 - val_accuracy: 0.1662\n",
            "Epoch 69/200\n",
            "30/30 [==============================] - 40s 1s/step - loss: 2.6889 - accuracy: 0.3818 - val_loss: 6.9723 - val_accuracy: 0.1672\n",
            "Epoch 70/200\n",
            "30/30 [==============================] - 37s 1s/step - loss: 2.6723 - accuracy: 0.3829 - val_loss: 7.2717 - val_accuracy: 0.1325\n",
            "Epoch 71/200\n",
            "30/30 [==============================] - 38s 1s/step - loss: 2.6250 - accuracy: 0.3941 - val_loss: 7.2918 - val_accuracy: 0.1790\n",
            "Epoch 72/200\n",
            "30/30 [==============================] - 38s 1s/step - loss: 2.5737 - accuracy: 0.4040 - val_loss: 7.0612 - val_accuracy: 0.1364\n",
            "Epoch 73/200\n",
            "30/30 [==============================] - 39s 1s/step - loss: 2.5594 - accuracy: 0.3966 - val_loss: 7.5205 - val_accuracy: 0.1532\n",
            "Epoch 74/200\n",
            "30/30 [==============================] - 38s 1s/step - loss: 2.5601 - accuracy: 0.4035 - val_loss: 7.0050 - val_accuracy: 0.1671\n",
            "Epoch 75/200\n",
            "30/30 [==============================] - 38s 1s/step - loss: 2.5337 - accuracy: 0.4157 - val_loss: 7.2331 - val_accuracy: 0.1484\n",
            "Epoch 76/200\n",
            "30/30 [==============================] - 38s 1s/step - loss: 2.5266 - accuracy: 0.4020 - val_loss: 7.1910 - val_accuracy: 0.1487\n",
            "Epoch 77/200\n",
            "30/30 [==============================] - 40s 1s/step - loss: 2.4908 - accuracy: 0.4155 - val_loss: 7.1740 - val_accuracy: 0.1352\n",
            "Epoch 78/200\n",
            "30/30 [==============================] - 38s 1s/step - loss: 2.4841 - accuracy: 0.4159 - val_loss: 7.0317 - val_accuracy: 0.1285\n",
            "Epoch 79/200\n",
            "30/30 [==============================] - 37s 1s/step - loss: 2.4494 - accuracy: 0.4173 - val_loss: 7.1961 - val_accuracy: 0.1785\n",
            "Epoch 80/200\n",
            "30/30 [==============================] - 38s 1s/step - loss: 2.4052 - accuracy: 0.4298 - val_loss: 6.9674 - val_accuracy: 0.1393\n",
            "Epoch 81/200\n",
            "30/30 [==============================] - 38s 1s/step - loss: 2.3460 - accuracy: 0.4425 - val_loss: 7.3825 - val_accuracy: 0.1613\n",
            "Epoch 82/200\n",
            "30/30 [==============================] - 40s 1s/step - loss: 2.3879 - accuracy: 0.4300 - val_loss: 7.3809 - val_accuracy: 0.1531\n",
            "Epoch 83/200\n",
            "30/30 [==============================] - 38s 1s/step - loss: 2.3876 - accuracy: 0.4352 - val_loss: 6.9248 - val_accuracy: 0.1753\n",
            "Epoch 84/200\n",
            "30/30 [==============================] - 38s 1s/step - loss: 2.3155 - accuracy: 0.4469 - val_loss: 7.8594 - val_accuracy: 0.1450\n",
            "Epoch 85/200\n",
            "30/30 [==============================] - 39s 1s/step - loss: 2.3237 - accuracy: 0.4443 - val_loss: 6.7538 - val_accuracy: 0.2021\n",
            "Epoch 86/200\n",
            "30/30 [==============================] - 38s 1s/step - loss: 2.3016 - accuracy: 0.4572 - val_loss: 7.4376 - val_accuracy: 0.1531\n",
            "Epoch 87/200\n",
            "30/30 [==============================] - 37s 1s/step - loss: 2.2824 - accuracy: 0.4503 - val_loss: 7.4464 - val_accuracy: 0.1286\n",
            "Epoch 88/200\n",
            "30/30 [==============================] - 37s 1s/step - loss: 2.2261 - accuracy: 0.4582 - val_loss: 7.9154 - val_accuracy: 0.1527\n",
            "Epoch 89/200\n",
            "30/30 [==============================] - 38s 1s/step - loss: 2.1976 - accuracy: 0.4692 - val_loss: 7.2911 - val_accuracy: 0.1254\n",
            "Epoch 90/200\n",
            "30/30 [==============================] - 37s 1s/step - loss: 2.1444 - accuracy: 0.4817 - val_loss: 7.2833 - val_accuracy: 0.1515\n",
            "Epoch 91/200\n",
            "30/30 [==============================] - 40s 1s/step - loss: 2.1909 - accuracy: 0.4711 - val_loss: 7.5137 - val_accuracy: 0.1774\n",
            "Epoch 92/200\n",
            "30/30 [==============================] - 37s 1s/step - loss: 2.1625 - accuracy: 0.4784 - val_loss: 8.0291 - val_accuracy: 0.1391\n",
            "Epoch 93/200\n",
            "30/30 [==============================] - 38s 1s/step - loss: 2.1644 - accuracy: 0.4700 - val_loss: 7.2164 - val_accuracy: 0.1469\n",
            "Epoch 94/200\n",
            "30/30 [==============================] - 38s 1s/step - loss: 2.1171 - accuracy: 0.4889 - val_loss: 6.9945 - val_accuracy: 0.1444\n",
            "Epoch 95/200\n",
            "30/30 [==============================] - 37s 1s/step - loss: 2.0975 - accuracy: 0.4892 - val_loss: 7.3660 - val_accuracy: 0.1503\n",
            "Epoch 96/200\n",
            "30/30 [==============================] - 37s 1s/step - loss: 2.0657 - accuracy: 0.4913 - val_loss: 7.6255 - val_accuracy: 0.1224\n",
            "Epoch 97/200\n",
            "30/30 [==============================] - 38s 1s/step - loss: 2.0392 - accuracy: 0.5001 - val_loss: 7.8098 - val_accuracy: 0.1653\n",
            "Epoch 98/200\n",
            "30/30 [==============================] - 37s 1s/step - loss: 2.0088 - accuracy: 0.5055 - val_loss: 7.7310 - val_accuracy: 0.1438\n",
            "Epoch 99/200\n",
            "30/30 [==============================] - 38s 1s/step - loss: 2.0209 - accuracy: 0.5062 - val_loss: 7.1538 - val_accuracy: 0.1646\n",
            "Epoch 100/200\n",
            "30/30 [==============================] - 38s 1s/step - loss: 1.9882 - accuracy: 0.5085 - val_loss: 8.0731 - val_accuracy: 0.1317\n",
            "Epoch 101/200\n",
            "30/30 [==============================] - 37s 1s/step - loss: 1.9690 - accuracy: 0.5187 - val_loss: 8.0409 - val_accuracy: 0.1054\n",
            "Epoch 102/200\n",
            "30/30 [==============================] - 38s 1s/step - loss: 1.9450 - accuracy: 0.5197 - val_loss: 7.9603 - val_accuracy: 0.1453\n",
            "Epoch 103/200\n",
            "30/30 [==============================] - 38s 1s/step - loss: 1.9211 - accuracy: 0.5302 - val_loss: 7.5889 - val_accuracy: 0.1268\n",
            "Epoch 104/200\n",
            "30/30 [==============================] - 37s 1s/step - loss: 1.9312 - accuracy: 0.5266 - val_loss: 7.8798 - val_accuracy: 0.1442\n",
            "Epoch 105/200\n",
            "30/30 [==============================] - 37s 1s/step - loss: 1.8665 - accuracy: 0.5380 - val_loss: 7.5688 - val_accuracy: 0.1703\n",
            "Epoch 106/200\n",
            "30/30 [==============================] - 38s 1s/step - loss: 1.8635 - accuracy: 0.5423 - val_loss: 7.6685 - val_accuracy: 0.1413\n",
            "Epoch 107/200\n",
            "30/30 [==============================] - 39s 1s/step - loss: 1.8103 - accuracy: 0.5528 - val_loss: 7.8113 - val_accuracy: 0.1563\n",
            "Epoch 108/200\n",
            "30/30 [==============================] - 38s 1s/step - loss: 1.8505 - accuracy: 0.5405 - val_loss: 7.8855 - val_accuracy: 0.1008\n",
            "Epoch 109/200\n",
            "30/30 [==============================] - 37s 1s/step - loss: 1.7851 - accuracy: 0.5567 - val_loss: 7.6001 - val_accuracy: 0.1755\n",
            "Epoch 110/200\n",
            "30/30 [==============================] - 39s 1s/step - loss: 1.8137 - accuracy: 0.5501 - val_loss: 7.7637 - val_accuracy: 0.1792\n",
            "Epoch 111/200\n",
            "30/30 [==============================] - 38s 1s/step - loss: 1.7680 - accuracy: 0.5659 - val_loss: 7.5633 - val_accuracy: 0.1694\n",
            "Epoch 112/200\n",
            "30/30 [==============================] - 37s 1s/step - loss: 1.7535 - accuracy: 0.5588 - val_loss: 7.5118 - val_accuracy: 0.2030\n",
            "Epoch 113/200\n",
            "30/30 [==============================] - 38s 1s/step - loss: 1.7315 - accuracy: 0.5657 - val_loss: 7.3822 - val_accuracy: 0.1534\n",
            "Epoch 114/200\n",
            "30/30 [==============================] - 37s 1s/step - loss: 1.6848 - accuracy: 0.5832 - val_loss: 7.5021 - val_accuracy: 0.1689\n",
            "Epoch 115/200\n",
            "30/30 [==============================] - 39s 1s/step - loss: 1.6696 - accuracy: 0.5841 - val_loss: 8.2748 - val_accuracy: 0.1304\n",
            "Epoch 116/200\n",
            "30/30 [==============================] - 38s 1s/step - loss: 1.6917 - accuracy: 0.5760 - val_loss: 7.5035 - val_accuracy: 0.1987\n",
            "Epoch 117/200\n",
            "30/30 [==============================] - 38s 1s/step - loss: 1.6275 - accuracy: 0.5949 - val_loss: 8.1047 - val_accuracy: 0.1338\n",
            "Epoch 118/200\n",
            "30/30 [==============================] - 38s 1s/step - loss: 1.6381 - accuracy: 0.5880 - val_loss: 7.9640 - val_accuracy: 0.1517\n",
            "Epoch 119/200\n",
            "30/30 [==============================] - 39s 1s/step - loss: 1.5953 - accuracy: 0.6006 - val_loss: 7.9991 - val_accuracy: 0.1308\n",
            "Epoch 120/200\n",
            "30/30 [==============================] - 37s 1s/step - loss: 1.5958 - accuracy: 0.6024 - val_loss: 8.3142 - val_accuracy: 0.1091\n",
            "Epoch 121/200\n",
            "30/30 [==============================] - 37s 1s/step - loss: 1.5858 - accuracy: 0.6022 - val_loss: 8.1300 - val_accuracy: 0.1550\n",
            "Epoch 122/200\n",
            "30/30 [==============================] - 37s 1s/step - loss: 1.5471 - accuracy: 0.6099 - val_loss: 8.5491 - val_accuracy: 0.1257\n",
            "Epoch 123/200\n",
            "30/30 [==============================] - 37s 1s/step - loss: 1.5178 - accuracy: 0.6157 - val_loss: 8.3444 - val_accuracy: 0.1420\n",
            "Epoch 124/200\n",
            "30/30 [==============================] - 37s 1s/step - loss: 1.5291 - accuracy: 0.6149 - val_loss: 8.2348 - val_accuracy: 0.1429\n",
            "Epoch 125/200\n",
            "30/30 [==============================] - 38s 1s/step - loss: 1.4987 - accuracy: 0.6284 - val_loss: 7.9649 - val_accuracy: 0.1202\n",
            "Epoch 126/200\n",
            "30/30 [==============================] - 37s 1s/step - loss: 1.4625 - accuracy: 0.6292 - val_loss: 7.9610 - val_accuracy: 0.1799\n",
            "Epoch 127/200\n",
            "30/30 [==============================] - 38s 1s/step - loss: 1.4625 - accuracy: 0.6304 - val_loss: 8.1631 - val_accuracy: 0.1633\n",
            "Epoch 128/200\n",
            "30/30 [==============================] - 38s 1s/step - loss: 1.4379 - accuracy: 0.6432 - val_loss: 8.5826 - val_accuracy: 0.1681\n",
            "Epoch 129/200\n",
            "30/30 [==============================] - 37s 1s/step - loss: 1.4192 - accuracy: 0.6408 - val_loss: 8.5071 - val_accuracy: 0.1640\n",
            "Epoch 130/200\n",
            "30/30 [==============================] - 38s 1s/step - loss: 1.4037 - accuracy: 0.6474 - val_loss: 7.8996 - val_accuracy: 0.1809\n",
            "Epoch 131/200\n",
            "30/30 [==============================] - 38s 1s/step - loss: 1.3640 - accuracy: 0.6542 - val_loss: 8.8804 - val_accuracy: 0.1506\n",
            "Epoch 132/200\n",
            "30/30 [==============================] - 37s 1s/step - loss: 1.3582 - accuracy: 0.6572 - val_loss: 7.9467 - val_accuracy: 0.1763\n",
            "Epoch 133/200\n",
            "30/30 [==============================] - 38s 1s/step - loss: 1.3560 - accuracy: 0.6611 - val_loss: 8.0972 - val_accuracy: 0.1747\n",
            "Epoch 134/200\n",
            "30/30 [==============================] - 38s 1s/step - loss: 1.3100 - accuracy: 0.6758 - val_loss: 8.6796 - val_accuracy: 0.1360\n",
            "Epoch 135/200\n",
            "30/30 [==============================] - 38s 1s/step - loss: 1.3231 - accuracy: 0.6647 - val_loss: 8.8897 - val_accuracy: 0.1493\n",
            "Epoch 136/200\n",
            "30/30 [==============================] - 38s 1s/step - loss: 1.2954 - accuracy: 0.6818 - val_loss: 7.9983 - val_accuracy: 0.1429\n",
            "Epoch 137/200\n",
            "30/30 [==============================] - 37s 1s/step - loss: 1.2704 - accuracy: 0.6858 - val_loss: 7.9689 - val_accuracy: 0.1646\n",
            "Epoch 138/200\n",
            "30/30 [==============================] - 38s 1s/step - loss: 1.2600 - accuracy: 0.6827 - val_loss: 8.3416 - val_accuracy: 0.1524\n",
            "Epoch 139/200\n",
            "30/30 [==============================] - 38s 1s/step - loss: 1.2206 - accuracy: 0.6930 - val_loss: 8.8384 - val_accuracy: 0.1208\n",
            "Epoch 140/200\n",
            "30/30 [==============================] - 37s 1s/step - loss: 1.1986 - accuracy: 0.6979 - val_loss: 8.0116 - val_accuracy: 0.1254\n",
            "Epoch 141/200\n",
            "30/30 [==============================] - 38s 1s/step - loss: 1.2354 - accuracy: 0.6921 - val_loss: 8.0451 - val_accuracy: 0.1606\n",
            "Epoch 142/200\n",
            "30/30 [==============================] - 38s 1s/step - loss: 1.1989 - accuracy: 0.7021 - val_loss: 8.7312 - val_accuracy: 0.1529\n",
            "Epoch 143/200\n",
            "30/30 [==============================] - 38s 1s/step - loss: 1.1607 - accuracy: 0.7061 - val_loss: 8.4239 - val_accuracy: 0.1378\n",
            "Epoch 144/200\n",
            "30/30 [==============================] - 38s 1s/step - loss: 1.1666 - accuracy: 0.7082 - val_loss: 8.5860 - val_accuracy: 0.1556\n",
            "Epoch 145/200\n",
            "30/30 [==============================] - 38s 1s/step - loss: 1.1631 - accuracy: 0.7146 - val_loss: 8.4916 - val_accuracy: 0.1710\n",
            "Epoch 146/200\n",
            "30/30 [==============================] - 37s 1s/step - loss: 1.1443 - accuracy: 0.7107 - val_loss: 8.4656 - val_accuracy: 0.2284\n",
            "Epoch 147/200\n",
            "30/30 [==============================] - 37s 1s/step - loss: 1.1087 - accuracy: 0.7260 - val_loss: 9.1658 - val_accuracy: 0.1693\n",
            "Epoch 148/200\n",
            "30/30 [==============================] - 38s 1s/step - loss: 1.1018 - accuracy: 0.7208 - val_loss: 8.8733 - val_accuracy: 0.1521\n",
            "Epoch 149/200\n",
            "30/30 [==============================] - 37s 1s/step - loss: 1.0599 - accuracy: 0.7338 - val_loss: 8.8385 - val_accuracy: 0.1696\n",
            "Epoch 150/200\n",
            "30/30 [==============================] - 38s 1s/step - loss: 1.0910 - accuracy: 0.7339 - val_loss: 8.4273 - val_accuracy: 0.1667\n",
            "Epoch 151/200\n",
            "30/30 [==============================] - 38s 1s/step - loss: 1.0401 - accuracy: 0.7454 - val_loss: 9.0523 - val_accuracy: 0.1467\n",
            "Epoch 152/200\n",
            "30/30 [==============================] - 38s 1s/step - loss: 1.0729 - accuracy: 0.7268 - val_loss: 8.8788 - val_accuracy: 0.1586\n",
            "Epoch 153/200\n",
            "30/30 [==============================] - 38s 1s/step - loss: 1.0450 - accuracy: 0.7460 - val_loss: 8.6544 - val_accuracy: 0.1409\n",
            "Epoch 154/200\n",
            "30/30 [==============================] - 37s 1s/step - loss: 1.0350 - accuracy: 0.7423 - val_loss: 8.8970 - val_accuracy: 0.1594\n",
            "Epoch 155/200\n",
            "30/30 [==============================] - 38s 1s/step - loss: 0.9974 - accuracy: 0.7511 - val_loss: 8.8525 - val_accuracy: 0.1374\n",
            "Epoch 156/200\n",
            "30/30 [==============================] - 38s 1s/step - loss: 0.9821 - accuracy: 0.7536 - val_loss: 8.4197 - val_accuracy: 0.1366\n",
            "Epoch 157/200\n",
            "30/30 [==============================] - 37s 1s/step - loss: 0.9832 - accuracy: 0.7551 - val_loss: 8.7217 - val_accuracy: 0.1625\n",
            "Epoch 158/200\n",
            "30/30 [==============================] - 38s 1s/step - loss: 0.9851 - accuracy: 0.7557 - val_loss: 8.7072 - val_accuracy: 0.1272\n",
            "Epoch 159/200\n",
            "30/30 [==============================] - 38s 1s/step - loss: 0.9839 - accuracy: 0.7560 - val_loss: 9.0807 - val_accuracy: 0.1563\n",
            "Epoch 160/200\n",
            "30/30 [==============================] - 38s 1s/step - loss: 0.9539 - accuracy: 0.7634 - val_loss: 8.3905 - val_accuracy: 0.1606\n",
            "Epoch 161/200\n",
            "30/30 [==============================] - 39s 1s/step - loss: 0.9412 - accuracy: 0.7654 - val_loss: 8.8434 - val_accuracy: 0.1773\n",
            "Epoch 162/200\n",
            "30/30 [==============================] - 38s 1s/step - loss: 0.9614 - accuracy: 0.7645 - val_loss: 9.4135 - val_accuracy: 0.1796\n",
            "Epoch 163/200\n",
            "30/30 [==============================] - 37s 1s/step - loss: 0.9310 - accuracy: 0.7666 - val_loss: 8.3315 - val_accuracy: 0.2159\n",
            "Epoch 164/200\n",
            "30/30 [==============================] - 38s 1s/step - loss: 0.8979 - accuracy: 0.7786 - val_loss: 8.6948 - val_accuracy: 0.2259\n",
            "Epoch 165/200\n",
            "30/30 [==============================] - 38s 1s/step - loss: 0.9057 - accuracy: 0.7681 - val_loss: 9.1194 - val_accuracy: 0.1715\n",
            "Epoch 166/200\n",
            "30/30 [==============================] - 37s 1s/step - loss: 0.8786 - accuracy: 0.7798 - val_loss: 9.4800 - val_accuracy: 0.1641\n",
            "Epoch 167/200\n",
            "30/30 [==============================] - 38s 1s/step - loss: 0.8951 - accuracy: 0.7815 - val_loss: 9.1885 - val_accuracy: 0.1677\n",
            "Epoch 168/200\n",
            "30/30 [==============================] - 38s 1s/step - loss: 0.8581 - accuracy: 0.7891 - val_loss: 8.7518 - val_accuracy: 0.1562\n",
            "Epoch 169/200\n",
            "30/30 [==============================] - 38s 1s/step - loss: 0.8658 - accuracy: 0.7836 - val_loss: 9.5674 - val_accuracy: 0.1608\n",
            "Epoch 170/200\n",
            "30/30 [==============================] - 38s 1s/step - loss: 0.8611 - accuracy: 0.7857 - val_loss: 9.2165 - val_accuracy: 0.1411\n",
            "Epoch 171/200\n",
            "30/30 [==============================] - 37s 1s/step - loss: 0.8824 - accuracy: 0.7767 - val_loss: 9.1522 - val_accuracy: 0.1236\n",
            "Epoch 172/200\n",
            "30/30 [==============================] - 38s 1s/step - loss: 0.8320 - accuracy: 0.7908 - val_loss: 8.5836 - val_accuracy: 0.1440\n",
            "Epoch 173/200\n",
            "30/30 [==============================] - 38s 1s/step - loss: 0.8170 - accuracy: 0.7964 - val_loss: 9.0450 - val_accuracy: 0.1522\n",
            "Epoch 174/200\n",
            "30/30 [==============================] - 37s 1s/step - loss: 0.8179 - accuracy: 0.7918 - val_loss: 9.4598 - val_accuracy: 0.1208\n",
            "Epoch 175/200\n",
            "30/30 [==============================] - 38s 1s/step - loss: 0.8142 - accuracy: 0.7996 - val_loss: 9.8897 - val_accuracy: 0.1402\n",
            "Epoch 176/200\n",
            "30/30 [==============================] - 38s 1s/step - loss: 0.8006 - accuracy: 0.7972 - val_loss: 9.3377 - val_accuracy: 0.1401\n",
            "Epoch 177/200\n",
            "30/30 [==============================] - 38s 1s/step - loss: 0.7861 - accuracy: 0.8022 - val_loss: 9.0467 - val_accuracy: 0.1317\n",
            "Epoch 178/200\n",
            "30/30 [==============================] - 38s 1s/step - loss: 0.7707 - accuracy: 0.8096 - val_loss: 9.9812 - val_accuracy: 0.1250\n",
            "Epoch 179/200\n",
            "30/30 [==============================] - 37s 1s/step - loss: 0.7996 - accuracy: 0.8014 - val_loss: 9.3595 - val_accuracy: 0.1538\n",
            "Epoch 180/200\n",
            "30/30 [==============================] - 37s 1s/step - loss: 0.8054 - accuracy: 0.7949 - val_loss: 9.5196 - val_accuracy: 0.1761\n",
            "Epoch 181/200\n",
            "30/30 [==============================] - 37s 1s/step - loss: 0.7639 - accuracy: 0.8064 - val_loss: 9.8643 - val_accuracy: 0.1536\n",
            "Epoch 182/200\n",
            "30/30 [==============================] - 37s 1s/step - loss: 0.7543 - accuracy: 0.8099 - val_loss: 10.1993 - val_accuracy: 0.2152\n",
            "Epoch 183/200\n",
            "30/30 [==============================] - 37s 1s/step - loss: 0.7634 - accuracy: 0.8068 - val_loss: 8.5051 - val_accuracy: 0.2574\n",
            "Epoch 184/200\n",
            "30/30 [==============================] - 38s 1s/step - loss: 0.7544 - accuracy: 0.8147 - val_loss: 9.0305 - val_accuracy: 0.1573\n",
            "Epoch 185/200\n",
            "30/30 [==============================] - 37s 1s/step - loss: 0.7338 - accuracy: 0.8175 - val_loss: 9.3344 - val_accuracy: 0.1796\n",
            "Epoch 186/200\n",
            "30/30 [==============================] - 38s 1s/step - loss: 0.7308 - accuracy: 0.8171 - val_loss: 9.7526 - val_accuracy: 0.1232\n",
            "Epoch 187/200\n",
            "30/30 [==============================] - 39s 1s/step - loss: 0.7251 - accuracy: 0.8210 - val_loss: 8.8972 - val_accuracy: 0.1551\n",
            "Epoch 188/200\n",
            "30/30 [==============================] - 37s 1s/step - loss: 0.7582 - accuracy: 0.8011 - val_loss: 9.4485 - val_accuracy: 0.1594\n",
            "Epoch 189/200\n",
            "30/30 [==============================] - 37s 1s/step - loss: 0.7262 - accuracy: 0.8150 - val_loss: 9.1777 - val_accuracy: 0.1676\n",
            "Epoch 190/200\n",
            "30/30 [==============================] - 37s 1s/step - loss: 0.6903 - accuracy: 0.8261 - val_loss: 9.2492 - val_accuracy: 0.1835\n",
            "Epoch 191/200\n",
            "30/30 [==============================] - 37s 1s/step - loss: 0.7056 - accuracy: 0.8224 - val_loss: 9.0052 - val_accuracy: 0.1686\n",
            "Epoch 192/200\n",
            "30/30 [==============================] - 38s 1s/step - loss: 0.7105 - accuracy: 0.8215 - val_loss: 9.6811 - val_accuracy: 0.1672\n",
            "Epoch 193/200\n",
            "30/30 [==============================] - 37s 1s/step - loss: 0.6877 - accuracy: 0.8336 - val_loss: 9.6265 - val_accuracy: 0.1633\n",
            "Epoch 194/200\n",
            "30/30 [==============================] - 38s 1s/step - loss: 0.7120 - accuracy: 0.8175 - val_loss: 9.6268 - val_accuracy: 0.1541\n",
            "Epoch 195/200\n",
            "30/30 [==============================] - 38s 1s/step - loss: 0.6737 - accuracy: 0.8319 - val_loss: 9.9493 - val_accuracy: 0.1136\n",
            "Epoch 196/200\n",
            "30/30 [==============================] - 37s 1s/step - loss: 0.7004 - accuracy: 0.8257 - val_loss: 10.3133 - val_accuracy: 0.1636\n",
            "Epoch 197/200\n",
            "30/30 [==============================] - 37s 1s/step - loss: 0.7172 - accuracy: 0.8145 - val_loss: 9.4956 - val_accuracy: 0.1545\n",
            "Epoch 198/200\n",
            "30/30 [==============================] - 37s 1s/step - loss: 0.6707 - accuracy: 0.8314 - val_loss: 10.3870 - val_accuracy: 0.1411\n",
            "Epoch 199/200\n",
            "30/30 [==============================] - 37s 1s/step - loss: 0.6501 - accuracy: 0.8341 - val_loss: 9.8545 - val_accuracy: 0.1836\n",
            "Epoch 200/200\n",
            "30/30 [==============================] - 38s 1s/step - loss: 0.6824 - accuracy: 0.8271 - val_loss: 9.8050 - val_accuracy: 0.1868\n"
          ]
        }
      ],
      "source": [
        "def scheduler(epoch, lr):\n",
        "    if epoch < 10:\n",
        "        return lr\n",
        "    else:\n",
        "        return lr * tf.math.exp(-0.1)\n",
        "\n",
        "\n",
        "lr_callback = tf.keras.callbacks.LearningRateScheduler(scheduler)\n",
        "\n",
        "checkpoint_filepath = '/content'\n",
        "early_stop_callback = tf.keras.callbacks.EarlyStopping(\n",
        "    monitor='loss', patience=10)\n",
        "\n",
        "model_checkpoint_callback = tf.keras.callbacks.ModelCheckpoint(\n",
        "    filepath=checkpoint_filepath,\n",
        "    monitor='accuracy',\n",
        "    mode='auto')\n",
        "\n",
        "callback = [model_checkpoint_callback]\n",
        "\n",
        "history = actor_model.fit(trn_dataset_whole,epochs=200,steps_per_epoch=30, shuffle=False, validation_data=val_dataset,validation_steps=1)\n",
        "#history = actor_model.fit(trn_dataset, steps_per_epoch=10, epochs=100, shuffle=False,callbacks=lr_callback)\n",
        "model_parameters = history.history"
      ]
    },
    {
      "cell_type": "code",
      "execution_count": null,
      "metadata": {
        "id": "vQFFrV4IduFF"
      },
      "outputs": [],
      "source": [
        "f = open(\"/content/history_policy_model_xception_3_lstm.pkl\", \"wb\")\n",
        "pickle.dump(model_parameters, f)\n",
        "f.close()   "
      ]
    },
    {
      "cell_type": "code",
      "execution_count": null,
      "metadata": {
        "id": "qSoQtj7PSWMI"
      },
      "outputs": [],
      "source": [
        "#actor_model.save_weights('/content/policy_net_weights_xception_best_final_bi_3.h5')"
      ]
    },
    {
      "cell_type": "code",
      "execution_count": null,
      "metadata": {
        "id": "lkdzs3PaiWj9"
      },
      "outputs": [],
      "source": [
        "actor_model.save_weights('/content/policy_net_weights_xception_lstm_3.h5')"
      ]
    },
    {
      "cell_type": "code",
      "execution_count": null,
      "metadata": {
        "colab": {
          "base_uri": "https://localhost:8080/",
          "height": 225
        },
        "id": "xndtNRnFkeoE",
        "outputId": "82fcd1ab-3b98-428d-a5d5-678b99a3e283"
      },
      "outputs": [
        {
          "ename": "NameError",
          "evalue": "ignored",
          "output_type": "error",
          "traceback": [
            "\u001b[0;31m---------------------------------------------------------------------------\u001b[0m",
            "\u001b[0;31mNameError\u001b[0m                                 Traceback (most recent call last)",
            "\u001b[0;32m<ipython-input-23-acd4cbea3e3f>\u001b[0m in \u001b[0;36m<module>\u001b[0;34m()\u001b[0m\n\u001b[0;32m----> 1\u001b[0;31m \u001b[0mprint\u001b[0m\u001b[0;34m(\u001b[0m\u001b[0mhistory\u001b[0m\u001b[0;34m.\u001b[0m\u001b[0mhistory\u001b[0m\u001b[0;34m)\u001b[0m\u001b[0;34m\u001b[0m\u001b[0;34m\u001b[0m\u001b[0m\n\u001b[0m\u001b[1;32m      2\u001b[0m \u001b[0mf\u001b[0m \u001b[0;34m=\u001b[0m \u001b[0mopen\u001b[0m\u001b[0;34m(\u001b[0m\u001b[0;34m\"/content/history_policy_model_lr_lstm.pkl\"\u001b[0m\u001b[0;34m,\u001b[0m \u001b[0;34m\"wb\"\u001b[0m\u001b[0;34m)\u001b[0m\u001b[0;34m\u001b[0m\u001b[0;34m\u001b[0m\u001b[0m\n\u001b[1;32m      3\u001b[0m \u001b[0mpickle\u001b[0m\u001b[0;34m.\u001b[0m\u001b[0mdump\u001b[0m\u001b[0;34m(\u001b[0m\u001b[0mmodel_parameters\u001b[0m\u001b[0;34m,\u001b[0m \u001b[0mf\u001b[0m\u001b[0;34m)\u001b[0m\u001b[0;34m\u001b[0m\u001b[0;34m\u001b[0m\u001b[0m\n\u001b[1;32m      4\u001b[0m \u001b[0mf\u001b[0m\u001b[0;34m.\u001b[0m\u001b[0mclose\u001b[0m\u001b[0;34m(\u001b[0m\u001b[0;34m)\u001b[0m\u001b[0;34m\u001b[0m\u001b[0;34m\u001b[0m\u001b[0m\n",
            "\u001b[0;31mNameError\u001b[0m: name 'history' is not defined"
          ]
        }
      ],
      "source": [
        "print(history.history)\n",
        "f = open(\"/content/history_policy_model_lstm_3.pkl\", \"wb\")\n",
        "pickle.dump(model_parameters, f)\n",
        "f.close()   "
      ]
    },
    {
      "cell_type": "code",
      "execution_count": null,
      "metadata": {
        "id": "Sj9y4cXs-gRv"
      },
      "outputs": [],
      "source": [
        "import matplotlib.pyplot as plt"
      ]
    },
    {
      "cell_type": "code",
      "execution_count": null,
      "metadata": {
        "colab": {
          "base_uri": "https://localhost:8080/",
          "height": 283
        },
        "id": "3eMm-zoHAQfW",
        "outputId": "b7d3d42f-026c-4027-b875-f69d52f0312e"
      },
      "outputs": [
        {
          "data": {
            "text/plain": [
              "[<matplotlib.lines.Line2D at 0x7fc796ae0310>]"
            ]
          },
          "execution_count": 298,
          "metadata": {},
          "output_type": "execute_result"
        },
        {
          "data": {
            "image/png": "[encoded data removed]",
            "text/plain": [
              "<Figure size 432x288 with 1 Axes>"
            ]
          },
          "metadata": {},
          "output_type": "display_data"
        }
      ],
      "source": [
        "plt.plot(history.history['loss'])\n",
        "plt.plot(history.history['val_loss'])"
      ]
    },
    {
      "cell_type": "code",
      "execution_count": null,
      "metadata": {
        "colab": {
          "base_uri": "https://localhost:8080/",
          "height": 283
        },
        "id": "7aNbVQcUMj5O",
        "outputId": "f61c403d-e3ba-476e-9967-2a191dc562d1"
      },
      "outputs": [
        {
          "data": {
            "text/plain": [
              "[<matplotlib.lines.Line2D at 0x7fc796859d90>]"
            ]
          },
          "execution_count": 299,
          "metadata": {},
          "output_type": "execute_result"
        },
        {
          "data": {
            "image/png": "[encoded data removed]",
            "text/plain": [
              "<Figure size 432x288 with 1 Axes>"
            ]
          },
          "metadata": {},
          "output_type": "display_data"
        }
      ],
      "source": [
        "plt.plot(history.history['accuracy'])\n",
        "plt.plot(history.history['val_accuracy'])"
      ]
    },
    {
      "cell_type": "code",
      "execution_count": null,
      "metadata": {
        "colab": {
          "base_uri": "https://localhost:8080/",
          "height": 189
        },
        "id": "3YtPObwH-Vgq",
        "outputId": "226e8a58-c81c-4778-cc02-061ab3a757e5"
      },
      "outputs": [
        {
          "ename": "KeyError",
          "evalue": "ignored",
          "output_type": "error",
          "traceback": [
            "\u001b[0;31m---------------------------------------------------------------------------\u001b[0m",
            "\u001b[0;31mKeyError\u001b[0m                                  Traceback (most recent call last)",
            "\u001b[0;32m<ipython-input-38-795a41919e37>\u001b[0m in \u001b[0;36m<module>\u001b[0;34m()\u001b[0m\n\u001b[0;32m----> 1\u001b[0;31m \u001b[0mplt\u001b[0m\u001b[0;34m.\u001b[0m\u001b[0msemilogx\u001b[0m\u001b[0;34m(\u001b[0m\u001b[0mhistory\u001b[0m\u001b[0;34m.\u001b[0m\u001b[0mhistory\u001b[0m\u001b[0;34m[\u001b[0m\u001b[0;34m'lr'\u001b[0m\u001b[0;34m]\u001b[0m\u001b[0;34m,\u001b[0m\u001b[0mhistory\u001b[0m\u001b[0;34m.\u001b[0m\u001b[0mhistory\u001b[0m\u001b[0;34m[\u001b[0m\u001b[0;34m'loss'\u001b[0m\u001b[0;34m]\u001b[0m\u001b[0;34m)\u001b[0m\u001b[0;34m\u001b[0m\u001b[0;34m\u001b[0m\u001b[0m\n\u001b[0m\u001b[1;32m      2\u001b[0m \u001b[0mplt\u001b[0m\u001b[0;34m.\u001b[0m\u001b[0maxis\u001b[0m\u001b[0;34m(\u001b[0m\u001b[0;34m[\u001b[0m\u001b[0;36m0.001\u001b[0m\u001b[0;34m,\u001b[0m\u001b[0;36m0.0001\u001b[0m\u001b[0;34m,\u001b[0m\u001b[0;36m4.5\u001b[0m\u001b[0;34m,\u001b[0m\u001b[0;36m6.5\u001b[0m\u001b[0;34m]\u001b[0m\u001b[0;34m)\u001b[0m\u001b[0;34m\u001b[0m\u001b[0;34m\u001b[0m\u001b[0m\n",
            "\u001b[0;31mKeyError\u001b[0m: 'lr'"
          ]
        }
      ],
      "source": [
        "plt.semilogx(history.history['lr'],history.history['loss'])\n",
        "plt.axis([0.001,0.0001,4.5,6.5])"
      ]
    },
    {
      "cell_type": "code",
      "execution_count": null,
      "metadata": {
        "id": "hNMRkq7mKtmZ"
      },
      "outputs": [],
      "source": [
        "actor_model.save_weights('/content/policy_net_model_3.h5')"
      ]
    },
    {
      "cell_type": "code",
      "execution_count": null,
      "metadata": {
        "id": "7uzwYUotGOvW"
      },
      "outputs": [],
      "source": [
        "#actor_model.load_weights()"
      ]
    },
    {
      "cell_type": "code",
      "source": [
        "import numpy"
      ],
      "metadata": {
        "id": "HtImFJzVXXmc"
      },
      "execution_count": null,
      "outputs": []
    },
    {
      "cell_type": "code",
      "execution_count": null,
      "metadata": {
        "id": "fnrxXXoQ-15m"
      },
      "outputs": [],
      "source": [
        "def caption_greedy(policy_net,image,tokenizer,word_index,max_length=25):\n",
        "  caption='startseq'\n",
        "  for i in range(max_length):\n",
        "    input_seq=caption.split(' ')\n",
        "    tokenization=tokenizer.texts_to_sequences(input_seq)\n",
        "    padding=tf.keras.preprocessing.sequence.pad_sequences([tokenization],maxlen=max_length) \n",
        "    predicted_word_index=np.argmax(policy_net.predict([tf.expand_dims(image,axis=0),padding]))\n",
        "    predicted_word=word_index[predicted_word_index]\n",
        "    caption+=' '+predicted_word\n",
        "    if predicted_word =='endseq':\n",
        "      break\n",
        "  return caption"
      ]
    },
    {
      "cell_type": "code",
      "execution_count": null,
      "metadata": {
        "id": "gpg8naTN3LzL"
      },
      "outputs": [],
      "source": [
        "tokenizer = tf.keras.preprocessing.text.Tokenizer(num_words=8360,oov_token='<unknw>')\n",
        "tokenizer.fit_on_texts(caption_list)"
      ]
    },
    {
      "cell_type": "code",
      "execution_count": null,
      "metadata": {
        "colab": {
          "background_save": true,
          "base_uri": "https://localhost:8080/"
        },
        "id": "B9FAQiioYOEi",
        "outputId": "7d771ef5-889b-45ca-8801-bb205342d00e"
      },
      "outputs": [
        {
          "data": {
            "text/plain": [
              "Text(0.5, 1.0, 'startseq of people down street three written streets endseq')"
            ]
          },
          "execution_count": null,
          "metadata": {},
          "output_type": "execute_result"
        },
        {
          "data": {
            "image/png": "[encoded data removed]",
            "text/plain": [
              "<Figure size 432x288 with 1 Axes>"
            ]
          },
          "metadata": {},
          "output_type": "display_data"
        }
      ],
      "source": [
        "test_img=list(test_cap_tok.keys())[5]\n",
        "test_photo = load_preprocess_img(image_pth_rt + test_img)\n",
        "cap=caption_greedy(actor_model,test_photo,tokenizer,word_index)\n",
        "#plt.imshow(test_photo)\n",
        "plt.title(cap)"
      ]
    },
    {
      "cell_type": "code",
      "execution_count": null,
      "metadata": {
        "id": "oijeDQqNftdq"
      },
      "outputs": [],
      "source": [
        "test_dataset = captions_generation_policy(test_cap_tok, vocab_size, image_pth_rt, max_length)"
      ]
    }
  ],
  "metadata": {
    "accelerator": "GPU",
    "colab": {
      "collapsed_sections": [],
      "machine_shape": "hm",
      "name": "training_policy_net.ipynb",
      "provenance": []
    },
    "kernelspec": {
      "display_name": "Python 3",
      "name": "python3"
    },
    "language_info": {
      "name": "python"
    }
  },
  "nbformat": 4,
  "nbformat_minor": 0
}